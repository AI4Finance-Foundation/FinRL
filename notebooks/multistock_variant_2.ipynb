{
 "cells": [
  {
   "cell_type": "markdown",
   "metadata": {
    "colab_type": "text",
    "id": "view-in-github"
   },
   "source": [
    "<a href=\"https://colab.research.google.com/github/AI4Finance-LLC/FinRL-Library/blob/master/FinRL_multiple_stock_trading.ipynb\" target=\"_parent\"><img src=\"https://colab.research.google.com/assets/colab-badge.svg\" alt=\"Open In Colab\"/></a>"
   ]
  },
  {
   "cell_type": "markdown",
   "metadata": {
    "id": "gXaoZs2lh1hi"
   },
   "source": [
    "# Deep Reinforcement Learning for Stock Trading from Scratch: Multiple Stock Trading\n",
    "\n",
    "Tutorials to use OpenAI DRL to trade multiple stocks in one Jupyter Notebook | Presented at NeurIPS 2020: Deep RL Workshop\n",
    "\n",
    "* This blog is based on our paper: FinRL: A Deep Reinforcement Learning Library for Automated Stock Trading in Quantitative Finance, presented at NeurIPS 2020: Deep RL Workshop.\n",
    "* Check out medium blog for detailed explanations: https://towardsdatascience.com/finrl-for-quantitative-finance-tutorial-for-multiple-stock-trading-7b00763b7530\n",
    "* Please report any issues to our Github: https://github.com/AI4Finance-LLC/FinRL-Library/issues\n",
    "* **Pytorch Version** \n",
    "\n"
   ]
  },
  {
   "cell_type": "markdown",
   "metadata": {
    "id": "lGunVt8oLCVS"
   },
   "source": [
    "# Content"
   ]
  },
  {
   "cell_type": "markdown",
   "metadata": {
    "id": "HOzAKQ-SLGX6"
   },
   "source": [
    "* [1. Problem Definition](#0)\n",
    "* [2. Getting Started - Load Python packages](#1)\n",
    "    * [2.1. Install Packages](#1.1)    \n",
    "    * [2.2. Check Additional Packages](#1.2)\n",
    "    * [2.3. Import Packages](#1.3)\n",
    "    * [2.4. Create Folders](#1.4)\n",
    "* [3. Download Data](#2)\n",
    "* [4. Preprocess Data](#3)        \n",
    "    * [4.1. Technical Indicators](#3.1)\n",
    "    * [4.2. Perform Feature Engineering](#3.2)\n",
    "* [5.Build Environment](#4)  \n",
    "    * [5.1. Training & Trade Data Split](#4.1)\n",
    "    * [5.2. User-defined Environment](#4.2)   \n",
    "    * [5.3. Initialize Environment](#4.3)    \n",
    "* [6.Implement DRL Algorithms](#5)  \n",
    "* [7.Backtesting Performance](#6)  \n",
    "    * [7.1. BackTestStats](#6.1)\n",
    "    * [7.2. BackTestPlot](#6.2)   \n",
    "    * [7.3. Baseline Stats](#6.3)   \n",
    "    * [7.3. Compare to Stock Market Index](#6.4)             "
   ]
  },
  {
   "cell_type": "markdown",
   "metadata": {
    "id": "sApkDlD9LIZv"
   },
   "source": [
    "<a id='0'></a>\n",
    "# Part 1. Problem Definition"
   ]
  },
  {
   "cell_type": "markdown",
   "metadata": {
    "id": "HjLD2TZSLKZ-"
   },
   "source": [
    "This problem is to design an automated trading solution for single stock trading. We model the stock trading process as a Markov Decision Process (MDP). We then formulate our trading goal as a maximization problem.\n",
    "\n",
    "The algorithm is trained using Deep Reinforcement Learning (DRL) algorithms and the components of the reinforcement learning environment are:\n",
    "\n",
    "\n",
    "* Action: The action space describes the allowed actions that the agent interacts with the\n",
    "environment. Normally, a ∈ A includes three actions: a ∈ {−1, 0, 1}, where −1, 0, 1 represent\n",
    "selling, holding, and buying one stock. Also, an action can be carried upon multiple shares. We use\n",
    "an action space {−k, ..., −1, 0, 1, ..., k}, where k denotes the number of shares. For example, \"Buy\n",
    "10 shares of AAPL\" or \"Sell 10 shares of AAPL\" are 10 or −10, respectively\n",
    "\n",
    "* Reward function: r(s, a, s′) is the incentive mechanism for an agent to learn a better action. The change of the portfolio value when action a is taken at state s and arriving at new state s',  i.e., r(s, a, s′) = v′ − v, where v′ and v represent the portfolio\n",
    "values at state s′ and s, respectively\n",
    "\n",
    "* State: The state space describes the observations that the agent receives from the environment. Just as a human trader needs to analyze various information before executing a trade, so\n",
    "our trading agent observes many different features to better learn in an interactive environment.\n",
    "\n",
    "* Environment: Dow 30 consituents\n",
    "\n",
    "\n",
    "The data of the single stock that we will be using for this case study is obtained from Yahoo Finance API. The data contains Open-High-Low-Close price and volume.\n"
   ]
  },
  {
   "cell_type": "markdown",
   "metadata": {
    "id": "Ffsre789LY08"
   },
   "source": [
    "<a id='1'></a>\n",
    "# Part 2. Getting Started- ASSUMES USING DOCKER, see readme for instructions"
   ]
  },
  {
   "cell_type": "markdown",
   "metadata": {
    "id": "Uy5_PTmOh1hj"
   },
   "source": [
    "<a id='1.1'></a>\n",
    "## 2.1. Add FinRL to your path. You can of course install it as a pipy package, but this is for development purposes.\n"
   ]
  },
  {
   "cell_type": "code",
   "execution_count": 1,
   "metadata": {
    "colab": {
     "base_uri": "https://localhost:8080/"
    },
    "id": "mPT0ipYE28wL",
    "outputId": "802ae0b5-d88e-46ba-8082-9eb5890f9cba"
   },
   "outputs": [],
   "source": [
    "import sys\n",
    "\n",
    "sys.path.append(\"..\")"
   ]
  },
  {
   "cell_type": "code",
   "execution_count": 2,
   "metadata": {},
   "outputs": [
    {
     "name": "stdout",
     "output_type": "stream",
     "text": [
      "1.1.5\n"
     ]
    }
   ],
   "source": [
    "import pandas as pd\n",
    "print(pd.__version__)"
   ]
  },
  {
   "cell_type": "markdown",
   "metadata": {
    "id": "osBHhVysOEzi"
   },
   "source": [
    "\n",
    "<a id='1.2'></a>\n",
    "## 2.2. Check if the additional packages needed are present, if not install them. \n",
    "* Yahoo Finance API\n",
    "* pandas\n",
    "* numpy\n",
    "* matplotlib\n",
    "* stockstats\n",
    "* OpenAI gym\n",
    "* stable-baselines\n",
    "* tensorflow\n",
    "* pyfolio"
   ]
  },
  {
   "cell_type": "markdown",
   "metadata": {
    "id": "nGv01K8Sh1hn"
   },
   "source": [
    "<a id='1.3'></a>\n",
    "## 2.3. Import Packages"
   ]
  },
  {
   "cell_type": "code",
   "execution_count": 3,
   "metadata": {
    "colab": {
     "base_uri": "https://localhost:8080/"
    },
    "id": "lPqeTTwoh1hn",
    "outputId": "c437c266-2780-4c50-af8b-6868e7fdaa1f"
   },
   "outputs": [
    {
     "name": "stderr",
     "output_type": "stream",
     "text": [
      "/opt/conda/lib/python3.6/site-packages/pyfolio/pos.py:27: UserWarning: Module \"zipline.assets\" not found; multipliers will not be applied to position notionals.\n",
      "  'Module \"zipline.assets\" not found; multipliers will not be applied'\n"
     ]
    }
   ],
   "source": [
    "import pandas as pd\n",
    "import numpy as np\n",
    "import matplotlib\n",
    "import matplotlib.pyplot as plt\n",
    "# matplotlib.use('Agg')\n",
    "import datetime\n",
    "\n",
    "%matplotlib inline\n",
    "from finrl.config import config\n",
    "from finrl.marketdata.yahoodownloader import YahooDownloader\n",
    "from finrl.preprocessing.preprocessors import FeatureEngineer\n",
    "from finrl.preprocessing.data import data_split\n",
    "from finrl.env.env_stocktrading_v2 import StockTradingEnvV2\n",
    "from finrl.model.models import DRLAgent\n",
    "from finrl.trade.backtest import BackTestStats, BaselineStats, BackTestPlot\n",
    "\n",
    "from pprint import pprint\n",
    "\n",
    "\n"
   ]
  },
  {
   "cell_type": "markdown",
   "metadata": {
    "id": "T2owTj985RW4"
   },
   "source": [
    "<a id='1.4'></a>\n",
    "## 2.4. Create Folders"
   ]
  },
  {
   "cell_type": "code",
   "execution_count": 4,
   "metadata": {
    "id": "w9A8CN5R5PuZ"
   },
   "outputs": [],
   "source": [
    "import os\n",
    "if not os.path.exists(\"./\" + config.DATA_SAVE_DIR):\n",
    "    os.makedirs(\"./\" + config.DATA_SAVE_DIR)\n",
    "if not os.path.exists(\"./\" + config.TRAINED_MODEL_DIR):\n",
    "    os.makedirs(\"./\" + config.TRAINED_MODEL_DIR)\n",
    "if not os.path.exists(\"./\" + config.TENSORBOARD_LOG_DIR):\n",
    "    os.makedirs(\"./\" + config.TENSORBOARD_LOG_DIR)\n",
    "if not os.path.exists(\"./\" + config.RESULTS_DIR):\n",
    "    os.makedirs(\"./\" + config.RESULTS_DIR)"
   ]
  },
  {
   "cell_type": "markdown",
   "metadata": {
    "id": "A289rQWMh1hq"
   },
   "source": [
    "<a id='2'></a>\n",
    "# Part 3. Download Data\n",
    "Yahoo Finance is a website that provides stock data, financial news, financial reports, etc. All the data provided by Yahoo Finance is free.\n",
    "* FinRL uses a class **YahooDownloader** to fetch data from Yahoo Finance API\n",
    "* Call Limit: Using the Public API (without authentication), you are limited to 2,000 requests per hour per IP (or up to a total of 48,000 requests a day).\n"
   ]
  },
  {
   "cell_type": "markdown",
   "metadata": {
    "id": "NPeQ7iS-LoMm"
   },
   "source": [
    "\n",
    "\n",
    "-----\n",
    "class YahooDownloader:\n",
    "    Provides methods for retrieving daily stock data from\n",
    "    Yahoo Finance API\n",
    "\n",
    "    Attributes\n",
    "    ----------\n",
    "        start_date : str\n",
    "            start date of the data (modified from config.py)\n",
    "        end_date : str\n",
    "            end date of the data (modified from config.py)\n",
    "        ticker_list : list\n",
    "            a list of stock tickers (modified from config.py)\n",
    "\n",
    "    Methods\n",
    "    -------\n",
    "    fetch_data()\n",
    "        Fetches data from yahoo API\n"
   ]
  },
  {
   "cell_type": "code",
   "execution_count": 5,
   "metadata": {
    "colab": {
     "base_uri": "https://localhost:8080/",
     "height": 35
    },
    "id": "h3XJnvrbLp-C",
    "outputId": "87dea23f-469d-4e9d-de91-0f8a74929de2"
   },
   "outputs": [
    {
     "data": {
      "text/plain": [
       "'2009-01-01'"
      ]
     },
     "execution_count": 5,
     "metadata": {},
     "output_type": "execute_result"
    }
   ],
   "source": [
    "# from config.py start_date is a string\n",
    "config.START_DATE"
   ]
  },
  {
   "cell_type": "code",
   "execution_count": 6,
   "metadata": {
    "colab": {
     "base_uri": "https://localhost:8080/",
     "height": 35
    },
    "id": "FUnY8WEfLq3C",
    "outputId": "c635ae69-a13e-408f-d932-9d386d1d6dcf"
   },
   "outputs": [
    {
     "data": {
      "text/plain": [
       "'2020-12-01'"
      ]
     },
     "execution_count": 6,
     "metadata": {},
     "output_type": "execute_result"
    }
   ],
   "source": [
    "# from config.py end_date is a string\n",
    "config.END_DATE"
   ]
  },
  {
   "cell_type": "code",
   "execution_count": 7,
   "metadata": {
    "colab": {
     "base_uri": "https://localhost:8080/"
    },
    "id": "JzqRRTOX6aFu",
    "outputId": "d3baf63f-948a-49f9-f6f2-b7241971b8ea"
   },
   "outputs": [
    {
     "name": "stdout",
     "output_type": "stream",
     "text": [
      "['AAPL', 'MSFT', 'JPM', 'V', 'RTX', 'PG', 'GS', 'NKE', 'DIS', 'AXP', 'HD', 'INTC', 'WMT', 'IBM', 'MRK', 'UNH', 'KO', 'CAT', 'TRV', 'JNJ', 'CVX', 'MCD', 'VZ', 'CSCO', 'XOM', 'BA', 'MMM', 'PFE', 'WBA', 'DD']\n"
     ]
    }
   ],
   "source": [
    "print(config.DOW_30_TICKER)"
   ]
  },
  {
   "cell_type": "code",
   "execution_count": 8,
   "metadata": {
    "colab": {
     "base_uri": "https://localhost:8080/"
    },
    "id": "yCKm4om-s9kE",
    "outputId": "932583d8-f98b-4243-c02d-375f7272db1a"
   },
   "outputs": [
    {
     "name": "stdout",
     "output_type": "stream",
     "text": [
      "[*********************100%***********************]  1 of 1 completed\n",
      "[*********************100%***********************]  1 of 1 completed\n",
      "[*********************100%***********************]  1 of 1 completed\n",
      "[*********************100%***********************]  1 of 1 completed\n",
      "[*********************100%***********************]  1 of 1 completed\n",
      "[*********************100%***********************]  1 of 1 completed\n",
      "[*********************100%***********************]  1 of 1 completed\n",
      "[*********************100%***********************]  1 of 1 completed\n",
      "[*********************100%***********************]  1 of 1 completed\n",
      "[*********************100%***********************]  1 of 1 completed\n",
      "[*********************100%***********************]  1 of 1 completed\n",
      "[*********************100%***********************]  1 of 1 completed\n",
      "[*********************100%***********************]  1 of 1 completed\n",
      "[*********************100%***********************]  1 of 1 completed\n",
      "[*********************100%***********************]  1 of 1 completed\n",
      "[*********************100%***********************]  1 of 1 completed\n",
      "[*********************100%***********************]  1 of 1 completed\n",
      "[*********************100%***********************]  1 of 1 completed\n",
      "[*********************100%***********************]  1 of 1 completed\n",
      "[*********************100%***********************]  1 of 1 completed\n",
      "[*********************100%***********************]  1 of 1 completed\n",
      "[*********************100%***********************]  1 of 1 completed\n",
      "[*********************100%***********************]  1 of 1 completed\n",
      "[*********************100%***********************]  1 of 1 completed\n",
      "[*********************100%***********************]  1 of 1 completed\n",
      "[*********************100%***********************]  1 of 1 completed\n",
      "[*********************100%***********************]  1 of 1 completed\n",
      "[*********************100%***********************]  1 of 1 completed\n",
      "[*********************100%***********************]  1 of 1 completed\n",
      "[*********************100%***********************]  1 of 1 completed\n",
      "Shape of DataFrame:  (90630, 8)\n"
     ]
    }
   ],
   "source": [
    "df = YahooDownloader(start_date = '2009-01-01',\n",
    "                     end_date = '2021-01-01',\n",
    "                     ticker_list = config.DOW_30_TICKER).fetch_data()"
   ]
  },
  {
   "cell_type": "code",
   "execution_count": 9,
   "metadata": {
    "colab": {
     "base_uri": "https://localhost:8080/"
    },
    "id": "CV3HrZHLh1hy",
    "outputId": "b7b78172-8c8a-41c9-c8a6-0167edb9bd11"
   },
   "outputs": [
    {
     "data": {
      "text/plain": [
       "(90630, 8)"
      ]
     },
     "execution_count": 9,
     "metadata": {},
     "output_type": "execute_result"
    }
   ],
   "source": [
    "df.shape"
   ]
  },
  {
   "cell_type": "code",
   "execution_count": 10,
   "metadata": {
    "colab": {
     "base_uri": "https://localhost:8080/",
     "height": 195
    },
    "id": "4hYkeaPiICHS",
    "outputId": "ce9d7463-a74c-4917-c96d-848a1e8ad493"
   },
   "outputs": [
    {
     "data": {
      "text/html": [
       "<div>\n",
       "<style scoped>\n",
       "    .dataframe tbody tr th:only-of-type {\n",
       "        vertical-align: middle;\n",
       "    }\n",
       "\n",
       "    .dataframe tbody tr th {\n",
       "        vertical-align: top;\n",
       "    }\n",
       "\n",
       "    .dataframe thead th {\n",
       "        text-align: right;\n",
       "    }\n",
       "</style>\n",
       "<table border=\"1\" class=\"dataframe\">\n",
       "  <thead>\n",
       "    <tr style=\"text-align: right;\">\n",
       "      <th></th>\n",
       "      <th>date</th>\n",
       "      <th>open</th>\n",
       "      <th>high</th>\n",
       "      <th>low</th>\n",
       "      <th>close</th>\n",
       "      <th>volume</th>\n",
       "      <th>tic</th>\n",
       "      <th>day</th>\n",
       "    </tr>\n",
       "  </thead>\n",
       "  <tbody>\n",
       "    <tr>\n",
       "      <th>0</th>\n",
       "      <td>2009-01-02</td>\n",
       "      <td>3.067143</td>\n",
       "      <td>3.251429</td>\n",
       "      <td>3.041429</td>\n",
       "      <td>2.795913</td>\n",
       "      <td>746015200.0</td>\n",
       "      <td>AAPL</td>\n",
       "      <td>4</td>\n",
       "    </tr>\n",
       "    <tr>\n",
       "      <th>1</th>\n",
       "      <td>2009-01-02</td>\n",
       "      <td>18.570000</td>\n",
       "      <td>19.520000</td>\n",
       "      <td>18.400000</td>\n",
       "      <td>15.745411</td>\n",
       "      <td>10955700.0</td>\n",
       "      <td>AXP</td>\n",
       "      <td>4</td>\n",
       "    </tr>\n",
       "    <tr>\n",
       "      <th>2</th>\n",
       "      <td>2009-01-02</td>\n",
       "      <td>42.799999</td>\n",
       "      <td>45.560001</td>\n",
       "      <td>42.779999</td>\n",
       "      <td>33.680935</td>\n",
       "      <td>7010200.0</td>\n",
       "      <td>BA</td>\n",
       "      <td>4</td>\n",
       "    </tr>\n",
       "    <tr>\n",
       "      <th>3</th>\n",
       "      <td>2009-01-02</td>\n",
       "      <td>44.910000</td>\n",
       "      <td>46.980000</td>\n",
       "      <td>44.709999</td>\n",
       "      <td>32.514400</td>\n",
       "      <td>7117200.0</td>\n",
       "      <td>CAT</td>\n",
       "      <td>4</td>\n",
       "    </tr>\n",
       "    <tr>\n",
       "      <th>4</th>\n",
       "      <td>2009-01-02</td>\n",
       "      <td>16.410000</td>\n",
       "      <td>17.000000</td>\n",
       "      <td>16.250000</td>\n",
       "      <td>12.683227</td>\n",
       "      <td>40980600.0</td>\n",
       "      <td>CSCO</td>\n",
       "      <td>4</td>\n",
       "    </tr>\n",
       "  </tbody>\n",
       "</table>\n",
       "</div>"
      ],
      "text/plain": [
       "         date       open       high        low      close       volume   tic  \\\n",
       "0  2009-01-02   3.067143   3.251429   3.041429   2.795913  746015200.0  AAPL   \n",
       "1  2009-01-02  18.570000  19.520000  18.400000  15.745411   10955700.0   AXP   \n",
       "2  2009-01-02  42.799999  45.560001  42.779999  33.680935    7010200.0    BA   \n",
       "3  2009-01-02  44.910000  46.980000  44.709999  32.514400    7117200.0   CAT   \n",
       "4  2009-01-02  16.410000  17.000000  16.250000  12.683227   40980600.0  CSCO   \n",
       "\n",
       "   day  \n",
       "0    4  \n",
       "1    4  \n",
       "2    4  \n",
       "3    4  \n",
       "4    4  "
      ]
     },
     "execution_count": 10,
     "metadata": {},
     "output_type": "execute_result"
    }
   ],
   "source": [
    "df.sort_values(['date','tic'],ignore_index=True).head()"
   ]
  },
  {
   "cell_type": "markdown",
   "metadata": {
    "id": "uqC6c40Zh1iH"
   },
   "source": [
    "# Part 4: Preprocess Data\n",
    "Data preprocessing is a crucial step for training a high quality machine learning model. We need to check for missing data and do feature engineering in order to convert the data into a model-ready state.\n",
    "* Add technical indicators. In practical trading, various information needs to be taken into account, for example the historical stock prices, current holding shares, technical indicators, etc. In this article, we demonstrate two trend-following technical indicators: MACD and RSI.\n",
    "* Add turbulence index. Risk-aversion reflects whether an investor will choose to preserve the capital. It also influences one's trading strategy when facing different market volatility level. To control the risk in a worst-case scenario, such as financial crisis of 2007–2008, FinRL employs the financial turbulence index that measures extreme asset price fluctuation."
   ]
  },
  {
   "cell_type": "code",
   "execution_count": 11,
   "metadata": {
    "collapsed": false,
    "jupyter": {
     "outputs_hidden": false
    },
    "pycharm": {
     "name": "#%%\n"
    }
   },
   "outputs": [
    {
     "name": "stdout",
     "output_type": "stream",
     "text": [
      "Successfully added technical indicators\n",
      "Successfully added turbulence index\n"
     ]
    }
   ],
   "source": [
    "fe = FeatureEngineer(\n",
    "                    use_technical_indicator=True,\n",
    "                    tech_indicator_list = config.TECHNICAL_INDICATORS_LIST,\n",
    "                    use_turbulence=True,\n",
    "                    user_defined_feature = False)\n",
    "\n",
    "processed = fe.preprocess_data(df)"
   ]
  },
  {
   "cell_type": "code",
   "execution_count": 12,
   "metadata": {
    "colab": {
     "base_uri": "https://localhost:8080/",
     "height": 340
    },
    "id": "grvhGJJII3Xn",
    "outputId": "91d09c37-b0e9-4c5c-d532-967e40d11f41"
   },
   "outputs": [
    {
     "data": {
      "text/html": [
       "<div>\n",
       "<style scoped>\n",
       "    .dataframe tbody tr th:only-of-type {\n",
       "        vertical-align: middle;\n",
       "    }\n",
       "\n",
       "    .dataframe tbody tr th {\n",
       "        vertical-align: top;\n",
       "    }\n",
       "\n",
       "    .dataframe thead th {\n",
       "        text-align: right;\n",
       "    }\n",
       "</style>\n",
       "<table border=\"1\" class=\"dataframe\">\n",
       "  <thead>\n",
       "    <tr style=\"text-align: right;\">\n",
       "      <th></th>\n",
       "      <th>date</th>\n",
       "      <th>open</th>\n",
       "      <th>high</th>\n",
       "      <th>low</th>\n",
       "      <th>close</th>\n",
       "      <th>volume</th>\n",
       "      <th>tic</th>\n",
       "      <th>day</th>\n",
       "      <th>macd</th>\n",
       "      <th>rsi_30</th>\n",
       "      <th>cci_30</th>\n",
       "      <th>dx_30</th>\n",
       "      <th>turbulence</th>\n",
       "    </tr>\n",
       "  </thead>\n",
       "  <tbody>\n",
       "    <tr>\n",
       "      <th>0</th>\n",
       "      <td>2009-01-02</td>\n",
       "      <td>3.067143</td>\n",
       "      <td>3.251429</td>\n",
       "      <td>3.041429</td>\n",
       "      <td>2.795913</td>\n",
       "      <td>746015200.0</td>\n",
       "      <td>AAPL</td>\n",
       "      <td>4</td>\n",
       "      <td>0.0</td>\n",
       "      <td>100.0</td>\n",
       "      <td>66.666667</td>\n",
       "      <td>100.0</td>\n",
       "      <td>0.0</td>\n",
       "    </tr>\n",
       "    <tr>\n",
       "      <th>1</th>\n",
       "      <td>2009-01-02</td>\n",
       "      <td>18.570000</td>\n",
       "      <td>19.520000</td>\n",
       "      <td>18.400000</td>\n",
       "      <td>15.745411</td>\n",
       "      <td>10955700.0</td>\n",
       "      <td>AXP</td>\n",
       "      <td>4</td>\n",
       "      <td>0.0</td>\n",
       "      <td>100.0</td>\n",
       "      <td>66.666667</td>\n",
       "      <td>100.0</td>\n",
       "      <td>0.0</td>\n",
       "    </tr>\n",
       "    <tr>\n",
       "      <th>2</th>\n",
       "      <td>2009-01-02</td>\n",
       "      <td>42.799999</td>\n",
       "      <td>45.560001</td>\n",
       "      <td>42.779999</td>\n",
       "      <td>33.680935</td>\n",
       "      <td>7010200.0</td>\n",
       "      <td>BA</td>\n",
       "      <td>4</td>\n",
       "      <td>0.0</td>\n",
       "      <td>100.0</td>\n",
       "      <td>66.666667</td>\n",
       "      <td>100.0</td>\n",
       "      <td>0.0</td>\n",
       "    </tr>\n",
       "    <tr>\n",
       "      <th>3</th>\n",
       "      <td>2009-01-02</td>\n",
       "      <td>44.910000</td>\n",
       "      <td>46.980000</td>\n",
       "      <td>44.709999</td>\n",
       "      <td>32.514400</td>\n",
       "      <td>7117200.0</td>\n",
       "      <td>CAT</td>\n",
       "      <td>4</td>\n",
       "      <td>0.0</td>\n",
       "      <td>100.0</td>\n",
       "      <td>66.666667</td>\n",
       "      <td>100.0</td>\n",
       "      <td>0.0</td>\n",
       "    </tr>\n",
       "    <tr>\n",
       "      <th>4</th>\n",
       "      <td>2009-01-02</td>\n",
       "      <td>16.410000</td>\n",
       "      <td>17.000000</td>\n",
       "      <td>16.250000</td>\n",
       "      <td>12.683227</td>\n",
       "      <td>40980600.0</td>\n",
       "      <td>CSCO</td>\n",
       "      <td>4</td>\n",
       "      <td>0.0</td>\n",
       "      <td>100.0</td>\n",
       "      <td>66.666667</td>\n",
       "      <td>100.0</td>\n",
       "      <td>0.0</td>\n",
       "    </tr>\n",
       "    <tr>\n",
       "      <th>5</th>\n",
       "      <td>2009-01-02</td>\n",
       "      <td>74.230003</td>\n",
       "      <td>77.300003</td>\n",
       "      <td>73.580002</td>\n",
       "      <td>48.043262</td>\n",
       "      <td>13695900.0</td>\n",
       "      <td>CVX</td>\n",
       "      <td>4</td>\n",
       "      <td>0.0</td>\n",
       "      <td>100.0</td>\n",
       "      <td>66.666667</td>\n",
       "      <td>100.0</td>\n",
       "      <td>0.0</td>\n",
       "    </tr>\n",
       "    <tr>\n",
       "      <th>6</th>\n",
       "      <td>2009-01-02</td>\n",
       "      <td>21.605234</td>\n",
       "      <td>22.060680</td>\n",
       "      <td>20.993229</td>\n",
       "      <td>14.527276</td>\n",
       "      <td>13251000.0</td>\n",
       "      <td>DD</td>\n",
       "      <td>4</td>\n",
       "      <td>0.0</td>\n",
       "      <td>100.0</td>\n",
       "      <td>66.666667</td>\n",
       "      <td>100.0</td>\n",
       "      <td>0.0</td>\n",
       "    </tr>\n",
       "    <tr>\n",
       "      <th>7</th>\n",
       "      <td>2009-01-02</td>\n",
       "      <td>22.760000</td>\n",
       "      <td>24.030001</td>\n",
       "      <td>22.500000</td>\n",
       "      <td>20.597496</td>\n",
       "      <td>9796600.0</td>\n",
       "      <td>DIS</td>\n",
       "      <td>4</td>\n",
       "      <td>0.0</td>\n",
       "      <td>100.0</td>\n",
       "      <td>66.666667</td>\n",
       "      <td>100.0</td>\n",
       "      <td>0.0</td>\n",
       "    </tr>\n",
       "    <tr>\n",
       "      <th>8</th>\n",
       "      <td>2009-01-02</td>\n",
       "      <td>84.019997</td>\n",
       "      <td>87.620003</td>\n",
       "      <td>82.190002</td>\n",
       "      <td>72.844467</td>\n",
       "      <td>14088500.0</td>\n",
       "      <td>GS</td>\n",
       "      <td>4</td>\n",
       "      <td>0.0</td>\n",
       "      <td>100.0</td>\n",
       "      <td>66.666667</td>\n",
       "      <td>100.0</td>\n",
       "      <td>0.0</td>\n",
       "    </tr>\n",
       "    <tr>\n",
       "      <th>9</th>\n",
       "      <td>2009-01-02</td>\n",
       "      <td>23.070000</td>\n",
       "      <td>24.190001</td>\n",
       "      <td>22.959999</td>\n",
       "      <td>17.909452</td>\n",
       "      <td>14902500.0</td>\n",
       "      <td>HD</td>\n",
       "      <td>4</td>\n",
       "      <td>0.0</td>\n",
       "      <td>100.0</td>\n",
       "      <td>66.666667</td>\n",
       "      <td>100.0</td>\n",
       "      <td>0.0</td>\n",
       "    </tr>\n",
       "  </tbody>\n",
       "</table>\n",
       "</div>"
      ],
      "text/plain": [
       "         date       open       high        low      close       volume   tic  \\\n",
       "0  2009-01-02   3.067143   3.251429   3.041429   2.795913  746015200.0  AAPL   \n",
       "1  2009-01-02  18.570000  19.520000  18.400000  15.745411   10955700.0   AXP   \n",
       "2  2009-01-02  42.799999  45.560001  42.779999  33.680935    7010200.0    BA   \n",
       "3  2009-01-02  44.910000  46.980000  44.709999  32.514400    7117200.0   CAT   \n",
       "4  2009-01-02  16.410000  17.000000  16.250000  12.683227   40980600.0  CSCO   \n",
       "5  2009-01-02  74.230003  77.300003  73.580002  48.043262   13695900.0   CVX   \n",
       "6  2009-01-02  21.605234  22.060680  20.993229  14.527276   13251000.0    DD   \n",
       "7  2009-01-02  22.760000  24.030001  22.500000  20.597496    9796600.0   DIS   \n",
       "8  2009-01-02  84.019997  87.620003  82.190002  72.844467   14088500.0    GS   \n",
       "9  2009-01-02  23.070000  24.190001  22.959999  17.909452   14902500.0    HD   \n",
       "\n",
       "   day  macd  rsi_30     cci_30  dx_30  turbulence  \n",
       "0    4   0.0   100.0  66.666667  100.0         0.0  \n",
       "1    4   0.0   100.0  66.666667  100.0         0.0  \n",
       "2    4   0.0   100.0  66.666667  100.0         0.0  \n",
       "3    4   0.0   100.0  66.666667  100.0         0.0  \n",
       "4    4   0.0   100.0  66.666667  100.0         0.0  \n",
       "5    4   0.0   100.0  66.666667  100.0         0.0  \n",
       "6    4   0.0   100.0  66.666667  100.0         0.0  \n",
       "7    4   0.0   100.0  66.666667  100.0         0.0  \n",
       "8    4   0.0   100.0  66.666667  100.0         0.0  \n",
       "9    4   0.0   100.0  66.666667  100.0         0.0  "
      ]
     },
     "execution_count": 12,
     "metadata": {},
     "output_type": "execute_result"
    }
   ],
   "source": [
    "processed.sort_values(['date','tic'],ignore_index=True).head(10)"
   ]
  },
  {
   "cell_type": "markdown",
   "metadata": {
    "id": "-QsYaY0Dh1iw"
   },
   "source": [
    "<a id='4'></a>\n",
    "# Part 5. Design Environment\n",
    "Considering the stochastic and interactive nature of the automated stock trading tasks, a financial task is modeled as a **Markov Decision Process (MDP)** problem. The training process involves observing stock price change, taking an action and reward's calculation to have the agent adjusting its strategy accordingly. By interacting with the environment, the trading agent will derive a trading strategy with the maximized rewards as time proceeds.\n",
    "\n",
    "Our trading environments, based on OpenAI Gym framework, simulate live stock markets with real market data according to the principle of time-driven simulation.\n",
    "\n",
    "The action space describes the allowed actions that the agent interacts with the environment. Normally, action a includes three actions: {-1, 0, 1}, where -1, 0, 1 represent selling, holding, and buying one share. Also, an action can be carried upon multiple shares. We use an action space {-k,…,-1, 0, 1, …, k}, where k denotes the number of shares to buy and -k denotes the number of shares to sell. For example, \"Buy 10 shares of AAPL\" or \"Sell 10 shares of AAPL\" are 10 or -10, respectively. The continuous action space needs to be normalized to [-1, 1], since the policy is defined on a Gaussian distribution, which needs to be normalized and symmetric."
   ]
  },
  {
   "cell_type": "markdown",
   "metadata": {
    "id": "5TOhcryx44bb"
   },
   "source": [
    "## Training data split: 2009-01-01 to 2018-12-31\n",
    "## Trade data split: 2019-01-01 to 2020-09-30"
   ]
  },
  {
   "cell_type": "code",
   "execution_count": 13,
   "metadata": {
    "colab": {
     "base_uri": "https://localhost:8080/"
    },
    "id": "W0qaVGjLtgbI",
    "outputId": "c98aeb90-84e3-4b83-9671-d679f3fe148f"
   },
   "outputs": [
    {
     "name": "stdout",
     "output_type": "stream",
     "text": [
      "75480\n",
      "15150\n"
     ]
    }
   ],
   "source": [
    "train = data_split(processed, '2009-01-01','2019-01-01')\n",
    "trade = data_split(processed, '2019-01-01','2021-01-01')\n",
    "print(len(train))\n",
    "print(len(trade))"
   ]
  },
  {
   "cell_type": "code",
   "execution_count": 223,
   "metadata": {},
   "outputs": [
    {
     "name": "stdout",
     "output_type": "stream",
     "text": [
      "1610898035101\n"
     ]
    }
   ],
   "source": [
    "import time\n",
    "milliseconds = int(round(time.time() * 1000))\n",
    "print(milliseconds)"
   ]
  },
  {
   "cell_type": "code",
   "execution_count": 224,
   "metadata": {},
   "outputs": [],
   "source": [
    "import numpy as np\n",
    "import pandas as pd\n",
    "from gym.utils import seeding\n",
    "import gym\n",
    "from gym import spaces\n",
    "import matplotlib\n",
    "from copy import deepcopy\n",
    "\n",
    "matplotlib.use(\"Agg\")\n",
    "import matplotlib.pyplot as plt\n",
    "import pickle\n",
    "from stable_baselines3.common.vec_env import DummyVecEnv\n",
    "import numpy as np\n",
    "import pandas as pd\n",
    "from gym.utils import seeding\n",
    "import gym\n",
    "from gym import spaces\n",
    "import matplotlib\n",
    "import random\n",
    "\n",
    "matplotlib.use(\"Agg\")\n",
    "import matplotlib.pyplot as plt\n",
    "import pickle\n",
    "from stable_baselines3.common.vec_env import DummyVecEnv, SubprocVecEnv\n",
    "from stable_baselines3.common import logger\n",
    "import time\n",
    "\n",
    "class StockTradingEnvV2(gym.Env):\n",
    "    \n",
    "    \"\"\"\n",
    "    A stock trading environment for OpenAI gym\n",
    "    Parameters:\n",
    "    state space: {start_cash, <owned_shares>, for s in stocks{<stock.values>}, }\n",
    "        df (pandas.DataFrame): Dataframe containing data\n",
    "        transaction_cost (float): cost for buying or selling shares\n",
    "        hmax (int): max number of share purchases allowed per asset\n",
    "        turbulence_threshold (float): Maximum turbulence allowed in market for purchases to occur. If exceeded, positions are liquidated\n",
    "        print_verbosity(int): When iterating (step), how often to print stats about state of env\n",
    "        reward_scaling (float): Scaling value to multiply reward by at each step. \n",
    "        initial_amount: (int, float): Amount of cash initially available\n",
    "        daily_information_columns (list(str)): Columns to use when building state space from the dataframe. \n",
    "        out_of_cash_penalty (int, float): Penalty to apply if the algorithm runs out of cash\n",
    "    \n",
    "    action space: <share_dollar_purchases>\n",
    "    \n",
    "    TODO:\n",
    "        property for date index - starting point\n",
    "        \n",
    "\n",
    "    tests:\n",
    "        after reset, static strategy should result in same metrics\n",
    "\n",
    "        buy zero should result in no costs, no assets purchased\n",
    "        given no change in prices, no change in asset values\n",
    "    \"\"\"\n",
    "    metadata = {\"render.modes\": [\"human\"]}\n",
    "\n",
    "    def __init__(\n",
    "        self,\n",
    "        df,\n",
    "        transaction_cost_pct=3e-3,\n",
    "        date_col_name=\"date\",\n",
    "        hmax=10,\n",
    "        turbulence_threshold=None,\n",
    "        print_verbosity=10,\n",
    "        reward_scaling=1e-4,\n",
    "        initial_amount=1e6,\n",
    "        daily_information_cols=[\"open\", \"close\", \"high\", \"low\", \"volume\"],\n",
    "        out_of_cash_penalty=None,\n",
    "        cache_indicator_data = True,\n",
    "        daily_reward = None,\n",
    "        cash_penalty_proportion = 0.1, \n",
    "        random_start = True\n",
    "    ):\n",
    "        self.df = df\n",
    "        self.stock_col = \"tic\"\n",
    "        self.assets = df[self.stock_col].unique()\n",
    "        self.dates = df[date_col_name].sort_values().unique()\n",
    "        self.random_start = random_start\n",
    "\n",
    "        self.df = self.df.set_index(date_col_name)\n",
    "        self.hmax = hmax\n",
    "        self.initial_amount = initial_amount\n",
    "        if out_of_cash_penalty is None:\n",
    "            out_of_cash_penalty=-initial_amount*0.5\n",
    "        self.out_of_cash_penalty = out_of_cash_penalty\n",
    "        self.print_verbosity = print_verbosity\n",
    "        self.transaction_cost_pct = transaction_cost_pct\n",
    "        self.reward_scaling = reward_scaling\n",
    "        self.daily_information_cols = daily_information_cols\n",
    "        self.close_index = self.daily_information_cols.index(\"close\")\n",
    "        self.state_space = (\n",
    "            1 + len(self.assets) + len(self.assets) * len(self.daily_information_cols)\n",
    "        )\n",
    "        self.action_space = spaces.Box(low=-1, high=1, shape=(len(self.assets),))\n",
    "        self.observation_space = spaces.Box(\n",
    "            low=-np.inf, high=np.inf, shape=(self.state_space,)\n",
    "        )\n",
    "        self.episode = -1  # initialize so we can call reset\n",
    "        self.episode_history = []\n",
    "        self.printed_header = False\n",
    "        self.daily_reward = daily_reward\n",
    "        self.cache_indicator_data = cache_indicator_data\n",
    "        self.cached_data = None\n",
    "        self.cash_penalty_proportion = cash_penalty_proportion\n",
    "        if self.cache_indicator_data:\n",
    "            print(\"caching data\")\n",
    "            self.cached_data = [self.get_date_vector(i) for i, _ in enumerate(self.dates)]\n",
    "            print(\"data cached!\")\n",
    "        \n",
    "\n",
    "    def seed(self, seed=None):\n",
    "        if seed is None:\n",
    "            seed = int(round(time.time() * 1000))\n",
    "        random.seed(seed)\n",
    "        \n",
    "    @property\n",
    "    def current_step(self):\n",
    "        return self.date_index-self.starting_point\n",
    "\n",
    "\n",
    "    def reset(self):\n",
    "        self.seed()\n",
    "        self.sum_trades = 0\n",
    "        if self.random_start:\n",
    "            starting_point = random.choice(range(int(len(self.dates)*0.5)))\n",
    "            self.starting_point = starting_point\n",
    "        else:\n",
    "            self.starting_point = 0\n",
    "        self.date_index = self.starting_point\n",
    "        self.episode += 1\n",
    "        self.actions_memory = []\n",
    "        self.transaction_memory = []\n",
    "        self.state_memory = []\n",
    "        self.account_information = {\n",
    "            \"cash\": [],\n",
    "            \"asset_value\": [],\n",
    "            \"total_assets\": [],\n",
    "            'reward': []\n",
    "        }\n",
    "        init_state = np.array(\n",
    "                [self.initial_amount]\n",
    "                + [0] * len(self.assets)\n",
    "                + self.get_date_vector(self.date_index)\n",
    "            )\n",
    "        self.state_memory.append(init_state)\n",
    "        return init_state\n",
    "\n",
    "    def get_date_vector(self, date, cols=None):\n",
    "        if (cols is None) and (self.cached_data is not None):\n",
    "            return self.cached_data[date]\n",
    "        else:\n",
    "            date = self.dates[date]\n",
    "            if cols is None:\n",
    "                cols = self.daily_information_cols\n",
    "            trunc_df = self.df.loc[date]\n",
    "            v = []\n",
    "            for a in self.assets:\n",
    "                subset = trunc_df[trunc_df[self.stock_col] == a]\n",
    "                v += subset.loc[date, cols].tolist()\n",
    "            assert len(v) == len(self.assets) * len(cols)\n",
    "            return v\n",
    "        \n",
    "    def return_terminal(self, reason='Last Date', reward=0):\n",
    "\n",
    "        state = self.state_memory[-1]\n",
    "        self.log_step(reason = reason, terminal_reward= reward)\n",
    "        reward = reward*self.reward_scaling\n",
    "        # Add outputs to logger interface\n",
    "        reward_pct = self.account_information['total_assets'][-1]/self.initial_amount\n",
    "        logger.record(\"environment/total_reward_pct\", (reward_pct-1)*100)\n",
    "        logger.record(\"environment/daily_trades\", self.sum_trades/(self.current_step)/len(self.assets))\n",
    "        logger.record(\"environment/completed_steps\", self.current_step)\n",
    "        logger.record(\"environment/sum_rewards\", np.sum(self.account_information['reward']))\n",
    "        logger.record(\"environment/cash_proportion\", self.account_information['cash'][-1]/self.account_information['total_assets'][-1])\n",
    "        return state, reward, True, {}\n",
    "    \n",
    "    def log_step(self, reason, terminal_reward=None):\n",
    "        if terminal_reward is None:\n",
    "            terminal_reward = self.account_information['reward'][-1]\n",
    "        cash_pct = self.account_information['cash'][-1]/self.account_information['total_assets'][-1]\n",
    "        rec = [self.episode, self.date_index-self.starting_point, reason, f\"${int(self.account_information['total_assets'][-1])}\",f\"${terminal_reward:0.2f}\", f\"{cash_pct*100:0.2f}%\"]\n",
    "\n",
    "        self.episode_history.append(rec)\n",
    "        print(self.template.format(*rec))\n",
    "\n",
    "    def step(self, actions):\n",
    "        #let's just log what we're doing in terms of max actions at each step. \n",
    "        self.sum_trades += np.sum(np.abs(actions))\n",
    "        \n",
    "        #print header only first time\n",
    "        if self.printed_header is False:\n",
    "            self.template = \"{0:4}|{1:4}|{2:15}|{3:10}|{4:10}|{5:10}\" # column widths: 8, 10, 15, 7, 10\n",
    "            print(self.template.format(\"EPISODE\", \"STEPS\", \"TERMINAL_REASON\", \"TOT_ASSETS\", \"TERMINAL_REWARD_unsc\", \"CASH_PCT\"))\n",
    "            self.printed_header = True\n",
    "\n",
    "        # define terminal function in scope so we can do something about the cycle being over\n",
    "\n",
    "\n",
    "        # print if it's time.\n",
    "        if (self.current_step+ 1) % self.print_verbosity == 0:\n",
    "            self.log_step(reason = 'update')\n",
    "\n",
    "        #if we're at the end\n",
    "        if self.date_index == len(self.dates) - 1:\n",
    "            #if we hit the end, set reward to total gains (or losses)\n",
    "            terminal_reward = self.account_information['total_assets'][-1]-self.initial_amount\n",
    "            return self.return_terminal(reward = terminal_reward)\n",
    "        else:\n",
    "            #compute value of cash + assets\n",
    "            begin_cash = self.state_memory[-1][0]\n",
    "            holdings = self.state_memory[-1][1 : len(self.assets) + 1]\n",
    "            assert (min(holdings)>=0)\n",
    "            closings = np.array(self.get_date_vector(self.date_index, cols=[\"close\"]))\n",
    "            asset_value = np.dot(holdings, closings)\n",
    "\n",
    "            # reward is (cash + assets) - (cash_last_step + assets_last_step)\n",
    "            if self.current_step==0:\n",
    "                reward = 0\n",
    "            else:\n",
    "                #stepwise reward\n",
    "                reward = (\n",
    "                    begin_cash + asset_value - self.account_information[\"total_assets\"][-1]\n",
    "                )\n",
    "                #\n",
    "                if self.daily_reward is not None:\n",
    "                    reward+=(self.daily_reward*self.current_step)\n",
    "                if self.cash_penalty_proportion is not None:\n",
    "                    cash_penalty = min(0, begin_cash-(self.cash_penalty_proportion*self.initial_amount))\n",
    "                    reward += cash_penalty\n",
    "\n",
    "            # log the values of cash, assets, and total assets\n",
    "            self.account_information[\"cash\"].append(begin_cash)\n",
    "            self.account_information[\"asset_value\"].append(asset_value)\n",
    "            self.account_information[\"total_assets\"].append(begin_cash + asset_value)\n",
    "            self.account_information['reward'].append(reward)\n",
    "\n",
    "            # multiply action values by our scalar multiplier and save\n",
    "            actions = actions * self.hmax\n",
    "            self.actions_memory.append(actions)\n",
    "            \n",
    "            \n",
    "            #scale cash purchases to asset # changes\n",
    "            actions = actions/closings \n",
    "            self.transaction_memory.append(actions)\n",
    "            \n",
    "            \n",
    "            # clip actions so we can't sell more assets than we hold\n",
    "            actions = np.maximum(actions, -np.array(holdings))\n",
    "\n",
    "\n",
    "            # compute our proceeds from sales, and add to cash\n",
    "            sells = -np.clip(actions, -np.inf, 0)\n",
    "            proceeds = np.dot(sells, closings)\n",
    "            costs = proceeds * self.transaction_cost_pct\n",
    "            coh = begin_cash + proceeds\n",
    "\n",
    "            # compute the cost of our buys\n",
    "            buys = np.clip(actions, 0, np.inf)\n",
    "            spend = np.dot(buys, closings)\n",
    "            costs += spend * self.transaction_cost_pct\n",
    "\n",
    "            # if we run out of cash, end the cycle and penalize\n",
    "            if (spend + costs) > coh:\n",
    "                return self.return_terminal(reason = 'CASH SHORTAGE',\n",
    "                    reward=self.out_of_cash_penalty,\n",
    "                )\n",
    "\n",
    "            # verify we didn't do anything impossible here\n",
    "            assert (spend + costs) <= coh\n",
    "\n",
    "            # update our holdings\n",
    "            coh = coh - spend - costs\n",
    "            holdings_updated = holdings + actions\n",
    "            self.date_index += 1\n",
    "            state = (\n",
    "                [coh] + list(holdings_updated) + self.get_date_vector(self.date_index)\n",
    "            )\n",
    "            self.state_memory.append(state)\n",
    "            reward = reward * self.reward_scaling\n",
    "            return state, reward, False, {}\n",
    "\n",
    "    def get_sb_env(self):\n",
    "        def get_self():\n",
    "            return deepcopy(self)\n",
    "        e = DummyVecEnv([get_self])\n",
    "        obs = e.reset()\n",
    "        return e, obs\n",
    "    \n",
    "    def get_multiproc_env(self, n = 10):\n",
    "        def get_self():\n",
    "            return deepcopy(self)\n",
    "        e = SubprocVecEnv([get_self for _ in range(n)], start_method = 'fork')\n",
    "        obs = e.reset()\n",
    "        return e, obs\n",
    "\n",
    "    def save_asset_memory(self):\n",
    "        if self.current_step==0:\n",
    "            return None\n",
    "        else:\n",
    "            self.account_information[\"date\"] = self.dates[- len(self.account_information['cash']):]\n",
    "            return pd.DataFrame(self.account_information)\n",
    "\n",
    "    def save_action_memory(self):\n",
    "        if self.current_step==0:\n",
    "            return None\n",
    "        else:\n",
    "            return pd.DataFrame(\n",
    "                {\"date\": self.dates[-len(self.account_information['cash']): ], \n",
    "                 \"actions\": self.actions_memory, \n",
    "                 \"transactions\": self.transaction_memory}\n",
    "            )\n",
    "\n"
   ]
  },
  {
   "cell_type": "code",
   "execution_count": 136,
   "metadata": {},
   "outputs": [
    {
     "name": "stdout",
     "output_type": "stream",
     "text": [
      "\n",
      "    A stock trading environment for OpenAI gym\n",
      "    Parameters:\n",
      "    state space: {start_cash, <owned_shares>, for s in stocks{<stock.values>}, }\n",
      "        df (pandas.DataFrame): Dataframe containing data\n",
      "        transaction_cost (float): cost for buying or selling shares\n",
      "        hmax (int): max number of share purchases allowed per asset\n",
      "        turbulence_threshold (float): Maximum turbulence allowed in market for purchases to occur. If exceeded, positions are liquidated\n",
      "        print_verbosity(int): When iterating (step), how often to print stats about state of env\n",
      "        reward_scaling (float): Scaling value to multiply reward by at each step. \n",
      "        initial_amount: (int, float): Amount of cash initially available\n",
      "        daily_information_columns (list(str)): Columns to use when building state space from the dataframe. \n",
      "        out_of_cash_penalty (int, float): Penalty to apply if the algorithm runs out of cash\n",
      "    \n",
      "    action space: <share_dollar_purchases>\n",
      "\n",
      "    tests:\n",
      "        after reset, static strategy should result in same metrics\n",
      "\n",
      "        buy zero should result in no costs, no assets purchased\n",
      "        given no change in prices, no change in asset values\n",
      "    \n"
     ]
    }
   ],
   "source": [
    "print(StockTradingEnvV2.__doc__)"
   ]
  },
  {
   "cell_type": "markdown",
   "metadata": {
    "colab": {
     "base_uri": "https://localhost:8080/"
    },
    "id": "Q2zqII8rMIqn",
    "outputId": "8a2c943b-1be4-4b8d-b64f-666e0852b7e6"
   },
   "source": [
    "#### state space\n",
    "The state space of the observation is as follows \n",
    "\n",
    "`start_cash, <owned_shares_of_n_assets>, <<indicator_i_for_asset_j> for j in assets>`\n",
    "\n",
    "indicators are any daily measurement you can achieve. Common ones are 'volume', 'open' 'close' 'high', 'low'.\n",
    "However, you can add these as needed, \n",
    "The feature engineer adds indicators, and you can add your own as well. \n"
   ]
  },
  {
   "cell_type": "code",
   "execution_count": 151,
   "metadata": {
    "id": "AWyp84Ltto19"
   },
   "outputs": [
    {
     "name": "stdout",
     "output_type": "stream",
     "text": [
      "caching data\n",
      "data cached!\n"
     ]
    }
   ],
   "source": [
    "information_cols = ['open', 'high', 'low', 'close', 'volume', 'day', 'macd', 'rsi_30', 'cci_30', 'dx_30', 'turbulence']\n",
    "\n",
    "env_kwargs = {\n",
    "    \"hmax\": 5000, \n",
    "    \"daily_reward\": 5,\n",
    "    \"out_of_cash_penalty\": 0, \n",
    "    \"cash_penalty_proportion\": 0.1,\n",
    "    \"daily_information_cols\": information_cols, \n",
    "    \"print_verbosity\": 500, \n",
    "    \n",
    "}\n",
    "e_train_gym = StockTradingEnvV2(df = train, cache_indicator_data=True,\n",
    "                              **env_kwargs)\n",
    "\n",
    "# e_train_obs = StockTradingEnvV2(df = train, cache_indicator_data=False, **env_kwargs)\n",
    "\n",
    "\n",
    "# e_trade_gym = StockTradingEnvV2(df = train,**env_kwargs)\n",
    "# env_trade, obs_trade = e_trade_gym.get_sb_env()"
   ]
  },
  {
   "cell_type": "markdown",
   "metadata": {
    "id": "64EoqOrQjiVf"
   },
   "source": [
    "## Environment for Training\n",
    "There are two available environments. The multiprocessing and the single processing env. \n",
    "Some models won't work with multiprocessing. \n",
    "\n",
    "```python\n",
    "# single processing\n",
    "env_train, _ = e_train_gym.get_sb_env()\n",
    "\n",
    "\n",
    "#multiprocessing\n",
    "env_train, _ = e_train_gym.get_multiproc_env(n = <n_cores>)\n",
    "```\n"
   ]
  },
  {
   "cell_type": "code",
   "execution_count": 157,
   "metadata": {
    "colab": {
     "base_uri": "https://localhost:8080/"
    },
    "collapsed": true,
    "id": "xwSvvPjutpqS",
    "jupyter": {
     "outputs_hidden": true
    },
    "outputId": "406e5ec3-28ba-4a72-9b22-0d031f7bf9a6"
   },
   "outputs": [
    {
     "name": "stdout",
     "output_type": "stream",
     "text": [
      "using 24 cores\n",
      "EPISODE|STEPS|TERMINAL_REASON|TOT_ASSETS|TERMINAL_REWARD_unsc|CASH_PCT  EPISODE|STEPS|TERMINAL_REASON|TOT_ASSETS|TERMINAL_REWARD_unsc|CASH_PCT  EPISODE|STEPS|TERMINAL_REASON|TOT_ASSETS|TERMINAL_REWARD_unsc|CASH_PCT  EPISODE|STEPS|TERMINAL_REASON|TOT_ASSETS|TERMINAL_REWARD_unsc|CASH_PCT  EPISODE|STEPS|TERMINAL_REASON|TOT_ASSETS|TERMINAL_REWARD_unsc|CASH_PCT  EPISODE|STEPS|TERMINAL_REASON|TOT_ASSETS|TERMINAL_REWARD_unsc|CASH_PCT  EPISODE|STEPS|TERMINAL_REASON|TOT_ASSETS|TERMINAL_REWARD_unsc|CASH_PCT  EPISODE|STEPS|TERMINAL_REASON|TOT_ASSETS|TERMINAL_REWARD_unsc|CASH_PCT  EPISODE|STEPS|TERMINAL_REASON|TOT_ASSETS|TERMINAL_REWARD_unsc|CASH_PCT  EPISODE|STEPS|TERMINAL_REASON|TOT_ASSETS|TERMINAL_REWARD_unsc|CASH_PCT  EPISODE|STEPS|TERMINAL_REASON|TOT_ASSETS|TERMINAL_REWARD_unsc|CASH_PCT  EPISODE|STEPS|TERMINAL_REASON|TOT_ASSETS|TERMINAL_REWARD_unsc|CASH_PCT  EPISODE|STEPS|TERMINAL_REASON|TOT_ASSETS|TERMINAL_REWARD_unsc|CASH_PCT  EPISODE|STEPS|TERMINAL_REASON|TOT_ASSETS|TERMINAL_REWARD_unsc|CASH_PCT  EPISODE|STEPS|TERMINAL_REASON|TOT_ASSETS|TERMINAL_REWARD_unsc|CASH_PCT  EPISODE|STEPS|TERMINAL_REASON|TOT_ASSETS|TERMINAL_REWARD_unsc|CASH_PCT  EPISODE|STEPS|TERMINAL_REASON|TOT_ASSETS|TERMINAL_REWARD_unsc|CASH_PCT  EPISODE|STEPS|TERMINAL_REASON|TOT_ASSETS|TERMINAL_REWARD_unsc|CASH_PCT  \n",
      "\n",
      "\n",
      "EPISODE|STEPS|TERMINAL_REASON|TOT_ASSETS|TERMINAL_REWARD_unsc|CASH_PCT  \n",
      "EPISODE|STEPS|TERMINAL_REASON|TOT_ASSETS|TERMINAL_REWARD_unsc|CASH_PCT  EPISODE|STEPS|TERMINAL_REASON|TOT_ASSETS|TERMINAL_REWARD_unsc|CASH_PCT  EPISODE|STEPS|TERMINAL_REASON|TOT_ASSETS|TERMINAL_REWARD_unsc|CASH_PCT  \n",
      "\n",
      "EPISODE|STEPS|TERMINAL_REASON|TOT_ASSETS|TERMINAL_REWARD_unsc|CASH_PCT  \n",
      "\n",
      "\n",
      "\n",
      "\n",
      "\n",
      "\n",
      "\n",
      "\n",
      "\n",
      "\n",
      "\n",
      "EPISODE|STEPS|TERMINAL_REASON|TOT_ASSETS|TERMINAL_REWARD_unsc|CASH_PCT  \n",
      "\n",
      "\n",
      "\n",
      "\n",
      "\n",
      "   1|  83|CASH SHORTAGE  |$1077731  |$0.00     |1.21%     \n",
      "   1|  89|CASH SHORTAGE  |$1007926  |$0.00     |0.77%     \n",
      "   1|  98|CASH SHORTAGE  |$1040955  |$0.00     |1.73%     \n",
      "   1| 104|CASH SHORTAGE  |$1014247  |$0.00     |2.29%     \n",
      "   1| 105|CASH SHORTAGE  |$907649   |$0.00     |1.45%     \n",
      "   1| 111|CASH SHORTAGE  |$1058025  |$0.00     |1.33%     \n",
      "   1| 114|CASH SHORTAGE  |$1098403  |$0.00     |0.55%     \n",
      "   1| 123|CASH SHORTAGE  |$1025484  |$0.00     |1.86%     \n",
      "   1| 127|CASH SHORTAGE  |$889029   |$0.00     |1.15%     \n",
      "   1| 129|CASH SHORTAGE  |$950426   |$0.00     |1.18%     \n",
      "   1| 136|CASH SHORTAGE  |$1062159  |$0.00     |1.03%     \n",
      "   1| 144|CASH SHORTAGE  |$879549   |$0.00     |1.77%     \n",
      "   1| 145|CASH SHORTAGE  |$1164213  |$0.00     |2.00%     \n",
      "   1| 145|CASH SHORTAGE  |$1044406  |$0.00     |0.14%     \n",
      "   1| 146|CASH SHORTAGE  |$968309   |$0.00     |1.51%     \n",
      "   1| 149|CASH SHORTAGE  |$1091416  |$0.00     |1.15%     \n",
      "   1| 153|CASH SHORTAGE  |$1071463  |$0.00     |1.12%     \n",
      "   1| 163|CASH SHORTAGE  |$1177261  |$0.00     |1.96%     \n",
      "   1| 164|CASH SHORTAGE  |$1030956  |$0.00     |1.97%     \n",
      "   1| 166|CASH SHORTAGE  |$986799   |$0.00     |0.77%     \n",
      "   1| 168|CASH SHORTAGE  |$1028887  |$0.00     |0.39%     \n",
      "   1| 183|CASH SHORTAGE  |$1059894  |$0.00     |0.06%     \n",
      "   1| 185|CASH SHORTAGE  |$1032883  |$0.00     |0.64%     \n",
      "   1| 190|CASH SHORTAGE  |$1087131  |$0.00     |1.86%     \n",
      "   2| 122|CASH SHORTAGE  |$1118084  |$0.00     |0.20%     \n",
      "   2| 134|CASH SHORTAGE  |$963124   |$0.00     |0.48%     \n",
      "   2|  95|CASH SHORTAGE  |$1130452  |$0.00     |3.33%     \n",
      "   2|  90|CASH SHORTAGE  |$1036244  |$0.00     |1.76%     \n",
      "   2| 119|CASH SHORTAGE  |$1061823  |$0.00     |2.50%     \n",
      "   2| 152|CASH SHORTAGE  |$1056453  |$0.00     |4.52%     \n",
      "   2| 104|CASH SHORTAGE  |$1031403  |$0.00     |0.03%        2| 123|CASH SHORTAGE  |$1009324  |$0.00     |1.72%     \n",
      "\n",
      "   2| 125|CASH SHORTAGE  |$1032430  |$0.00     |2.28%     \n",
      "   2| 173|CASH SHORTAGE  |$855774   |$0.00     |2.89%     \n",
      "   2| 137|CASH SHORTAGE  |$1013345  |$0.00     |3.55%     \n",
      "   2| 148|CASH SHORTAGE  |$898774   |$0.00     |0.60%     \n",
      "   2| 182|CASH SHORTAGE  |$1089924  |$0.00     |0.59%     \n",
      "   2| 198|CASH SHORTAGE  |$997531   |$0.00     |2.98%     \n",
      "   2| 162|CASH SHORTAGE  |$995103   |$0.00     |1.91%     \n",
      "   2| 147|CASH SHORTAGE  |$1016032  |$0.00     |1.35%     \n",
      "   2| 127|CASH SHORTAGE  |$1061653  |$0.00     |1.81%     \n",
      "   2| 143|CASH SHORTAGE  |$1103262  |$0.00     |1.11%     \n",
      "   2| 127|CASH SHORTAGE  |$1022642  |$0.00     |0.77%     \n",
      "   2| 158|CASH SHORTAGE  |$1068864  |$0.00     |3.46%     \n",
      "   2| 176|CASH SHORTAGE  |$978931   |$0.00     |1.64%     \n",
      "   2| 168|CASH SHORTAGE  |$1107363  |$0.00     |0.56%     \n",
      "   2| 234|CASH SHORTAGE  |$1015977  |$0.00     |0.64%     \n",
      "   3| 134|CASH SHORTAGE  |$1065369  |$0.00     |2.76%     \n",
      "   3| 134|CASH SHORTAGE  |$1131584  |$0.00     |1.69%     \n",
      "   3| 150|CASH SHORTAGE  |$1242230  |$0.00     |1.53%     \n",
      "   3| 120|CASH SHORTAGE  |$1094277  |$0.00     |2.81%     \n",
      "   2| 201|CASH SHORTAGE  |$1055126  |$0.00     |2.11%     \n",
      "   3| 144|CASH SHORTAGE  |$1056007  |$0.00     |1.80%     \n",
      "   3| 173|CASH SHORTAGE  |$1061194  |$0.00     |1.23%     \n",
      "   3| 112|CASH SHORTAGE  |$990757   |$0.00     |0.98%     \n",
      "   3| 122|CASH SHORTAGE  |$911503   |$0.00     |1.41%     \n",
      "   3|  94|CASH SHORTAGE  |$1037813  |$0.00     |1.61%     \n",
      "   3| 162|CASH SHORTAGE  |$1028885  |$0.00     |0.33%     \n",
      "   3| 110|CASH SHORTAGE  |$1092737  |$0.00     |0.00%     \n",
      "   3| 139|CASH SHORTAGE  |$1004571  |$0.00     |1.55%     \n",
      "   3| 167|CASH SHORTAGE  |$1207266  |$0.00     |0.70%     \n",
      "   3| 132|CASH SHORTAGE  |$1041228  |$0.00     |1.12%     \n",
      "   3| 175|CASH SHORTAGE  |$1014719  |$0.00     |1.31%     \n",
      "   3| 156|CASH SHORTAGE  |$1014542  |$0.00     |0.23%     \n",
      "   3| 171|CASH SHORTAGE  |$929435   |$0.00     |2.35%     \n",
      "   4| 125|CASH SHORTAGE  |$1003453  |$0.00     |1.79%     \n",
      "   4| 148|CASH SHORTAGE  |$976299   |$0.00     |0.49%     \n",
      "   3| 179|CASH SHORTAGE  |$1031688  |$0.00     |0.57%     \n",
      "   4| 108|CASH SHORTAGE  |$999271   |$0.00     |2.01%     \n",
      "   3| 195|CASH SHORTAGE  |$995553   |$0.00     |0.42%     \n",
      "   3| 177|CASH SHORTAGE  |$1015884  |$0.00     |0.36%     \n",
      "   4|  95|CASH SHORTAGE  |$1026988  |$0.00     |1.34%     \n",
      "   3| 235|CASH SHORTAGE  |$1051828  |$0.00     |2.23%     \n",
      "   4| 140|CASH SHORTAGE  |$1169373  |$0.00     |0.62%     \n",
      "   4| 118|CASH SHORTAGE  |$1128540  |$0.00     |3.00%     \n",
      "   4| 171|CASH SHORTAGE  |$1062820  |$0.00     |2.55%     \n",
      "   3| 266|CASH SHORTAGE  |$981675   |$0.00     |0.46%     \n",
      "   3| 189|CASH SHORTAGE  |$1046581  |$0.00     |2.82%     \n",
      "   4| 141|CASH SHORTAGE  |$1075917  |$0.00     |1.83%     \n",
      "   4| 188|CASH SHORTAGE  |$1053798  |$0.00     |1.23%     \n",
      "   4| 155|CASH SHORTAGE  |$1038500  |$0.00     |1.80%     \n",
      "   4| 143|CASH SHORTAGE  |$1046612  |$0.00     |0.13%     \n",
      "   3| 269|CASH SHORTAGE  |$1070823  |$0.00     |1.58%     \n",
      "   4| 223|CASH SHORTAGE  |$1017617  |$0.00     |0.22%     \n",
      "   4| 180|CASH SHORTAGE  |$1083355  |$0.00     |0.03%     \n",
      "   4| 259|CASH SHORTAGE  |$1011111  |$0.00     |2.38%     \n",
      "   5| 113|CASH SHORTAGE  |$1034468  |$0.00     |2.92%     \n",
      "   4| 210|CASH SHORTAGE  |$1015641  |$0.00     |2.43%     \n",
      "   4| 165|CASH SHORTAGE  |$968352   |$0.00     |0.40%     \n",
      "   5| 204|CASH SHORTAGE  |$1035643  |$0.00     |1.90%     \n",
      "   5| 190|CASH SHORTAGE  |$1106433  |$0.00     |1.43%     \n",
      "   4| 216|CASH SHORTAGE  |$1048516  |$0.00     |1.27%     \n",
      "   5| 156|CASH SHORTAGE  |$947053   |$0.00     |1.30%     \n",
      "   5| 130|CASH SHORTAGE  |$1065737  |$0.00     |0.54%     \n",
      "   4| 182|CASH SHORTAGE  |$1089326  |$0.00     |0.82%     \n",
      "   4| 281|CASH SHORTAGE  |$1376838  |$0.00     |2.69%     \n",
      "   4| 221|CASH SHORTAGE  |$1111101  |$0.00     |3.87%     \n",
      "   5| 175|CASH SHORTAGE  |$1269495  |$0.00     |0.97%     \n",
      "   5| 231|CASH SHORTAGE  |$1057628  |$0.00     |0.91%     \n",
      "   4| 143|CASH SHORTAGE  |$1089867  |$0.00     |3.86%     \n",
      "   5| 169|CASH SHORTAGE  |$993919   |$0.00     |0.08%     \n",
      "   4| 193|CASH SHORTAGE  |$1084790  |$0.00     |0.42%     \n",
      "   5| 153|CASH SHORTAGE  |$979905   |$0.00     |0.32%     \n",
      "   5| 131|CASH SHORTAGE  |$1003093  |$0.00     |3.81%     \n",
      "   5| 214|CASH SHORTAGE  |$1005550  |$0.00     |1.40%     \n",
      "   6| 156|CASH SHORTAGE  |$1064440  |$0.00     |0.22%     \n",
      "   4| 292|CASH SHORTAGE  |$1106994  |$0.00     |1.72%     \n",
      "   5| 142|CASH SHORTAGE  |$982002   |$0.00     |1.06%     \n",
      "   5| 222|CASH SHORTAGE  |$1050002  |$0.00     |0.94%     \n",
      "   4| 277|CASH SHORTAGE  |$1032014  |$0.00     |1.59%     \n",
      "   5| 141|CASH SHORTAGE  |$1035079  |$0.00     |0.90%     \n",
      "   5| 145|CASH SHORTAGE  |$1095338  |$0.00     |0.88%     \n",
      "   6| 141|CASH SHORTAGE  |$962739   |$0.00     |0.82%     \n",
      "   6| 184|CASH SHORTAGE  |$1002403  |$0.00     |4.76%     \n",
      "   5| 274|CASH SHORTAGE  |$1057063  |$0.00     |1.79%     \n",
      "   7| 113|CASH SHORTAGE  |$994936   |$0.00     |0.19%     \n",
      "   5| 181|CASH SHORTAGE  |$934927   |$0.00     |4.12%     \n",
      "   5| 257|CASH SHORTAGE  |$1033262  |$0.00     |0.70%     \n",
      "   5| 123|CASH SHORTAGE  |$1014591  |$0.00     |1.96%     \n",
      "   5| 172|CASH SHORTAGE  |$935613   |$0.00     |2.19%     \n",
      "   6| 186|CASH SHORTAGE  |$1062147  |$0.00     |0.15%     \n",
      "   6| 120|CASH SHORTAGE  |$970031   |$0.00     |0.60%     \n",
      "   6| 266|CASH SHORTAGE  |$1023587  |$0.00     |1.70%     \n",
      "   6| 233|CASH SHORTAGE  |$1056421  |$0.00     |1.23%     \n",
      "   6| 284|CASH SHORTAGE  |$1060334  |$0.00     |1.03%     \n",
      "   6| 143|CASH SHORTAGE  |$934086   |$0.00     |0.38%     \n",
      "   5| 481|CASH SHORTAGE  |$1104983  |$0.00     |0.94%     \n"
     ]
    }
   ],
   "source": [
    "# for this example, let's do multiprocessing with n_cores-2\n",
    "\n",
    "import multiprocessing\n",
    "\n",
    "n_cores = multiprocessing.cpu_count() - 2\n",
    "n_cores = 24\n",
    "print(f\"using {n_cores} cores\")\n",
    "\n",
    "# \n",
    "e_train_gym.print_verbosity = 500\n",
    "env_train, _ = e_train_gym.get_multiproc_env(n = n_cores)\n",
    "# env_train, _ = e_train_gym.get_sb_env()\n",
    "\n",
    "env_train_obs, _ = e_train_gym.get_sb_env()\n"
   ]
  },
  {
   "cell_type": "markdown",
   "metadata": {
    "id": "HMNR5nHjh1iz"
   },
   "source": [
    "<a id='5'></a>\n",
    "# Part 6: Implement DRL Algorithms\n",
    "* The implementation of the DRL algorithms are based on **OpenAI Baselines** and **Stable Baselines**. Stable Baselines is a fork of OpenAI Baselines, with a major structural refactoring, and code cleanups.\n",
    "* FinRL library includes fine-tuned standard DRL algorithms, such as DQN, DDPG,\n",
    "Multi-Agent DDPG, PPO, SAC, A2C and TD3. We also allow users to\n",
    "design their own DRL algorithms by adapting these DRL algorithms."
   ]
  },
  {
   "cell_type": "code",
   "execution_count": 158,
   "metadata": {
    "id": "364PsqckttcQ"
   },
   "outputs": [],
   "source": [
    "agent = DRLAgent(env = env_train)"
   ]
  },
  {
   "cell_type": "code",
   "execution_count": 159,
   "metadata": {},
   "outputs": [
    {
     "name": "stdout",
     "output_type": "stream",
     "text": [
      "{'n_steps': 2048, 'ent_coef': 0.01, 'learning_rate': 0.00025, 'batch_size': 64}\n"
     ]
    }
   ],
   "source": [
    "print(config.PPO_PARAMS)"
   ]
  },
  {
   "cell_type": "markdown",
   "metadata": {
    "id": "YDmqOyF9h1iz"
   },
   "source": [
    "### Model Training: 5 models, A2C DDPG, PPO, TD3, SAC\n"
   ]
  },
  {
   "cell_type": "markdown",
   "metadata": {
    "id": "uijiWgkuh1jB"
   },
   "source": [
    "### Model 1: A2C\n"
   ]
  },
  {
   "cell_type": "code",
   "execution_count": 160,
   "metadata": {},
   "outputs": [
    {
     "name": "stdout",
     "output_type": "stream",
     "text": [
      "{'n_steps': 256, 'ent_coef': 0.01, 'learning_rate': 1e-05, 'batch_size': 256, 'gamma': 0.99}\n"
     ]
    }
   ],
   "source": [
    "from torch.nn import Softsign, ReLU\n",
    "ppo_params ={'n_steps': 256, \n",
    "             'ent_coef': 0.01, \n",
    "             'learning_rate': 0.00001, \n",
    "             'batch_size': 256, \n",
    "            'gamma': 0.99}\n",
    "\n",
    "policy_kwargs = {\n",
    "#     \"activation_fn\": ReLU,\n",
    "    \"net_arch\": [1024, 1024, 1024,  1024], \n",
    "#     \"squash_output\": True\n",
    "}\n",
    "\n",
    "model = agent.get_model(\"ppo\",  model_kwargs = ppo_params, policy_kwargs = policy_kwargs, verbose = 0)\n",
    "\n"
   ]
  },
  {
   "cell_type": "code",
   "execution_count": null,
   "metadata": {},
   "outputs": [
    {
     "name": "stderr",
     "output_type": "stream",
     "text": [
      "/opt/conda/lib/python3.6/site-packages/stable_baselines3/common/callbacks.py:327: UserWarning: Training and eval env are not of the same type<stable_baselines3.common.vec_env.subproc_vec_env.SubprocVecEnv object at 0x7fa85c5f4748> != <stable_baselines3.common.vec_env.dummy_vec_env.DummyVecEnv object at 0x7fa85c5f45f8>\n",
      "  warnings.warn(\"Training and eval env are not of the same type\" f\"{self.training_env} != {self.eval_env}\")\n"
     ]
    },
    {
     "name": "stdout",
     "output_type": "stream",
     "text": [
      "EPISODE|STEPS|TERMINAL_REASON|TOT_ASSETS|TERMINAL_REWARD_unsc|CASH_PCT  \n",
      "   1| 499|update         |$1004185  |$5627.42  |93.79%    \n",
      "   1| 999|update         |$1020146  |$10424.19 |88.03%    \n",
      "   1|1499|update         |$1109076  |$14779.46 |66.12%    \n",
      "   1|1813|Last Date      |$1127425  |$127425.60|49.31%    \n",
      "Eval num_timesteps=24000, episode_reward=1482.79 +/- 0.00\n",
      "Episode length: 1814.00 +/- 0.00\n",
      "New best mean reward!\n"
     ]
    }
   ],
   "source": [
    "model.learn(total_timesteps = 10000000, \n",
    "            eval_env = env_train_obs, \n",
    "            eval_freq = 1000,\n",
    "            log_interval = 1, \n",
    "            tb_log_name = 'cashbuffer_1_16_longrun',\n",
    "            n_eval_episodes = 1,\n",
    "            reset_num_timesteps = True)"
   ]
  },
  {
   "cell_type": "code",
   "execution_count": 162,
   "metadata": {},
   "outputs": [],
   "source": [
    "model.save(\"quicksave_ppo_dow_1_17.model\")"
   ]
  },
  {
   "cell_type": "code",
   "execution_count": 163,
   "metadata": {
    "id": "efwBi84ch1jE"
   },
   "outputs": [],
   "source": [
    "data_turbulence = processed[(processed.date<'2019-01-01') & (processed.date>='2009-01-01')]\n",
    "insample_turbulence = data_turbulence.drop_duplicates(subset=['date'])"
   ]
  },
  {
   "cell_type": "code",
   "execution_count": 164,
   "metadata": {
    "colab": {
     "base_uri": "https://localhost:8080/"
    },
    "id": "VHZMBpSqh1jG",
    "outputId": "f750f515-9f4f-4adb-846e-ea0bdf15ea6b"
   },
   "outputs": [
    {
     "data": {
      "text/plain": [
       "count    2516.000000\n",
       "mean       33.277068\n",
       "std        33.989003\n",
       "min         0.000000\n",
       "25%        15.233736\n",
       "50%        25.180862\n",
       "75%        39.290075\n",
       "max       332.062852\n",
       "Name: turbulence, dtype: float64"
      ]
     },
     "execution_count": 164,
     "metadata": {},
     "output_type": "execute_result"
    }
   ],
   "source": [
    "insample_turbulence.turbulence.describe()"
   ]
  },
  {
   "cell_type": "code",
   "execution_count": 165,
   "metadata": {
    "id": "yuwDPkV9h1jL"
   },
   "outputs": [],
   "source": [
    "turbulence_threshold = np.quantile(insample_turbulence.turbulence.values,1)"
   ]
  },
  {
   "cell_type": "code",
   "execution_count": 166,
   "metadata": {
    "colab": {
     "base_uri": "https://localhost:8080/"
    },
    "id": "wwoz_7VSh1jO",
    "outputId": "37894e93-d22e-4e3f-f23a-d3ca08bf8342"
   },
   "outputs": [
    {
     "data": {
      "text/plain": [
       "332.0628518086291"
      ]
     },
     "execution_count": 166,
     "metadata": {},
     "output_type": "execute_result"
    }
   ],
   "source": [
    "turbulence_threshold"
   ]
  },
  {
   "cell_type": "markdown",
   "metadata": {
    "id": "U5mmgQF_h1jQ"
   },
   "source": [
    "### Trade\n",
    "\n",
    "DRL model needs to update periodically in order to take full advantage of the data, ideally we need to retrain our model yearly, quarterly, or monthly. We also need to tune the parameters along the way, in this notebook I only use the in-sample data from 2009-01 to 2018-12 to tune the parameters once, so there is some alpha decay here as the length of trade date extends. \n",
    "\n",
    "Numerous hyperparameters – e.g. the learning rate, the total number of samples to train on – influence the learning process and are usually determined by testing some variations."
   ]
  },
  {
   "cell_type": "code",
   "execution_count": 225,
   "metadata": {
    "id": "eLOnL5eYh1jR"
   },
   "outputs": [],
   "source": [
    "trade = data_split(processed, '2019-01-01','2021-01-01')\n",
    "env_kwargs = {\n",
    "    \"hmax\": 5000, \n",
    "    \"daily_reward\": 5,\n",
    "    \"out_of_cash_penalty\": 0, \n",
    "    \"cash_penalty_proportion\": 0.1,\n",
    "    \"daily_information_cols\": information_cols, \n",
    "    \"print_verbosity\": 50, \n",
    "    \"random_start\": False,\n",
    "    \"cache_indicator_data\": False\n",
    "    \n",
    "}\n",
    "e_trade_gym = StockTradingEnvV2(df = trade,**env_kwargs)\n",
    "env_trade, obs_trade = e_trade_gym.get_sb_env()\n",
    "\n"
   ]
  },
  {
   "cell_type": "code",
   "execution_count": 226,
   "metadata": {},
   "outputs": [
    {
     "name": "stdout",
     "output_type": "stream",
     "text": [
      "505\n"
     ]
    }
   ],
   "source": [
    "print(len(e_trade_gym.dates))"
   ]
  },
  {
   "cell_type": "code",
   "execution_count": 227,
   "metadata": {},
   "outputs": [
    {
     "name": "stdout",
     "output_type": "stream",
     "text": [
      "EPISODE|STEPS|TERMINAL_REASON|TOT_ASSETS|TERMINAL_REWARD_unsc|CASH_PCT  \n",
      "   0|  49|update         |$1003820  |$709.09   |87.94%    \n",
      "   0|  99|update         |$983448   |$-1044.20 |83.67%    \n",
      "   0| 149|update         |$976661   |$-4920.89 |81.83%    \n",
      "   0| 199|update         |$968883   |$3067.00  |77.94%    \n",
      "   0| 249|update         |$971037   |$1296.08  |87.22%    \n",
      "   0| 299|update         |$919833   |$19610.30 |65.89%    \n",
      "   0| 349|update         |$896779   |$4621.44  |72.61%    \n",
      "   0| 399|update         |$895210   |$-1151.45 |68.02%    \n",
      "   0| 449|update         |$916103   |$2399.57  |73.50%    \n",
      "   0| 499|update         |$922522   |$958.05   |78.62%    \n",
      "   0| 504|Last Date      |$923583   |$-76416.46|84.08%    \n",
      "hit end!\n"
     ]
    }
   ],
   "source": [
    "df_account_value, df_actions = DRLAgent.DRL_prediction(model=model,\n",
    "                        test_data = trade,\n",
    "                        test_env = env_trade,\n",
    "                        test_obs = obs_trade)"
   ]
  },
  {
   "cell_type": "code",
   "execution_count": 218,
   "metadata": {
    "colab": {
     "base_uri": "https://localhost:8080/"
    },
    "id": "ERxw3KqLkcP4",
    "outputId": "cbb465c9-38dc-4d88-e79a-6ae29025164b"
   },
   "outputs": [
    {
     "data": {
      "text/plain": [
       "(504, 5)"
      ]
     },
     "execution_count": 218,
     "metadata": {},
     "output_type": "execute_result"
    }
   ],
   "source": [
    "df_account_value.shape"
   ]
  },
  {
   "cell_type": "code",
   "execution_count": 187,
   "metadata": {
    "colab": {
     "base_uri": "https://localhost:8080/",
     "height": 194
    },
    "id": "2yRkNguY5yvp",
    "outputId": "53ec139f-88e7-4291-cf11-8e6766184265"
   },
   "outputs": [
    {
     "data": {
      "text/html": [
       "<div>\n",
       "<style scoped>\n",
       "    .dataframe tbody tr th:only-of-type {\n",
       "        vertical-align: middle;\n",
       "    }\n",
       "\n",
       "    .dataframe tbody tr th {\n",
       "        vertical-align: top;\n",
       "    }\n",
       "\n",
       "    .dataframe thead th {\n",
       "        text-align: right;\n",
       "    }\n",
       "</style>\n",
       "<table border=\"1\" class=\"dataframe\">\n",
       "  <thead>\n",
       "    <tr style=\"text-align: right;\">\n",
       "      <th></th>\n",
       "      <th>cash</th>\n",
       "      <th>asset_value</th>\n",
       "      <th>total_assets</th>\n",
       "      <th>reward</th>\n",
       "      <th>date</th>\n",
       "    </tr>\n",
       "  </thead>\n",
       "  <tbody>\n",
       "    <tr>\n",
       "      <th>0</th>\n",
       "      <td>1000000.000000</td>\n",
       "      <td>0.000000</td>\n",
       "      <td>1.000000e+06</td>\n",
       "      <td>0.000000</td>\n",
       "      <td>2019-01-03</td>\n",
       "    </tr>\n",
       "    <tr>\n",
       "      <th>1</th>\n",
       "      <td>954713.504851</td>\n",
       "      <td>43767.481172</td>\n",
       "      <td>9.984810e+05</td>\n",
       "      <td>-1514.013976</td>\n",
       "      <td>2019-01-04</td>\n",
       "    </tr>\n",
       "    <tr>\n",
       "      <th>2</th>\n",
       "      <td>921059.195094</td>\n",
       "      <td>79889.003263</td>\n",
       "      <td>1.000948e+06</td>\n",
       "      <td>2477.212333</td>\n",
       "      <td>2019-01-07</td>\n",
       "    </tr>\n",
       "    <tr>\n",
       "      <th>3</th>\n",
       "      <td>898000.392462</td>\n",
       "      <td>103023.607858</td>\n",
       "      <td>1.001024e+06</td>\n",
       "      <td>90.801963</td>\n",
       "      <td>2019-01-08</td>\n",
       "    </tr>\n",
       "    <tr>\n",
       "      <th>4</th>\n",
       "      <td>833324.488711</td>\n",
       "      <td>168756.699053</td>\n",
       "      <td>1.002081e+06</td>\n",
       "      <td>1077.187444</td>\n",
       "      <td>2019-01-09</td>\n",
       "    </tr>\n",
       "    <tr>\n",
       "      <th>5</th>\n",
       "      <td>840406.267319</td>\n",
       "      <td>161930.011111</td>\n",
       "      <td>1.002336e+06</td>\n",
       "      <td>280.090666</td>\n",
       "      <td>2019-01-10</td>\n",
       "    </tr>\n",
       "    <tr>\n",
       "      <th>6</th>\n",
       "      <td>831378.560262</td>\n",
       "      <td>171642.142407</td>\n",
       "      <td>1.003021e+06</td>\n",
       "      <td>714.424239</td>\n",
       "      <td>2019-01-11</td>\n",
       "    </tr>\n",
       "    <tr>\n",
       "      <th>7</th>\n",
       "      <td>867326.480855</td>\n",
       "      <td>135434.564406</td>\n",
       "      <td>1.002761e+06</td>\n",
       "      <td>-224.657408</td>\n",
       "      <td>2019-01-14</td>\n",
       "    </tr>\n",
       "    <tr>\n",
       "      <th>8</th>\n",
       "      <td>878547.979759</td>\n",
       "      <td>122862.990393</td>\n",
       "      <td>1.001411e+06</td>\n",
       "      <td>-1310.075109</td>\n",
       "      <td>2019-01-15</td>\n",
       "    </tr>\n",
       "    <tr>\n",
       "      <th>9</th>\n",
       "      <td>870158.138198</td>\n",
       "      <td>131876.909758</td>\n",
       "      <td>1.002035e+06</td>\n",
       "      <td>669.077804</td>\n",
       "      <td>2019-01-16</td>\n",
       "    </tr>\n",
       "    <tr>\n",
       "      <th>10</th>\n",
       "      <td>856458.704083</td>\n",
       "      <td>145370.092272</td>\n",
       "      <td>1.001829e+06</td>\n",
       "      <td>-156.251601</td>\n",
       "      <td>2019-01-17</td>\n",
       "    </tr>\n",
       "    <tr>\n",
       "      <th>11</th>\n",
       "      <td>854157.486324</td>\n",
       "      <td>148713.826010</td>\n",
       "      <td>1.002871e+06</td>\n",
       "      <td>1097.515979</td>\n",
       "      <td>2019-01-18</td>\n",
       "    </tr>\n",
       "    <tr>\n",
       "      <th>12</th>\n",
       "      <td>839601.817357</td>\n",
       "      <td>165297.845181</td>\n",
       "      <td>1.004900e+06</td>\n",
       "      <td>2088.350203</td>\n",
       "      <td>2019-01-22</td>\n",
       "    </tr>\n",
       "    <tr>\n",
       "      <th>13</th>\n",
       "      <td>849032.293973</td>\n",
       "      <td>153013.178698</td>\n",
       "      <td>1.002045e+06</td>\n",
       "      <td>-2789.189867</td>\n",
       "      <td>2019-01-23</td>\n",
       "    </tr>\n",
       "    <tr>\n",
       "      <th>14</th>\n",
       "      <td>826812.059251</td>\n",
       "      <td>175033.196129</td>\n",
       "      <td>1.001845e+06</td>\n",
       "      <td>-130.217290</td>\n",
       "      <td>2019-01-24</td>\n",
       "    </tr>\n",
       "    <tr>\n",
       "      <th>15</th>\n",
       "      <td>822931.385002</td>\n",
       "      <td>179368.842528</td>\n",
       "      <td>1.002300e+06</td>\n",
       "      <td>529.972150</td>\n",
       "      <td>2019-01-25</td>\n",
       "    </tr>\n",
       "    <tr>\n",
       "      <th>16</th>\n",
       "      <td>819012.663201</td>\n",
       "      <td>182538.202776</td>\n",
       "      <td>1.001551e+06</td>\n",
       "      <td>-669.361553</td>\n",
       "      <td>2019-01-28</td>\n",
       "    </tr>\n",
       "    <tr>\n",
       "      <th>17</th>\n",
       "      <td>859765.086042</td>\n",
       "      <td>138741.876525</td>\n",
       "      <td>9.985070e+05</td>\n",
       "      <td>-2958.903411</td>\n",
       "      <td>2019-01-29</td>\n",
       "    </tr>\n",
       "    <tr>\n",
       "      <th>18</th>\n",
       "      <td>838687.334916</td>\n",
       "      <td>160414.818279</td>\n",
       "      <td>9.991022e+05</td>\n",
       "      <td>685.190629</td>\n",
       "      <td>2019-01-30</td>\n",
       "    </tr>\n",
       "    <tr>\n",
       "      <th>19</th>\n",
       "      <td>823536.097213</td>\n",
       "      <td>177945.884349</td>\n",
       "      <td>1.001482e+06</td>\n",
       "      <td>2474.828367</td>\n",
       "      <td>2019-01-31</td>\n",
       "    </tr>\n",
       "    <tr>\n",
       "      <th>20</th>\n",
       "      <td>800760.844097</td>\n",
       "      <td>201358.731284</td>\n",
       "      <td>1.002120e+06</td>\n",
       "      <td>737.593820</td>\n",
       "      <td>2019-02-01</td>\n",
       "    </tr>\n",
       "    <tr>\n",
       "      <th>21</th>\n",
       "      <td>814279.596213</td>\n",
       "      <td>188486.322468</td>\n",
       "      <td>1.002766e+06</td>\n",
       "      <td>751.343299</td>\n",
       "      <td>2019-02-04</td>\n",
       "    </tr>\n",
       "    <tr>\n",
       "      <th>22</th>\n",
       "      <td>796369.333423</td>\n",
       "      <td>206569.777298</td>\n",
       "      <td>1.002939e+06</td>\n",
       "      <td>283.192040</td>\n",
       "      <td>2019-02-05</td>\n",
       "    </tr>\n",
       "    <tr>\n",
       "      <th>23</th>\n",
       "      <td>792632.237544</td>\n",
       "      <td>211101.433276</td>\n",
       "      <td>1.003734e+06</td>\n",
       "      <td>909.560098</td>\n",
       "      <td>2019-02-06</td>\n",
       "    </tr>\n",
       "    <tr>\n",
       "      <th>24</th>\n",
       "      <td>786157.833973</td>\n",
       "      <td>217246.977425</td>\n",
       "      <td>1.003405e+06</td>\n",
       "      <td>-208.859422</td>\n",
       "      <td>2019-02-07</td>\n",
       "    </tr>\n",
       "    <tr>\n",
       "      <th>25</th>\n",
       "      <td>790178.413957</td>\n",
       "      <td>211202.195735</td>\n",
       "      <td>1.001381e+06</td>\n",
       "      <td>-1899.201705</td>\n",
       "      <td>2019-02-08</td>\n",
       "    </tr>\n",
       "    <tr>\n",
       "      <th>26</th>\n",
       "      <td>799778.110107</td>\n",
       "      <td>200565.736393</td>\n",
       "      <td>1.000344e+06</td>\n",
       "      <td>-906.763193</td>\n",
       "      <td>2019-02-11</td>\n",
       "    </tr>\n",
       "    <tr>\n",
       "      <th>27</th>\n",
       "      <td>796121.992657</td>\n",
       "      <td>204046.529562</td>\n",
       "      <td>1.000169e+06</td>\n",
       "      <td>-40.324281</td>\n",
       "      <td>2019-02-12</td>\n",
       "    </tr>\n",
       "    <tr>\n",
       "      <th>28</th>\n",
       "      <td>813972.286893</td>\n",
       "      <td>189151.741155</td>\n",
       "      <td>1.003124e+06</td>\n",
       "      <td>3095.505829</td>\n",
       "      <td>2019-02-13</td>\n",
       "    </tr>\n",
       "    <tr>\n",
       "      <th>29</th>\n",
       "      <td>810867.923737</td>\n",
       "      <td>193225.370881</td>\n",
       "      <td>1.004093e+06</td>\n",
       "      <td>1114.266570</td>\n",
       "      <td>2019-02-14</td>\n",
       "    </tr>\n",
       "    <tr>\n",
       "      <th>30</th>\n",
       "      <td>793680.022911</td>\n",
       "      <td>210080.989358</td>\n",
       "      <td>1.003761e+06</td>\n",
       "      <td>-182.282349</td>\n",
       "      <td>2019-02-15</td>\n",
       "    </tr>\n",
       "    <tr>\n",
       "      <th>31</th>\n",
       "      <td>809270.093136</td>\n",
       "      <td>197783.498745</td>\n",
       "      <td>1.007054e+06</td>\n",
       "      <td>3447.579612</td>\n",
       "      <td>2019-02-19</td>\n",
       "    </tr>\n",
       "    <tr>\n",
       "      <th>32</th>\n",
       "      <td>826521.057034</td>\n",
       "      <td>180337.971824</td>\n",
       "      <td>1.006859e+06</td>\n",
       "      <td>-34.563024</td>\n",
       "      <td>2019-02-20</td>\n",
       "    </tr>\n",
       "    <tr>\n",
       "      <th>33</th>\n",
       "      <td>818195.886153</td>\n",
       "      <td>188849.075671</td>\n",
       "      <td>1.007045e+06</td>\n",
       "      <td>350.932967</td>\n",
       "      <td>2019-02-21</td>\n",
       "    </tr>\n",
       "    <tr>\n",
       "      <th>34</th>\n",
       "      <td>816446.804054</td>\n",
       "      <td>189885.963016</td>\n",
       "      <td>1.006333e+06</td>\n",
       "      <td>-542.194754</td>\n",
       "      <td>2019-02-22</td>\n",
       "    </tr>\n",
       "    <tr>\n",
       "      <th>35</th>\n",
       "      <td>810573.116220</td>\n",
       "      <td>197228.686269</td>\n",
       "      <td>1.007802e+06</td>\n",
       "      <td>1644.035418</td>\n",
       "      <td>2019-02-25</td>\n",
       "    </tr>\n",
       "    <tr>\n",
       "      <th>36</th>\n",
       "      <td>845948.733139</td>\n",
       "      <td>163362.649064</td>\n",
       "      <td>1.009311e+06</td>\n",
       "      <td>1689.579714</td>\n",
       "      <td>2019-02-26</td>\n",
       "    </tr>\n",
       "    <tr>\n",
       "      <th>37</th>\n",
       "      <td>834277.109748</td>\n",
       "      <td>174318.068505</td>\n",
       "      <td>1.008595e+06</td>\n",
       "      <td>-531.203949</td>\n",
       "      <td>2019-02-27</td>\n",
       "    </tr>\n",
       "    <tr>\n",
       "      <th>38</th>\n",
       "      <td>835626.556278</td>\n",
       "      <td>173289.144002</td>\n",
       "      <td>1.008916e+06</td>\n",
       "      <td>510.522026</td>\n",
       "      <td>2019-02-28</td>\n",
       "    </tr>\n",
       "    <tr>\n",
       "      <th>39</th>\n",
       "      <td>827381.096711</td>\n",
       "      <td>180606.421457</td>\n",
       "      <td>1.007988e+06</td>\n",
       "      <td>-733.182112</td>\n",
       "      <td>2019-03-01</td>\n",
       "    </tr>\n",
       "    <tr>\n",
       "      <th>40</th>\n",
       "      <td>834862.521546</td>\n",
       "      <td>173375.739433</td>\n",
       "      <td>1.008238e+06</td>\n",
       "      <td>450.742811</td>\n",
       "      <td>2019-03-04</td>\n",
       "    </tr>\n",
       "    <tr>\n",
       "      <th>41</th>\n",
       "      <td>833989.597892</td>\n",
       "      <td>173597.881959</td>\n",
       "      <td>1.007587e+06</td>\n",
       "      <td>-445.781127</td>\n",
       "      <td>2019-03-05</td>\n",
       "    </tr>\n",
       "    <tr>\n",
       "      <th>42</th>\n",
       "      <td>851661.198089</td>\n",
       "      <td>155163.822747</td>\n",
       "      <td>1.006825e+06</td>\n",
       "      <td>-552.459016</td>\n",
       "      <td>2019-03-06</td>\n",
       "    </tr>\n",
       "    <tr>\n",
       "      <th>43</th>\n",
       "      <td>842768.861599</td>\n",
       "      <td>163183.093706</td>\n",
       "      <td>1.005952e+06</td>\n",
       "      <td>-658.065531</td>\n",
       "      <td>2019-03-07</td>\n",
       "    </tr>\n",
       "    <tr>\n",
       "      <th>44</th>\n",
       "      <td>859257.804590</td>\n",
       "      <td>145160.719170</td>\n",
       "      <td>1.004419e+06</td>\n",
       "      <td>-1313.431544</td>\n",
       "      <td>2019-03-08</td>\n",
       "    </tr>\n",
       "    <tr>\n",
       "      <th>45</th>\n",
       "      <td>842499.228840</td>\n",
       "      <td>161518.655134</td>\n",
       "      <td>1.004018e+06</td>\n",
       "      <td>-175.639786</td>\n",
       "      <td>2019-03-11</td>\n",
       "    </tr>\n",
       "    <tr>\n",
       "      <th>46</th>\n",
       "      <td>832258.858765</td>\n",
       "      <td>174556.424948</td>\n",
       "      <td>1.006815e+06</td>\n",
       "      <td>3027.399739</td>\n",
       "      <td>2019-03-12</td>\n",
       "    </tr>\n",
       "    <tr>\n",
       "      <th>47</th>\n",
       "      <td>849127.556444</td>\n",
       "      <td>157492.064512</td>\n",
       "      <td>1.006620e+06</td>\n",
       "      <td>39.337242</td>\n",
       "      <td>2019-03-13</td>\n",
       "    </tr>\n",
       "    <tr>\n",
       "      <th>48</th>\n",
       "      <td>878209.089380</td>\n",
       "      <td>128930.002442</td>\n",
       "      <td>1.007139e+06</td>\n",
       "      <td>759.470866</td>\n",
       "      <td>2019-03-14</td>\n",
       "    </tr>\n",
       "    <tr>\n",
       "      <th>49</th>\n",
       "      <td>892091.795957</td>\n",
       "      <td>114888.245246</td>\n",
       "      <td>1.006980e+06</td>\n",
       "      <td>85.949381</td>\n",
       "      <td>2019-03-15</td>\n",
       "    </tr>\n",
       "  </tbody>\n",
       "</table>\n",
       "</div>"
      ],
      "text/plain": [
       "              cash    asset_value  total_assets       reward        date\n",
       "0   1000000.000000       0.000000  1.000000e+06     0.000000  2019-01-03\n",
       "1    954713.504851   43767.481172  9.984810e+05 -1514.013976  2019-01-04\n",
       "2    921059.195094   79889.003263  1.000948e+06  2477.212333  2019-01-07\n",
       "3    898000.392462  103023.607858  1.001024e+06    90.801963  2019-01-08\n",
       "4    833324.488711  168756.699053  1.002081e+06  1077.187444  2019-01-09\n",
       "5    840406.267319  161930.011111  1.002336e+06   280.090666  2019-01-10\n",
       "6    831378.560262  171642.142407  1.003021e+06   714.424239  2019-01-11\n",
       "7    867326.480855  135434.564406  1.002761e+06  -224.657408  2019-01-14\n",
       "8    878547.979759  122862.990393  1.001411e+06 -1310.075109  2019-01-15\n",
       "9    870158.138198  131876.909758  1.002035e+06   669.077804  2019-01-16\n",
       "10   856458.704083  145370.092272  1.001829e+06  -156.251601  2019-01-17\n",
       "11   854157.486324  148713.826010  1.002871e+06  1097.515979  2019-01-18\n",
       "12   839601.817357  165297.845181  1.004900e+06  2088.350203  2019-01-22\n",
       "13   849032.293973  153013.178698  1.002045e+06 -2789.189867  2019-01-23\n",
       "14   826812.059251  175033.196129  1.001845e+06  -130.217290  2019-01-24\n",
       "15   822931.385002  179368.842528  1.002300e+06   529.972150  2019-01-25\n",
       "16   819012.663201  182538.202776  1.001551e+06  -669.361553  2019-01-28\n",
       "17   859765.086042  138741.876525  9.985070e+05 -2958.903411  2019-01-29\n",
       "18   838687.334916  160414.818279  9.991022e+05   685.190629  2019-01-30\n",
       "19   823536.097213  177945.884349  1.001482e+06  2474.828367  2019-01-31\n",
       "20   800760.844097  201358.731284  1.002120e+06   737.593820  2019-02-01\n",
       "21   814279.596213  188486.322468  1.002766e+06   751.343299  2019-02-04\n",
       "22   796369.333423  206569.777298  1.002939e+06   283.192040  2019-02-05\n",
       "23   792632.237544  211101.433276  1.003734e+06   909.560098  2019-02-06\n",
       "24   786157.833973  217246.977425  1.003405e+06  -208.859422  2019-02-07\n",
       "25   790178.413957  211202.195735  1.001381e+06 -1899.201705  2019-02-08\n",
       "26   799778.110107  200565.736393  1.000344e+06  -906.763193  2019-02-11\n",
       "27   796121.992657  204046.529562  1.000169e+06   -40.324281  2019-02-12\n",
       "28   813972.286893  189151.741155  1.003124e+06  3095.505829  2019-02-13\n",
       "29   810867.923737  193225.370881  1.004093e+06  1114.266570  2019-02-14\n",
       "30   793680.022911  210080.989358  1.003761e+06  -182.282349  2019-02-15\n",
       "31   809270.093136  197783.498745  1.007054e+06  3447.579612  2019-02-19\n",
       "32   826521.057034  180337.971824  1.006859e+06   -34.563024  2019-02-20\n",
       "33   818195.886153  188849.075671  1.007045e+06   350.932967  2019-02-21\n",
       "34   816446.804054  189885.963016  1.006333e+06  -542.194754  2019-02-22\n",
       "35   810573.116220  197228.686269  1.007802e+06  1644.035418  2019-02-25\n",
       "36   845948.733139  163362.649064  1.009311e+06  1689.579714  2019-02-26\n",
       "37   834277.109748  174318.068505  1.008595e+06  -531.203949  2019-02-27\n",
       "38   835626.556278  173289.144002  1.008916e+06   510.522026  2019-02-28\n",
       "39   827381.096711  180606.421457  1.007988e+06  -733.182112  2019-03-01\n",
       "40   834862.521546  173375.739433  1.008238e+06   450.742811  2019-03-04\n",
       "41   833989.597892  173597.881959  1.007587e+06  -445.781127  2019-03-05\n",
       "42   851661.198089  155163.822747  1.006825e+06  -552.459016  2019-03-06\n",
       "43   842768.861599  163183.093706  1.005952e+06  -658.065531  2019-03-07\n",
       "44   859257.804590  145160.719170  1.004419e+06 -1313.431544  2019-03-08\n",
       "45   842499.228840  161518.655134  1.004018e+06  -175.639786  2019-03-11\n",
       "46   832258.858765  174556.424948  1.006815e+06  3027.399739  2019-03-12\n",
       "47   849127.556444  157492.064512  1.006620e+06    39.337242  2019-03-13\n",
       "48   878209.089380  128930.002442  1.007139e+06   759.470866  2019-03-14\n",
       "49   892091.795957  114888.245246  1.006980e+06    85.949381  2019-03-15"
      ]
     },
     "execution_count": 187,
     "metadata": {},
     "output_type": "execute_result"
    }
   ],
   "source": [
    "df_account_value.head(50)"
   ]
  },
  {
   "cell_type": "markdown",
   "metadata": {
    "id": "W6vvNSC6h1jZ"
   },
   "source": [
    "<a id='6'></a>\n",
    "# Part 7: Backtest Our Strategy\n",
    "Backtesting plays a key role in evaluating the performance of a trading strategy. Automated backtesting tool is preferred because it reduces the human error. We usually use the Quantopian pyfolio package to backtest our trading strategies. It is easy to use and consists of various individual plots that provide a comprehensive image of the performance of a trading strategy."
   ]
  },
  {
   "cell_type": "markdown",
   "metadata": {
    "id": "Lr2zX7ZxNyFQ"
   },
   "source": [
    "<a id='6.1'></a>\n",
    "## 7.1 BackTestStats\n",
    "pass in df_account_value, this information is stored in env class\n"
   ]
  },
  {
   "cell_type": "code",
   "execution_count": 188,
   "metadata": {
    "colab": {
     "base_uri": "https://localhost:8080/"
    },
    "id": "Nzkr9yv-AdV_",
    "outputId": "1053083a-d74c-48b0-a623-de33282e2fff"
   },
   "outputs": [
    {
     "name": "stdout",
     "output_type": "stream",
     "text": [
      "==============Get Backtest Results===========\n",
      "annual return:  -0.31429838045686775\n",
      "sharpe ratio:  -0.03215222673502538\n",
      "Annual return         -0.007905\n",
      "Cumulative returns    -0.015717\n",
      "Annual volatility      0.097907\n",
      "Sharpe ratio          -0.032152\n",
      "Calmar ratio          -0.050407\n",
      "Stability              0.353511\n",
      "Max drawdown          -0.156831\n",
      "Omega ratio            0.993158\n",
      "Sortino ratio         -0.044483\n",
      "Skew                  -0.219349\n",
      "Kurtosis               9.495171\n",
      "Tail ratio             0.946898\n",
      "Daily value at risk   -0.012348\n",
      "Alpha                  0.000000\n",
      "Beta                   1.000000\n",
      "dtype: float64\n"
     ]
    }
   ],
   "source": [
    "print(\"==============Get Backtest Results===========\")\n",
    "now = datetime.datetime.now().strftime('%Y%m%d-%Hh%M')\n",
    "\n",
    "perf_stats_all = BackTestStats(account_value=df_account_value, value_col_name = 'total_assets')\n",
    "perf_stats_all = pd.DataFrame(perf_stats_all)\n",
    "perf_stats_all.to_csv(\"./\"+config.RESULTS_DIR+\"/perf_stats_all_\"+now+'.csv')"
   ]
  },
  {
   "cell_type": "markdown",
   "metadata": {
    "id": "9U6Suru3h1jc"
   },
   "source": [
    "<a id='6.2'></a>\n",
    "## 7.2 BackTestPlot"
   ]
  },
  {
   "cell_type": "code",
   "execution_count": 189,
   "metadata": {
    "colab": {
     "base_uri": "https://localhost:8080/",
     "height": 1000
    },
    "id": "lKRGftSS7pNM",
    "outputId": "4f77cef2-3934-444a-cacc-4ed8f94514ae"
   },
   "outputs": [
    {
     "name": "stdout",
     "output_type": "stream",
     "text": [
      "==============Compare to DJIA===========\n",
      "annual return:  -0.31429838045686775\n",
      "sharpe ratio:  -0.03215222673502538\n",
      "[*********************100%***********************]  1 of 1 completed\n",
      "Shape of DataFrame:  (505, 8)\n"
     ]
    },
    {
     "data": {
      "text/html": [
       "<table border=\"1\" class=\"dataframe\">\n",
       "  <thead>\n",
       "    <tr style=\"text-align: right;\"><th>Start date</th><td colspan=2>2019-01-03</td></tr>\n",
       "    <tr style=\"text-align: right;\"><th>End date</th><td colspan=2>2020-12-30</td></tr>\n",
       "    <tr style=\"text-align: right;\"><th>Total months</th><td colspan=2>23</td></tr>\n",
       "    <tr style=\"text-align: right;\">\n",
       "      <th></th>\n",
       "      <th>Backtest</th>\n",
       "    </tr>\n",
       "  </thead>\n",
       "  <tbody>\n",
       "    <tr>\n",
       "      <th>Annual return</th>\n",
       "      <td>-0.791%</td>\n",
       "    </tr>\n",
       "    <tr>\n",
       "      <th>Cumulative returns</th>\n",
       "      <td>-1.572%</td>\n",
       "    </tr>\n",
       "    <tr>\n",
       "      <th>Annual volatility</th>\n",
       "      <td>9.791%</td>\n",
       "    </tr>\n",
       "    <tr>\n",
       "      <th>Sharpe ratio</th>\n",
       "      <td>-0.03</td>\n",
       "    </tr>\n",
       "    <tr>\n",
       "      <th>Calmar ratio</th>\n",
       "      <td>-0.05</td>\n",
       "    </tr>\n",
       "    <tr>\n",
       "      <th>Stability</th>\n",
       "      <td>0.35</td>\n",
       "    </tr>\n",
       "    <tr>\n",
       "      <th>Max drawdown</th>\n",
       "      <td>-15.683%</td>\n",
       "    </tr>\n",
       "    <tr>\n",
       "      <th>Omega ratio</th>\n",
       "      <td>0.99</td>\n",
       "    </tr>\n",
       "    <tr>\n",
       "      <th>Sortino ratio</th>\n",
       "      <td>-0.04</td>\n",
       "    </tr>\n",
       "    <tr>\n",
       "      <th>Skew</th>\n",
       "      <td>-0.22</td>\n",
       "    </tr>\n",
       "    <tr>\n",
       "      <th>Kurtosis</th>\n",
       "      <td>9.50</td>\n",
       "    </tr>\n",
       "    <tr>\n",
       "      <th>Tail ratio</th>\n",
       "      <td>0.95</td>\n",
       "    </tr>\n",
       "    <tr>\n",
       "      <th>Daily value at risk</th>\n",
       "      <td>-1.235%</td>\n",
       "    </tr>\n",
       "    <tr>\n",
       "      <th>Alpha</th>\n",
       "      <td>-0.05</td>\n",
       "    </tr>\n",
       "    <tr>\n",
       "      <th>Beta</th>\n",
       "      <td>0.31</td>\n",
       "    </tr>\n",
       "  </tbody>\n",
       "</table>"
      ],
      "text/plain": [
       "<IPython.core.display.HTML object>"
      ]
     },
     "metadata": {},
     "output_type": "display_data"
    },
    {
     "data": {
      "text/html": [
       "<table border=\"1\" class=\"dataframe\">\n",
       "  <thead>\n",
       "    <tr style=\"text-align: right;\">\n",
       "      <th>Worst drawdown periods</th>\n",
       "      <th>Net drawdown in %</th>\n",
       "      <th>Peak date</th>\n",
       "      <th>Valley date</th>\n",
       "      <th>Recovery date</th>\n",
       "      <th>Duration</th>\n",
       "    </tr>\n",
       "  </thead>\n",
       "  <tbody>\n",
       "    <tr>\n",
       "      <th>0</th>\n",
       "      <td>15.68</td>\n",
       "      <td>2019-04-23</td>\n",
       "      <td>2020-03-23</td>\n",
       "      <td>NaT</td>\n",
       "      <td>NaN</td>\n",
       "    </tr>\n",
       "    <tr>\n",
       "      <th>1</th>\n",
       "      <td>0.64</td>\n",
       "      <td>2019-01-18</td>\n",
       "      <td>2019-01-28</td>\n",
       "      <td>2019-02-15</td>\n",
       "      <td>21</td>\n",
       "    </tr>\n",
       "    <tr>\n",
       "      <th>2</th>\n",
       "      <td>0.52</td>\n",
       "      <td>2019-02-25</td>\n",
       "      <td>2019-03-08</td>\n",
       "      <td>2019-04-23</td>\n",
       "      <td>42</td>\n",
       "    </tr>\n",
       "    <tr>\n",
       "      <th>3</th>\n",
       "      <td>0.16</td>\n",
       "      <td>2019-01-10</td>\n",
       "      <td>2019-01-14</td>\n",
       "      <td>2019-01-18</td>\n",
       "      <td>7</td>\n",
       "    </tr>\n",
       "    <tr>\n",
       "      <th>4</th>\n",
       "      <td>0.07</td>\n",
       "      <td>2019-02-15</td>\n",
       "      <td>2019-02-21</td>\n",
       "      <td>2019-02-22</td>\n",
       "      <td>6</td>\n",
       "    </tr>\n",
       "  </tbody>\n",
       "</table>"
      ],
      "text/plain": [
       "<IPython.core.display.HTML object>"
      ]
     },
     "metadata": {},
     "output_type": "display_data"
    },
    {
     "name": "stderr",
     "output_type": "stream",
     "text": [
      "/opt/conda/lib/python3.6/site-packages/pyfolio/tears.py:907: UserWarning: Passed returns do not overlap with anyinteresting times.\n",
      "  'interesting times.', UserWarning)\n"
     ]
    },
    {
     "data": {
      "image/png": "[encoded data removed]",
      "text/plain": [
       "<Figure size 1008x5184 with 13 Axes>"
      ]
     },
     "metadata": {
      "needs_background": "light"
     },
     "output_type": "display_data"
    }
   ],
   "source": [
    "print(\"==============Compare to DJIA===========\")\n",
    "%matplotlib inline\n",
    "# S&P 500: ^GSPC\n",
    "# Dow Jones Index: ^DJI\n",
    "# NASDAQ 100: ^NDX\n",
    "BackTestPlot(df_account_value, \n",
    "             baseline_ticker = '^DJI', \n",
    "             baseline_start = '2019-01-01',\n",
    "             baseline_end = '2021-01-01', value_col_name = 'total_assets')"
   ]
  },
  {
   "cell_type": "markdown",
   "metadata": {
    "id": "SlLT9_5WN478"
   },
   "source": [
    "<a id='6.3'></a>\n",
    "## 7.3 Baseline Stats"
   ]
  },
  {
   "cell_type": "code",
   "execution_count": 229,
   "metadata": {
    "colab": {
     "base_uri": "https://localhost:8080/"
    },
    "id": "YktexHcqh1jc",
    "outputId": "38566531-a3a0-4705-db30-d437e8f8fc73"
   },
   "outputs": [
    {
     "name": "stdout",
     "output_type": "stream",
     "text": [
      "==============Get Baseline Stats===========\n",
      "[*********************100%***********************]  1 of 1 completed\n",
      "Shape of DataFrame:  (505, 8)\n",
      "Annual return          0.144674\n",
      "Cumulative returns     0.310981\n",
      "Annual volatility      0.274619\n",
      "Sharpe ratio           0.631418\n",
      "Calmar ratio           0.390102\n",
      "Stability              0.116677\n",
      "Max drawdown          -0.370862\n",
      "Omega ratio            1.149365\n",
      "Sortino ratio          0.870084\n",
      "Skew                        NaN\n",
      "Kurtosis                    NaN\n",
      "Tail ratio             0.860710\n",
      "Daily value at risk   -0.033911\n",
      "Alpha                  0.000000\n",
      "Beta                   1.000000\n",
      "dtype: float64\n"
     ]
    }
   ],
   "source": [
    "print(\"==============Get Baseline Stats===========\")\n",
    "baesline_perf_stats=BaselineStats('^DJI',\n",
    "                                  baseline_start = '2019-01-01',\n",
    "                                  baseline_end = '2021-01-01')"
   ]
  },
  {
   "cell_type": "code",
   "execution_count": null,
   "metadata": {
    "id": "A6W2J57ch1j9"
   },
   "outputs": [],
   "source": []
  }
 ],
 "metadata": {
  "colab": {
   "collapsed_sections": [
    "uijiWgkuh1jB",
    "MRiOtrywfAo1",
    "_gDkU-j-fCmZ",
    "3Zpv4S0-fDBv"
   ],
   "include_colab_link": true,
   "name": "FinRL_multiple_stock_trading.ipynb",
   "provenance": [],
   "toc_visible": true
  },
  "kernelspec": {
   "display_name": "Python 3",
   "language": "python",
   "name": "python3"
  },
  "language_info": {
   "codemirror_mode": {
    "name": "ipython",
    "version": 3
   },
   "file_extension": ".py",
   "mimetype": "text/x-python",
   "name": "python",
   "nbconvert_exporter": "python",
   "pygments_lexer": "ipython3",
   "version": "3.6.12"
  },
  "pycharm": {
   "stem_cell": {
    "cell_type": "raw",
    "metadata": {
     "collapsed": false
    },
    "source": []
   }
  }
 },
 "nbformat": 4,
 "nbformat_minor": 4
}
