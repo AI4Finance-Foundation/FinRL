{
 "nbformat": 4,
 "nbformat_minor": 0,
 "metadata": {
  "colab": {
   "provenance": [],
   "collapsed_sections": [
    "uijiWgkuh1jB",
    "MRiOtrywfAo1",
    "_gDkU-j-fCmZ",
    "3Zpv4S0-fDBv",
    "Dr49PotrfG01",
    "bEv5KGC8h1jE"
   ]
  },
  "kernelspec": {
   "name": "python3",
   "language": "python",
   "display_name": "Python 3 (ipykernel)"
  },
  "language_info": {
   "name": "python"
  }
 },
 "cells": [
  {
   "cell_type": "markdown",
   "source": [
    "# Part 1. Install Packages"
   ],
   "metadata": {
    "id": "gT-zXutMgqOS"
   }
  },
  {
   "cell_type": "code",
   "source": [
    "## install required packages\n",
    "!pip install swig\n",
    "!pip install wrds\n",
    "!pip install pyportfolioopt\n",
    "## install finrl library\n",
    "!pip install git+https://github.com/AI4Finance-Foundation/FinRL.git"
   ],
   "metadata": {
    "id": "D0vEcPxSJ8hI",
    "ExecuteTime": {
     "end_time": "2023-07-07T01:58:46.035234118Z",
     "start_time": "2023-07-07T01:58:34.860495684Z"
    }
   },
   "execution_count": 1,
   "outputs": [
    {
     "name": "stdout",
     "output_type": "stream",
     "text": [
      "Requirement already satisfied: swig in /home/james/miniconda3/envs/algo310/lib/python3.10/site-packages (4.1.1)\r\n",
      "Requirement already satisfied: wrds in /home/james/miniconda3/envs/algo310/lib/python3.10/site-packages (3.1.6)\r\n",
      "Requirement already satisfied: numpy in /home/james/miniconda3/envs/algo310/lib/python3.10/site-packages (from wrds) (1.25.0)\r\n",
      "Requirement already satisfied: pandas in /home/james/miniconda3/envs/algo310/lib/python3.10/site-packages (from wrds) (2.0.3)\r\n",
      "Requirement already satisfied: psycopg2-binary in /home/james/miniconda3/envs/algo310/lib/python3.10/site-packages (from wrds) (2.9.6)\r\n",
      "Requirement already satisfied: scipy in /home/james/miniconda3/envs/algo310/lib/python3.10/site-packages (from wrds) (1.11.1)\r\n",
      "Requirement already satisfied: sqlalchemy<2 in /home/james/miniconda3/envs/algo310/lib/python3.10/site-packages (from wrds) (1.4.49)\r\n",
      "Requirement already satisfied: greenlet!=0.4.17 in /home/james/miniconda3/envs/algo310/lib/python3.10/site-packages (from sqlalchemy<2->wrds) (2.0.2)\r\n",
      "Requirement already satisfied: python-dateutil>=2.8.2 in /home/james/miniconda3/envs/algo310/lib/python3.10/site-packages (from pandas->wrds) (2.8.2)\r\n",
      "Requirement already satisfied: pytz>=2020.1 in /home/james/miniconda3/envs/algo310/lib/python3.10/site-packages (from pandas->wrds) (2022.7)\r\n",
      "Requirement already satisfied: tzdata>=2022.1 in /home/james/miniconda3/envs/algo310/lib/python3.10/site-packages (from pandas->wrds) (2023.3)\r\n",
      "Requirement already satisfied: six>=1.5 in /home/james/miniconda3/envs/algo310/lib/python3.10/site-packages (from python-dateutil>=2.8.2->pandas->wrds) (1.16.0)\r\n",
      "Requirement already satisfied: pyportfolioopt in /home/james/miniconda3/envs/algo310/lib/python3.10/site-packages (1.5.5)\r\n",
      "Requirement already satisfied: cvxpy<2.0.0,>=1.1.19 in /home/james/miniconda3/envs/algo310/lib/python3.10/site-packages (from pyportfolioopt) (1.3.2)\r\n",
      "Requirement already satisfied: numpy<2.0.0,>=1.22.4 in /home/james/miniconda3/envs/algo310/lib/python3.10/site-packages (from pyportfolioopt) (1.25.0)\r\n",
      "Requirement already satisfied: pandas>=0.19 in /home/james/miniconda3/envs/algo310/lib/python3.10/site-packages (from pyportfolioopt) (2.0.3)\r\n",
      "Requirement already satisfied: scipy<2.0,>=1.3 in /home/james/miniconda3/envs/algo310/lib/python3.10/site-packages (from pyportfolioopt) (1.11.1)\r\n",
      "Requirement already satisfied: osqp>=0.4.1 in /home/james/miniconda3/envs/algo310/lib/python3.10/site-packages (from cvxpy<2.0.0,>=1.1.19->pyportfolioopt) (0.6.3)\r\n",
      "Requirement already satisfied: ecos>=2 in /home/james/miniconda3/envs/algo310/lib/python3.10/site-packages (from cvxpy<2.0.0,>=1.1.19->pyportfolioopt) (2.0.12)\r\n",
      "Requirement already satisfied: scs>=1.1.6 in /home/james/miniconda3/envs/algo310/lib/python3.10/site-packages (from cvxpy<2.0.0,>=1.1.19->pyportfolioopt) (3.2.3)\r\n",
      "Requirement already satisfied: setuptools>65.5.1 in /home/james/miniconda3/envs/algo310/lib/python3.10/site-packages (from cvxpy<2.0.0,>=1.1.19->pyportfolioopt) (67.8.0)\r\n",
      "Requirement already satisfied: python-dateutil>=2.8.2 in /home/james/miniconda3/envs/algo310/lib/python3.10/site-packages (from pandas>=0.19->pyportfolioopt) (2.8.2)\r\n",
      "Requirement already satisfied: pytz>=2020.1 in /home/james/miniconda3/envs/algo310/lib/python3.10/site-packages (from pandas>=0.19->pyportfolioopt) (2022.7)\r\n",
      "Requirement already satisfied: tzdata>=2022.1 in /home/james/miniconda3/envs/algo310/lib/python3.10/site-packages (from pandas>=0.19->pyportfolioopt) (2023.3)\r\n",
      "Requirement already satisfied: qdldl in /home/james/miniconda3/envs/algo310/lib/python3.10/site-packages (from osqp>=0.4.1->cvxpy<2.0.0,>=1.1.19->pyportfolioopt) (0.1.7.post0)\r\n",
      "Requirement already satisfied: six>=1.5 in /home/james/miniconda3/envs/algo310/lib/python3.10/site-packages (from python-dateutil>=2.8.2->pandas>=0.19->pyportfolioopt) (1.16.0)\r\n",
      "Collecting git+https://github.com/AI4Finance-Foundation/FinRL.git\r\n",
      "  Cloning https://github.com/AI4Finance-Foundation/FinRL.git to /tmp/pip-req-build-27qckt2y\r\n",
      "  Running command git clone --filter=blob:none --quiet https://github.com/AI4Finance-Foundation/FinRL.git /tmp/pip-req-build-27qckt2y\r\n",
      "  Resolved https://github.com/AI4Finance-Foundation/FinRL.git to commit 1937d992941980a7f77fcdc2f90a0b36486990e3\r\n",
      "  Installing build dependencies ... \u001B[?25ldone\r\n",
      "\u001B[?25h  Getting requirements to build wheel ... \u001B[?25ldone\r\n",
      "\u001B[?25h  Preparing metadata (pyproject.toml) ... \u001B[?25ldone\r\n",
      "\u001B[?25hCollecting elegantrl@ git+https://github.com/AI4Finance-Foundation/ElegantRL.git#egg=elegantrl (from finrl==0.3.6)\r\n",
      "  Cloning https://github.com/AI4Finance-Foundation/ElegantRL.git to /tmp/pip-install-n540yly4/elegantrl_47261ec92a194d52bbe9626eb710cd83\r\n",
      "  Running command git clone --filter=blob:none --quiet https://github.com/AI4Finance-Foundation/ElegantRL.git /tmp/pip-install-n540yly4/elegantrl_47261ec92a194d52bbe9626eb710cd83\r\n",
      "  Resolved https://github.com/AI4Finance-Foundation/ElegantRL.git to commit 59fe4b4a1cca0a28e8a5fa4fb80eed9b5d472978\r\n",
      "  Preparing metadata (setup.py) ... \u001B[?25ldone\r\n",
      "\u001B[?25hRequirement already satisfied: alpaca-trade-api<4,>=3 in /home/james/miniconda3/envs/algo310/lib/python3.10/site-packages (from finrl==0.3.6) (3.0.2)\r\n",
      "Requirement already satisfied: ccxt<4,>=3 in /home/james/miniconda3/envs/algo310/lib/python3.10/site-packages (from finrl==0.3.6) (3.1.60)\r\n",
      "Requirement already satisfied: exchange-calendars<5,>=4 in /home/james/miniconda3/envs/algo310/lib/python3.10/site-packages (from finrl==0.3.6) (4.2.8)\r\n",
      "Requirement already satisfied: jqdatasdk<2,>=1 in /home/james/miniconda3/envs/algo310/lib/python3.10/site-packages (from finrl==0.3.6) (1.8.11)\r\n",
      "Requirement already satisfied: pyfolio<0.10,>=0.9 in /home/james/miniconda3/envs/algo310/lib/python3.10/site-packages (from finrl==0.3.6) (0.9.2)\r\n",
      "Requirement already satisfied: pyportfolioopt<2,>=1 in /home/james/miniconda3/envs/algo310/lib/python3.10/site-packages (from finrl==0.3.6) (1.5.5)\r\n",
      "Requirement already satisfied: ray[default,tune]<3,>=2 in /home/james/miniconda3/envs/algo310/lib/python3.10/site-packages (from finrl==0.3.6) (2.5.1)\r\n",
      "Requirement already satisfied: scikit-learn<2,>=1 in /home/james/miniconda3/envs/algo310/lib/python3.10/site-packages (from finrl==0.3.6) (1.3.0)\r\n",
      "Requirement already satisfied: stable-baselines3[extra]>=2.0.0a5 in /home/james/miniconda3/envs/algo310/lib/python3.10/site-packages (from finrl==0.3.6) (2.0.0)\r\n",
      "Requirement already satisfied: stockstats<0.6,>=0.5 in /home/james/miniconda3/envs/algo310/lib/python3.10/site-packages (from finrl==0.3.6) (0.5.4)\r\n",
      "Requirement already satisfied: wrds<4,>=3 in /home/james/miniconda3/envs/algo310/lib/python3.10/site-packages (from finrl==0.3.6) (3.1.6)\r\n",
      "Requirement already satisfied: yfinance<0.3,>=0.2 in /home/james/miniconda3/envs/algo310/lib/python3.10/site-packages (from finrl==0.3.6) (0.2.22)\r\n",
      "Requirement already satisfied: pandas>=0.18.1 in /home/james/miniconda3/envs/algo310/lib/python3.10/site-packages (from alpaca-trade-api<4,>=3->finrl==0.3.6) (2.0.3)\r\n",
      "Requirement already satisfied: numpy>=1.11.1 in /home/james/miniconda3/envs/algo310/lib/python3.10/site-packages (from alpaca-trade-api<4,>=3->finrl==0.3.6) (1.25.0)\r\n",
      "Requirement already satisfied: requests<3,>2 in /home/james/miniconda3/envs/algo310/lib/python3.10/site-packages (from alpaca-trade-api<4,>=3->finrl==0.3.6) (2.29.0)\r\n",
      "Requirement already satisfied: urllib3<2,>1.24 in /home/james/miniconda3/envs/algo310/lib/python3.10/site-packages (from alpaca-trade-api<4,>=3->finrl==0.3.6) (1.26.16)\r\n",
      "Requirement already satisfied: websocket-client<2,>=0.56.0 in /home/james/miniconda3/envs/algo310/lib/python3.10/site-packages (from alpaca-trade-api<4,>=3->finrl==0.3.6) (0.58.0)\r\n",
      "Requirement already satisfied: websockets<11,>=9.0 in /home/james/miniconda3/envs/algo310/lib/python3.10/site-packages (from alpaca-trade-api<4,>=3->finrl==0.3.6) (10.4)\r\n",
      "Requirement already satisfied: msgpack==1.0.3 in /home/james/miniconda3/envs/algo310/lib/python3.10/site-packages (from alpaca-trade-api<4,>=3->finrl==0.3.6) (1.0.3)\r\n",
      "Requirement already satisfied: aiohttp==3.8.2 in /home/james/miniconda3/envs/algo310/lib/python3.10/site-packages (from alpaca-trade-api<4,>=3->finrl==0.3.6) (3.8.2)\r\n",
      "Requirement already satisfied: PyYAML==6.0 in /home/james/miniconda3/envs/algo310/lib/python3.10/site-packages (from alpaca-trade-api<4,>=3->finrl==0.3.6) (6.0)\r\n",
      "Requirement already satisfied: deprecation==2.1.0 in /home/james/miniconda3/envs/algo310/lib/python3.10/site-packages (from alpaca-trade-api<4,>=3->finrl==0.3.6) (2.1.0)\r\n",
      "Requirement already satisfied: attrs>=17.3.0 in /home/james/miniconda3/envs/algo310/lib/python3.10/site-packages (from aiohttp==3.8.2->alpaca-trade-api<4,>=3->finrl==0.3.6) (22.1.0)\r\n",
      "Requirement already satisfied: charset-normalizer<3.0,>=2.0 in /home/james/miniconda3/envs/algo310/lib/python3.10/site-packages (from aiohttp==3.8.2->alpaca-trade-api<4,>=3->finrl==0.3.6) (2.0.4)\r\n",
      "Requirement already satisfied: multidict<6.0,>=4.5 in /home/james/miniconda3/envs/algo310/lib/python3.10/site-packages (from aiohttp==3.8.2->alpaca-trade-api<4,>=3->finrl==0.3.6) (5.2.0)\r\n",
      "Requirement already satisfied: async-timeout<5.0,>=4.0.0a3 in /home/james/miniconda3/envs/algo310/lib/python3.10/site-packages (from aiohttp==3.8.2->alpaca-trade-api<4,>=3->finrl==0.3.6) (4.0.2)\r\n",
      "Requirement already satisfied: yarl<2.0,>=1.0 in /home/james/miniconda3/envs/algo310/lib/python3.10/site-packages (from aiohttp==3.8.2->alpaca-trade-api<4,>=3->finrl==0.3.6) (1.9.2)\r\n",
      "Requirement already satisfied: frozenlist>=1.1.1 in /home/james/miniconda3/envs/algo310/lib/python3.10/site-packages (from aiohttp==3.8.2->alpaca-trade-api<4,>=3->finrl==0.3.6) (1.3.3)\r\n",
      "Requirement already satisfied: aiosignal>=1.1.2 in /home/james/miniconda3/envs/algo310/lib/python3.10/site-packages (from aiohttp==3.8.2->alpaca-trade-api<4,>=3->finrl==0.3.6) (1.3.1)\r\n",
      "Requirement already satisfied: packaging in /home/james/miniconda3/envs/algo310/lib/python3.10/site-packages (from deprecation==2.1.0->alpaca-trade-api<4,>=3->finrl==0.3.6) (23.0)\r\n",
      "Requirement already satisfied: setuptools>=60.9.0 in /home/james/miniconda3/envs/algo310/lib/python3.10/site-packages (from ccxt<4,>=3->finrl==0.3.6) (67.8.0)\r\n",
      "Requirement already satisfied: certifi>=2018.1.18 in /home/james/miniconda3/envs/algo310/lib/python3.10/site-packages (from ccxt<4,>=3->finrl==0.3.6) (2023.5.7)\r\n",
      "Requirement already satisfied: cryptography>=2.6.1 in /home/james/miniconda3/envs/algo310/lib/python3.10/site-packages (from ccxt<4,>=3->finrl==0.3.6) (39.0.1)\r\n",
      "Requirement already satisfied: aiodns>=1.1.1 in /home/james/miniconda3/envs/algo310/lib/python3.10/site-packages (from ccxt<4,>=3->finrl==0.3.6) (3.0.0)\r\n",
      "Requirement already satisfied: pyluach in /home/james/miniconda3/envs/algo310/lib/python3.10/site-packages (from exchange-calendars<5,>=4->finrl==0.3.6) (2.2.0)\r\n",
      "Requirement already satisfied: python-dateutil in /home/james/miniconda3/envs/algo310/lib/python3.10/site-packages (from exchange-calendars<5,>=4->finrl==0.3.6) (2.8.2)\r\n",
      "Requirement already satisfied: pytz in /home/james/miniconda3/envs/algo310/lib/python3.10/site-packages (from exchange-calendars<5,>=4->finrl==0.3.6) (2022.7)\r\n",
      "Requirement already satisfied: toolz in /home/james/miniconda3/envs/algo310/lib/python3.10/site-packages (from exchange-calendars<5,>=4->finrl==0.3.6) (0.12.0)\r\n",
      "Requirement already satisfied: korean-lunar-calendar in /home/james/miniconda3/envs/algo310/lib/python3.10/site-packages (from exchange-calendars<5,>=4->finrl==0.3.6) (0.3.1)\r\n",
      "Requirement already satisfied: six in /home/james/miniconda3/envs/algo310/lib/python3.10/site-packages (from jqdatasdk<2,>=1->finrl==0.3.6) (1.16.0)\r\n",
      "Requirement already satisfied: SQLAlchemy>=1.2.8 in /home/james/miniconda3/envs/algo310/lib/python3.10/site-packages (from jqdatasdk<2,>=1->finrl==0.3.6) (1.4.49)\r\n",
      "Requirement already satisfied: thriftpy2>=0.3.9 in /home/james/miniconda3/envs/algo310/lib/python3.10/site-packages (from jqdatasdk<2,>=1->finrl==0.3.6) (0.4.16)\r\n",
      "Requirement already satisfied: pymysql>=0.7.6 in /home/james/miniconda3/envs/algo310/lib/python3.10/site-packages (from jqdatasdk<2,>=1->finrl==0.3.6) (1.1.0)\r\n",
      "Requirement already satisfied: ipython>=3.2.3 in /home/james/miniconda3/envs/algo310/lib/python3.10/site-packages (from pyfolio<0.10,>=0.9->finrl==0.3.6) (8.12.0)\r\n",
      "Requirement already satisfied: matplotlib>=1.4.0 in /home/james/miniconda3/envs/algo310/lib/python3.10/site-packages (from pyfolio<0.10,>=0.9->finrl==0.3.6) (3.7.2)\r\n",
      "Requirement already satisfied: scipy>=0.14.0 in /home/james/miniconda3/envs/algo310/lib/python3.10/site-packages (from pyfolio<0.10,>=0.9->finrl==0.3.6) (1.11.1)\r\n",
      "Requirement already satisfied: seaborn>=0.7.1 in /home/james/miniconda3/envs/algo310/lib/python3.10/site-packages (from pyfolio<0.10,>=0.9->finrl==0.3.6) (0.12.2)\r\n",
      "Requirement already satisfied: empyrical>=0.5.0 in /home/james/miniconda3/envs/algo310/lib/python3.10/site-packages (from pyfolio<0.10,>=0.9->finrl==0.3.6) (0.5.5)\r\n",
      "Requirement already satisfied: cvxpy<2.0.0,>=1.1.19 in /home/james/miniconda3/envs/algo310/lib/python3.10/site-packages (from pyportfolioopt<2,>=1->finrl==0.3.6) (1.3.2)\r\n",
      "Requirement already satisfied: click>=7.0 in /home/james/miniconda3/envs/algo310/lib/python3.10/site-packages (from ray[default,tune]<3,>=2->finrl==0.3.6) (8.1.4)\r\n",
      "Requirement already satisfied: filelock in /home/james/miniconda3/envs/algo310/lib/python3.10/site-packages (from ray[default,tune]<3,>=2->finrl==0.3.6) (3.12.2)\r\n",
      "Requirement already satisfied: jsonschema in /home/james/miniconda3/envs/algo310/lib/python3.10/site-packages (from ray[default,tune]<3,>=2->finrl==0.3.6) (4.17.3)\r\n",
      "Requirement already satisfied: protobuf!=3.19.5,>=3.15.3 in /home/james/miniconda3/envs/algo310/lib/python3.10/site-packages (from ray[default,tune]<3,>=2->finrl==0.3.6) (4.23.4)\r\n",
      "Requirement already satisfied: grpcio<=1.51.3,>=1.42.0 in /home/james/miniconda3/envs/algo310/lib/python3.10/site-packages (from ray[default,tune]<3,>=2->finrl==0.3.6) (1.51.3)\r\n",
      "Requirement already satisfied: tensorboardX>=1.9 in /home/james/miniconda3/envs/algo310/lib/python3.10/site-packages (from ray[default,tune]<3,>=2->finrl==0.3.6) (2.6.1)\r\n",
      "Requirement already satisfied: pyarrow>=6.0.1 in /home/james/miniconda3/envs/algo310/lib/python3.10/site-packages (from ray[default,tune]<3,>=2->finrl==0.3.6) (12.0.1)\r\n",
      "Requirement already satisfied: aiohttp-cors in /home/james/miniconda3/envs/algo310/lib/python3.10/site-packages (from ray[default,tune]<3,>=2->finrl==0.3.6) (0.7.0)\r\n",
      "Requirement already satisfied: colorful in /home/james/miniconda3/envs/algo310/lib/python3.10/site-packages (from ray[default,tune]<3,>=2->finrl==0.3.6) (0.5.5)\r\n",
      "Requirement already satisfied: py-spy>=0.2.0 in /home/james/miniconda3/envs/algo310/lib/python3.10/site-packages (from ray[default,tune]<3,>=2->finrl==0.3.6) (0.3.14)\r\n",
      "Requirement already satisfied: gpustat>=1.0.0 in /home/james/miniconda3/envs/algo310/lib/python3.10/site-packages (from ray[default,tune]<3,>=2->finrl==0.3.6) (1.1)\r\n",
      "Requirement already satisfied: opencensus in /home/james/miniconda3/envs/algo310/lib/python3.10/site-packages (from ray[default,tune]<3,>=2->finrl==0.3.6) (0.11.2)\r\n",
      "Requirement already satisfied: pydantic in /home/james/miniconda3/envs/algo310/lib/python3.10/site-packages (from ray[default,tune]<3,>=2->finrl==0.3.6) (2.0.2)\r\n",
      "Requirement already satisfied: prometheus-client>=0.7.1 in /home/james/miniconda3/envs/algo310/lib/python3.10/site-packages (from ray[default,tune]<3,>=2->finrl==0.3.6) (0.14.1)\r\n",
      "Requirement already satisfied: smart-open in /home/james/miniconda3/envs/algo310/lib/python3.10/site-packages (from ray[default,tune]<3,>=2->finrl==0.3.6) (6.3.0)\r\n",
      "Requirement already satisfied: virtualenv<20.21.1,>=20.0.24 in /home/james/miniconda3/envs/algo310/lib/python3.10/site-packages (from ray[default,tune]<3,>=2->finrl==0.3.6) (20.21.0)\r\n",
      "Requirement already satisfied: joblib>=1.1.1 in /home/james/miniconda3/envs/algo310/lib/python3.10/site-packages (from scikit-learn<2,>=1->finrl==0.3.6) (1.3.1)\r\n",
      "Requirement already satisfied: threadpoolctl>=2.0.0 in /home/james/miniconda3/envs/algo310/lib/python3.10/site-packages (from scikit-learn<2,>=1->finrl==0.3.6) (3.1.0)\r\n",
      "Requirement already satisfied: gymnasium==0.28.1 in /home/james/miniconda3/envs/algo310/lib/python3.10/site-packages (from stable-baselines3[extra]>=2.0.0a5->finrl==0.3.6) (0.28.1)\r\n",
      "Requirement already satisfied: torch>=1.11 in /home/james/miniconda3/envs/algo310/lib/python3.10/site-packages (from stable-baselines3[extra]>=2.0.0a5->finrl==0.3.6) (2.0.1)\r\n",
      "Requirement already satisfied: cloudpickle in /home/james/miniconda3/envs/algo310/lib/python3.10/site-packages (from stable-baselines3[extra]>=2.0.0a5->finrl==0.3.6) (2.2.1)\r\n",
      "Requirement already satisfied: opencv-python in /home/james/miniconda3/envs/algo310/lib/python3.10/site-packages (from stable-baselines3[extra]>=2.0.0a5->finrl==0.3.6) (4.8.0.74)\r\n",
      "Requirement already satisfied: tensorboard>=2.9.1 in /home/james/miniconda3/envs/algo310/lib/python3.10/site-packages (from stable-baselines3[extra]>=2.0.0a5->finrl==0.3.6) (2.13.0)\r\n",
      "Requirement already satisfied: psutil in /home/james/miniconda3/envs/algo310/lib/python3.10/site-packages (from stable-baselines3[extra]>=2.0.0a5->finrl==0.3.6) (5.9.0)\r\n",
      "Requirement already satisfied: tqdm in /home/james/miniconda3/envs/algo310/lib/python3.10/site-packages (from stable-baselines3[extra]>=2.0.0a5->finrl==0.3.6) (4.65.0)\r\n",
      "Requirement already satisfied: rich in /home/james/miniconda3/envs/algo310/lib/python3.10/site-packages (from stable-baselines3[extra]>=2.0.0a5->finrl==0.3.6) (13.4.2)\r\n",
      "Requirement already satisfied: shimmy[atari]~=0.2.1 in /home/james/miniconda3/envs/algo310/lib/python3.10/site-packages (from stable-baselines3[extra]>=2.0.0a5->finrl==0.3.6) (0.2.1)\r\n",
      "Requirement already satisfied: pillow in /home/james/miniconda3/envs/algo310/lib/python3.10/site-packages (from stable-baselines3[extra]>=2.0.0a5->finrl==0.3.6) (10.0.0)\r\n",
      "Requirement already satisfied: autorom[accept-rom-license]~=0.6.0 in /home/james/miniconda3/envs/algo310/lib/python3.10/site-packages (from stable-baselines3[extra]>=2.0.0a5->finrl==0.3.6) (0.6.1)\r\n",
      "Requirement already satisfied: pygame in /home/james/miniconda3/envs/algo310/lib/python3.10/site-packages (from stable-baselines3[extra]>=2.0.0a5->finrl==0.3.6) (2.1.0)\r\n",
      "Requirement already satisfied: jax-jumpy>=1.0.0 in /home/james/miniconda3/envs/algo310/lib/python3.10/site-packages (from gymnasium==0.28.1->stable-baselines3[extra]>=2.0.0a5->finrl==0.3.6) (1.0.0)\r\n",
      "Requirement already satisfied: typing-extensions>=4.3.0 in /home/james/miniconda3/envs/algo310/lib/python3.10/site-packages (from gymnasium==0.28.1->stable-baselines3[extra]>=2.0.0a5->finrl==0.3.6) (4.6.3)\r\n",
      "Requirement already satisfied: farama-notifications>=0.0.1 in /home/james/miniconda3/envs/algo310/lib/python3.10/site-packages (from gymnasium==0.28.1->stable-baselines3[extra]>=2.0.0a5->finrl==0.3.6) (0.0.4)\r\n",
      "Requirement already satisfied: psycopg2-binary in /home/james/miniconda3/envs/algo310/lib/python3.10/site-packages (from wrds<4,>=3->finrl==0.3.6) (2.9.6)\r\n",
      "Requirement already satisfied: multitasking>=0.0.7 in /home/james/miniconda3/envs/algo310/lib/python3.10/site-packages (from yfinance<0.3,>=0.2->finrl==0.3.6) (0.0.11)\r\n",
      "Requirement already satisfied: lxml>=4.9.1 in /home/james/miniconda3/envs/algo310/lib/python3.10/site-packages (from yfinance<0.3,>=0.2->finrl==0.3.6) (4.9.1)\r\n",
      "Requirement already satisfied: appdirs>=1.4.4 in /home/james/miniconda3/envs/algo310/lib/python3.10/site-packages (from yfinance<0.3,>=0.2->finrl==0.3.6) (1.4.4)\r\n",
      "Requirement already satisfied: frozendict>=2.3.4 in /home/james/miniconda3/envs/algo310/lib/python3.10/site-packages (from yfinance<0.3,>=0.2->finrl==0.3.6) (2.3.8)\r\n",
      "Requirement already satisfied: beautifulsoup4>=4.11.1 in /home/james/miniconda3/envs/algo310/lib/python3.10/site-packages (from yfinance<0.3,>=0.2->finrl==0.3.6) (4.12.2)\r\n",
      "Requirement already satisfied: html5lib>=1.1 in /home/james/miniconda3/envs/algo310/lib/python3.10/site-packages (from yfinance<0.3,>=0.2->finrl==0.3.6) (1.1)\r\n",
      "Requirement already satisfied: gym in /home/james/miniconda3/envs/algo310/lib/python3.10/site-packages (from elegantrl@ git+https://github.com/AI4Finance-Foundation/ElegantRL.git#egg=elegantrl->finrl==0.3.6) (0.26.2)\r\n",
      "Requirement already satisfied: pycares>=4.0.0 in /home/james/miniconda3/envs/algo310/lib/python3.10/site-packages (from aiodns>=1.1.1->ccxt<4,>=3->finrl==0.3.6) (4.3.0)\r\n",
      "Requirement already satisfied: AutoROM.accept-rom-license in /home/james/miniconda3/envs/algo310/lib/python3.10/site-packages (from autorom[accept-rom-license]~=0.6.0->stable-baselines3[extra]>=2.0.0a5->finrl==0.3.6) (0.6.1)\r\n",
      "Requirement already satisfied: soupsieve>1.2 in /home/james/miniconda3/envs/algo310/lib/python3.10/site-packages (from beautifulsoup4>=4.11.1->yfinance<0.3,>=0.2->finrl==0.3.6) (2.4.1)\r\n",
      "Requirement already satisfied: cffi>=1.12 in /home/james/miniconda3/envs/algo310/lib/python3.10/site-packages (from cryptography>=2.6.1->ccxt<4,>=3->finrl==0.3.6) (1.15.1)\r\n",
      "Requirement already satisfied: osqp>=0.4.1 in /home/james/miniconda3/envs/algo310/lib/python3.10/site-packages (from cvxpy<2.0.0,>=1.1.19->pyportfolioopt<2,>=1->finrl==0.3.6) (0.6.3)\r\n",
      "Requirement already satisfied: ecos>=2 in /home/james/miniconda3/envs/algo310/lib/python3.10/site-packages (from cvxpy<2.0.0,>=1.1.19->pyportfolioopt<2,>=1->finrl==0.3.6) (2.0.12)\r\n",
      "Requirement already satisfied: scs>=1.1.6 in /home/james/miniconda3/envs/algo310/lib/python3.10/site-packages (from cvxpy<2.0.0,>=1.1.19->pyportfolioopt<2,>=1->finrl==0.3.6) (3.2.3)\r\n",
      "Requirement already satisfied: pandas-datareader>=0.2 in /home/james/miniconda3/envs/algo310/lib/python3.10/site-packages (from empyrical>=0.5.0->pyfolio<0.10,>=0.9->finrl==0.3.6) (0.10.0)\r\n",
      "Requirement already satisfied: nvidia-ml-py>=11.450.129 in /home/james/miniconda3/envs/algo310/lib/python3.10/site-packages (from gpustat>=1.0.0->ray[default,tune]<3,>=2->finrl==0.3.6) (12.535.77)\r\n",
      "Requirement already satisfied: blessed>=1.17.1 in /home/james/miniconda3/envs/algo310/lib/python3.10/site-packages (from gpustat>=1.0.0->ray[default,tune]<3,>=2->finrl==0.3.6) (1.20.0)\r\n",
      "Requirement already satisfied: webencodings in /home/james/miniconda3/envs/algo310/lib/python3.10/site-packages (from html5lib>=1.1->yfinance<0.3,>=0.2->finrl==0.3.6) (0.5.1)\r\n",
      "Requirement already satisfied: backcall in /home/james/miniconda3/envs/algo310/lib/python3.10/site-packages (from ipython>=3.2.3->pyfolio<0.10,>=0.9->finrl==0.3.6) (0.2.0)\r\n",
      "Requirement already satisfied: decorator in /home/james/miniconda3/envs/algo310/lib/python3.10/site-packages (from ipython>=3.2.3->pyfolio<0.10,>=0.9->finrl==0.3.6) (5.1.1)\r\n",
      "Requirement already satisfied: jedi>=0.16 in /home/james/miniconda3/envs/algo310/lib/python3.10/site-packages (from ipython>=3.2.3->pyfolio<0.10,>=0.9->finrl==0.3.6) (0.18.1)\r\n",
      "Requirement already satisfied: matplotlib-inline in /home/james/miniconda3/envs/algo310/lib/python3.10/site-packages (from ipython>=3.2.3->pyfolio<0.10,>=0.9->finrl==0.3.6) (0.1.6)\r\n",
      "Requirement already satisfied: pickleshare in /home/james/miniconda3/envs/algo310/lib/python3.10/site-packages (from ipython>=3.2.3->pyfolio<0.10,>=0.9->finrl==0.3.6) (0.7.5)\r\n",
      "Requirement already satisfied: prompt-toolkit!=3.0.37,<3.1.0,>=3.0.30 in /home/james/miniconda3/envs/algo310/lib/python3.10/site-packages (from ipython>=3.2.3->pyfolio<0.10,>=0.9->finrl==0.3.6) (3.0.36)\r\n",
      "Requirement already satisfied: pygments>=2.4.0 in /home/james/miniconda3/envs/algo310/lib/python3.10/site-packages (from ipython>=3.2.3->pyfolio<0.10,>=0.9->finrl==0.3.6) (2.15.1)\r\n",
      "Requirement already satisfied: stack-data in /home/james/miniconda3/envs/algo310/lib/python3.10/site-packages (from ipython>=3.2.3->pyfolio<0.10,>=0.9->finrl==0.3.6) (0.2.0)\r\n",
      "Requirement already satisfied: traitlets>=5 in /home/james/miniconda3/envs/algo310/lib/python3.10/site-packages (from ipython>=3.2.3->pyfolio<0.10,>=0.9->finrl==0.3.6) (5.7.1)\r\n",
      "Requirement already satisfied: pexpect>4.3 in /home/james/miniconda3/envs/algo310/lib/python3.10/site-packages (from ipython>=3.2.3->pyfolio<0.10,>=0.9->finrl==0.3.6) (4.8.0)\r\n",
      "Requirement already satisfied: contourpy>=1.0.1 in /home/james/miniconda3/envs/algo310/lib/python3.10/site-packages (from matplotlib>=1.4.0->pyfolio<0.10,>=0.9->finrl==0.3.6) (1.1.0)\r\n",
      "Requirement already satisfied: cycler>=0.10 in /home/james/miniconda3/envs/algo310/lib/python3.10/site-packages (from matplotlib>=1.4.0->pyfolio<0.10,>=0.9->finrl==0.3.6) (0.11.0)\r\n",
      "Requirement already satisfied: fonttools>=4.22.0 in /home/james/miniconda3/envs/algo310/lib/python3.10/site-packages (from matplotlib>=1.4.0->pyfolio<0.10,>=0.9->finrl==0.3.6) (4.40.0)\r\n",
      "Requirement already satisfied: kiwisolver>=1.0.1 in /home/james/miniconda3/envs/algo310/lib/python3.10/site-packages (from matplotlib>=1.4.0->pyfolio<0.10,>=0.9->finrl==0.3.6) (1.4.4)\r\n",
      "Requirement already satisfied: pyparsing<3.1,>=2.3.1 in /home/james/miniconda3/envs/algo310/lib/python3.10/site-packages (from matplotlib>=1.4.0->pyfolio<0.10,>=0.9->finrl==0.3.6) (3.0.9)\r\n",
      "Requirement already satisfied: tzdata>=2022.1 in /home/james/miniconda3/envs/algo310/lib/python3.10/site-packages (from pandas>=0.18.1->alpaca-trade-api<4,>=3->finrl==0.3.6) (2023.3)\r\n",
      "Requirement already satisfied: idna<4,>=2.5 in /home/james/miniconda3/envs/algo310/lib/python3.10/site-packages (from requests<3,>2->alpaca-trade-api<4,>=3->finrl==0.3.6) (3.4)\r\n",
      "Requirement already satisfied: ale-py~=0.8.1 in /home/james/miniconda3/envs/algo310/lib/python3.10/site-packages (from shimmy[atari]~=0.2.1->stable-baselines3[extra]>=2.0.0a5->finrl==0.3.6) (0.8.1)\r\n",
      "Requirement already satisfied: greenlet!=0.4.17 in /home/james/miniconda3/envs/algo310/lib/python3.10/site-packages (from SQLAlchemy>=1.2.8->jqdatasdk<2,>=1->finrl==0.3.6) (2.0.2)\r\n",
      "Requirement already satisfied: absl-py>=0.4 in /home/james/miniconda3/envs/algo310/lib/python3.10/site-packages (from tensorboard>=2.9.1->stable-baselines3[extra]>=2.0.0a5->finrl==0.3.6) (1.4.0)\r\n",
      "Requirement already satisfied: google-auth<3,>=1.6.3 in /home/james/miniconda3/envs/algo310/lib/python3.10/site-packages (from tensorboard>=2.9.1->stable-baselines3[extra]>=2.0.0a5->finrl==0.3.6) (2.21.0)\r\n",
      "Requirement already satisfied: google-auth-oauthlib<1.1,>=0.5 in /home/james/miniconda3/envs/algo310/lib/python3.10/site-packages (from tensorboard>=2.9.1->stable-baselines3[extra]>=2.0.0a5->finrl==0.3.6) (1.0.0)\r\n",
      "Requirement already satisfied: markdown>=2.6.8 in /home/james/miniconda3/envs/algo310/lib/python3.10/site-packages (from tensorboard>=2.9.1->stable-baselines3[extra]>=2.0.0a5->finrl==0.3.6) (3.4.3)\r\n",
      "Requirement already satisfied: tensorboard-data-server<0.8.0,>=0.7.0 in /home/james/miniconda3/envs/algo310/lib/python3.10/site-packages (from tensorboard>=2.9.1->stable-baselines3[extra]>=2.0.0a5->finrl==0.3.6) (0.7.1)\r\n",
      "Requirement already satisfied: werkzeug>=1.0.1 in /home/james/miniconda3/envs/algo310/lib/python3.10/site-packages (from tensorboard>=2.9.1->stable-baselines3[extra]>=2.0.0a5->finrl==0.3.6) (2.3.6)\r\n",
      "Requirement already satisfied: wheel>=0.26 in /home/james/miniconda3/envs/algo310/lib/python3.10/site-packages (from tensorboard>=2.9.1->stable-baselines3[extra]>=2.0.0a5->finrl==0.3.6) (0.38.4)\r\n",
      "Requirement already satisfied: ply<4.0,>=3.4 in /home/james/miniconda3/envs/algo310/lib/python3.10/site-packages (from thriftpy2>=0.3.9->jqdatasdk<2,>=1->finrl==0.3.6) (3.11)\r\n",
      "Requirement already satisfied: sympy in /home/james/miniconda3/envs/algo310/lib/python3.10/site-packages (from torch>=1.11->stable-baselines3[extra]>=2.0.0a5->finrl==0.3.6) (1.12)\r\n",
      "Requirement already satisfied: networkx in /home/james/miniconda3/envs/algo310/lib/python3.10/site-packages (from torch>=1.11->stable-baselines3[extra]>=2.0.0a5->finrl==0.3.6) (3.1)\r\n",
      "Requirement already satisfied: jinja2 in /home/james/miniconda3/envs/algo310/lib/python3.10/site-packages (from torch>=1.11->stable-baselines3[extra]>=2.0.0a5->finrl==0.3.6) (3.1.2)\r\n",
      "Requirement already satisfied: nvidia-cuda-nvrtc-cu11==11.7.99 in /home/james/miniconda3/envs/algo310/lib/python3.10/site-packages (from torch>=1.11->stable-baselines3[extra]>=2.0.0a5->finrl==0.3.6) (11.7.99)\r\n",
      "Requirement already satisfied: nvidia-cuda-runtime-cu11==11.7.99 in /home/james/miniconda3/envs/algo310/lib/python3.10/site-packages (from torch>=1.11->stable-baselines3[extra]>=2.0.0a5->finrl==0.3.6) (11.7.99)\r\n",
      "Requirement already satisfied: nvidia-cuda-cupti-cu11==11.7.101 in /home/james/miniconda3/envs/algo310/lib/python3.10/site-packages (from torch>=1.11->stable-baselines3[extra]>=2.0.0a5->finrl==0.3.6) (11.7.101)\r\n",
      "Requirement already satisfied: nvidia-cudnn-cu11==8.5.0.96 in /home/james/miniconda3/envs/algo310/lib/python3.10/site-packages (from torch>=1.11->stable-baselines3[extra]>=2.0.0a5->finrl==0.3.6) (8.5.0.96)\r\n",
      "Requirement already satisfied: nvidia-cublas-cu11==11.10.3.66 in /home/james/miniconda3/envs/algo310/lib/python3.10/site-packages (from torch>=1.11->stable-baselines3[extra]>=2.0.0a5->finrl==0.3.6) (11.10.3.66)\r\n",
      "Requirement already satisfied: nvidia-cufft-cu11==10.9.0.58 in /home/james/miniconda3/envs/algo310/lib/python3.10/site-packages (from torch>=1.11->stable-baselines3[extra]>=2.0.0a5->finrl==0.3.6) (10.9.0.58)\r\n",
      "Requirement already satisfied: nvidia-curand-cu11==10.2.10.91 in /home/james/miniconda3/envs/algo310/lib/python3.10/site-packages (from torch>=1.11->stable-baselines3[extra]>=2.0.0a5->finrl==0.3.6) (10.2.10.91)\r\n",
      "Requirement already satisfied: nvidia-cusolver-cu11==11.4.0.1 in /home/james/miniconda3/envs/algo310/lib/python3.10/site-packages (from torch>=1.11->stable-baselines3[extra]>=2.0.0a5->finrl==0.3.6) (11.4.0.1)\r\n",
      "Requirement already satisfied: nvidia-cusparse-cu11==11.7.4.91 in /home/james/miniconda3/envs/algo310/lib/python3.10/site-packages (from torch>=1.11->stable-baselines3[extra]>=2.0.0a5->finrl==0.3.6) (11.7.4.91)\r\n",
      "Requirement already satisfied: nvidia-nccl-cu11==2.14.3 in /home/james/miniconda3/envs/algo310/lib/python3.10/site-packages (from torch>=1.11->stable-baselines3[extra]>=2.0.0a5->finrl==0.3.6) (2.14.3)\r\n",
      "Requirement already satisfied: nvidia-nvtx-cu11==11.7.91 in /home/james/miniconda3/envs/algo310/lib/python3.10/site-packages (from torch>=1.11->stable-baselines3[extra]>=2.0.0a5->finrl==0.3.6) (11.7.91)\r\n",
      "Requirement already satisfied: triton==2.0.0 in /home/james/miniconda3/envs/algo310/lib/python3.10/site-packages (from torch>=1.11->stable-baselines3[extra]>=2.0.0a5->finrl==0.3.6) (2.0.0)\r\n",
      "Requirement already satisfied: cmake in /home/james/miniconda3/envs/algo310/lib/python3.10/site-packages (from triton==2.0.0->torch>=1.11->stable-baselines3[extra]>=2.0.0a5->finrl==0.3.6) (3.26.4)\r\n",
      "Requirement already satisfied: lit in /home/james/miniconda3/envs/algo310/lib/python3.10/site-packages (from triton==2.0.0->torch>=1.11->stable-baselines3[extra]>=2.0.0a5->finrl==0.3.6) (16.0.6)\r\n",
      "Requirement already satisfied: distlib<1,>=0.3.6 in /home/james/miniconda3/envs/algo310/lib/python3.10/site-packages (from virtualenv<20.21.1,>=20.0.24->ray[default,tune]<3,>=2->finrl==0.3.6) (0.3.6)\r\n",
      "Requirement already satisfied: platformdirs<4,>=2.4 in /home/james/miniconda3/envs/algo310/lib/python3.10/site-packages (from virtualenv<20.21.1,>=20.0.24->ray[default,tune]<3,>=2->finrl==0.3.6) (2.5.2)\r\n",
      "Requirement already satisfied: gym-notices>=0.0.4 in /home/james/miniconda3/envs/algo310/lib/python3.10/site-packages (from gym->elegantrl@ git+https://github.com/AI4Finance-Foundation/ElegantRL.git#egg=elegantrl->finrl==0.3.6) (0.0.8)\r\n",
      "Requirement already satisfied: box2d-py==2.3.5 in /home/james/miniconda3/envs/algo310/lib/python3.10/site-packages (from gym->elegantrl@ git+https://github.com/AI4Finance-Foundation/ElegantRL.git#egg=elegantrl->finrl==0.3.6) (2.3.5)\r\n",
      "Requirement already satisfied: swig==4.* in /home/james/miniconda3/envs/algo310/lib/python3.10/site-packages (from gym->elegantrl@ git+https://github.com/AI4Finance-Foundation/ElegantRL.git#egg=elegantrl->finrl==0.3.6) (4.1.1)\r\n",
      "Requirement already satisfied: pyrsistent!=0.17.0,!=0.17.1,!=0.17.2,>=0.14.0 in /home/james/miniconda3/envs/algo310/lib/python3.10/site-packages (from jsonschema->ray[default,tune]<3,>=2->finrl==0.3.6) (0.18.0)\r\n",
      "Requirement already satisfied: opencensus-context>=0.1.3 in /home/james/miniconda3/envs/algo310/lib/python3.10/site-packages (from opencensus->ray[default,tune]<3,>=2->finrl==0.3.6) (0.1.3)\r\n",
      "Requirement already satisfied: google-api-core<3.0.0,>=1.0.0 in /home/james/miniconda3/envs/algo310/lib/python3.10/site-packages (from opencensus->ray[default,tune]<3,>=2->finrl==0.3.6) (2.11.1)\r\n",
      "Requirement already satisfied: annotated-types>=0.4.0 in /home/james/miniconda3/envs/algo310/lib/python3.10/site-packages (from pydantic->ray[default,tune]<3,>=2->finrl==0.3.6) (0.5.0)\r\n",
      "Requirement already satisfied: pydantic-core==2.1.2 in /home/james/miniconda3/envs/algo310/lib/python3.10/site-packages (from pydantic->ray[default,tune]<3,>=2->finrl==0.3.6) (2.1.2)\r\n",
      "Requirement already satisfied: markdown-it-py>=2.2.0 in /home/james/miniconda3/envs/algo310/lib/python3.10/site-packages (from rich->stable-baselines3[extra]>=2.0.0a5->finrl==0.3.6) (3.0.0)\r\n",
      "Requirement already satisfied: importlib-resources in /home/james/miniconda3/envs/algo310/lib/python3.10/site-packages (from ale-py~=0.8.1->shimmy[atari]~=0.2.1->stable-baselines3[extra]>=2.0.0a5->finrl==0.3.6) (5.12.0)\r\n",
      "Requirement already satisfied: wcwidth>=0.1.4 in /home/james/miniconda3/envs/algo310/lib/python3.10/site-packages (from blessed>=1.17.1->gpustat>=1.0.0->ray[default,tune]<3,>=2->finrl==0.3.6) (0.2.5)\r\n",
      "Requirement already satisfied: pycparser in /home/james/miniconda3/envs/algo310/lib/python3.10/site-packages (from cffi>=1.12->cryptography>=2.6.1->ccxt<4,>=3->finrl==0.3.6) (2.21)\r\n",
      "Requirement already satisfied: googleapis-common-protos<2.0.dev0,>=1.56.2 in /home/james/miniconda3/envs/algo310/lib/python3.10/site-packages (from google-api-core<3.0.0,>=1.0.0->opencensus->ray[default,tune]<3,>=2->finrl==0.3.6) (1.59.1)\r\n",
      "Requirement already satisfied: cachetools<6.0,>=2.0.0 in /home/james/miniconda3/envs/algo310/lib/python3.10/site-packages (from google-auth<3,>=1.6.3->tensorboard>=2.9.1->stable-baselines3[extra]>=2.0.0a5->finrl==0.3.6) (5.3.1)\r\n",
      "Requirement already satisfied: pyasn1-modules>=0.2.1 in /home/james/miniconda3/envs/algo310/lib/python3.10/site-packages (from google-auth<3,>=1.6.3->tensorboard>=2.9.1->stable-baselines3[extra]>=2.0.0a5->finrl==0.3.6) (0.3.0)\r\n",
      "Requirement already satisfied: rsa<5,>=3.1.4 in /home/james/miniconda3/envs/algo310/lib/python3.10/site-packages (from google-auth<3,>=1.6.3->tensorboard>=2.9.1->stable-baselines3[extra]>=2.0.0a5->finrl==0.3.6) (4.9)\r\n",
      "Requirement already satisfied: requests-oauthlib>=0.7.0 in /home/james/miniconda3/envs/algo310/lib/python3.10/site-packages (from google-auth-oauthlib<1.1,>=0.5->tensorboard>=2.9.1->stable-baselines3[extra]>=2.0.0a5->finrl==0.3.6) (1.3.1)\r\n",
      "Requirement already satisfied: parso<0.9.0,>=0.8.0 in /home/james/miniconda3/envs/algo310/lib/python3.10/site-packages (from jedi>=0.16->ipython>=3.2.3->pyfolio<0.10,>=0.9->finrl==0.3.6) (0.8.3)\r\n",
      "Requirement already satisfied: mdurl~=0.1 in /home/james/miniconda3/envs/algo310/lib/python3.10/site-packages (from markdown-it-py>=2.2.0->rich->stable-baselines3[extra]>=2.0.0a5->finrl==0.3.6) (0.1.2)\r\n",
      "Requirement already satisfied: qdldl in /home/james/miniconda3/envs/algo310/lib/python3.10/site-packages (from osqp>=0.4.1->cvxpy<2.0.0,>=1.1.19->pyportfolioopt<2,>=1->finrl==0.3.6) (0.1.7.post0)\r\n",
      "Requirement already satisfied: ptyprocess>=0.5 in /home/james/miniconda3/envs/algo310/lib/python3.10/site-packages (from pexpect>4.3->ipython>=3.2.3->pyfolio<0.10,>=0.9->finrl==0.3.6) (0.7.0)\r\n",
      "Requirement already satisfied: MarkupSafe>=2.1.1 in /home/james/miniconda3/envs/algo310/lib/python3.10/site-packages (from werkzeug>=1.0.1->tensorboard>=2.9.1->stable-baselines3[extra]>=2.0.0a5->finrl==0.3.6) (2.1.1)\r\n",
      "Requirement already satisfied: executing in /home/james/miniconda3/envs/algo310/lib/python3.10/site-packages (from stack-data->ipython>=3.2.3->pyfolio<0.10,>=0.9->finrl==0.3.6) (0.8.3)\r\n",
      "Requirement already satisfied: asttokens in /home/james/miniconda3/envs/algo310/lib/python3.10/site-packages (from stack-data->ipython>=3.2.3->pyfolio<0.10,>=0.9->finrl==0.3.6) (2.0.5)\r\n",
      "Requirement already satisfied: pure-eval in /home/james/miniconda3/envs/algo310/lib/python3.10/site-packages (from stack-data->ipython>=3.2.3->pyfolio<0.10,>=0.9->finrl==0.3.6) (0.2.2)\r\n",
      "Requirement already satisfied: mpmath>=0.19 in /home/james/miniconda3/envs/algo310/lib/python3.10/site-packages (from sympy->torch>=1.11->stable-baselines3[extra]>=2.0.0a5->finrl==0.3.6) (1.3.0)\r\n",
      "Requirement already satisfied: pyasn1<0.6.0,>=0.4.6 in /home/james/miniconda3/envs/algo310/lib/python3.10/site-packages (from pyasn1-modules>=0.2.1->google-auth<3,>=1.6.3->tensorboard>=2.9.1->stable-baselines3[extra]>=2.0.0a5->finrl==0.3.6) (0.5.0)\r\n",
      "Requirement already satisfied: oauthlib>=3.0.0 in /home/james/miniconda3/envs/algo310/lib/python3.10/site-packages (from requests-oauthlib>=0.7.0->google-auth-oauthlib<1.1,>=0.5->tensorboard>=2.9.1->stable-baselines3[extra]>=2.0.0a5->finrl==0.3.6) (3.2.2)\r\n"
     ]
    }
   ]
  },
  {
   "cell_type": "code",
   "source": [
    "import pandas as pd\n",
    "\n",
    "from finrl.meta.preprocessor.preprocessors import FeatureEngineer, data_split\n",
    "from finrl.meta.env_stock_trading.env_stocktrading import StockTradingEnv\n",
    "from finrl.agents.stablebaselines3.models import DRLAgent\n",
    "from stable_baselines3.common.logger import configure\n",
    "from finrl.meta.data_processor import DataProcessor"
   ],
   "metadata": {
    "id": "xt1317y2ixSS",
    "ExecuteTime": {
     "end_time": "2023-07-07T01:58:47.604849099Z",
     "start_time": "2023-07-07T01:58:46.036816785Z"
    }
   },
   "execution_count": 2,
   "outputs": [
    {
     "ename": "ImportError",
     "evalue": "cannot import name 'COMMON_SAFE_ASCII_CHARACTERS' from 'charset_normalizer.constant' (/home/james/miniconda3/envs/algo310/lib/python3.10/site-packages/charset_normalizer/constant.py)",
     "output_type": "error",
     "traceback": [
      "\u001B[0;31m---------------------------------------------------------------------------\u001B[0m",
      "\u001B[0;31mModuleNotFoundError\u001B[0m                       Traceback (most recent call last)",
      "File \u001B[0;32m~/miniconda3/envs/algo310/lib/python3.10/site-packages/requests/compat.py:11\u001B[0m\n\u001B[1;32m     10\u001B[0m \u001B[38;5;28;01mtry\u001B[39;00m:\n\u001B[0;32m---> 11\u001B[0m     \u001B[38;5;28;01mimport\u001B[39;00m \u001B[38;5;21;01mchardet\u001B[39;00m\n\u001B[1;32m     12\u001B[0m \u001B[38;5;28;01mexcept\u001B[39;00m \u001B[38;5;167;01mImportError\u001B[39;00m:\n",
      "\u001B[0;31mModuleNotFoundError\u001B[0m: No module named 'chardet'",
      "\nDuring handling of the above exception, another exception occurred:\n",
      "\u001B[0;31mImportError\u001B[0m                               Traceback (most recent call last)",
      "Cell \u001B[0;32mIn[2], line 3\u001B[0m\n\u001B[1;32m      1\u001B[0m \u001B[38;5;28;01mimport\u001B[39;00m \u001B[38;5;21;01mpandas\u001B[39;00m \u001B[38;5;28;01mas\u001B[39;00m \u001B[38;5;21;01mpd\u001B[39;00m\n\u001B[0;32m----> 3\u001B[0m \u001B[38;5;28;01mfrom\u001B[39;00m \u001B[38;5;21;01mfinrl\u001B[39;00m\u001B[38;5;21;01m.\u001B[39;00m\u001B[38;5;21;01mmeta\u001B[39;00m\u001B[38;5;21;01m.\u001B[39;00m\u001B[38;5;21;01mpreprocessor\u001B[39;00m\u001B[38;5;21;01m.\u001B[39;00m\u001B[38;5;21;01mpreprocessors\u001B[39;00m \u001B[38;5;28;01mimport\u001B[39;00m FeatureEngineer, data_split\n\u001B[1;32m      4\u001B[0m \u001B[38;5;28;01mfrom\u001B[39;00m \u001B[38;5;21;01mfinrl\u001B[39;00m\u001B[38;5;21;01m.\u001B[39;00m\u001B[38;5;21;01mmeta\u001B[39;00m\u001B[38;5;21;01m.\u001B[39;00m\u001B[38;5;21;01menv_stock_trading\u001B[39;00m\u001B[38;5;21;01m.\u001B[39;00m\u001B[38;5;21;01menv_stocktrading\u001B[39;00m \u001B[38;5;28;01mimport\u001B[39;00m StockTradingEnv\n\u001B[1;32m      5\u001B[0m \u001B[38;5;28;01mfrom\u001B[39;00m \u001B[38;5;21;01mfinrl\u001B[39;00m\u001B[38;5;21;01m.\u001B[39;00m\u001B[38;5;21;01magents\u001B[39;00m\u001B[38;5;21;01m.\u001B[39;00m\u001B[38;5;21;01mstablebaselines3\u001B[39;00m\u001B[38;5;21;01m.\u001B[39;00m\u001B[38;5;21;01mmodels\u001B[39;00m \u001B[38;5;28;01mimport\u001B[39;00m DRLAgent\n",
      "File \u001B[0;32m~/Sync/Python_Dev/FinRL_JDB/finrl/__init__.py:4\u001B[0m\n\u001B[1;32m      1\u001B[0m \u001B[38;5;28;01mfrom\u001B[39;00m \u001B[38;5;21;01m__future__\u001B[39;00m \u001B[38;5;28;01mimport\u001B[39;00m annotations\n\u001B[1;32m      3\u001B[0m \u001B[38;5;28;01mfrom\u001B[39;00m \u001B[38;5;21;01mfinrl\u001B[39;00m\u001B[38;5;21;01m.\u001B[39;00m\u001B[38;5;21;01mtest\u001B[39;00m \u001B[38;5;28;01mimport\u001B[39;00m test\n\u001B[0;32m----> 4\u001B[0m \u001B[38;5;28;01mfrom\u001B[39;00m \u001B[38;5;21;01mfinrl\u001B[39;00m\u001B[38;5;21;01m.\u001B[39;00m\u001B[38;5;21;01mtrade\u001B[39;00m \u001B[38;5;28;01mimport\u001B[39;00m trade\n\u001B[1;32m      5\u001B[0m \u001B[38;5;28;01mfrom\u001B[39;00m \u001B[38;5;21;01mfinrl\u001B[39;00m\u001B[38;5;21;01m.\u001B[39;00m\u001B[38;5;21;01mtrain\u001B[39;00m \u001B[38;5;28;01mimport\u001B[39;00m train\n",
      "File \u001B[0;32m~/Sync/Python_Dev/FinRL_JDB/finrl/trade.py:3\u001B[0m\n\u001B[1;32m      1\u001B[0m \u001B[38;5;28;01mfrom\u001B[39;00m \u001B[38;5;21;01m__future__\u001B[39;00m \u001B[38;5;28;01mimport\u001B[39;00m annotations\n\u001B[0;32m----> 3\u001B[0m \u001B[38;5;28;01mfrom\u001B[39;00m \u001B[38;5;21;01mfinrl\u001B[39;00m\u001B[38;5;21;01m.\u001B[39;00m\u001B[38;5;21;01mmeta\u001B[39;00m\u001B[38;5;21;01m.\u001B[39;00m\u001B[38;5;21;01menv_stock_trading\u001B[39;00m\u001B[38;5;21;01m.\u001B[39;00m\u001B[38;5;21;01menv_stock_papertrading\u001B[39;00m \u001B[38;5;28;01mimport\u001B[39;00m AlpacaPaperTrading\n\u001B[1;32m      4\u001B[0m \u001B[38;5;28;01mfrom\u001B[39;00m \u001B[38;5;21;01mfinrl\u001B[39;00m\u001B[38;5;21;01m.\u001B[39;00m\u001B[38;5;21;01mtest\u001B[39;00m \u001B[38;5;28;01mimport\u001B[39;00m test\n\u001B[1;32m      7\u001B[0m \u001B[38;5;28;01mdef\u001B[39;00m \u001B[38;5;21mtrade\u001B[39m(\n\u001B[1;32m      8\u001B[0m     start_date,\n\u001B[1;32m      9\u001B[0m     end_date,\n\u001B[0;32m   (...)\u001B[0m\n\u001B[1;32m     22\u001B[0m     \u001B[38;5;241m*\u001B[39m\u001B[38;5;241m*\u001B[39mkwargs,\n\u001B[1;32m     23\u001B[0m ):\n",
      "File \u001B[0;32m~/Sync/Python_Dev/FinRL_JDB/finrl/meta/env_stock_trading/env_stock_papertrading.py:7\u001B[0m\n\u001B[1;32m      4\u001B[0m \u001B[38;5;28;01mimport\u001B[39;00m \u001B[38;5;21;01mthreading\u001B[39;00m\n\u001B[1;32m      5\u001B[0m \u001B[38;5;28;01mimport\u001B[39;00m \u001B[38;5;21;01mtime\u001B[39;00m\n\u001B[0;32m----> 7\u001B[0m \u001B[38;5;28;01mimport\u001B[39;00m \u001B[38;5;21;01malpaca_trade_api\u001B[39;00m \u001B[38;5;28;01mas\u001B[39;00m \u001B[38;5;21;01mtradeapi\u001B[39;00m\n\u001B[1;32m      8\u001B[0m \u001B[38;5;28;01mimport\u001B[39;00m \u001B[38;5;21;01mgymnasium\u001B[39;00m \u001B[38;5;28;01mas\u001B[39;00m \u001B[38;5;21;01mgym\u001B[39;00m\n\u001B[1;32m      9\u001B[0m \u001B[38;5;28;01mimport\u001B[39;00m \u001B[38;5;21;01mnumpy\u001B[39;00m \u001B[38;5;28;01mas\u001B[39;00m \u001B[38;5;21;01mnp\u001B[39;00m\n",
      "File \u001B[0;32m~/miniconda3/envs/algo310/lib/python3.10/site-packages/alpaca_trade_api/__init__.py:3\u001B[0m\n\u001B[1;32m      1\u001B[0m __version__ \u001B[38;5;241m=\u001B[39m \u001B[38;5;124m'\u001B[39m\u001B[38;5;124m3.0.2\u001B[39m\u001B[38;5;124m'\u001B[39m\n\u001B[0;32m----> 3\u001B[0m \u001B[38;5;28;01mfrom\u001B[39;00m \u001B[38;5;21;01m.\u001B[39;00m\u001B[38;5;21;01mrest\u001B[39;00m \u001B[38;5;28;01mimport\u001B[39;00m REST, TimeFrame, TimeFrameUnit  \u001B[38;5;66;03m# noqa\u001B[39;00m\n\u001B[1;32m      4\u001B[0m \u001B[38;5;28;01mfrom\u001B[39;00m \u001B[38;5;21;01m.\u001B[39;00m\u001B[38;5;21;01mrest_async\u001B[39;00m \u001B[38;5;28;01mimport\u001B[39;00m AsyncRest  \u001B[38;5;66;03m# noqa\u001B[39;00m\n\u001B[1;32m      5\u001B[0m \u001B[38;5;28;01mfrom\u001B[39;00m \u001B[38;5;21;01m.\u001B[39;00m\u001B[38;5;21;01mstream\u001B[39;00m \u001B[38;5;28;01mimport\u001B[39;00m Stream\n",
      "File \u001B[0;32m~/miniconda3/envs/algo310/lib/python3.10/site-packages/alpaca_trade_api/rest.py:4\u001B[0m\n\u001B[1;32m      2\u001B[0m \u001B[38;5;28;01mimport\u001B[39;00m \u001B[38;5;21;01mos\u001B[39;00m\n\u001B[1;32m      3\u001B[0m \u001B[38;5;28;01mfrom\u001B[39;00m \u001B[38;5;21;01mtyping\u001B[39;00m \u001B[38;5;28;01mimport\u001B[39;00m Iterator, List, Optional, Union\n\u001B[0;32m----> 4\u001B[0m \u001B[38;5;28;01mimport\u001B[39;00m \u001B[38;5;21;01mrequests\u001B[39;00m\n\u001B[1;32m      5\u001B[0m \u001B[38;5;28;01mfrom\u001B[39;00m \u001B[38;5;21;01mrequests\u001B[39;00m\u001B[38;5;21;01m.\u001B[39;00m\u001B[38;5;21;01mexceptions\u001B[39;00m \u001B[38;5;28;01mimport\u001B[39;00m HTTPError\n\u001B[1;32m      6\u001B[0m \u001B[38;5;28;01mimport\u001B[39;00m \u001B[38;5;21;01mtime\u001B[39;00m\n",
      "File \u001B[0;32m~/miniconda3/envs/algo310/lib/python3.10/site-packages/requests/__init__.py:45\u001B[0m\n\u001B[1;32m     41\u001B[0m \u001B[38;5;28;01mimport\u001B[39;00m \u001B[38;5;21;01mwarnings\u001B[39;00m\n\u001B[1;32m     43\u001B[0m \u001B[38;5;28;01mimport\u001B[39;00m \u001B[38;5;21;01murllib3\u001B[39;00m\n\u001B[0;32m---> 45\u001B[0m \u001B[38;5;28;01mfrom\u001B[39;00m \u001B[38;5;21;01m.\u001B[39;00m\u001B[38;5;21;01mexceptions\u001B[39;00m \u001B[38;5;28;01mimport\u001B[39;00m RequestsDependencyWarning\n\u001B[1;32m     47\u001B[0m \u001B[38;5;28;01mtry\u001B[39;00m:\n\u001B[1;32m     48\u001B[0m     \u001B[38;5;28;01mfrom\u001B[39;00m \u001B[38;5;21;01mcharset_normalizer\u001B[39;00m \u001B[38;5;28;01mimport\u001B[39;00m __version__ \u001B[38;5;28;01mas\u001B[39;00m charset_normalizer_version\n",
      "File \u001B[0;32m~/miniconda3/envs/algo310/lib/python3.10/site-packages/requests/exceptions.py:9\u001B[0m\n\u001B[1;32m      1\u001B[0m \u001B[38;5;124;03m\"\"\"\u001B[39;00m\n\u001B[1;32m      2\u001B[0m \u001B[38;5;124;03mrequests.exceptions\u001B[39;00m\n\u001B[1;32m      3\u001B[0m \u001B[38;5;124;03m~~~~~~~~~~~~~~~~~~~\u001B[39;00m\n\u001B[1;32m      4\u001B[0m \n\u001B[1;32m      5\u001B[0m \u001B[38;5;124;03mThis module contains the set of Requests' exceptions.\u001B[39;00m\n\u001B[1;32m      6\u001B[0m \u001B[38;5;124;03m\"\"\"\u001B[39;00m\n\u001B[1;32m      7\u001B[0m \u001B[38;5;28;01mfrom\u001B[39;00m \u001B[38;5;21;01murllib3\u001B[39;00m\u001B[38;5;21;01m.\u001B[39;00m\u001B[38;5;21;01mexceptions\u001B[39;00m \u001B[38;5;28;01mimport\u001B[39;00m HTTPError \u001B[38;5;28;01mas\u001B[39;00m BaseHTTPError\n\u001B[0;32m----> 9\u001B[0m \u001B[38;5;28;01mfrom\u001B[39;00m \u001B[38;5;21;01m.\u001B[39;00m\u001B[38;5;21;01mcompat\u001B[39;00m \u001B[38;5;28;01mimport\u001B[39;00m JSONDecodeError \u001B[38;5;28;01mas\u001B[39;00m CompatJSONDecodeError\n\u001B[1;32m     12\u001B[0m \u001B[38;5;28;01mclass\u001B[39;00m \u001B[38;5;21;01mRequestException\u001B[39;00m(\u001B[38;5;167;01mIOError\u001B[39;00m):\n\u001B[1;32m     13\u001B[0m \u001B[38;5;250m    \u001B[39m\u001B[38;5;124;03m\"\"\"There was an ambiguous exception that occurred while handling your\u001B[39;00m\n\u001B[1;32m     14\u001B[0m \u001B[38;5;124;03m    request.\u001B[39;00m\n\u001B[1;32m     15\u001B[0m \u001B[38;5;124;03m    \"\"\"\u001B[39;00m\n",
      "File \u001B[0;32m~/miniconda3/envs/algo310/lib/python3.10/site-packages/requests/compat.py:13\u001B[0m\n\u001B[1;32m     11\u001B[0m     \u001B[38;5;28;01mimport\u001B[39;00m \u001B[38;5;21;01mchardet\u001B[39;00m\n\u001B[1;32m     12\u001B[0m \u001B[38;5;28;01mexcept\u001B[39;00m \u001B[38;5;167;01mImportError\u001B[39;00m:\n\u001B[0;32m---> 13\u001B[0m     \u001B[38;5;28;01mimport\u001B[39;00m \u001B[38;5;21;01mcharset_normalizer\u001B[39;00m \u001B[38;5;28;01mas\u001B[39;00m \u001B[38;5;21;01mchardet\u001B[39;00m\n\u001B[1;32m     15\u001B[0m \u001B[38;5;28;01mimport\u001B[39;00m \u001B[38;5;21;01msys\u001B[39;00m\n\u001B[1;32m     17\u001B[0m \u001B[38;5;66;03m# -------\u001B[39;00m\n\u001B[1;32m     18\u001B[0m \u001B[38;5;66;03m# Pythons\u001B[39;00m\n\u001B[1;32m     19\u001B[0m \u001B[38;5;66;03m# -------\u001B[39;00m\n\u001B[1;32m     20\u001B[0m \n\u001B[1;32m     21\u001B[0m \u001B[38;5;66;03m# Syntax sugar.\u001B[39;00m\n",
      "File \u001B[0;32m~/miniconda3/envs/algo310/lib/python3.10/site-packages/charset_normalizer/__init__.py:23\u001B[0m\n\u001B[1;32m      1\u001B[0m \u001B[38;5;124;03m\"\"\"\u001B[39;00m\n\u001B[1;32m      2\u001B[0m \u001B[38;5;124;03mCharset-Normalizer\u001B[39;00m\n\u001B[1;32m      3\u001B[0m \u001B[38;5;124;03m~~~~~~~~~~~~~~\u001B[39;00m\n\u001B[0;32m   (...)\u001B[0m\n\u001B[1;32m     21\u001B[0m \u001B[38;5;124;03m:license: MIT, see LICENSE for more details.\u001B[39;00m\n\u001B[1;32m     22\u001B[0m \u001B[38;5;124;03m\"\"\"\u001B[39;00m\n\u001B[0;32m---> 23\u001B[0m \u001B[38;5;28;01mfrom\u001B[39;00m \u001B[38;5;21;01mcharset_normalizer\u001B[39;00m\u001B[38;5;21;01m.\u001B[39;00m\u001B[38;5;21;01mapi\u001B[39;00m \u001B[38;5;28;01mimport\u001B[39;00m from_fp, from_path, from_bytes, normalize\n\u001B[1;32m     24\u001B[0m \u001B[38;5;28;01mfrom\u001B[39;00m \u001B[38;5;21;01mcharset_normalizer\u001B[39;00m\u001B[38;5;21;01m.\u001B[39;00m\u001B[38;5;21;01mlegacy\u001B[39;00m \u001B[38;5;28;01mimport\u001B[39;00m detect\n\u001B[1;32m     25\u001B[0m \u001B[38;5;28;01mfrom\u001B[39;00m \u001B[38;5;21;01mcharset_normalizer\u001B[39;00m\u001B[38;5;21;01m.\u001B[39;00m\u001B[38;5;21;01mversion\u001B[39;00m \u001B[38;5;28;01mimport\u001B[39;00m __version__, VERSION\n",
      "File \u001B[0;32m~/miniconda3/envs/algo310/lib/python3.10/site-packages/charset_normalizer/api.py:10\u001B[0m\n\u001B[1;32m      7\u001B[0m     PathLike \u001B[38;5;241m=\u001B[39m Union[\u001B[38;5;28mstr\u001B[39m, \u001B[38;5;124m'\u001B[39m\u001B[38;5;124mos.PathLike[str]\u001B[39m\u001B[38;5;124m'\u001B[39m]  \u001B[38;5;66;03m# type: ignore\u001B[39;00m\n\u001B[1;32m      9\u001B[0m \u001B[38;5;28;01mfrom\u001B[39;00m \u001B[38;5;21;01mcharset_normalizer\u001B[39;00m\u001B[38;5;21;01m.\u001B[39;00m\u001B[38;5;21;01mconstant\u001B[39;00m \u001B[38;5;28;01mimport\u001B[39;00m TOO_SMALL_SEQUENCE, TOO_BIG_SEQUENCE, IANA_SUPPORTED\n\u001B[0;32m---> 10\u001B[0m \u001B[38;5;28;01mfrom\u001B[39;00m \u001B[38;5;21;01mcharset_normalizer\u001B[39;00m\u001B[38;5;21;01m.\u001B[39;00m\u001B[38;5;21;01mmd\u001B[39;00m \u001B[38;5;28;01mimport\u001B[39;00m mess_ratio\n\u001B[1;32m     11\u001B[0m \u001B[38;5;28;01mfrom\u001B[39;00m \u001B[38;5;21;01mcharset_normalizer\u001B[39;00m\u001B[38;5;21;01m.\u001B[39;00m\u001B[38;5;21;01mmodels\u001B[39;00m \u001B[38;5;28;01mimport\u001B[39;00m CharsetMatches, CharsetMatch\n\u001B[1;32m     12\u001B[0m \u001B[38;5;28;01mfrom\u001B[39;00m \u001B[38;5;21;01mwarnings\u001B[39;00m \u001B[38;5;28;01mimport\u001B[39;00m warn\n",
      "File \u001B[0;32m~/miniconda3/envs/algo310/lib/python3.10/site-packages/charset_normalizer/md.py:5\u001B[0m\n\u001B[1;32m      2\u001B[0m \u001B[38;5;28;01mfrom\u001B[39;00m \u001B[38;5;21;01mtyping\u001B[39;00m \u001B[38;5;28;01mimport\u001B[39;00m Optional, List\n\u001B[1;32m      4\u001B[0m \u001B[38;5;28;01mfrom\u001B[39;00m \u001B[38;5;21;01mcharset_normalizer\u001B[39;00m\u001B[38;5;21;01m.\u001B[39;00m\u001B[38;5;21;01mconstant\u001B[39;00m \u001B[38;5;28;01mimport\u001B[39;00m UNICODE_SECONDARY_RANGE_KEYWORD\n\u001B[0;32m----> 5\u001B[0m \u001B[38;5;28;01mfrom\u001B[39;00m \u001B[38;5;21;01mcharset_normalizer\u001B[39;00m\u001B[38;5;21;01m.\u001B[39;00m\u001B[38;5;21;01mutils\u001B[39;00m \u001B[38;5;28;01mimport\u001B[39;00m is_punctuation, is_symbol, unicode_range, is_accentuated, is_latin, \\\n\u001B[1;32m      6\u001B[0m     remove_accent, is_separator, is_cjk, is_case_variable, is_hangul, is_katakana, is_hiragana, is_ascii, is_thai\n\u001B[1;32m      9\u001B[0m \u001B[38;5;28;01mclass\u001B[39;00m \u001B[38;5;21;01mMessDetectorPlugin\u001B[39;00m:\n\u001B[1;32m     10\u001B[0m \u001B[38;5;250m    \u001B[39m\u001B[38;5;124;03m\"\"\"\u001B[39;00m\n\u001B[1;32m     11\u001B[0m \u001B[38;5;124;03m    Base abstract class used for mess detection plugins.\u001B[39;00m\n\u001B[1;32m     12\u001B[0m \u001B[38;5;124;03m    All detectors MUST extend and implement given methods.\u001B[39;00m\n\u001B[1;32m     13\u001B[0m \u001B[38;5;124;03m    \"\"\"\u001B[39;00m\n",
      "\u001B[0;31mImportError\u001B[0m: cannot import name 'COMMON_SAFE_ASCII_CHARACTERS' from 'charset_normalizer.constant' (/home/james/miniconda3/envs/algo310/lib/python3.10/site-packages/charset_normalizer/constant.py)"
     ]
    }
   ]
  },
  {
   "cell_type": "code",
   "source": [
    "from finrl import config\n",
    "from finrl import config_tickers\n",
    "import os\n",
    "from finrl.main import check_and_make_directories\n",
    "from finrl.config import (\n",
    "    DATA_SAVE_DIR,\n",
    "    TRAINED_MODEL_DIR,\n",
    "    TENSORBOARD_LOG_DIR,\n",
    "    RESULTS_DIR,\n",
    "    INDICATORS,\n",
    "    TRAIN_START_DATE,\n",
    "    TRAIN_END_DATE,\n",
    "    TEST_START_DATE,\n",
    "    TEST_END_DATE,\n",
    "    TRADE_START_DATE,\n",
    "    TRADE_END_DATE,\n",
    ")\n",
    "check_and_make_directories([DATA_SAVE_DIR, TRAINED_MODEL_DIR, TENSORBOARD_LOG_DIR, RESULTS_DIR])"
   ],
   "metadata": {
    "id": "wZ7Bl7i6I2AM"
   },
   "execution_count": null,
   "outputs": []
  },
  {
   "cell_type": "markdown",
   "source": [
    "# Part 2. Build A Market Environment in OpenAI Gym-style"
   ],
   "metadata": {
    "id": "aWrSrQv3i0Ng"
   }
  },
  {
   "cell_type": "code",
   "source": [
    "processed_full = pd.read_csv('full_data.csv')"
   ],
   "metadata": {
    "id": "mFCP1YEhi6oi"
   },
   "execution_count": null,
   "outputs": []
  },
  {
   "cell_type": "code",
   "source": [
    "processed_full.head()"
   ],
   "metadata": {
    "colab": {
     "base_uri": "https://localhost:8080/",
     "height": 357
    },
    "id": "1leIVVljwRGP",
    "outputId": "404200e4-0cf1-4244-d662-d95feda5e2ae"
   },
   "execution_count": null,
   "outputs": []
  },
  {
   "cell_type": "code",
   "source": [
    "TRAIN_START_DATE = '2009-01-01'\n",
    "TRAIN_END_DATE = '2020-07-01'\n",
    "TRADE_START_DATE = '2020-07-01'\n",
    "TRADE_END_DATE = '2021-10-29'"
   ],
   "metadata": {
    "id": "kok_6bA8yrdy"
   },
   "execution_count": null,
   "outputs": []
  },
  {
   "cell_type": "code",
   "execution_count": null,
   "metadata": {
    "colab": {
     "base_uri": "https://localhost:8080/"
    },
    "id": "wVpvBNnLIajN",
    "outputId": "e16cb4e1-5d16-439a-ae65-7fd206213c31"
   },
   "outputs": [],
   "source": [
    "train = data_split(processed_full, TRAIN_START_DATE,TRAIN_END_DATE)\n",
    "trade = data_split(processed_full, TRADE_START_DATE,TRADE_END_DATE)\n",
    "print(len(train))\n",
    "print(len(trade))"
   ]
  },
  {
   "cell_type": "code",
   "source": [
    "type(trade)"
   ],
   "metadata": {
    "colab": {
     "base_uri": "https://localhost:8080/"
    },
    "id": "1i2ejloo2Gza",
    "outputId": "2132b059-a540-40b3-bc70-c6ce8eea2a55"
   },
   "execution_count": null,
   "outputs": []
  },
  {
   "cell_type": "code",
   "source": [
    "trade.to_csv('trade_data.csv', index=False)"
   ],
   "metadata": {
    "id": "6PBJbcA2qntO"
   },
   "execution_count": null,
   "outputs": []
  },
  {
   "cell_type": "code",
   "source": [
    "INDICATORS"
   ],
   "metadata": {
    "colab": {
     "base_uri": "https://localhost:8080/"
    },
    "id": "pwk32SeKJGWZ",
    "outputId": "376abffd-952f-4036-e31f-6fdb2e29d92b"
   },
   "execution_count": null,
   "outputs": []
  },
  {
   "cell_type": "code",
   "source": [
    "stock_dimension = len(train.tic.unique())\n",
    "state_space = 1 + 2*stock_dimension + len(INDICATORS)*stock_dimension\n",
    "print(f\"Stock Dimension: {stock_dimension}, State Space: {state_space}\")"
   ],
   "metadata": {
    "colab": {
     "base_uri": "https://localhost:8080/"
    },
    "id": "7T3DZPoaIm8k",
    "outputId": "d01a6ac6-d7d1-48ce-b21a-1114f6206ea1"
   },
   "execution_count": null,
   "outputs": []
  },
  {
   "cell_type": "code",
   "source": [
    "buy_cost_list = sell_cost_list = [0.001] * stock_dimension\n",
    "num_stock_shares = [0] * stock_dimension\n",
    "\n",
    "env_kwargs = {\n",
    "    \"hmax\": 100,\n",
    "    \"initial_amount\": 1000000,\n",
    "    \"num_stock_shares\": num_stock_shares,\n",
    "    \"buy_cost_pct\": buy_cost_list,\n",
    "    \"sell_cost_pct\": sell_cost_list,\n",
    "    \"state_space\": state_space,\n",
    "    \"stock_dim\": stock_dimension,\n",
    "    \"tech_indicator_list\": INDICATORS,\n",
    "    \"action_space\": stock_dimension,\n",
    "    \"reward_scaling\": 1e-4\n",
    "}\n",
    "\n",
    "\n",
    "e_train_gym = StockTradingEnv(df = train, **env_kwargs)"
   ],
   "metadata": {
    "id": "WsOLoeNcJF8Q"
   },
   "execution_count": null,
   "outputs": []
  },
  {
   "cell_type": "markdown",
   "source": [
    "## Environment for training"
   ],
   "metadata": {
    "id": "7We-q73jjaFQ"
   }
  },
  {
   "cell_type": "code",
   "source": [
    "env_train, _ = e_train_gym.get_sb_env()\n",
    "print(type(env_train))"
   ],
   "metadata": {
    "colab": {
     "base_uri": "https://localhost:8080/"
    },
    "id": "aS-SHiGRJK-4",
    "outputId": "2c653148-6a0d-4fed-b979-a1ac74a01245"
   },
   "execution_count": null,
   "outputs": []
  },
  {
   "cell_type": "markdown",
   "metadata": {
    "id": "HMNR5nHjh1iz"
   },
   "source": [
    "# Part 3: Train DRL Agents\n",
    "* The DRL algorithms are from **Stable Baselines 3**. Users are also encouraged to try **ElegantRL** and **Ray RLlib**.\n",
    "* FinRL includes fine-tuned standard DRL algorithms, such as DQN, DDPG, Multi-Agent DDPG, PPO, SAC, A2C and TD3. We also allow users to\n",
    "design their own DRL algorithms by adapting these DRL algorithms."
   ]
  },
  {
   "cell_type": "code",
   "execution_count": null,
   "metadata": {
    "id": "364PsqckttcQ"
   },
   "outputs": [],
   "source": [
    "agent = DRLAgent(env = env_train)\n",
    "\n",
    "if_using_a2c = True\n",
    "if_using_ddpg = False\n",
    "if_using_ppo = False\n",
    "if_using_td3 = False\n",
    "if_using_sac = False"
   ]
  },
  {
   "cell_type": "markdown",
   "metadata": {
    "id": "YDmqOyF9h1iz"
   },
   "source": [
    "### Agent Training: 5 algorithms (A2C, DDPG, PPO, TD3, SAC)\n"
   ]
  },
  {
   "cell_type": "markdown",
   "metadata": {
    "id": "uijiWgkuh1jB"
   },
   "source": [
    "### Agent 1: A2C\n"
   ]
  },
  {
   "cell_type": "code",
   "execution_count": null,
   "metadata": {
    "id": "GUCnkn-HIbmj",
    "colab": {
     "base_uri": "https://localhost:8080/"
    },
    "outputId": "6c0171d7-49bf-45da-8b35-2141a136f8b7"
   },
   "outputs": [],
   "source": [
    "agent = DRLAgent(env = env_train)\n",
    "model_a2c = agent.get_model(\"a2c\")\n",
    "\n",
    "if if_using_a2c:\n",
    "  # set up logger\n",
    "  tmp_path = RESULTS_DIR + '/a2c'\n",
    "  new_logger_a2c = configure(tmp_path, [\"stdout\", \"csv\", \"tensorboard\"])\n",
    "  # Set new logger\n",
    "  model_a2c.set_logger(new_logger_a2c)\n"
   ]
  },
  {
   "cell_type": "code",
   "execution_count": null,
   "metadata": {
    "id": "0GVpkWGqH4-D",
    "colab": {
     "base_uri": "https://localhost:8080/"
    },
    "outputId": "30f11a61-f775-4483-c5ae-25c195cc76d3"
   },
   "outputs": [],
   "source": [
    "trained_a2c = agent.train_model(model=model_a2c, \n",
    "                             tb_log_name='a2c',\n",
    "                             total_timesteps=80000) if if_using_a2c else None"
   ]
  },
  {
   "cell_type": "code",
   "source": [
    "trained_a2c.save(\"agent_a2c\")"
   ],
   "metadata": {
    "id": "zjCWfgsg3sVa"
   },
   "execution_count": null,
   "outputs": []
  },
  {
   "cell_type": "markdown",
   "metadata": {
    "id": "MRiOtrywfAo1"
   },
   "source": [
    "### Agent 2: DDPG"
   ]
  },
  {
   "cell_type": "code",
   "execution_count": null,
   "metadata": {
    "id": "M2YadjfnLwgt",
    "colab": {
     "base_uri": "https://localhost:8080/"
    },
    "outputId": "3a90cba8-5f4b-4c97-bb4d-caae8e552efa"
   },
   "outputs": [],
   "source": [
    "agent = DRLAgent(env = env_train)\n",
    "model_ddpg = agent.get_model(\"ddpg\")\n",
    "\n",
    "if if_using_ddpg:\n",
    "  # set up logger\n",
    "  tmp_path = RESULTS_DIR + '/ddpg'\n",
    "  new_logger_ddpg = configure(tmp_path, [\"stdout\", \"csv\", \"tensorboard\"])\n",
    "  # Set new logger\n",
    "  model_ddpg.set_logger(new_logger_ddpg)"
   ]
  },
  {
   "cell_type": "code",
   "execution_count": null,
   "metadata": {
    "id": "tCDa78rqfO_a"
   },
   "outputs": [],
   "source": [
    "trained_ddpg = agent.train_model(model=model_ddpg, \n",
    "                             tb_log_name='ddpg',\n",
    "                             total_timesteps=50000) if if_using_ddpg else None"
   ]
  },
  {
   "cell_type": "markdown",
   "metadata": {
    "id": "_gDkU-j-fCmZ"
   },
   "source": [
    "### Agent 3: PPO"
   ]
  },
  {
   "cell_type": "code",
   "execution_count": null,
   "metadata": {
    "id": "y5D5PFUhMzSV",
    "colab": {
     "base_uri": "https://localhost:8080/"
    },
    "outputId": "da76b470-963b-43bd-fe73-681cf17d40ab"
   },
   "outputs": [],
   "source": [
    "agent = DRLAgent(env = env_train)\n",
    "# PPO_PARAMS = {\n",
    "#     \"n_steps\": 2048,\n",
    "#     \"ent_coef\": 0.01,\n",
    "#     \"learning_rate\": 0.00045,\n",
    "#     \"batch_size\": 128,\n",
    "# }\n",
    "PPO_PARAMS = {\n",
    "    \"n_steps\": 512,\n",
    "    \"ent_coef\": 0.01,\n",
    "    \"learning_rate\": 0.00025,\n",
    "    \"batch_size\": 128,\n",
    "}\n",
    "model_ppo = agent.get_model(\"ppo\",model_kwargs = PPO_PARAMS)\n",
    "\n",
    "if if_using_ppo:\n",
    "  # set up logger\n",
    "  tmp_path = RESULTS_DIR + '/ppo'\n",
    "  new_logger_ppo = configure(tmp_path, [\"stdout\", \"csv\", \"tensorboard\"])\n",
    "  # Set new logger\n",
    "  model_ppo.set_logger(new_logger_ppo)"
   ]
  },
  {
   "cell_type": "code",
   "execution_count": null,
   "metadata": {
    "id": "Gt8eIQKYM4G3"
   },
   "outputs": [],
   "source": [
    "trained_ppo = agent.train_model(model=model_ppo, \n",
    "                             tb_log_name='ppo',\n",
    "                             total_timesteps=200000) if if_using_ppo else None"
   ]
  },
  {
   "cell_type": "markdown",
   "metadata": {
    "id": "3Zpv4S0-fDBv"
   },
   "source": [
    "### Agent 4: TD3"
   ]
  },
  {
   "cell_type": "code",
   "execution_count": null,
   "metadata": {
    "id": "JSAHhV4Xc-bh",
    "colab": {
     "base_uri": "https://localhost:8080/"
    },
    "outputId": "08a19fd2-4e4a-4c07-cc6a-767a29d9d87b"
   },
   "outputs": [],
   "source": [
    "agent = DRLAgent(env = env_train)\n",
    "TD3_PARAMS = {\"batch_size\": 100, \n",
    "              \"buffer_size\": 1000000, \n",
    "              \"learning_rate\": 0.001}\n",
    "\n",
    "model_td3 = agent.get_model(\"td3\",model_kwargs = TD3_PARAMS)\n",
    "\n",
    "if if_using_td3:\n",
    "  # set up logger\n",
    "  tmp_path = RESULTS_DIR + '/td3'\n",
    "  new_logger_td3 = configure(tmp_path, [\"stdout\", \"csv\", \"tensorboard\"])\n",
    "  # Set new logger\n",
    "  model_td3.set_logger(new_logger_td3)"
   ]
  },
  {
   "cell_type": "code",
   "execution_count": null,
   "metadata": {
    "id": "OSRxNYAxdKpU"
   },
   "outputs": [],
   "source": [
    "trained_td3 = agent.train_model(model=model_td3, \n",
    "                             tb_log_name='td3',\n",
    "                             total_timesteps=50000) if if_using_td3 else None"
   ]
  },
  {
   "cell_type": "markdown",
   "metadata": {
    "id": "Dr49PotrfG01"
   },
   "source": [
    "### Agent 5: SAC"
   ]
  },
  {
   "cell_type": "code",
   "execution_count": null,
   "metadata": {
    "id": "xwOhVjqRkCdM",
    "colab": {
     "base_uri": "https://localhost:8080/"
    },
    "outputId": "855c910b-c9df-451f-d389-cf3f8f0e3b9f"
   },
   "outputs": [],
   "source": [
    "agent = DRLAgent(env = env_train)\n",
    "SAC_PARAMS = {\n",
    "    \"batch_size\": 128,\n",
    "    \"buffer_size\": 100000,\n",
    "    \"learning_rate\": 0.0001,\n",
    "    \"learning_starts\": 100,\n",
    "    \"ent_coef\": \"auto_0.1\",\n",
    "}\n",
    "\n",
    "model_sac = agent.get_model(\"sac\",model_kwargs = SAC_PARAMS)\n",
    "\n",
    "if if_using_sac:\n",
    "  # set up logger\n",
    "  tmp_path = RESULTS_DIR + '/sac'\n",
    "  new_logger_sac = configure(tmp_path, [\"stdout\", \"csv\", \"tensorboard\"])\n",
    "  # Set new logger\n",
    "  model_sac.set_logger(new_logger_sac)"
   ]
  },
  {
   "cell_type": "code",
   "execution_count": null,
   "metadata": {
    "id": "K8RSdKCckJyH"
   },
   "outputs": [],
   "source": [
    "trained_sac = agent.train_model(model=model_sac, \n",
    "                             tb_log_name='sac',\n",
    "                             total_timesteps=70000) if if_using_sac else None"
   ]
  }
 ]
}
