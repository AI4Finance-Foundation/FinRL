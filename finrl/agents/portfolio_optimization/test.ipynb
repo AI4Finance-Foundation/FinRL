{
 "cells": [
  {
   "cell_type": "markdown",
   "metadata": {},
   "source": [
    "### Imports"
   ]
  },
  {
   "cell_type": "code",
   "execution_count": 1,
   "metadata": {},
   "outputs": [],
   "source": [
    "from finrl.meta.preprocessor.yahoodownloader import YahooDownloader\n",
    "from finrl.meta.env_portfolio_optimization.env_portfolio_optimization import (\n",
    "    PortfolioOptimizationEnv,\n",
    ")\n",
    "from finrl.agents.portfolio_optimization.models import DRLAgent\n",
    "from finrl.agents.portfolio_optimization.architectures import EI3, EIIE"
   ]
  },
  {
   "cell_type": "markdown",
   "metadata": {},
   "source": [
    "### Fetch data"
   ]
  },
  {
   "cell_type": "code",
   "execution_count": 2,
   "metadata": {},
   "outputs": [],
   "source": [
    "TOP_NASDAQ = [\n",
    "    \"AAPL\", \"MU\", \"CSCO\", \"MSFT\",\n",
    "    \"META\", \"QQQ\", \"CMCSA\", \"INTC\",\n",
    "    \"HBAN\",\"NVDA\"\n",
    "]"
   ]
  },
  {
   "cell_type": "code",
   "execution_count": 3,
   "metadata": {},
   "outputs": [
    {
     "name": "stdout",
     "output_type": "stream",
     "text": [
      "[*********************100%%**********************]  1 of 1 completed\n",
      "[*********************100%%**********************]  1 of 1 completed\n",
      "[*********************100%%**********************]  1 of 1 completed\n",
      "[*********************100%%**********************]  1 of 1 completed\n",
      "[*********************100%%**********************]  1 of 1 completed\n",
      "[*********************100%%**********************]  1 of 1 completed\n",
      "[*********************100%%**********************]  1 of 1 completed\n",
      "[*********************100%%**********************]  1 of 1 completed\n",
      "[*********************100%%**********************]  1 of 1 completed\n",
      "[*********************100%%**********************]  1 of 1 completed\n",
      "Shape of DataFrame:  (10080, 8)\n"
     ]
    }
   ],
   "source": [
    "df_train = YahooDownloader(start_date = '2013-01-02',\n",
    "                          end_date = '2016-12-31',\n",
    "                          ticker_list = TOP_NASDAQ).fetch_data()\n",
    "df_train = df_train[[\"date\", \"tic\", \"close\", \"high\", \"low\"]]"
   ]
  },
  {
   "cell_type": "code",
   "execution_count": 4,
   "metadata": {},
   "outputs": [
    {
     "data": {
      "text/html": [
       "<div>\n",
       "<style scoped>\n",
       "    .dataframe tbody tr th:only-of-type {\n",
       "        vertical-align: middle;\n",
       "    }\n",
       "\n",
       "    .dataframe tbody tr th {\n",
       "        vertical-align: top;\n",
       "    }\n",
       "\n",
       "    .dataframe thead th {\n",
       "        text-align: right;\n",
       "    }\n",
       "</style>\n",
       "<table border=\"1\" class=\"dataframe\">\n",
       "  <thead>\n",
       "    <tr style=\"text-align: right;\">\n",
       "      <th></th>\n",
       "      <th>date</th>\n",
       "      <th>tic</th>\n",
       "      <th>close</th>\n",
       "      <th>high</th>\n",
       "      <th>low</th>\n",
       "    </tr>\n",
       "  </thead>\n",
       "  <tbody>\n",
       "    <tr>\n",
       "      <th>0</th>\n",
       "      <td>2013-01-02</td>\n",
       "      <td>AAPL</td>\n",
       "      <td>16.769091</td>\n",
       "      <td>19.821428</td>\n",
       "      <td>19.343929</td>\n",
       "    </tr>\n",
       "    <tr>\n",
       "      <th>1</th>\n",
       "      <td>2013-01-02</td>\n",
       "      <td>CMCSA</td>\n",
       "      <td>15.399468</td>\n",
       "      <td>19.285000</td>\n",
       "      <td>19.025000</td>\n",
       "    </tr>\n",
       "    <tr>\n",
       "      <th>2</th>\n",
       "      <td>2013-01-02</td>\n",
       "      <td>CSCO</td>\n",
       "      <td>14.441592</td>\n",
       "      <td>20.340000</td>\n",
       "      <td>20.010000</td>\n",
       "    </tr>\n",
       "    <tr>\n",
       "      <th>3</th>\n",
       "      <td>2013-01-02</td>\n",
       "      <td>HBAN</td>\n",
       "      <td>4.426588</td>\n",
       "      <td>6.600000</td>\n",
       "      <td>6.480000</td>\n",
       "    </tr>\n",
       "    <tr>\n",
       "      <th>4</th>\n",
       "      <td>2013-01-02</td>\n",
       "      <td>INTC</td>\n",
       "      <td>15.494061</td>\n",
       "      <td>21.379999</td>\n",
       "      <td>21.049999</td>\n",
       "    </tr>\n",
       "    <tr>\n",
       "      <th>...</th>\n",
       "      <td>...</td>\n",
       "      <td>...</td>\n",
       "      <td>...</td>\n",
       "      <td>...</td>\n",
       "      <td>...</td>\n",
       "    </tr>\n",
       "    <tr>\n",
       "      <th>10075</th>\n",
       "      <td>2016-12-30</td>\n",
       "      <td>META</td>\n",
       "      <td>115.050003</td>\n",
       "      <td>116.830002</td>\n",
       "      <td>114.769997</td>\n",
       "    </tr>\n",
       "    <tr>\n",
       "      <th>10076</th>\n",
       "      <td>2016-12-30</td>\n",
       "      <td>MSFT</td>\n",
       "      <td>56.736973</td>\n",
       "      <td>62.990002</td>\n",
       "      <td>62.029999</td>\n",
       "    </tr>\n",
       "    <tr>\n",
       "      <th>10077</th>\n",
       "      <td>2016-12-30</td>\n",
       "      <td>MU</td>\n",
       "      <td>21.549032</td>\n",
       "      <td>22.400000</td>\n",
       "      <td>21.750000</td>\n",
       "    </tr>\n",
       "    <tr>\n",
       "      <th>10078</th>\n",
       "      <td>2016-12-30</td>\n",
       "      <td>NVDA</td>\n",
       "      <td>26.301579</td>\n",
       "      <td>27.980000</td>\n",
       "      <td>26.575001</td>\n",
       "    </tr>\n",
       "    <tr>\n",
       "      <th>10079</th>\n",
       "      <td>2016-12-30</td>\n",
       "      <td>QQQ</td>\n",
       "      <td>112.655876</td>\n",
       "      <td>119.949997</td>\n",
       "      <td>118.139999</td>\n",
       "    </tr>\n",
       "  </tbody>\n",
       "</table>\n",
       "<p>10080 rows × 5 columns</p>\n",
       "</div>"
      ],
      "text/plain": [
       "             date    tic       close        high         low\n",
       "0      2013-01-02   AAPL   16.769091   19.821428   19.343929\n",
       "1      2013-01-02  CMCSA   15.399468   19.285000   19.025000\n",
       "2      2013-01-02   CSCO   14.441592   20.340000   20.010000\n",
       "3      2013-01-02   HBAN    4.426588    6.600000    6.480000\n",
       "4      2013-01-02   INTC   15.494061   21.379999   21.049999\n",
       "...           ...    ...         ...         ...         ...\n",
       "10075  2016-12-30   META  115.050003  116.830002  114.769997\n",
       "10076  2016-12-30   MSFT   56.736973   62.990002   62.029999\n",
       "10077  2016-12-30     MU   21.549032   22.400000   21.750000\n",
       "10078  2016-12-30   NVDA   26.301579   27.980000   26.575001\n",
       "10079  2016-12-30    QQQ  112.655876  119.949997  118.139999\n",
       "\n",
       "[10080 rows x 5 columns]"
      ]
     },
     "execution_count": 4,
     "metadata": {},
     "output_type": "execute_result"
    }
   ],
   "source": [
    "df_train"
   ]
  },
  {
   "cell_type": "code",
   "execution_count": 5,
   "metadata": {},
   "outputs": [
    {
     "name": "stdout",
     "output_type": "stream",
     "text": [
      "[*********************100%%**********************]  1 of 1 completed\n",
      "[*********************100%%**********************]  1 of 1 completed\n",
      "[*********************100%%**********************]  1 of 1 completed\n",
      "[*********************100%%**********************]  1 of 1 completed\n",
      "[*********************100%%**********************]  1 of 1 completed\n",
      "[*********************100%%**********************]  1 of 1 completed\n",
      "[*********************100%%**********************]  1 of 1 completed\n",
      "[*********************100%%**********************]  1 of 1 completed\n",
      "[*********************100%%**********************]  1 of 1 completed\n",
      "[*********************100%%**********************]  1 of 1 completed\n",
      "Shape of DataFrame:  (2360, 8)\n"
     ]
    }
   ],
   "source": [
    "df_test = YahooDownloader(start_date = '2017-01-01',\n",
    "                          end_date = '2017-12-08',\n",
    "                          ticker_list = TOP_NASDAQ).fetch_data()\n",
    "df_test = df_test[[\"date\", \"tic\", \"close\", \"high\", \"low\"]]"
   ]
  },
  {
   "cell_type": "code",
   "execution_count": 6,
   "metadata": {},
   "outputs": [
    {
     "data": {
      "text/html": [
       "<div>\n",
       "<style scoped>\n",
       "    .dataframe tbody tr th:only-of-type {\n",
       "        vertical-align: middle;\n",
       "    }\n",
       "\n",
       "    .dataframe tbody tr th {\n",
       "        vertical-align: top;\n",
       "    }\n",
       "\n",
       "    .dataframe thead th {\n",
       "        text-align: right;\n",
       "    }\n",
       "</style>\n",
       "<table border=\"1\" class=\"dataframe\">\n",
       "  <thead>\n",
       "    <tr style=\"text-align: right;\">\n",
       "      <th></th>\n",
       "      <th>date</th>\n",
       "      <th>tic</th>\n",
       "      <th>close</th>\n",
       "      <th>high</th>\n",
       "      <th>low</th>\n",
       "    </tr>\n",
       "  </thead>\n",
       "  <tbody>\n",
       "    <tr>\n",
       "      <th>0</th>\n",
       "      <td>2017-01-03</td>\n",
       "      <td>AAPL</td>\n",
       "      <td>27.023706</td>\n",
       "      <td>29.082500</td>\n",
       "      <td>28.690001</td>\n",
       "    </tr>\n",
       "    <tr>\n",
       "      <th>1</th>\n",
       "      <td>2017-01-03</td>\n",
       "      <td>CMCSA</td>\n",
       "      <td>29.556656</td>\n",
       "      <td>34.945000</td>\n",
       "      <td>34.115002</td>\n",
       "    </tr>\n",
       "    <tr>\n",
       "      <th>2</th>\n",
       "      <td>2017-01-03</td>\n",
       "      <td>CSCO</td>\n",
       "      <td>24.399660</td>\n",
       "      <td>30.559999</td>\n",
       "      <td>30.209999</td>\n",
       "    </tr>\n",
       "    <tr>\n",
       "      <th>3</th>\n",
       "      <td>2017-01-03</td>\n",
       "      <td>HBAN</td>\n",
       "      <td>9.867011</td>\n",
       "      <td>13.530000</td>\n",
       "      <td>13.220000</td>\n",
       "    </tr>\n",
       "    <tr>\n",
       "      <th>4</th>\n",
       "      <td>2017-01-03</td>\n",
       "      <td>INTC</td>\n",
       "      <td>30.279940</td>\n",
       "      <td>36.930000</td>\n",
       "      <td>36.270000</td>\n",
       "    </tr>\n",
       "    <tr>\n",
       "      <th>...</th>\n",
       "      <td>...</td>\n",
       "      <td>...</td>\n",
       "      <td>...</td>\n",
       "      <td>...</td>\n",
       "      <td>...</td>\n",
       "    </tr>\n",
       "    <tr>\n",
       "      <th>2355</th>\n",
       "      <td>2017-12-07</td>\n",
       "      <td>META</td>\n",
       "      <td>180.139999</td>\n",
       "      <td>180.389999</td>\n",
       "      <td>175.800003</td>\n",
       "    </tr>\n",
       "    <tr>\n",
       "      <th>2356</th>\n",
       "      <td>2017-12-07</td>\n",
       "      <td>MSFT</td>\n",
       "      <td>76.999313</td>\n",
       "      <td>82.800003</td>\n",
       "      <td>82.000000</td>\n",
       "    </tr>\n",
       "    <tr>\n",
       "      <th>2357</th>\n",
       "      <td>2017-12-07</td>\n",
       "      <td>MU</td>\n",
       "      <td>42.468891</td>\n",
       "      <td>43.230000</td>\n",
       "      <td>41.910000</td>\n",
       "    </tr>\n",
       "    <tr>\n",
       "      <th>2358</th>\n",
       "      <td>2017-12-07</td>\n",
       "      <td>NVDA</td>\n",
       "      <td>47.492165</td>\n",
       "      <td>48.400002</td>\n",
       "      <td>47.529999</td>\n",
       "    </tr>\n",
       "    <tr>\n",
       "      <th>2359</th>\n",
       "      <td>2017-12-07</td>\n",
       "      <td>QQQ</td>\n",
       "      <td>147.475327</td>\n",
       "      <td>154.460007</td>\n",
       "      <td>153.330002</td>\n",
       "    </tr>\n",
       "  </tbody>\n",
       "</table>\n",
       "<p>2360 rows × 5 columns</p>\n",
       "</div>"
      ],
      "text/plain": [
       "            date    tic       close        high         low\n",
       "0     2017-01-03   AAPL   27.023706   29.082500   28.690001\n",
       "1     2017-01-03  CMCSA   29.556656   34.945000   34.115002\n",
       "2     2017-01-03   CSCO   24.399660   30.559999   30.209999\n",
       "3     2017-01-03   HBAN    9.867011   13.530000   13.220000\n",
       "4     2017-01-03   INTC   30.279940   36.930000   36.270000\n",
       "...          ...    ...         ...         ...         ...\n",
       "2355  2017-12-07   META  180.139999  180.389999  175.800003\n",
       "2356  2017-12-07   MSFT   76.999313   82.800003   82.000000\n",
       "2357  2017-12-07     MU   42.468891   43.230000   41.910000\n",
       "2358  2017-12-07   NVDA   47.492165   48.400002   47.529999\n",
       "2359  2017-12-07    QQQ  147.475327  154.460007  153.330002\n",
       "\n",
       "[2360 rows x 5 columns]"
      ]
     },
     "execution_count": 6,
     "metadata": {},
     "output_type": "execute_result"
    }
   ],
   "source": [
    "df_test"
   ]
  },
  {
   "cell_type": "markdown",
   "metadata": {},
   "source": [
    "### Instantiate environments"
   ]
  },
  {
   "cell_type": "code",
   "execution_count": 7,
   "metadata": {},
   "outputs": [
    {
     "name": "stdout",
     "output_type": "stream",
     "text": [
      "Normalizing ['close', 'high', 'low'] by previous time...\n"
     ]
    }
   ],
   "source": [
    "train_env = PortfolioOptimizationEnv(\n",
    "        df_train,\n",
    "        initial_amount=100000,\n",
    "        comission_fee_pct=0.0025,\n",
    "        time_window=50\n",
    ")"
   ]
  },
  {
   "cell_type": "code",
   "execution_count": 8,
   "metadata": {},
   "outputs": [
    {
     "name": "stdout",
     "output_type": "stream",
     "text": [
      "Normalizing ['close', 'high', 'low'] by previous time...\n"
     ]
    }
   ],
   "source": [
    "test_env = PortfolioOptimizationEnv(\n",
    "        df_test,\n",
    "        initial_amount=100000,\n",
    "        comission_fee_pct=0.0025,\n",
    "        time_window=50\n",
    ")"
   ]
  },
  {
   "cell_type": "markdown",
   "metadata": {},
   "source": [
    "### Instantiate model"
   ]
  },
  {
   "cell_type": "code",
   "execution_count": 11,
   "metadata": {},
   "outputs": [],
   "source": [
    "model_kwargs = {\n",
    "    \"lr\": 0.01,\n",
    "    \"policy\": EIIE,\n",
    "}\n",
    "\n",
    "policy_kwargs = {\n",
    "    \"k_size\": 4\n",
    "}\n",
    "\n",
    "model = DRLAgent(train_env).get_model(\"pg\", model_kwargs, policy_kwargs)"
   ]
  },
  {
   "cell_type": "markdown",
   "metadata": {},
   "source": [
    "### Train model"
   ]
  },
  {
   "cell_type": "code",
   "execution_count": 12,
   "metadata": {},
   "outputs": [
    {
     "name": "stderr",
     "output_type": "stream",
     "text": [
      "  0%|          | 0/5 [00:00<?, ?it/s]"
     ]
    },
    {
     "name": "stdout",
     "output_type": "stream",
     "text": [
      "=================================\n",
      "Initial portfolio value:100000\n",
      "Final portfolio value: 239419.078125\n",
      "Final accumulative portfolio value: 2.39419078125\n",
      "Maximum DrawDown: -0.17286674532678548\n",
      "Sharpe ratio: 1.5495716137007212\n",
      "=================================\n"
     ]
    },
    {
     "name": "stderr",
     "output_type": "stream",
     "text": [
      " 20%|██        | 1/5 [00:05<00:20,  5.09s/it]"
     ]
    },
    {
     "name": "stdout",
     "output_type": "stream",
     "text": [
      "=================================\n",
      "Initial portfolio value:100000\n",
      "Final portfolio value: 243522.203125\n",
      "Final accumulative portfolio value: 2.43522203125\n",
      "Maximum DrawDown: -0.17607936394171886\n",
      "Sharpe ratio: 1.5502223182933907\n",
      "=================================\n"
     ]
    },
    {
     "name": "stderr",
     "output_type": "stream",
     "text": [
      " 40%|████      | 2/5 [00:10<00:15,  5.05s/it]"
     ]
    },
    {
     "name": "stdout",
     "output_type": "stream",
     "text": [
      "=================================\n",
      "Initial portfolio value:100000\n",
      "Final portfolio value: 247721.984375\n",
      "Final accumulative portfolio value: 2.47721984375\n",
      "Maximum DrawDown: -0.17941853855540935\n",
      "Sharpe ratio: 1.5502406077075601\n",
      "=================================\n"
     ]
    },
    {
     "name": "stderr",
     "output_type": "stream",
     "text": [
      " 60%|██████    | 3/5 [00:15<00:10,  5.04s/it]"
     ]
    },
    {
     "name": "stdout",
     "output_type": "stream",
     "text": [
      "=================================\n",
      "Initial portfolio value:100000\n",
      "Final portfolio value: 251764.21875\n",
      "Final accumulative portfolio value: 2.5176421875\n",
      "Maximum DrawDown: -0.18244443291157308\n",
      "Sharpe ratio: 1.550644055925178\n",
      "=================================\n"
     ]
    },
    {
     "name": "stderr",
     "output_type": "stream",
     "text": [
      " 80%|████████  | 4/5 [00:20<00:05,  5.07s/it]"
     ]
    },
    {
     "name": "stdout",
     "output_type": "stream",
     "text": [
      "=================================\n",
      "Initial portfolio value:100000\n",
      "Final portfolio value: 255121.984375\n",
      "Final accumulative portfolio value: 2.55121984375\n",
      "Maximum DrawDown: -0.18480819294651674\n",
      "Sharpe ratio: 1.5512908921226591\n",
      "=================================\n"
     ]
    },
    {
     "name": "stderr",
     "output_type": "stream",
     "text": [
      "100%|██████████| 5/5 [00:25<00:00,  5.12s/it]\n"
     ]
    }
   ],
   "source": [
    "DRLAgent.train_model(model, episodes=5)"
   ]
  },
  {
   "cell_type": "markdown",
   "metadata": {},
   "source": [
    "### Test model"
   ]
  },
  {
   "cell_type": "code",
   "execution_count": 42,
   "metadata": {},
   "outputs": [
    {
     "name": "stdout",
     "output_type": "stream",
     "text": [
      "=================================\n",
      "Initial portfolio value:100000\n",
      "Final portfolio value: 136938.171875\n",
      "Final accumulative portfolio value: 1.36938171875\n",
      "Maximum DrawDown: -0.12800610194123907\n",
      "Sharpe ratio: 1.7096462484413817\n",
      "=================================\n"
     ]
    }
   ],
   "source": [
    "DRLAgent.DRL_validation(model, test_env)"
   ]
  },
  {
   "cell_type": "markdown",
   "metadata": {},
   "source": [
    "### Gráficos"
   ]
  },
  {
   "cell_type": "code",
   "execution_count": 43,
   "metadata": {},
   "outputs": [
    {
     "name": "stderr",
     "output_type": "stream",
     "text": [
      "No artists with labels found to put in legend.  Note that artists whose label start with an underscore are ignored when legend() is called with no argument.\n"
     ]
    },
    {
     "data": {
      "image/png": "[encoded data removed]",
      "text/plain": [
       "<Figure size 1000x600 with 1 Axes>"
      ]
     },
     "metadata": {},
     "output_type": "display_data"
    }
   ],
   "source": [
    "import matplotlib.pyplot as plt\n",
    "\n",
    "plt.plot(test_env._asset_memory[\"final\"])\n",
    "\n",
    "plt.xlabel(\"Dias\")\n",
    "plt.ylabel(\"Valor do Portfólio\")\n",
    "plt.title(\"Performance do Modelo\")\n",
    "plt.legend()\n",
    "\n",
    "plt.show()"
   ]
  }
 ],
 "metadata": {
  "kernelspec": {
   "display_name": "finrl",
   "language": "python",
   "name": "python3"
  },
  "language_info": {
   "codemirror_mode": {
    "name": "ipython",
    "version": 3
   },
   "file_extension": ".py",
   "mimetype": "text/x-python",
   "name": "python",
   "nbconvert_exporter": "python",
   "pygments_lexer": "ipython3",
   "version": "3.10.13"
  }
 },
 "nbformat": 4,
 "nbformat_minor": 2
}
