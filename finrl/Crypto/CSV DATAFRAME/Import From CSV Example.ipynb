{
 "cells": [
  {
   "cell_type": "markdown",
   "metadata": {},
   "source": [
    "#\n",
    "## Import From CSV Example"
   ]
  },
  {
   "cell_type": "code",
   "execution_count": 1,
   "metadata": {},
   "outputs": [],
   "source": [
    "# ipywidgets is required to run Plotly in Jupyter Notebook.\n",
    "# Uncomment and run the following line to install it if required.\n",
    "\n",
    "#!pip install ipywidgets"
   ]
  },
  {
   "cell_type": "code",
   "execution_count": 2,
   "metadata": {},
   "outputs": [],
   "source": [
    "import ta\n",
    "\n",
    "import pandas as pd\n",
    "\n",
    "\n",
    "%matplotlib inline"
   ]
  },
  {
   "cell_type": "code",
   "execution_count": 3,
   "metadata": {},
   "outputs": [],
   "source": [
    "def load_csv(filename):\n",
    "    df = pd.read_csv('data/' + filename, skiprows=1)\n",
    "    df.drop(columns=['symbol', 'volume_btc'], inplace=True)\n",
    "\n",
    "    # Fix timestamp form \"2019-10-17 09-AM\" to \"2019-10-17 09-00-00 AM\"\n",
    "    df['date'] = df['date'].str[:14] + '00-00 ' + df['date'].str[-2:]\n",
    "\n",
    "    # Convert the date column type from string to datetime for proper sorting.\n",
    "    df['date'] = pd.to_datetime(df['date'])\n",
    "\n",
    "    # Make sure historical prices are sorted chronologically, oldest first.\n",
    "    df.sort_values(by='date', ascending=True, inplace=True)\n",
    "\n",
    "    df.reset_index(drop=True, inplace=True)\n",
    "\n",
    "    # Format timestamps as you want them to appear on the chart buy/sell marks.\n",
    "    df['date'] = df['date'].dt.strftime('%Y-%m-%d %I:%M %p')\n",
    "\n",
    "    return df"
   ]
  },
  {
   "cell_type": "code",
   "execution_count": 4,
   "metadata": {},
   "outputs": [
    {
     "data": {
      "text/plain": "                  date     open     high      low    close     volume\n0  2017-07-01 11:00 AM  2505.56  2513.38  2495.12  2509.17  287000.32\n1  2017-07-01 12:00 PM  2509.17  2512.87  2484.99  2488.43  393142.50\n2  2017-07-01 01:00 PM  2488.43  2488.43  2454.40  2454.43  693254.01\n3  2017-07-01 02:00 PM  2454.43  2473.93  2450.83  2459.35  712864.80\n4  2017-07-01 03:00 PM  2459.35  2475.00  2450.00  2467.83  682105.41",
      "text/html": "<div>\n<style scoped>\n    .dataframe tbody tr th:only-of-type {\n        vertical-align: middle;\n    }\n\n    .dataframe tbody tr th {\n        vertical-align: top;\n    }\n\n    .dataframe thead th {\n        text-align: right;\n    }\n</style>\n<table border=\"1\" class=\"dataframe\">\n  <thead>\n    <tr style=\"text-align: right;\">\n      <th></th>\n      <th>date</th>\n      <th>open</th>\n      <th>high</th>\n      <th>low</th>\n      <th>close</th>\n      <th>volume</th>\n    </tr>\n  </thead>\n  <tbody>\n    <tr>\n      <th>0</th>\n      <td>2017-07-01 11:00 AM</td>\n      <td>2505.56</td>\n      <td>2513.38</td>\n      <td>2495.12</td>\n      <td>2509.17</td>\n      <td>287000.32</td>\n    </tr>\n    <tr>\n      <th>1</th>\n      <td>2017-07-01 12:00 PM</td>\n      <td>2509.17</td>\n      <td>2512.87</td>\n      <td>2484.99</td>\n      <td>2488.43</td>\n      <td>393142.50</td>\n    </tr>\n    <tr>\n      <th>2</th>\n      <td>2017-07-01 01:00 PM</td>\n      <td>2488.43</td>\n      <td>2488.43</td>\n      <td>2454.40</td>\n      <td>2454.43</td>\n      <td>693254.01</td>\n    </tr>\n    <tr>\n      <th>3</th>\n      <td>2017-07-01 02:00 PM</td>\n      <td>2454.43</td>\n      <td>2473.93</td>\n      <td>2450.83</td>\n      <td>2459.35</td>\n      <td>712864.80</td>\n    </tr>\n    <tr>\n      <th>4</th>\n      <td>2017-07-01 03:00 PM</td>\n      <td>2459.35</td>\n      <td>2475.00</td>\n      <td>2450.00</td>\n      <td>2467.83</td>\n      <td>682105.41</td>\n    </tr>\n  </tbody>\n</table>\n</div>"
     },
     "execution_count": 4,
     "metadata": {},
     "output_type": "execute_result"
    }
   ],
   "source": [
    "df = load_csv('Coinbase_BTCUSD_1h.csv')\n",
    "df.head()"
   ]
  },
  {
   "cell_type": "markdown",
   "metadata": {},
   "source": [
    "## Data Preparation\n",
    "### Create the dataset features,\n",
    "Now we import all the indicator from TA lib, anyway you can skip this\n"
   ]
  },
  {
   "cell_type": "code",
   "execution_count": 5,
   "metadata": {
    "scrolled": false
   },
   "outputs": [
    {
     "name": "stderr",
     "output_type": "stream",
     "text": [
      "c:\\users\\kit\\pycharmprojects\\tensortrade\\venv\\lib\\site-packages\\ta\\trend.py:768: RuntimeWarning: invalid value encountered in double_scalars\n",
      "  dip[i] = 100 * (self._dip[i] / self._trs[i])\n",
      "c:\\users\\kit\\pycharmprojects\\tensortrade\\venv\\lib\\site-packages\\ta\\trend.py:772: RuntimeWarning: invalid value encountered in double_scalars\n",
      "  din[i] = 100 * (self._din[i] / self._trs[i])\n"
     ]
    },
    {
     "data": {
      "text/plain": "                  date     open     high      low    close     volume  \\\n0  2017-07-01 11:00 AM  2505.56  2513.38  2495.12  2509.17  287000.32   \n1  2017-07-01 12:00 PM  2509.17  2512.87  2484.99  2488.43  393142.50   \n2  2017-07-01 01:00 PM  2488.43  2488.43  2454.40  2454.43  693254.01   \n\n      volume_adi  volume_obv  volume_cmf     volume_fi  ...  momentum_wr  \\\n0  154659.537174   287000.32    0.538883  0.000000e+00  ...   -23.055860   \n1 -141466.449196  -106142.18   -0.207995 -8.153775e+06  ...   -87.883057   \n2 -833498.148276  -799396.19   -0.606888 -1.035618e+07  ...   -99.949135   \n\n   momentum_ao  momentum_kama  momentum_roc  momentum_ppo  \\\n0          0.0    2509.170000           0.0      0.000000   \n1          0.0    2500.178580           0.0      2.871568   \n2          0.0    2480.168753           0.0     12.006246   \n\n   momentum_ppo_signal  momentum_ppo_hist  others_dr  others_dlr  others_cr  \n0             0.000000           0.000000 -65.047642    0.000000   0.000000  \n1             0.574314           2.297254  -0.826568   -0.830003  -0.826568  \n2             2.860700           9.145546  -1.366323   -1.375743  -2.181598  \n\n[3 rows x 89 columns]",
      "text/html": "<div>\n<style scoped>\n    .dataframe tbody tr th:only-of-type {\n        vertical-align: middle;\n    }\n\n    .dataframe tbody tr th {\n        vertical-align: top;\n    }\n\n    .dataframe thead th {\n        text-align: right;\n    }\n</style>\n<table border=\"1\" class=\"dataframe\">\n  <thead>\n    <tr style=\"text-align: right;\">\n      <th></th>\n      <th>date</th>\n      <th>open</th>\n      <th>high</th>\n      <th>low</th>\n      <th>close</th>\n      <th>volume</th>\n      <th>volume_adi</th>\n      <th>volume_obv</th>\n      <th>volume_cmf</th>\n      <th>volume_fi</th>\n      <th>...</th>\n      <th>momentum_wr</th>\n      <th>momentum_ao</th>\n      <th>momentum_kama</th>\n      <th>momentum_roc</th>\n      <th>momentum_ppo</th>\n      <th>momentum_ppo_signal</th>\n      <th>momentum_ppo_hist</th>\n      <th>others_dr</th>\n      <th>others_dlr</th>\n      <th>others_cr</th>\n    </tr>\n  </thead>\n  <tbody>\n    <tr>\n      <th>0</th>\n      <td>2017-07-01 11:00 AM</td>\n      <td>2505.56</td>\n      <td>2513.38</td>\n      <td>2495.12</td>\n      <td>2509.17</td>\n      <td>287000.32</td>\n      <td>154659.537174</td>\n      <td>287000.32</td>\n      <td>0.538883</td>\n      <td>0.000000e+00</td>\n      <td>...</td>\n      <td>-23.055860</td>\n      <td>0.0</td>\n      <td>2509.170000</td>\n      <td>0.0</td>\n      <td>0.000000</td>\n      <td>0.000000</td>\n      <td>0.000000</td>\n      <td>-65.047642</td>\n      <td>0.000000</td>\n      <td>0.000000</td>\n    </tr>\n    <tr>\n      <th>1</th>\n      <td>2017-07-01 12:00 PM</td>\n      <td>2509.17</td>\n      <td>2512.87</td>\n      <td>2484.99</td>\n      <td>2488.43</td>\n      <td>393142.50</td>\n      <td>-141466.449196</td>\n      <td>-106142.18</td>\n      <td>-0.207995</td>\n      <td>-8.153775e+06</td>\n      <td>...</td>\n      <td>-87.883057</td>\n      <td>0.0</td>\n      <td>2500.178580</td>\n      <td>0.0</td>\n      <td>2.871568</td>\n      <td>0.574314</td>\n      <td>2.297254</td>\n      <td>-0.826568</td>\n      <td>-0.830003</td>\n      <td>-0.826568</td>\n    </tr>\n    <tr>\n      <th>2</th>\n      <td>2017-07-01 01:00 PM</td>\n      <td>2488.43</td>\n      <td>2488.43</td>\n      <td>2454.40</td>\n      <td>2454.43</td>\n      <td>693254.01</td>\n      <td>-833498.148276</td>\n      <td>-799396.19</td>\n      <td>-0.606888</td>\n      <td>-1.035618e+07</td>\n      <td>...</td>\n      <td>-99.949135</td>\n      <td>0.0</td>\n      <td>2480.168753</td>\n      <td>0.0</td>\n      <td>12.006246</td>\n      <td>2.860700</td>\n      <td>9.145546</td>\n      <td>-1.366323</td>\n      <td>-1.375743</td>\n      <td>-2.181598</td>\n    </tr>\n  </tbody>\n</table>\n<p>3 rows × 89 columns</p>\n</div>"
     },
     "execution_count": 5,
     "metadata": {},
     "output_type": "execute_result"
    }
   ],
   "source": [
    "dataset = ta.add_all_ta_features(df, 'open', 'high', 'low', 'close', 'volume', fillna=True)\n",
    "dataset.head(3)"
   ]
  },
  {
   "cell_type": "markdown",
   "metadata": {},
   "source": [
    "### Create Chart Price History Data\n",
    "Note: It is recommended to create the chart data *after* creating and cleaning the dataset to ensure one-to-one mapping between the historical prices data and the dataset."
   ]
  },
  {
   "cell_type": "code",
   "execution_count": 6,
   "metadata": {
    "scrolled": true,
    "pycharm": {
     "name": "#%%\n"
    }
   },
   "outputs": [
    {
     "data": {
      "text/plain": "     volume_adi  volume_obv  volume_cmf     volume_fi  volume_mfi  \\\n0  1.546595e+05   287000.32    0.538883  0.000000e+00   50.000000   \n1 -1.414664e+05  -106142.18   -0.207995 -8.153775e+06    0.000000   \n2 -8.334981e+05  -799396.19   -0.606888 -1.035618e+07    0.000000   \n3 -1.020509e+06   -86531.39   -0.489157 -8.375687e+06    0.000000   \n4 -7.296597e+05   595574.02   -0.263570 -6.352838e+06   27.438846   \n\n       volume_em  volume_sma_em     volume_vpt   volume_nvi  volume_vwap  ...  \\\n0       0.000000       0.000000 -187039.681889  1000.000000  2505.890000  ...   \n1  -37727.185435  -37727.185435 -189936.530400  1000.000000  2499.843813  ...   \n2 -135063.834683  -86395.510059  -12721.682056  1000.000000  2482.635850  ...   \n3  -29277.431008  -67356.150375   -8043.126273  1000.000000  2475.369419  ...   \n4     439.814720  -50407.159102    3780.909265  1003.448066  2472.636246  ...   \n\n   momentum_wr  momentum_ao  momentum_kama  momentum_roc  momentum_ppo  \\\n0   -23.055860          0.0    2509.170000           0.0      0.000000   \n1   -87.883057          0.0    2500.178580           0.0      2.871568   \n2   -99.949135          0.0    2480.168753           0.0     12.006246   \n3   -86.378897          0.0    2471.140583           0.0     18.106817   \n4   -71.868097          0.0    2469.726121           0.0     21.283294   \n\n   momentum_ppo_signal  momentum_ppo_hist  others_dr  others_dlr  others_cr  \n0             0.000000           0.000000 -65.047642    0.000000   0.000000  \n1             0.574314           2.297254  -0.826568   -0.830003  -0.826568  \n2             2.860700           9.145546  -1.366323   -1.375743  -2.181598  \n3             5.909923          12.196893   0.200454    0.200253  -1.985517  \n4             8.984598          12.298696   0.344807    0.344213  -1.647557  \n\n[5 rows x 83 columns]",
      "text/html": "<div>\n<style scoped>\n    .dataframe tbody tr th:only-of-type {\n        vertical-align: middle;\n    }\n\n    .dataframe tbody tr th {\n        vertical-align: top;\n    }\n\n    .dataframe thead th {\n        text-align: right;\n    }\n</style>\n<table border=\"1\" class=\"dataframe\">\n  <thead>\n    <tr style=\"text-align: right;\">\n      <th></th>\n      <th>volume_adi</th>\n      <th>volume_obv</th>\n      <th>volume_cmf</th>\n      <th>volume_fi</th>\n      <th>volume_mfi</th>\n      <th>volume_em</th>\n      <th>volume_sma_em</th>\n      <th>volume_vpt</th>\n      <th>volume_nvi</th>\n      <th>volume_vwap</th>\n      <th>...</th>\n      <th>momentum_wr</th>\n      <th>momentum_ao</th>\n      <th>momentum_kama</th>\n      <th>momentum_roc</th>\n      <th>momentum_ppo</th>\n      <th>momentum_ppo_signal</th>\n      <th>momentum_ppo_hist</th>\n      <th>others_dr</th>\n      <th>others_dlr</th>\n      <th>others_cr</th>\n    </tr>\n  </thead>\n  <tbody>\n    <tr>\n      <th>0</th>\n      <td>1.546595e+05</td>\n      <td>287000.32</td>\n      <td>0.538883</td>\n      <td>0.000000e+00</td>\n      <td>50.000000</td>\n      <td>0.000000</td>\n      <td>0.000000</td>\n      <td>-187039.681889</td>\n      <td>1000.000000</td>\n      <td>2505.890000</td>\n      <td>...</td>\n      <td>-23.055860</td>\n      <td>0.0</td>\n      <td>2509.170000</td>\n      <td>0.0</td>\n      <td>0.000000</td>\n      <td>0.000000</td>\n      <td>0.000000</td>\n      <td>-65.047642</td>\n      <td>0.000000</td>\n      <td>0.000000</td>\n    </tr>\n    <tr>\n      <th>1</th>\n      <td>-1.414664e+05</td>\n      <td>-106142.18</td>\n      <td>-0.207995</td>\n      <td>-8.153775e+06</td>\n      <td>0.000000</td>\n      <td>-37727.185435</td>\n      <td>-37727.185435</td>\n      <td>-189936.530400</td>\n      <td>1000.000000</td>\n      <td>2499.843813</td>\n      <td>...</td>\n      <td>-87.883057</td>\n      <td>0.0</td>\n      <td>2500.178580</td>\n      <td>0.0</td>\n      <td>2.871568</td>\n      <td>0.574314</td>\n      <td>2.297254</td>\n      <td>-0.826568</td>\n      <td>-0.830003</td>\n      <td>-0.826568</td>\n    </tr>\n    <tr>\n      <th>2</th>\n      <td>-8.334981e+05</td>\n      <td>-799396.19</td>\n      <td>-0.606888</td>\n      <td>-1.035618e+07</td>\n      <td>0.000000</td>\n      <td>-135063.834683</td>\n      <td>-86395.510059</td>\n      <td>-12721.682056</td>\n      <td>1000.000000</td>\n      <td>2482.635850</td>\n      <td>...</td>\n      <td>-99.949135</td>\n      <td>0.0</td>\n      <td>2480.168753</td>\n      <td>0.0</td>\n      <td>12.006246</td>\n      <td>2.860700</td>\n      <td>9.145546</td>\n      <td>-1.366323</td>\n      <td>-1.375743</td>\n      <td>-2.181598</td>\n    </tr>\n    <tr>\n      <th>3</th>\n      <td>-1.020509e+06</td>\n      <td>-86531.39</td>\n      <td>-0.489157</td>\n      <td>-8.375687e+06</td>\n      <td>0.000000</td>\n      <td>-29277.431008</td>\n      <td>-67356.150375</td>\n      <td>-8043.126273</td>\n      <td>1000.000000</td>\n      <td>2475.369419</td>\n      <td>...</td>\n      <td>-86.378897</td>\n      <td>0.0</td>\n      <td>2471.140583</td>\n      <td>0.0</td>\n      <td>18.106817</td>\n      <td>5.909923</td>\n      <td>12.196893</td>\n      <td>0.200454</td>\n      <td>0.200253</td>\n      <td>-1.985517</td>\n    </tr>\n    <tr>\n      <th>4</th>\n      <td>-7.296597e+05</td>\n      <td>595574.02</td>\n      <td>-0.263570</td>\n      <td>-6.352838e+06</td>\n      <td>27.438846</td>\n      <td>439.814720</td>\n      <td>-50407.159102</td>\n      <td>3780.909265</td>\n      <td>1003.448066</td>\n      <td>2472.636246</td>\n      <td>...</td>\n      <td>-71.868097</td>\n      <td>0.0</td>\n      <td>2469.726121</td>\n      <td>0.0</td>\n      <td>21.283294</td>\n      <td>8.984598</td>\n      <td>12.298696</td>\n      <td>0.344807</td>\n      <td>0.344213</td>\n      <td>-1.647557</td>\n    </tr>\n  </tbody>\n</table>\n<p>5 rows × 83 columns</p>\n</div>"
     },
     "execution_count": 6,
     "metadata": {},
     "output_type": "execute_result"
    }
   ],
   "source": [
    "price_history = dataset[['date', 'open', 'high', 'low', 'close', 'volume']]  # chart data\n",
    "price_history.head(3)\n",
    "\n",
    "dataset.drop(columns=['date', 'open', 'high', 'low', 'close', 'volume'], inplace=True)\n",
    "dataset.head()"
   ]
  }
 ],
 "metadata": {
  "kernelspec": {
   "name": "tensorflow2.4",
   "language": "python",
   "display_name": "TensorFlow2.4"
  },
  "language_info": {
   "codemirror_mode": {
    "name": "ipython",
    "version": 3
   },
   "file_extension": ".py",
   "mimetype": "text/x-python",
   "name": "python",
   "nbconvert_exporter": "python",
   "pygments_lexer": "ipython3",
   "version": "3.7.4"
  }
 },
 "nbformat": 4,
 "nbformat_minor": 4
}