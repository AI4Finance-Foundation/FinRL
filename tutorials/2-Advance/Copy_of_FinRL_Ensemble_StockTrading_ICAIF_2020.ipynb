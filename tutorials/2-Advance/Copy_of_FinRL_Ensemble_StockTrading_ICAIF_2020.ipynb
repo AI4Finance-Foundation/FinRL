{
 "cells": [
  {
   "cell_type": "markdown",
   "metadata": {
    "id": "Lb9q2_QZgdNk"
   },
   "source": [
    "<a href=\"https://colab.research.google.com/github/AI4Finance-Foundation/FinRL-Tutorials/blob/master/2-Advance/FinRL_Ensemble_StockTrading_ICAIF_2020.ipynb\" target=\"_parent\"><img src=\"https://colab.research.google.com/assets/colab-badge.svg\" alt=\"Open In Colab\"/></a>"
   ]
  },
  {
   "cell_type": "markdown",
   "metadata": {
    "id": "gXaoZs2lh1hi"
   },
   "source": [
    "# Deep Reinforcement Learning for Stock Trading from Scratch: Multiple Stock Trading Using Ensemble Strategy\n",
    "\n",
    "Tutorials to use OpenAI DRL to trade multiple stocks using ensemble strategy in one Jupyter Notebook | Presented at ICAIF 2020\n",
    "\n",
    "* This notebook is the reimplementation of our paper: Deep Reinforcement Learning for Automated Stock Trading: An Ensemble Strategy, using FinRL.\n",
    "* Check out medium blog for detailed explanations: https://medium.com/@ai4finance/deep-reinforcement-learning-for-automated-stock-trading-f1dad0126a02\n",
    "* Please report any issues to our Github: https://github.com/AI4Finance-LLC/FinRL-Library/issues\n",
    "* **Pytorch Version**\n",
    "\n"
   ]
  },
  {
   "cell_type": "markdown",
   "metadata": {
    "id": "lGunVt8oLCVS"
   },
   "source": [
    "# Content"
   ]
  },
  {
   "cell_type": "markdown",
   "metadata": {
    "id": "HOzAKQ-SLGX6"
   },
   "source": [
    "* [1. Problem Definition](#0)\n",
    "* [2. Getting Started - Load Python packages](#1)\n",
    "    * [2.1. Install Packages](#1.1)    \n",
    "    * [2.2. Check Additional Packages](#1.2)\n",
    "    * [2.3. Import Packages](#1.3)\n",
    "    * [2.4. Create Folders](#1.4)\n",
    "* [3. Download Data](#2)\n",
    "* [4. Preprocess Data](#3)        \n",
    "    * [4.1. Technical Indicators](#3.1)\n",
    "    * [4.2. Perform Feature Engineering](#3.2)\n",
    "* [5.Build Environment](#4)  \n",
    "    * [5.1. Training & Trade Data Split](#4.1)\n",
    "    * [5.2. User-defined Environment](#4.2)   \n",
    "    * [5.3. Initialize Environment](#4.3)    \n",
    "* [6.Implement DRL Algorithms](#5)  \n",
    "* [7.Backtesting Performance](#6)  \n",
    "    * [7.1. BackTestStats](#6.1)\n",
    "    * [7.2. BackTestPlot](#6.2)   \n",
    "    * [7.3. Baseline Stats](#6.3)   \n",
    "    * [7.3. Compare to Stock Market Index](#6.4)             "
   ]
  },
  {
   "cell_type": "markdown",
   "metadata": {
    "id": "sApkDlD9LIZv"
   },
   "source": [
    "<a id='0'></a>\n",
    "# Part 1. Problem Definition"
   ]
  },
  {
   "cell_type": "markdown",
   "metadata": {
    "id": "HjLD2TZSLKZ-"
   },
   "source": [
    "This problem is to design an automated trading solution for single stock trading. We model the stock trading process as a Markov Decision Process (MDP). We then formulate our trading goal as a maximization problem.\n",
    "\n",
    "The algorithm is trained using Deep Reinforcement Learning (DRL) algorithms and the components of the reinforcement learning environment are:\n",
    "\n",
    "\n",
    "* Action: The action space describes the allowed actions that the agent interacts with the\n",
    "environment. Normally, a ∈ A includes three actions: a ∈ {−1, 0, 1}, where −1, 0, 1 represent\n",
    "selling, holding, and buying one stock. Also, an action can be carried upon multiple shares. We use\n",
    "an action space {−k, ..., −1, 0, 1, ..., k}, where k denotes the number of shares. For example, \"Buy\n",
    "10 shares of AAPL\" or \"Sell 10 shares of AAPL\" are 10 or −10, respectively\n",
    "\n",
    "* Reward function: r(s, a, s′) is the incentive mechanism for an agent to learn a better action. The change of the portfolio value when action a is taken at state s and arriving at new state s',  i.e., r(s, a, s′) = v′ − v, where v′ and v represent the portfolio\n",
    "values at state s′ and s, respectively\n",
    "\n",
    "* State: The state space describes the observations that the agent receives from the environment. Just as a human trader needs to analyze various information before executing a trade, so\n",
    "our trading agent observes many different features to better learn in an interactive environment.\n",
    "\n",
    "* Environment: Dow 30 consituents\n",
    "\n",
    "\n",
    "The data of the single stock that we will be using for this case study is obtained from Yahoo Finance API. The data contains Open-High-Low-Close price and volume.\n"
   ]
  },
  {
   "cell_type": "markdown",
   "metadata": {
    "id": "Ffsre789LY08"
   },
   "source": [
    "<a id='1'></a>\n",
    "# Part 2. Getting Started- Load Python Packages"
   ]
  },
  {
   "cell_type": "markdown",
   "metadata": {
    "id": "Uy5_PTmOh1hj"
   },
   "source": [
    "<a id='1.1'></a>\n",
    "## 2.1. Install all the packages through FinRL library\n"
   ]
  },
  {
   "cell_type": "code",
   "execution_count": 1,
   "metadata": {
    "colab": {
     "base_uri": "https://localhost:8080/"
    },
    "id": "mPT0ipYE28wL",
    "outputId": "3b2706f9-2879-4cde-f23e-67086f6e214a"
   },
   "outputs": [
    {
     "name": "stdout",
     "output_type": "stream",
     "text": [
      "Requirement already satisfied: wrds in /home/james/miniconda3/envs/algo310/lib/python3.10/site-packages (3.1.6)\r\n",
      "Requirement already satisfied: numpy in /home/james/.local/lib/python3.10/site-packages (from wrds) (1.24.3)\r\n",
      "Requirement already satisfied: pandas in /home/james/.local/lib/python3.10/site-packages (from wrds) (2.0.0)\r\n",
      "Requirement already satisfied: psycopg2-binary in /home/james/miniconda3/envs/algo310/lib/python3.10/site-packages (from wrds) (2.9.6)\r\n",
      "Requirement already satisfied: scipy in /home/james/.local/lib/python3.10/site-packages (from wrds) (1.11.1)\r\n",
      "Requirement already satisfied: sqlalchemy<2 in /home/james/miniconda3/envs/algo310/lib/python3.10/site-packages (from wrds) (1.4.49)\r\n",
      "Requirement already satisfied: greenlet!=0.4.17 in /home/james/miniconda3/envs/algo310/lib/python3.10/site-packages (from sqlalchemy<2->wrds) (2.0.2)\r\n",
      "Requirement already satisfied: python-dateutil>=2.8.2 in /home/james/.local/lib/python3.10/site-packages (from pandas->wrds) (2.8.2)\r\n",
      "Requirement already satisfied: pytz>=2020.1 in /home/james/.local/lib/python3.10/site-packages (from pandas->wrds) (2023.3)\r\n",
      "Requirement already satisfied: tzdata>=2022.1 in /home/james/.local/lib/python3.10/site-packages (from pandas->wrds) (2023.3)\r\n",
      "Requirement already satisfied: six>=1.5 in /home/james/miniconda3/envs/algo310/lib/python3.10/site-packages (from python-dateutil>=2.8.2->pandas->wrds) (1.16.0)\r\n",
      "Requirement already satisfied: swig in /home/james/miniconda3/envs/algo310/lib/python3.10/site-packages (4.1.1)\r\n",
      "Collecting git+https://github.com/AI4Finance-Foundation/FinRL.git\r\n",
      "  Cloning https://github.com/AI4Finance-Foundation/FinRL.git to /tmp/pip-req-build-7llhfx2z\r\n",
      "  Running command git clone --filter=blob:none --quiet https://github.com/AI4Finance-Foundation/FinRL.git /tmp/pip-req-build-7llhfx2z\r\n",
      "  Resolved https://github.com/AI4Finance-Foundation/FinRL.git to commit 1937d992941980a7f77fcdc2f90a0b36486990e3\r\n",
      "  Installing build dependencies ... \u001B[?25ldone\r\n",
      "\u001B[?25h  Getting requirements to build wheel ... \u001B[?25ldone\r\n",
      "\u001B[?25h  Preparing metadata (pyproject.toml) ... \u001B[?25ldone\r\n",
      "\u001B[?25hCollecting elegantrl@ git+https://github.com/AI4Finance-Foundation/ElegantRL.git#egg=elegantrl (from finrl==0.3.6)\r\n",
      "  Cloning https://github.com/AI4Finance-Foundation/ElegantRL.git to /tmp/pip-install-a73r5q81/elegantrl_e34f55545cda4c72b8c5e7ca4d37afe0\r\n",
      "  Running command git clone --filter=blob:none --quiet https://github.com/AI4Finance-Foundation/ElegantRL.git /tmp/pip-install-a73r5q81/elegantrl_e34f55545cda4c72b8c5e7ca4d37afe0\r\n",
      "  Resolved https://github.com/AI4Finance-Foundation/ElegantRL.git to commit 59fe4b4a1cca0a28e8a5fa4fb80eed9b5d472978\r\n",
      "  Preparing metadata (setup.py) ... \u001B[?25ldone\r\n",
      "\u001B[?25hRequirement already satisfied: alpaca-trade-api<4,>=3 in /home/james/miniconda3/envs/algo310/lib/python3.10/site-packages (from finrl==0.3.6) (3.0.2)\r\n",
      "Requirement already satisfied: ccxt<4,>=3 in /home/james/miniconda3/envs/algo310/lib/python3.10/site-packages (from finrl==0.3.6) (3.1.60)\r\n",
      "Requirement already satisfied: exchange-calendars<5,>=4 in /home/james/miniconda3/envs/algo310/lib/python3.10/site-packages (from finrl==0.3.6) (4.2.8)\r\n",
      "Requirement already satisfied: jqdatasdk<2,>=1 in /home/james/miniconda3/envs/algo310/lib/python3.10/site-packages (from finrl==0.3.6) (1.8.11)\r\n",
      "Requirement already satisfied: pyfolio<0.10,>=0.9 in /home/james/miniconda3/envs/algo310/lib/python3.10/site-packages (from finrl==0.3.6) (0.9.2)\r\n",
      "Requirement already satisfied: pyportfolioopt<2,>=1 in /home/james/miniconda3/envs/algo310/lib/python3.10/site-packages (from finrl==0.3.6) (1.5.5)\r\n",
      "Requirement already satisfied: ray[default,tune]<3,>=2 in /home/james/miniconda3/envs/algo310/lib/python3.10/site-packages (from finrl==0.3.6) (2.5.1)\r\n",
      "Requirement already satisfied: scikit-learn<2,>=1 in /home/james/.local/lib/python3.10/site-packages (from finrl==0.3.6) (1.2.2)\r\n",
      "Requirement already satisfied: stable-baselines3[extra]>=2.0.0a5 in /home/james/miniconda3/envs/algo310/lib/python3.10/site-packages (from finrl==0.3.6) (2.0.0)\r\n",
      "Requirement already satisfied: stockstats<0.6,>=0.5 in /home/james/miniconda3/envs/algo310/lib/python3.10/site-packages (from finrl==0.3.6) (0.5.4)\r\n",
      "Requirement already satisfied: wrds<4,>=3 in /home/james/miniconda3/envs/algo310/lib/python3.10/site-packages (from finrl==0.3.6) (3.1.6)\r\n",
      "Requirement already satisfied: yfinance<0.3,>=0.2 in /home/james/miniconda3/envs/algo310/lib/python3.10/site-packages (from finrl==0.3.6) (0.2.22)\r\n",
      "Requirement already satisfied: pandas>=0.18.1 in /home/james/.local/lib/python3.10/site-packages (from alpaca-trade-api<4,>=3->finrl==0.3.6) (2.0.0)\r\n",
      "Requirement already satisfied: numpy>=1.11.1 in /home/james/.local/lib/python3.10/site-packages (from alpaca-trade-api<4,>=3->finrl==0.3.6) (1.24.3)\r\n",
      "Requirement already satisfied: requests<3,>2 in /home/james/miniconda3/envs/algo310/lib/python3.10/site-packages (from alpaca-trade-api<4,>=3->finrl==0.3.6) (2.29.0)\r\n",
      "Requirement already satisfied: urllib3<2,>1.24 in /home/james/miniconda3/envs/algo310/lib/python3.10/site-packages (from alpaca-trade-api<4,>=3->finrl==0.3.6) (1.26.16)\r\n",
      "Requirement already satisfied: websocket-client<2,>=0.56.0 in /home/james/miniconda3/envs/algo310/lib/python3.10/site-packages (from alpaca-trade-api<4,>=3->finrl==0.3.6) (0.58.0)\r\n",
      "Requirement already satisfied: websockets<11,>=9.0 in /home/james/miniconda3/envs/algo310/lib/python3.10/site-packages (from alpaca-trade-api<4,>=3->finrl==0.3.6) (10.4)\r\n",
      "Requirement already satisfied: msgpack==1.0.3 in /home/james/miniconda3/envs/algo310/lib/python3.10/site-packages (from alpaca-trade-api<4,>=3->finrl==0.3.6) (1.0.3)\r\n",
      "Requirement already satisfied: aiohttp==3.8.2 in /home/james/miniconda3/envs/algo310/lib/python3.10/site-packages (from alpaca-trade-api<4,>=3->finrl==0.3.6) (3.8.2)\r\n",
      "Requirement already satisfied: PyYAML==6.0 in /home/james/miniconda3/envs/algo310/lib/python3.10/site-packages (from alpaca-trade-api<4,>=3->finrl==0.3.6) (6.0)\r\n",
      "Requirement already satisfied: deprecation==2.1.0 in /home/james/miniconda3/envs/algo310/lib/python3.10/site-packages (from alpaca-trade-api<4,>=3->finrl==0.3.6) (2.1.0)\r\n",
      "Requirement already satisfied: attrs>=17.3.0 in /home/james/miniconda3/envs/algo310/lib/python3.10/site-packages (from aiohttp==3.8.2->alpaca-trade-api<4,>=3->finrl==0.3.6) (22.1.0)\r\n",
      "Requirement already satisfied: charset-normalizer<3.0,>=2.0 in /home/james/miniconda3/envs/algo310/lib/python3.10/site-packages (from aiohttp==3.8.2->alpaca-trade-api<4,>=3->finrl==0.3.6) (2.0.4)\r\n",
      "Requirement already satisfied: multidict<6.0,>=4.5 in /home/james/miniconda3/envs/algo310/lib/python3.10/site-packages (from aiohttp==3.8.2->alpaca-trade-api<4,>=3->finrl==0.3.6) (5.2.0)\r\n",
      "Requirement already satisfied: async-timeout<5.0,>=4.0.0a3 in /home/james/miniconda3/envs/algo310/lib/python3.10/site-packages (from aiohttp==3.8.2->alpaca-trade-api<4,>=3->finrl==0.3.6) (4.0.2)\r\n",
      "Requirement already satisfied: yarl<2.0,>=1.0 in /home/james/miniconda3/envs/algo310/lib/python3.10/site-packages (from aiohttp==3.8.2->alpaca-trade-api<4,>=3->finrl==0.3.6) (1.9.2)\r\n",
      "Requirement already satisfied: frozenlist>=1.1.1 in /home/james/miniconda3/envs/algo310/lib/python3.10/site-packages (from aiohttp==3.8.2->alpaca-trade-api<4,>=3->finrl==0.3.6) (1.3.3)\r\n",
      "Requirement already satisfied: aiosignal>=1.1.2 in /home/james/miniconda3/envs/algo310/lib/python3.10/site-packages (from aiohttp==3.8.2->alpaca-trade-api<4,>=3->finrl==0.3.6) (1.3.1)\r\n",
      "Requirement already satisfied: packaging in /home/james/miniconda3/envs/algo310/lib/python3.10/site-packages (from deprecation==2.1.0->alpaca-trade-api<4,>=3->finrl==0.3.6) (23.0)\r\n",
      "Requirement already satisfied: setuptools>=60.9.0 in /home/james/miniconda3/envs/algo310/lib/python3.10/site-packages (from ccxt<4,>=3->finrl==0.3.6) (67.8.0)\r\n",
      "Requirement already satisfied: certifi>=2018.1.18 in /home/james/miniconda3/envs/algo310/lib/python3.10/site-packages (from ccxt<4,>=3->finrl==0.3.6) (2023.5.7)\r\n",
      "Requirement already satisfied: cryptography>=2.6.1 in /home/james/miniconda3/envs/algo310/lib/python3.10/site-packages (from ccxt<4,>=3->finrl==0.3.6) (39.0.1)\r\n",
      "Requirement already satisfied: aiodns>=1.1.1 in /home/james/miniconda3/envs/algo310/lib/python3.10/site-packages (from ccxt<4,>=3->finrl==0.3.6) (3.0.0)\r\n",
      "Requirement already satisfied: pyluach in /home/james/miniconda3/envs/algo310/lib/python3.10/site-packages (from exchange-calendars<5,>=4->finrl==0.3.6) (2.2.0)\r\n",
      "Requirement already satisfied: python-dateutil in /home/james/.local/lib/python3.10/site-packages (from exchange-calendars<5,>=4->finrl==0.3.6) (2.8.2)\r\n",
      "Requirement already satisfied: pytz in /home/james/.local/lib/python3.10/site-packages (from exchange-calendars<5,>=4->finrl==0.3.6) (2023.3)\r\n",
      "Requirement already satisfied: toolz in /home/james/miniconda3/envs/algo310/lib/python3.10/site-packages (from exchange-calendars<5,>=4->finrl==0.3.6) (0.12.0)\r\n",
      "Requirement already satisfied: korean-lunar-calendar in /home/james/miniconda3/envs/algo310/lib/python3.10/site-packages (from exchange-calendars<5,>=4->finrl==0.3.6) (0.3.1)\r\n",
      "Requirement already satisfied: six in /home/james/miniconda3/envs/algo310/lib/python3.10/site-packages (from jqdatasdk<2,>=1->finrl==0.3.6) (1.16.0)\r\n",
      "Requirement already satisfied: SQLAlchemy>=1.2.8 in /home/james/miniconda3/envs/algo310/lib/python3.10/site-packages (from jqdatasdk<2,>=1->finrl==0.3.6) (1.4.49)\r\n",
      "Requirement already satisfied: thriftpy2>=0.3.9 in /home/james/miniconda3/envs/algo310/lib/python3.10/site-packages (from jqdatasdk<2,>=1->finrl==0.3.6) (0.4.16)\r\n",
      "Requirement already satisfied: pymysql>=0.7.6 in /home/james/miniconda3/envs/algo310/lib/python3.10/site-packages (from jqdatasdk<2,>=1->finrl==0.3.6) (1.1.0)\r\n",
      "Requirement already satisfied: ipython>=3.2.3 in /home/james/miniconda3/envs/algo310/lib/python3.10/site-packages (from pyfolio<0.10,>=0.9->finrl==0.3.6) (8.12.0)\r\n",
      "Requirement already satisfied: matplotlib>=1.4.0 in /home/james/.local/lib/python3.10/site-packages (from pyfolio<0.10,>=0.9->finrl==0.3.6) (3.7.2)\r\n",
      "Requirement already satisfied: scipy>=0.14.0 in /home/james/.local/lib/python3.10/site-packages (from pyfolio<0.10,>=0.9->finrl==0.3.6) (1.11.1)\r\n",
      "Requirement already satisfied: seaborn>=0.7.1 in /home/james/miniconda3/envs/algo310/lib/python3.10/site-packages (from pyfolio<0.10,>=0.9->finrl==0.3.6) (0.12.2)\r\n",
      "Requirement already satisfied: empyrical>=0.5.0 in /home/james/miniconda3/envs/algo310/lib/python3.10/site-packages (from pyfolio<0.10,>=0.9->finrl==0.3.6) (0.5.5)\r\n",
      "Requirement already satisfied: cvxpy<2.0.0,>=1.1.19 in /home/james/miniconda3/envs/algo310/lib/python3.10/site-packages (from pyportfolioopt<2,>=1->finrl==0.3.6) (1.3.2)\r\n",
      "Requirement already satisfied: click>=7.0 in /home/james/.local/lib/python3.10/site-packages (from ray[default,tune]<3,>=2->finrl==0.3.6) (8.1.4)\r\n",
      "Requirement already satisfied: filelock in /home/james/miniconda3/envs/algo310/lib/python3.10/site-packages (from ray[default,tune]<3,>=2->finrl==0.3.6) (3.12.2)\r\n",
      "Requirement already satisfied: jsonschema in /home/james/miniconda3/envs/algo310/lib/python3.10/site-packages (from ray[default,tune]<3,>=2->finrl==0.3.6) (4.17.3)\r\n",
      "Requirement already satisfied: protobuf!=3.19.5,>=3.15.3 in /home/james/miniconda3/envs/algo310/lib/python3.10/site-packages (from ray[default,tune]<3,>=2->finrl==0.3.6) (4.23.4)\r\n",
      "Requirement already satisfied: grpcio<=1.51.3,>=1.42.0 in /home/james/miniconda3/envs/algo310/lib/python3.10/site-packages (from ray[default,tune]<3,>=2->finrl==0.3.6) (1.51.3)\r\n",
      "Requirement already satisfied: tensorboardX>=1.9 in /home/james/miniconda3/envs/algo310/lib/python3.10/site-packages (from ray[default,tune]<3,>=2->finrl==0.3.6) (2.6.1)\r\n",
      "Requirement already satisfied: pyarrow>=6.0.1 in /home/james/miniconda3/envs/algo310/lib/python3.10/site-packages (from ray[default,tune]<3,>=2->finrl==0.3.6) (12.0.1)\r\n",
      "Requirement already satisfied: aiohttp-cors in /home/james/miniconda3/envs/algo310/lib/python3.10/site-packages (from ray[default,tune]<3,>=2->finrl==0.3.6) (0.7.0)\r\n",
      "Requirement already satisfied: colorful in /home/james/miniconda3/envs/algo310/lib/python3.10/site-packages (from ray[default,tune]<3,>=2->finrl==0.3.6) (0.5.5)\r\n",
      "Requirement already satisfied: py-spy>=0.2.0 in /home/james/miniconda3/envs/algo310/lib/python3.10/site-packages (from ray[default,tune]<3,>=2->finrl==0.3.6) (0.3.14)\r\n",
      "Requirement already satisfied: gpustat>=1.0.0 in /home/james/miniconda3/envs/algo310/lib/python3.10/site-packages (from ray[default,tune]<3,>=2->finrl==0.3.6) (1.1)\r\n",
      "Requirement already satisfied: opencensus in /home/james/miniconda3/envs/algo310/lib/python3.10/site-packages (from ray[default,tune]<3,>=2->finrl==0.3.6) (0.11.2)\r\n",
      "Requirement already satisfied: pydantic in /home/james/miniconda3/envs/algo310/lib/python3.10/site-packages (from ray[default,tune]<3,>=2->finrl==0.3.6) (2.0.2)\r\n",
      "Requirement already satisfied: prometheus-client>=0.7.1 in /home/james/miniconda3/envs/algo310/lib/python3.10/site-packages (from ray[default,tune]<3,>=2->finrl==0.3.6) (0.14.1)\r\n",
      "Requirement already satisfied: smart-open in /home/james/miniconda3/envs/algo310/lib/python3.10/site-packages (from ray[default,tune]<3,>=2->finrl==0.3.6) (6.3.0)\r\n",
      "Requirement already satisfied: virtualenv<20.21.1,>=20.0.24 in /home/james/miniconda3/envs/algo310/lib/python3.10/site-packages (from ray[default,tune]<3,>=2->finrl==0.3.6) (20.21.0)\r\n",
      "Requirement already satisfied: joblib>=1.1.1 in /home/james/.local/lib/python3.10/site-packages (from scikit-learn<2,>=1->finrl==0.3.6) (1.2.0)\r\n",
      "Requirement already satisfied: threadpoolctl>=2.0.0 in /home/james/.local/lib/python3.10/site-packages (from scikit-learn<2,>=1->finrl==0.3.6) (3.1.0)\r\n",
      "Requirement already satisfied: gymnasium==0.28.1 in /home/james/miniconda3/envs/algo310/lib/python3.10/site-packages (from stable-baselines3[extra]>=2.0.0a5->finrl==0.3.6) (0.28.1)\r\n",
      "Requirement already satisfied: torch>=1.11 in /home/james/miniconda3/envs/algo310/lib/python3.10/site-packages (from stable-baselines3[extra]>=2.0.0a5->finrl==0.3.6) (2.0.1)\r\n",
      "Requirement already satisfied: cloudpickle in /home/james/miniconda3/envs/algo310/lib/python3.10/site-packages (from stable-baselines3[extra]>=2.0.0a5->finrl==0.3.6) (2.2.1)\r\n",
      "Requirement already satisfied: opencv-python in /home/james/miniconda3/envs/algo310/lib/python3.10/site-packages (from stable-baselines3[extra]>=2.0.0a5->finrl==0.3.6) (4.8.0.74)\r\n",
      "Requirement already satisfied: tensorboard>=2.9.1 in /home/james/miniconda3/envs/algo310/lib/python3.10/site-packages (from stable-baselines3[extra]>=2.0.0a5->finrl==0.3.6) (2.13.0)\r\n",
      "Requirement already satisfied: psutil in /home/james/.local/lib/python3.10/site-packages (from stable-baselines3[extra]>=2.0.0a5->finrl==0.3.6) (5.9.5)\r\n",
      "Requirement already satisfied: tqdm in /home/james/miniconda3/envs/algo310/lib/python3.10/site-packages (from stable-baselines3[extra]>=2.0.0a5->finrl==0.3.6) (4.65.0)\r\n",
      "Requirement already satisfied: rich in /home/james/.local/lib/python3.10/site-packages (from stable-baselines3[extra]>=2.0.0a5->finrl==0.3.6) (13.4.2)\r\n",
      "Requirement already satisfied: shimmy[atari]~=0.2.1 in /home/james/miniconda3/envs/algo310/lib/python3.10/site-packages (from stable-baselines3[extra]>=2.0.0a5->finrl==0.3.6) (0.2.1)\r\n",
      "Requirement already satisfied: pillow in /home/james/.local/lib/python3.10/site-packages (from stable-baselines3[extra]>=2.0.0a5->finrl==0.3.6) (10.0.0)\r\n",
      "Requirement already satisfied: autorom[accept-rom-license]~=0.6.0 in /home/james/miniconda3/envs/algo310/lib/python3.10/site-packages (from stable-baselines3[extra]>=2.0.0a5->finrl==0.3.6) (0.6.1)\r\n",
      "Requirement already satisfied: pygame in /home/james/miniconda3/envs/algo310/lib/python3.10/site-packages (from stable-baselines3[extra]>=2.0.0a5->finrl==0.3.6) (2.1.0)\r\n",
      "Requirement already satisfied: jax-jumpy>=1.0.0 in /home/james/miniconda3/envs/algo310/lib/python3.10/site-packages (from gymnasium==0.28.1->stable-baselines3[extra]>=2.0.0a5->finrl==0.3.6) (1.0.0)\r\n",
      "Requirement already satisfied: typing-extensions>=4.3.0 in /home/james/miniconda3/envs/algo310/lib/python3.10/site-packages (from gymnasium==0.28.1->stable-baselines3[extra]>=2.0.0a5->finrl==0.3.6) (4.6.3)\r\n",
      "Requirement already satisfied: farama-notifications>=0.0.1 in /home/james/miniconda3/envs/algo310/lib/python3.10/site-packages (from gymnasium==0.28.1->stable-baselines3[extra]>=2.0.0a5->finrl==0.3.6) (0.0.4)\r\n",
      "Requirement already satisfied: psycopg2-binary in /home/james/miniconda3/envs/algo310/lib/python3.10/site-packages (from wrds<4,>=3->finrl==0.3.6) (2.9.6)\r\n",
      "Requirement already satisfied: multitasking>=0.0.7 in /home/james/miniconda3/envs/algo310/lib/python3.10/site-packages (from yfinance<0.3,>=0.2->finrl==0.3.6) (0.0.11)\r\n",
      "Requirement already satisfied: lxml>=4.9.1 in /home/james/miniconda3/envs/algo310/lib/python3.10/site-packages (from yfinance<0.3,>=0.2->finrl==0.3.6) (4.9.1)\r\n",
      "Requirement already satisfied: appdirs>=1.4.4 in /home/james/miniconda3/envs/algo310/lib/python3.10/site-packages (from yfinance<0.3,>=0.2->finrl==0.3.6) (1.4.4)\r\n",
      "Requirement already satisfied: frozendict>=2.3.4 in /home/james/miniconda3/envs/algo310/lib/python3.10/site-packages (from yfinance<0.3,>=0.2->finrl==0.3.6) (2.3.8)\r\n",
      "Requirement already satisfied: beautifulsoup4>=4.11.1 in /home/james/miniconda3/envs/algo310/lib/python3.10/site-packages (from yfinance<0.3,>=0.2->finrl==0.3.6) (4.12.2)\r\n",
      "Requirement already satisfied: html5lib>=1.1 in /home/james/miniconda3/envs/algo310/lib/python3.10/site-packages (from yfinance<0.3,>=0.2->finrl==0.3.6) (1.1)\r\n",
      "Requirement already satisfied: gym in /home/james/miniconda3/envs/algo310/lib/python3.10/site-packages (from elegantrl@ git+https://github.com/AI4Finance-Foundation/ElegantRL.git#egg=elegantrl->finrl==0.3.6) (0.26.2)\r\n",
      "Requirement already satisfied: pycares>=4.0.0 in /home/james/miniconda3/envs/algo310/lib/python3.10/site-packages (from aiodns>=1.1.1->ccxt<4,>=3->finrl==0.3.6) (4.3.0)\r\n",
      "Requirement already satisfied: AutoROM.accept-rom-license in /home/james/miniconda3/envs/algo310/lib/python3.10/site-packages (from autorom[accept-rom-license]~=0.6.0->stable-baselines3[extra]>=2.0.0a5->finrl==0.3.6) (0.6.1)\r\n",
      "Requirement already satisfied: soupsieve>1.2 in /home/james/miniconda3/envs/algo310/lib/python3.10/site-packages (from beautifulsoup4>=4.11.1->yfinance<0.3,>=0.2->finrl==0.3.6) (2.4.1)\r\n",
      "Requirement already satisfied: cffi>=1.12 in /home/james/miniconda3/envs/algo310/lib/python3.10/site-packages (from cryptography>=2.6.1->ccxt<4,>=3->finrl==0.3.6) (1.15.1)\r\n",
      "Requirement already satisfied: osqp>=0.4.1 in /home/james/miniconda3/envs/algo310/lib/python3.10/site-packages (from cvxpy<2.0.0,>=1.1.19->pyportfolioopt<2,>=1->finrl==0.3.6) (0.6.3)\r\n",
      "Requirement already satisfied: ecos>=2 in /home/james/miniconda3/envs/algo310/lib/python3.10/site-packages (from cvxpy<2.0.0,>=1.1.19->pyportfolioopt<2,>=1->finrl==0.3.6) (2.0.12)\r\n",
      "Requirement already satisfied: scs>=1.1.6 in /home/james/miniconda3/envs/algo310/lib/python3.10/site-packages (from cvxpy<2.0.0,>=1.1.19->pyportfolioopt<2,>=1->finrl==0.3.6) (3.2.3)\r\n",
      "Requirement already satisfied: pandas-datareader>=0.2 in /home/james/miniconda3/envs/algo310/lib/python3.10/site-packages (from empyrical>=0.5.0->pyfolio<0.10,>=0.9->finrl==0.3.6) (0.10.0)\r\n",
      "Requirement already satisfied: nvidia-ml-py>=11.450.129 in /home/james/miniconda3/envs/algo310/lib/python3.10/site-packages (from gpustat>=1.0.0->ray[default,tune]<3,>=2->finrl==0.3.6) (12.535.77)\r\n",
      "Requirement already satisfied: blessed>=1.17.1 in /home/james/miniconda3/envs/algo310/lib/python3.10/site-packages (from gpustat>=1.0.0->ray[default,tune]<3,>=2->finrl==0.3.6) (1.20.0)\r\n",
      "Requirement already satisfied: webencodings in /home/james/miniconda3/envs/algo310/lib/python3.10/site-packages (from html5lib>=1.1->yfinance<0.3,>=0.2->finrl==0.3.6) (0.5.1)\r\n",
      "Requirement already satisfied: backcall in /home/james/miniconda3/envs/algo310/lib/python3.10/site-packages (from ipython>=3.2.3->pyfolio<0.10,>=0.9->finrl==0.3.6) (0.2.0)\r\n",
      "Requirement already satisfied: decorator in /home/james/miniconda3/envs/algo310/lib/python3.10/site-packages (from ipython>=3.2.3->pyfolio<0.10,>=0.9->finrl==0.3.6) (5.1.1)\r\n",
      "Requirement already satisfied: jedi>=0.16 in /home/james/miniconda3/envs/algo310/lib/python3.10/site-packages (from ipython>=3.2.3->pyfolio<0.10,>=0.9->finrl==0.3.6) (0.18.1)\r\n",
      "Requirement already satisfied: matplotlib-inline in /home/james/miniconda3/envs/algo310/lib/python3.10/site-packages (from ipython>=3.2.3->pyfolio<0.10,>=0.9->finrl==0.3.6) (0.1.6)\r\n",
      "Requirement already satisfied: pickleshare in /home/james/miniconda3/envs/algo310/lib/python3.10/site-packages (from ipython>=3.2.3->pyfolio<0.10,>=0.9->finrl==0.3.6) (0.7.5)\r\n",
      "Requirement already satisfied: prompt-toolkit!=3.0.37,<3.1.0,>=3.0.30 in /home/james/miniconda3/envs/algo310/lib/python3.10/site-packages (from ipython>=3.2.3->pyfolio<0.10,>=0.9->finrl==0.3.6) (3.0.36)\r\n",
      "Requirement already satisfied: pygments>=2.4.0 in /home/james/.local/lib/python3.10/site-packages (from ipython>=3.2.3->pyfolio<0.10,>=0.9->finrl==0.3.6) (2.15.1)\r\n",
      "Requirement already satisfied: stack-data in /home/james/miniconda3/envs/algo310/lib/python3.10/site-packages (from ipython>=3.2.3->pyfolio<0.10,>=0.9->finrl==0.3.6) (0.2.0)\r\n",
      "Requirement already satisfied: traitlets>=5 in /home/james/miniconda3/envs/algo310/lib/python3.10/site-packages (from ipython>=3.2.3->pyfolio<0.10,>=0.9->finrl==0.3.6) (5.7.1)\r\n",
      "Requirement already satisfied: pexpect>4.3 in /home/james/miniconda3/envs/algo310/lib/python3.10/site-packages (from ipython>=3.2.3->pyfolio<0.10,>=0.9->finrl==0.3.6) (4.8.0)\r\n",
      "Requirement already satisfied: contourpy>=1.0.1 in /home/james/.local/lib/python3.10/site-packages (from matplotlib>=1.4.0->pyfolio<0.10,>=0.9->finrl==0.3.6) (1.1.0)\r\n",
      "Requirement already satisfied: cycler>=0.10 in /home/james/.local/lib/python3.10/site-packages (from matplotlib>=1.4.0->pyfolio<0.10,>=0.9->finrl==0.3.6) (0.11.0)\r\n",
      "Requirement already satisfied: fonttools>=4.22.0 in /home/james/.local/lib/python3.10/site-packages (from matplotlib>=1.4.0->pyfolio<0.10,>=0.9->finrl==0.3.6) (4.40.0)\r\n",
      "Requirement already satisfied: kiwisolver>=1.0.1 in /home/james/.local/lib/python3.10/site-packages (from matplotlib>=1.4.0->pyfolio<0.10,>=0.9->finrl==0.3.6) (1.4.4)\r\n",
      "Requirement already satisfied: pyparsing<3.1,>=2.3.1 in /home/james/.local/lib/python3.10/site-packages (from matplotlib>=1.4.0->pyfolio<0.10,>=0.9->finrl==0.3.6) (3.0.9)\r\n",
      "Requirement already satisfied: tzdata>=2022.1 in /home/james/.local/lib/python3.10/site-packages (from pandas>=0.18.1->alpaca-trade-api<4,>=3->finrl==0.3.6) (2023.3)\r\n",
      "Requirement already satisfied: idna<4,>=2.5 in /home/james/miniconda3/envs/algo310/lib/python3.10/site-packages (from requests<3,>2->alpaca-trade-api<4,>=3->finrl==0.3.6) (3.4)\r\n",
      "Requirement already satisfied: ale-py~=0.8.1 in /home/james/miniconda3/envs/algo310/lib/python3.10/site-packages (from shimmy[atari]~=0.2.1->stable-baselines3[extra]>=2.0.0a5->finrl==0.3.6) (0.8.1)\r\n",
      "Requirement already satisfied: greenlet!=0.4.17 in /home/james/miniconda3/envs/algo310/lib/python3.10/site-packages (from SQLAlchemy>=1.2.8->jqdatasdk<2,>=1->finrl==0.3.6) (2.0.2)\r\n",
      "Requirement already satisfied: absl-py>=0.4 in /home/james/miniconda3/envs/algo310/lib/python3.10/site-packages (from tensorboard>=2.9.1->stable-baselines3[extra]>=2.0.0a5->finrl==0.3.6) (1.4.0)\r\n",
      "Requirement already satisfied: google-auth<3,>=1.6.3 in /home/james/miniconda3/envs/algo310/lib/python3.10/site-packages (from tensorboard>=2.9.1->stable-baselines3[extra]>=2.0.0a5->finrl==0.3.6) (2.21.0)\r\n",
      "Requirement already satisfied: google-auth-oauthlib<1.1,>=0.5 in /home/james/miniconda3/envs/algo310/lib/python3.10/site-packages (from tensorboard>=2.9.1->stable-baselines3[extra]>=2.0.0a5->finrl==0.3.6) (1.0.0)\r\n",
      "Requirement already satisfied: markdown>=2.6.8 in /home/james/miniconda3/envs/algo310/lib/python3.10/site-packages (from tensorboard>=2.9.1->stable-baselines3[extra]>=2.0.0a5->finrl==0.3.6) (3.4.3)\r\n",
      "Requirement already satisfied: tensorboard-data-server<0.8.0,>=0.7.0 in /home/james/miniconda3/envs/algo310/lib/python3.10/site-packages (from tensorboard>=2.9.1->stable-baselines3[extra]>=2.0.0a5->finrl==0.3.6) (0.7.1)\r\n",
      "Requirement already satisfied: werkzeug>=1.0.1 in /home/james/miniconda3/envs/algo310/lib/python3.10/site-packages (from tensorboard>=2.9.1->stable-baselines3[extra]>=2.0.0a5->finrl==0.3.6) (2.3.6)\r\n",
      "Requirement already satisfied: wheel>=0.26 in /home/james/miniconda3/envs/algo310/lib/python3.10/site-packages (from tensorboard>=2.9.1->stable-baselines3[extra]>=2.0.0a5->finrl==0.3.6) (0.38.4)\r\n",
      "Requirement already satisfied: ply<4.0,>=3.4 in /home/james/miniconda3/envs/algo310/lib/python3.10/site-packages (from thriftpy2>=0.3.9->jqdatasdk<2,>=1->finrl==0.3.6) (3.11)\r\n",
      "Requirement already satisfied: sympy in /home/james/miniconda3/envs/algo310/lib/python3.10/site-packages (from torch>=1.11->stable-baselines3[extra]>=2.0.0a5->finrl==0.3.6) (1.12)\r\n",
      "Requirement already satisfied: networkx in /home/james/miniconda3/envs/algo310/lib/python3.10/site-packages (from torch>=1.11->stable-baselines3[extra]>=2.0.0a5->finrl==0.3.6) (3.1)\r\n",
      "Requirement already satisfied: jinja2 in /home/james/miniconda3/envs/algo310/lib/python3.10/site-packages (from torch>=1.11->stable-baselines3[extra]>=2.0.0a5->finrl==0.3.6) (3.1.2)\r\n",
      "Requirement already satisfied: nvidia-cuda-nvrtc-cu11==11.7.99 in /home/james/miniconda3/envs/algo310/lib/python3.10/site-packages (from torch>=1.11->stable-baselines3[extra]>=2.0.0a5->finrl==0.3.6) (11.7.99)\r\n",
      "Requirement already satisfied: nvidia-cuda-runtime-cu11==11.7.99 in /home/james/miniconda3/envs/algo310/lib/python3.10/site-packages (from torch>=1.11->stable-baselines3[extra]>=2.0.0a5->finrl==0.3.6) (11.7.99)\r\n",
      "Requirement already satisfied: nvidia-cuda-cupti-cu11==11.7.101 in /home/james/miniconda3/envs/algo310/lib/python3.10/site-packages (from torch>=1.11->stable-baselines3[extra]>=2.0.0a5->finrl==0.3.6) (11.7.101)\r\n",
      "Requirement already satisfied: nvidia-cudnn-cu11==8.5.0.96 in /home/james/miniconda3/envs/algo310/lib/python3.10/site-packages (from torch>=1.11->stable-baselines3[extra]>=2.0.0a5->finrl==0.3.6) (8.5.0.96)\r\n",
      "Requirement already satisfied: nvidia-cublas-cu11==11.10.3.66 in /home/james/miniconda3/envs/algo310/lib/python3.10/site-packages (from torch>=1.11->stable-baselines3[extra]>=2.0.0a5->finrl==0.3.6) (11.10.3.66)\r\n",
      "Requirement already satisfied: nvidia-cufft-cu11==10.9.0.58 in /home/james/miniconda3/envs/algo310/lib/python3.10/site-packages (from torch>=1.11->stable-baselines3[extra]>=2.0.0a5->finrl==0.3.6) (10.9.0.58)\r\n",
      "Requirement already satisfied: nvidia-curand-cu11==10.2.10.91 in /home/james/miniconda3/envs/algo310/lib/python3.10/site-packages (from torch>=1.11->stable-baselines3[extra]>=2.0.0a5->finrl==0.3.6) (10.2.10.91)\r\n",
      "Requirement already satisfied: nvidia-cusolver-cu11==11.4.0.1 in /home/james/miniconda3/envs/algo310/lib/python3.10/site-packages (from torch>=1.11->stable-baselines3[extra]>=2.0.0a5->finrl==0.3.6) (11.4.0.1)\r\n",
      "Requirement already satisfied: nvidia-cusparse-cu11==11.7.4.91 in /home/james/miniconda3/envs/algo310/lib/python3.10/site-packages (from torch>=1.11->stable-baselines3[extra]>=2.0.0a5->finrl==0.3.6) (11.7.4.91)\r\n",
      "Requirement already satisfied: nvidia-nccl-cu11==2.14.3 in /home/james/miniconda3/envs/algo310/lib/python3.10/site-packages (from torch>=1.11->stable-baselines3[extra]>=2.0.0a5->finrl==0.3.6) (2.14.3)\r\n",
      "Requirement already satisfied: nvidia-nvtx-cu11==11.7.91 in /home/james/miniconda3/envs/algo310/lib/python3.10/site-packages (from torch>=1.11->stable-baselines3[extra]>=2.0.0a5->finrl==0.3.6) (11.7.91)\r\n",
      "Requirement already satisfied: triton==2.0.0 in /home/james/miniconda3/envs/algo310/lib/python3.10/site-packages (from torch>=1.11->stable-baselines3[extra]>=2.0.0a5->finrl==0.3.6) (2.0.0)\r\n",
      "Requirement already satisfied: cmake in /home/james/miniconda3/envs/algo310/lib/python3.10/site-packages (from triton==2.0.0->torch>=1.11->stable-baselines3[extra]>=2.0.0a5->finrl==0.3.6) (3.26.4)\r\n",
      "Requirement already satisfied: lit in /home/james/miniconda3/envs/algo310/lib/python3.10/site-packages (from triton==2.0.0->torch>=1.11->stable-baselines3[extra]>=2.0.0a5->finrl==0.3.6) (16.0.6)\r\n",
      "Requirement already satisfied: distlib<1,>=0.3.6 in /home/james/miniconda3/envs/algo310/lib/python3.10/site-packages (from virtualenv<20.21.1,>=20.0.24->ray[default,tune]<3,>=2->finrl==0.3.6) (0.3.6)\r\n",
      "Requirement already satisfied: platformdirs<4,>=2.4 in /home/james/miniconda3/envs/algo310/lib/python3.10/site-packages (from virtualenv<20.21.1,>=20.0.24->ray[default,tune]<3,>=2->finrl==0.3.6) (2.5.2)\r\n",
      "Requirement already satisfied: gym-notices>=0.0.4 in /home/james/miniconda3/envs/algo310/lib/python3.10/site-packages (from gym->elegantrl@ git+https://github.com/AI4Finance-Foundation/ElegantRL.git#egg=elegantrl->finrl==0.3.6) (0.0.8)\r\n",
      "Requirement already satisfied: box2d-py==2.3.5 in /home/james/miniconda3/envs/algo310/lib/python3.10/site-packages (from gym->elegantrl@ git+https://github.com/AI4Finance-Foundation/ElegantRL.git#egg=elegantrl->finrl==0.3.6) (2.3.5)\r\n",
      "Requirement already satisfied: swig==4.* in /home/james/miniconda3/envs/algo310/lib/python3.10/site-packages (from gym->elegantrl@ git+https://github.com/AI4Finance-Foundation/ElegantRL.git#egg=elegantrl->finrl==0.3.6) (4.1.1)\r\n",
      "Requirement already satisfied: pyrsistent!=0.17.0,!=0.17.1,!=0.17.2,>=0.14.0 in /home/james/miniconda3/envs/algo310/lib/python3.10/site-packages (from jsonschema->ray[default,tune]<3,>=2->finrl==0.3.6) (0.18.0)\r\n",
      "Requirement already satisfied: opencensus-context>=0.1.3 in /home/james/miniconda3/envs/algo310/lib/python3.10/site-packages (from opencensus->ray[default,tune]<3,>=2->finrl==0.3.6) (0.1.3)\r\n",
      "Requirement already satisfied: google-api-core<3.0.0,>=1.0.0 in /home/james/miniconda3/envs/algo310/lib/python3.10/site-packages (from opencensus->ray[default,tune]<3,>=2->finrl==0.3.6) (2.11.1)\r\n",
      "Requirement already satisfied: annotated-types>=0.4.0 in /home/james/miniconda3/envs/algo310/lib/python3.10/site-packages (from pydantic->ray[default,tune]<3,>=2->finrl==0.3.6) (0.5.0)\r\n",
      "Requirement already satisfied: pydantic-core==2.1.2 in /home/james/miniconda3/envs/algo310/lib/python3.10/site-packages (from pydantic->ray[default,tune]<3,>=2->finrl==0.3.6) (2.1.2)\r\n",
      "Requirement already satisfied: markdown-it-py>=2.2.0 in /home/james/.local/lib/python3.10/site-packages (from rich->stable-baselines3[extra]>=2.0.0a5->finrl==0.3.6) (3.0.0)\r\n",
      "Requirement already satisfied: importlib-resources in /home/james/miniconda3/envs/algo310/lib/python3.10/site-packages (from ale-py~=0.8.1->shimmy[atari]~=0.2.1->stable-baselines3[extra]>=2.0.0a5->finrl==0.3.6) (5.12.0)\r\n",
      "Requirement already satisfied: wcwidth>=0.1.4 in /home/james/miniconda3/envs/algo310/lib/python3.10/site-packages (from blessed>=1.17.1->gpustat>=1.0.0->ray[default,tune]<3,>=2->finrl==0.3.6) (0.2.5)\r\n",
      "Requirement already satisfied: pycparser in /home/james/miniconda3/envs/algo310/lib/python3.10/site-packages (from cffi>=1.12->cryptography>=2.6.1->ccxt<4,>=3->finrl==0.3.6) (2.21)\r\n",
      "Requirement already satisfied: googleapis-common-protos<2.0.dev0,>=1.56.2 in /home/james/miniconda3/envs/algo310/lib/python3.10/site-packages (from google-api-core<3.0.0,>=1.0.0->opencensus->ray[default,tune]<3,>=2->finrl==0.3.6) (1.59.1)\r\n",
      "Requirement already satisfied: cachetools<6.0,>=2.0.0 in /home/james/miniconda3/envs/algo310/lib/python3.10/site-packages (from google-auth<3,>=1.6.3->tensorboard>=2.9.1->stable-baselines3[extra]>=2.0.0a5->finrl==0.3.6) (5.3.1)\r\n",
      "Requirement already satisfied: pyasn1-modules>=0.2.1 in /home/james/miniconda3/envs/algo310/lib/python3.10/site-packages (from google-auth<3,>=1.6.3->tensorboard>=2.9.1->stable-baselines3[extra]>=2.0.0a5->finrl==0.3.6) (0.3.0)\r\n",
      "Requirement already satisfied: rsa<5,>=3.1.4 in /home/james/miniconda3/envs/algo310/lib/python3.10/site-packages (from google-auth<3,>=1.6.3->tensorboard>=2.9.1->stable-baselines3[extra]>=2.0.0a5->finrl==0.3.6) (4.9)\r\n",
      "Requirement already satisfied: requests-oauthlib>=0.7.0 in /home/james/miniconda3/envs/algo310/lib/python3.10/site-packages (from google-auth-oauthlib<1.1,>=0.5->tensorboard>=2.9.1->stable-baselines3[extra]>=2.0.0a5->finrl==0.3.6) (1.3.1)\r\n",
      "Requirement already satisfied: parso<0.9.0,>=0.8.0 in /home/james/miniconda3/envs/algo310/lib/python3.10/site-packages (from jedi>=0.16->ipython>=3.2.3->pyfolio<0.10,>=0.9->finrl==0.3.6) (0.8.3)\r\n",
      "Requirement already satisfied: mdurl~=0.1 in /home/james/.local/lib/python3.10/site-packages (from markdown-it-py>=2.2.0->rich->stable-baselines3[extra]>=2.0.0a5->finrl==0.3.6) (0.1.2)\r\n",
      "Requirement already satisfied: qdldl in /home/james/miniconda3/envs/algo310/lib/python3.10/site-packages (from osqp>=0.4.1->cvxpy<2.0.0,>=1.1.19->pyportfolioopt<2,>=1->finrl==0.3.6) (0.1.7.post0)\r\n",
      "Requirement already satisfied: ptyprocess>=0.5 in /home/james/miniconda3/envs/algo310/lib/python3.10/site-packages (from pexpect>4.3->ipython>=3.2.3->pyfolio<0.10,>=0.9->finrl==0.3.6) (0.7.0)\r\n",
      "Requirement already satisfied: MarkupSafe>=2.1.1 in /home/james/miniconda3/envs/algo310/lib/python3.10/site-packages (from werkzeug>=1.0.1->tensorboard>=2.9.1->stable-baselines3[extra]>=2.0.0a5->finrl==0.3.6) (2.1.1)\r\n",
      "Requirement already satisfied: executing in /home/james/miniconda3/envs/algo310/lib/python3.10/site-packages (from stack-data->ipython>=3.2.3->pyfolio<0.10,>=0.9->finrl==0.3.6) (0.8.3)\r\n",
      "Requirement already satisfied: asttokens in /home/james/miniconda3/envs/algo310/lib/python3.10/site-packages (from stack-data->ipython>=3.2.3->pyfolio<0.10,>=0.9->finrl==0.3.6) (2.0.5)\r\n",
      "Requirement already satisfied: pure-eval in /home/james/miniconda3/envs/algo310/lib/python3.10/site-packages (from stack-data->ipython>=3.2.3->pyfolio<0.10,>=0.9->finrl==0.3.6) (0.2.2)\r\n",
      "Requirement already satisfied: mpmath>=0.19 in /home/james/miniconda3/envs/algo310/lib/python3.10/site-packages (from sympy->torch>=1.11->stable-baselines3[extra]>=2.0.0a5->finrl==0.3.6) (1.3.0)\r\n",
      "Requirement already satisfied: pyasn1<0.6.0,>=0.4.6 in /home/james/miniconda3/envs/algo310/lib/python3.10/site-packages (from pyasn1-modules>=0.2.1->google-auth<3,>=1.6.3->tensorboard>=2.9.1->stable-baselines3[extra]>=2.0.0a5->finrl==0.3.6) (0.5.0)\r\n",
      "Requirement already satisfied: oauthlib>=3.0.0 in /home/james/miniconda3/envs/algo310/lib/python3.10/site-packages (from requests-oauthlib>=0.7.0->google-auth-oauthlib<1.1,>=0.5->tensorboard>=2.9.1->stable-baselines3[extra]>=2.0.0a5->finrl==0.3.6) (3.2.2)\r\n"
     ]
    }
   ],
   "source": [
    "# ## install finrl library\n",
    "!pip install wrds\n",
    "!pip install swig\n",
    "!pip install git+https://github.com/AI4Finance-Foundation/FinRL.git"
   ]
  },
  {
   "cell_type": "markdown",
   "metadata": {
    "id": "osBHhVysOEzi"
   },
   "source": [
    "\n",
    "<a id='1.2'></a>\n",
    "## 2.2. Check if the additional packages needed are present, if not install them.\n",
    "* Yahoo Finance API\n",
    "* pandas\n",
    "* numpy\n",
    "* matplotlib\n",
    "* stockstats\n",
    "* OpenAI gym\n",
    "* stable-baselines\n",
    "* tensorflow\n",
    "* pyfolio"
   ]
  },
  {
   "cell_type": "markdown",
   "metadata": {
    "id": "nGv01K8Sh1hn"
   },
   "source": [
    "<a id='1.3'></a>\n",
    "## 2.3. Import Packages"
   ]
  },
  {
   "cell_type": "code",
   "execution_count": 3,
   "metadata": {
    "id": "EeMK7Uentj1V",
    "ExecuteTime": {
     "end_time": "2023-07-12T14:15:43.568657897Z",
     "start_time": "2023-07-12T14:15:43.520668443Z"
    }
   },
   "outputs": [],
   "source": [
    "import warnings\n",
    "warnings.filterwarnings(\"ignore\")"
   ]
  },
  {
   "cell_type": "code",
   "execution_count": 10,
   "metadata": {
    "id": "lPqeTTwoh1hn",
    "ExecuteTime": {
     "end_time": "2023-07-12T14:12:46.404891708Z",
     "start_time": "2023-07-12T14:12:46.199454143Z"
    }
   },
   "outputs": [
    {
     "ename": "ImportError",
     "evalue": "cannot import name 'KO_NAMES' from 'charset_normalizer.constant' (/home/james/miniconda3/envs/algo310/lib/python3.10/site-packages/charset_normalizer/constant.py)",
     "output_type": "error",
     "traceback": [
      "\u001B[0;31m---------------------------------------------------------------------------\u001B[0m",
      "\u001B[0;31mModuleNotFoundError\u001B[0m                       Traceback (most recent call last)",
      "File \u001B[0;32m~/miniconda3/envs/algo310/lib/python3.10/site-packages/aiohttp/client_reqrep.py:70\u001B[0m\n\u001B[1;32m     69\u001B[0m \u001B[38;5;28;01mtry\u001B[39;00m:\n\u001B[0;32m---> 70\u001B[0m     \u001B[38;5;28;01mimport\u001B[39;00m \u001B[38;5;21;01mcchardet\u001B[39;00m \u001B[38;5;28;01mas\u001B[39;00m \u001B[38;5;21;01mchardet\u001B[39;00m\n\u001B[1;32m     71\u001B[0m \u001B[38;5;28;01mexcept\u001B[39;00m \u001B[38;5;167;01mImportError\u001B[39;00m:  \u001B[38;5;66;03m# pragma: no cover\u001B[39;00m\n",
      "\u001B[0;31mModuleNotFoundError\u001B[0m: No module named 'cchardet'",
      "\nDuring handling of the above exception, another exception occurred:\n",
      "\u001B[0;31mImportError\u001B[0m                               Traceback (most recent call last)",
      "Cell \u001B[0;32mIn[10], line 11\u001B[0m\n\u001B[1;32m      9\u001B[0m \u001B[38;5;28;01mfrom\u001B[39;00m \u001B[38;5;21;01mfinrl\u001B[39;00m\u001B[38;5;21;01m.\u001B[39;00m\u001B[38;5;21;01mconfig_tickers\u001B[39;00m \u001B[38;5;28;01mimport\u001B[39;00m DOW_30_TICKER\n\u001B[1;32m     10\u001B[0m \u001B[38;5;28;01mfrom\u001B[39;00m \u001B[38;5;21;01mfinrl\u001B[39;00m\u001B[38;5;21;01m.\u001B[39;00m\u001B[38;5;21;01mmeta\u001B[39;00m\u001B[38;5;21;01m.\u001B[39;00m\u001B[38;5;21;01mpreprocessor\u001B[39;00m\u001B[38;5;21;01m.\u001B[39;00m\u001B[38;5;21;01myahoodownloader\u001B[39;00m \u001B[38;5;28;01mimport\u001B[39;00m YahooDownloader\n\u001B[0;32m---> 11\u001B[0m \u001B[38;5;28;01mfrom\u001B[39;00m \u001B[38;5;21;01mfinrl\u001B[39;00m\u001B[38;5;21;01m.\u001B[39;00m\u001B[38;5;21;01mmeta\u001B[39;00m\u001B[38;5;21;01m.\u001B[39;00m\u001B[38;5;21;01mpreprocessor\u001B[39;00m\u001B[38;5;21;01m.\u001B[39;00m\u001B[38;5;21;01mpreprocessors\u001B[39;00m \u001B[38;5;28;01mimport\u001B[39;00m FeatureEngineer, data_split\n\u001B[1;32m     12\u001B[0m \u001B[38;5;28;01mfrom\u001B[39;00m \u001B[38;5;21;01mfinrl\u001B[39;00m\u001B[38;5;21;01m.\u001B[39;00m\u001B[38;5;21;01mmeta\u001B[39;00m\u001B[38;5;21;01m.\u001B[39;00m\u001B[38;5;21;01menv_stock_trading\u001B[39;00m\u001B[38;5;21;01m.\u001B[39;00m\u001B[38;5;21;01menv_stocktrading\u001B[39;00m \u001B[38;5;28;01mimport\u001B[39;00m StockTradingEnv\n\u001B[1;32m     13\u001B[0m \u001B[38;5;28;01mfrom\u001B[39;00m \u001B[38;5;21;01mfinrl\u001B[39;00m\u001B[38;5;21;01m.\u001B[39;00m\u001B[38;5;21;01magents\u001B[39;00m\u001B[38;5;21;01m.\u001B[39;00m\u001B[38;5;21;01mstablebaselines3\u001B[39;00m\u001B[38;5;21;01m.\u001B[39;00m\u001B[38;5;21;01mmodels\u001B[39;00m \u001B[38;5;28;01mimport\u001B[39;00m DRLAgent,DRLEnsembleAgent\n",
      "File \u001B[0;32m~/Sync/Python_Dev/FinRL_JDB/finrl/meta/preprocessor/preprocessors.py:10\u001B[0m\n\u001B[1;32m      7\u001B[0m \u001B[38;5;28;01mimport\u001B[39;00m \u001B[38;5;21;01mpandas\u001B[39;00m \u001B[38;5;28;01mas\u001B[39;00m \u001B[38;5;21;01mpd\u001B[39;00m\n\u001B[1;32m      8\u001B[0m \u001B[38;5;28;01mfrom\u001B[39;00m \u001B[38;5;21;01mstockstats\u001B[39;00m \u001B[38;5;28;01mimport\u001B[39;00m StockDataFrame \u001B[38;5;28;01mas\u001B[39;00m Sdf\n\u001B[0;32m---> 10\u001B[0m \u001B[38;5;28;01mfrom\u001B[39;00m \u001B[38;5;21;01mfinrl\u001B[39;00m \u001B[38;5;28;01mimport\u001B[39;00m config\n\u001B[1;32m     11\u001B[0m \u001B[38;5;28;01mfrom\u001B[39;00m \u001B[38;5;21;01mfinrl\u001B[39;00m\u001B[38;5;21;01m.\u001B[39;00m\u001B[38;5;21;01mmeta\u001B[39;00m\u001B[38;5;21;01m.\u001B[39;00m\u001B[38;5;21;01mpreprocessor\u001B[39;00m\u001B[38;5;21;01m.\u001B[39;00m\u001B[38;5;21;01myahoodownloader\u001B[39;00m \u001B[38;5;28;01mimport\u001B[39;00m YahooDownloader\n\u001B[1;32m     14\u001B[0m \u001B[38;5;28;01mdef\u001B[39;00m \u001B[38;5;21mload_dataset\u001B[39m(\u001B[38;5;241m*\u001B[39m, file_name: \u001B[38;5;28mstr\u001B[39m) \u001B[38;5;241m-\u001B[39m\u001B[38;5;241m>\u001B[39m pd\u001B[38;5;241m.\u001B[39mDataFrame:\n",
      "File \u001B[0;32m~/Sync/Python_Dev/FinRL_JDB/finrl/__init__.py:4\u001B[0m\n\u001B[1;32m      1\u001B[0m \u001B[38;5;28;01mfrom\u001B[39;00m \u001B[38;5;21;01m__future__\u001B[39;00m \u001B[38;5;28;01mimport\u001B[39;00m annotations\n\u001B[1;32m      3\u001B[0m \u001B[38;5;28;01mfrom\u001B[39;00m \u001B[38;5;21;01mfinrl\u001B[39;00m\u001B[38;5;21;01m.\u001B[39;00m\u001B[38;5;21;01mtest\u001B[39;00m \u001B[38;5;28;01mimport\u001B[39;00m test\n\u001B[0;32m----> 4\u001B[0m \u001B[38;5;28;01mfrom\u001B[39;00m \u001B[38;5;21;01mfinrl\u001B[39;00m\u001B[38;5;21;01m.\u001B[39;00m\u001B[38;5;21;01mtrade\u001B[39;00m \u001B[38;5;28;01mimport\u001B[39;00m trade\n\u001B[1;32m      5\u001B[0m \u001B[38;5;28;01mfrom\u001B[39;00m \u001B[38;5;21;01mfinrl\u001B[39;00m\u001B[38;5;21;01m.\u001B[39;00m\u001B[38;5;21;01mtrain\u001B[39;00m \u001B[38;5;28;01mimport\u001B[39;00m train\n",
      "File \u001B[0;32m~/Sync/Python_Dev/FinRL_JDB/finrl/trade.py:3\u001B[0m\n\u001B[1;32m      1\u001B[0m \u001B[38;5;28;01mfrom\u001B[39;00m \u001B[38;5;21;01m__future__\u001B[39;00m \u001B[38;5;28;01mimport\u001B[39;00m annotations\n\u001B[0;32m----> 3\u001B[0m \u001B[38;5;28;01mfrom\u001B[39;00m \u001B[38;5;21;01mfinrl\u001B[39;00m\u001B[38;5;21;01m.\u001B[39;00m\u001B[38;5;21;01mmeta\u001B[39;00m\u001B[38;5;21;01m.\u001B[39;00m\u001B[38;5;21;01menv_stock_trading\u001B[39;00m\u001B[38;5;21;01m.\u001B[39;00m\u001B[38;5;21;01menv_stock_papertrading\u001B[39;00m \u001B[38;5;28;01mimport\u001B[39;00m AlpacaPaperTrading\n\u001B[1;32m      4\u001B[0m \u001B[38;5;28;01mfrom\u001B[39;00m \u001B[38;5;21;01mfinrl\u001B[39;00m\u001B[38;5;21;01m.\u001B[39;00m\u001B[38;5;21;01mtest\u001B[39;00m \u001B[38;5;28;01mimport\u001B[39;00m test\n\u001B[1;32m      7\u001B[0m \u001B[38;5;28;01mdef\u001B[39;00m \u001B[38;5;21mtrade\u001B[39m(\n\u001B[1;32m      8\u001B[0m     start_date,\n\u001B[1;32m      9\u001B[0m     end_date,\n\u001B[0;32m   (...)\u001B[0m\n\u001B[1;32m     22\u001B[0m     \u001B[38;5;241m*\u001B[39m\u001B[38;5;241m*\u001B[39mkwargs,\n\u001B[1;32m     23\u001B[0m ):\n",
      "File \u001B[0;32m~/Sync/Python_Dev/FinRL_JDB/finrl/meta/env_stock_trading/env_stock_papertrading.py:7\u001B[0m\n\u001B[1;32m      4\u001B[0m \u001B[38;5;28;01mimport\u001B[39;00m \u001B[38;5;21;01mthreading\u001B[39;00m\n\u001B[1;32m      5\u001B[0m \u001B[38;5;28;01mimport\u001B[39;00m \u001B[38;5;21;01mtime\u001B[39;00m\n\u001B[0;32m----> 7\u001B[0m \u001B[38;5;28;01mimport\u001B[39;00m \u001B[38;5;21;01malpaca_trade_api\u001B[39;00m \u001B[38;5;28;01mas\u001B[39;00m \u001B[38;5;21;01mtradeapi\u001B[39;00m\n\u001B[1;32m      8\u001B[0m \u001B[38;5;28;01mimport\u001B[39;00m \u001B[38;5;21;01mgymnasium\u001B[39;00m \u001B[38;5;28;01mas\u001B[39;00m \u001B[38;5;21;01mgym\u001B[39;00m\n\u001B[1;32m      9\u001B[0m \u001B[38;5;28;01mimport\u001B[39;00m \u001B[38;5;21;01mnumpy\u001B[39;00m \u001B[38;5;28;01mas\u001B[39;00m \u001B[38;5;21;01mnp\u001B[39;00m\n",
      "File \u001B[0;32m~/miniconda3/envs/algo310/lib/python3.10/site-packages/alpaca_trade_api/__init__.py:4\u001B[0m\n\u001B[1;32m      1\u001B[0m __version__ \u001B[38;5;241m=\u001B[39m \u001B[38;5;124m'\u001B[39m\u001B[38;5;124m3.0.2\u001B[39m\u001B[38;5;124m'\u001B[39m\n\u001B[1;32m      3\u001B[0m \u001B[38;5;28;01mfrom\u001B[39;00m \u001B[38;5;21;01m.\u001B[39;00m\u001B[38;5;21;01mrest\u001B[39;00m \u001B[38;5;28;01mimport\u001B[39;00m REST, TimeFrame, TimeFrameUnit  \u001B[38;5;66;03m# noqa\u001B[39;00m\n\u001B[0;32m----> 4\u001B[0m \u001B[38;5;28;01mfrom\u001B[39;00m \u001B[38;5;21;01m.\u001B[39;00m\u001B[38;5;21;01mrest_async\u001B[39;00m \u001B[38;5;28;01mimport\u001B[39;00m AsyncRest  \u001B[38;5;66;03m# noqa\u001B[39;00m\n\u001B[1;32m      5\u001B[0m \u001B[38;5;28;01mfrom\u001B[39;00m \u001B[38;5;21;01m.\u001B[39;00m\u001B[38;5;21;01mstream\u001B[39;00m \u001B[38;5;28;01mimport\u001B[39;00m Stream\n",
      "File \u001B[0;32m~/miniconda3/envs/algo310/lib/python3.10/site-packages/alpaca_trade_api/rest_async.py:1\u001B[0m\n\u001B[0;32m----> 1\u001B[0m \u001B[38;5;28;01mimport\u001B[39;00m \u001B[38;5;21;01maiohttp\u001B[39;00m\n\u001B[1;32m      2\u001B[0m \u001B[38;5;28;01mimport\u001B[39;00m \u001B[38;5;21;01masyncio\u001B[39;00m\n\u001B[1;32m      4\u001B[0m \u001B[38;5;28;01mfrom\u001B[39;00m \u001B[38;5;21;01malpaca_trade_api\u001B[39;00m\u001B[38;5;21;01m.\u001B[39;00m\u001B[38;5;21;01mentity_v2\u001B[39;00m \u001B[38;5;28;01mimport\u001B[39;00m BarsV2, QuotesV2, TradesV2, \\\n\u001B[1;32m      5\u001B[0m     EntityList, TradeV2, QuoteV2\n",
      "File \u001B[0;32m~/miniconda3/envs/algo310/lib/python3.10/site-packages/aiohttp/__init__.py:6\u001B[0m\n\u001B[1;32m      3\u001B[0m \u001B[38;5;28;01mfrom\u001B[39;00m \u001B[38;5;21;01mtyping\u001B[39;00m \u001B[38;5;28;01mimport\u001B[39;00m Tuple\n\u001B[1;32m      5\u001B[0m \u001B[38;5;28;01mfrom\u001B[39;00m \u001B[38;5;21;01m.\u001B[39;00m \u001B[38;5;28;01mimport\u001B[39;00m hdrs \u001B[38;5;28;01mas\u001B[39;00m hdrs\n\u001B[0;32m----> 6\u001B[0m \u001B[38;5;28;01mfrom\u001B[39;00m \u001B[38;5;21;01m.\u001B[39;00m\u001B[38;5;21;01mclient\u001B[39;00m \u001B[38;5;28;01mimport\u001B[39;00m (\n\u001B[1;32m      7\u001B[0m     BaseConnector \u001B[38;5;28;01mas\u001B[39;00m BaseConnector,\n\u001B[1;32m      8\u001B[0m     ClientConnectionError \u001B[38;5;28;01mas\u001B[39;00m ClientConnectionError,\n\u001B[1;32m      9\u001B[0m     ClientConnectorCertificateError \u001B[38;5;28;01mas\u001B[39;00m ClientConnectorCertificateError,\n\u001B[1;32m     10\u001B[0m     ClientConnectorError \u001B[38;5;28;01mas\u001B[39;00m ClientConnectorError,\n\u001B[1;32m     11\u001B[0m     ClientConnectorSSLError \u001B[38;5;28;01mas\u001B[39;00m ClientConnectorSSLError,\n\u001B[1;32m     12\u001B[0m     ClientError \u001B[38;5;28;01mas\u001B[39;00m ClientError,\n\u001B[1;32m     13\u001B[0m     ClientHttpProxyError \u001B[38;5;28;01mas\u001B[39;00m ClientHttpProxyError,\n\u001B[1;32m     14\u001B[0m     ClientOSError \u001B[38;5;28;01mas\u001B[39;00m ClientOSError,\n\u001B[1;32m     15\u001B[0m     ClientPayloadError \u001B[38;5;28;01mas\u001B[39;00m ClientPayloadError,\n\u001B[1;32m     16\u001B[0m     ClientProxyConnectionError \u001B[38;5;28;01mas\u001B[39;00m ClientProxyConnectionError,\n\u001B[1;32m     17\u001B[0m     ClientRequest \u001B[38;5;28;01mas\u001B[39;00m ClientRequest,\n\u001B[1;32m     18\u001B[0m     ClientResponse \u001B[38;5;28;01mas\u001B[39;00m ClientResponse,\n\u001B[1;32m     19\u001B[0m     ClientResponseError \u001B[38;5;28;01mas\u001B[39;00m ClientResponseError,\n\u001B[1;32m     20\u001B[0m     ClientSession \u001B[38;5;28;01mas\u001B[39;00m ClientSession,\n\u001B[1;32m     21\u001B[0m     ClientSSLError \u001B[38;5;28;01mas\u001B[39;00m ClientSSLError,\n\u001B[1;32m     22\u001B[0m     ClientTimeout \u001B[38;5;28;01mas\u001B[39;00m ClientTimeout,\n\u001B[1;32m     23\u001B[0m     ClientWebSocketResponse \u001B[38;5;28;01mas\u001B[39;00m ClientWebSocketResponse,\n\u001B[1;32m     24\u001B[0m     ContentTypeError \u001B[38;5;28;01mas\u001B[39;00m ContentTypeError,\n\u001B[1;32m     25\u001B[0m     Fingerprint \u001B[38;5;28;01mas\u001B[39;00m Fingerprint,\n\u001B[1;32m     26\u001B[0m     InvalidURL \u001B[38;5;28;01mas\u001B[39;00m InvalidURL,\n\u001B[1;32m     27\u001B[0m     NamedPipeConnector \u001B[38;5;28;01mas\u001B[39;00m NamedPipeConnector,\n\u001B[1;32m     28\u001B[0m     RequestInfo \u001B[38;5;28;01mas\u001B[39;00m RequestInfo,\n\u001B[1;32m     29\u001B[0m     ServerConnectionError \u001B[38;5;28;01mas\u001B[39;00m ServerConnectionError,\n\u001B[1;32m     30\u001B[0m     ServerDisconnectedError \u001B[38;5;28;01mas\u001B[39;00m ServerDisconnectedError,\n\u001B[1;32m     31\u001B[0m     ServerFingerprintMismatch \u001B[38;5;28;01mas\u001B[39;00m ServerFingerprintMismatch,\n\u001B[1;32m     32\u001B[0m     ServerTimeoutError \u001B[38;5;28;01mas\u001B[39;00m ServerTimeoutError,\n\u001B[1;32m     33\u001B[0m     TCPConnector \u001B[38;5;28;01mas\u001B[39;00m TCPConnector,\n\u001B[1;32m     34\u001B[0m     TooManyRedirects \u001B[38;5;28;01mas\u001B[39;00m TooManyRedirects,\n\u001B[1;32m     35\u001B[0m     UnixConnector \u001B[38;5;28;01mas\u001B[39;00m UnixConnector,\n\u001B[1;32m     36\u001B[0m     WSServerHandshakeError \u001B[38;5;28;01mas\u001B[39;00m WSServerHandshakeError,\n\u001B[1;32m     37\u001B[0m     request \u001B[38;5;28;01mas\u001B[39;00m request,\n\u001B[1;32m     38\u001B[0m )\n\u001B[1;32m     39\u001B[0m \u001B[38;5;28;01mfrom\u001B[39;00m \u001B[38;5;21;01m.\u001B[39;00m\u001B[38;5;21;01mcookiejar\u001B[39;00m \u001B[38;5;28;01mimport\u001B[39;00m CookieJar \u001B[38;5;28;01mas\u001B[39;00m CookieJar, DummyCookieJar \u001B[38;5;28;01mas\u001B[39;00m DummyCookieJar\n\u001B[1;32m     40\u001B[0m \u001B[38;5;28;01mfrom\u001B[39;00m \u001B[38;5;21;01m.\u001B[39;00m\u001B[38;5;21;01mformdata\u001B[39;00m \u001B[38;5;28;01mimport\u001B[39;00m FormData \u001B[38;5;28;01mas\u001B[39;00m FormData\n",
      "File \u001B[0;32m~/miniconda3/envs/algo310/lib/python3.10/site-packages/aiohttp/client.py:59\u001B[0m\n\u001B[1;32m     37\u001B[0m \u001B[38;5;28;01mfrom\u001B[39;00m \u001B[38;5;21;01m.\u001B[39;00m\u001B[38;5;21;01mabc\u001B[39;00m \u001B[38;5;28;01mimport\u001B[39;00m AbstractCookieJar\n\u001B[1;32m     38\u001B[0m \u001B[38;5;28;01mfrom\u001B[39;00m \u001B[38;5;21;01m.\u001B[39;00m\u001B[38;5;21;01mclient_exceptions\u001B[39;00m \u001B[38;5;28;01mimport\u001B[39;00m (\n\u001B[1;32m     39\u001B[0m     ClientConnectionError \u001B[38;5;28;01mas\u001B[39;00m ClientConnectionError,\n\u001B[1;32m     40\u001B[0m     ClientConnectorCertificateError \u001B[38;5;28;01mas\u001B[39;00m ClientConnectorCertificateError,\n\u001B[0;32m   (...)\u001B[0m\n\u001B[1;32m     57\u001B[0m     WSServerHandshakeError \u001B[38;5;28;01mas\u001B[39;00m WSServerHandshakeError,\n\u001B[1;32m     58\u001B[0m )\n\u001B[0;32m---> 59\u001B[0m \u001B[38;5;28;01mfrom\u001B[39;00m \u001B[38;5;21;01m.\u001B[39;00m\u001B[38;5;21;01mclient_reqrep\u001B[39;00m \u001B[38;5;28;01mimport\u001B[39;00m (\n\u001B[1;32m     60\u001B[0m     ClientRequest \u001B[38;5;28;01mas\u001B[39;00m ClientRequest,\n\u001B[1;32m     61\u001B[0m     ClientResponse \u001B[38;5;28;01mas\u001B[39;00m ClientResponse,\n\u001B[1;32m     62\u001B[0m     Fingerprint \u001B[38;5;28;01mas\u001B[39;00m Fingerprint,\n\u001B[1;32m     63\u001B[0m     RequestInfo \u001B[38;5;28;01mas\u001B[39;00m RequestInfo,\n\u001B[1;32m     64\u001B[0m     _merge_ssl_params,\n\u001B[1;32m     65\u001B[0m )\n\u001B[1;32m     66\u001B[0m \u001B[38;5;28;01mfrom\u001B[39;00m \u001B[38;5;21;01m.\u001B[39;00m\u001B[38;5;21;01mclient_ws\u001B[39;00m \u001B[38;5;28;01mimport\u001B[39;00m ClientWebSocketResponse \u001B[38;5;28;01mas\u001B[39;00m ClientWebSocketResponse\n\u001B[1;32m     67\u001B[0m \u001B[38;5;28;01mfrom\u001B[39;00m \u001B[38;5;21;01m.\u001B[39;00m\u001B[38;5;21;01mconnector\u001B[39;00m \u001B[38;5;28;01mimport\u001B[39;00m (\n\u001B[1;32m     68\u001B[0m     BaseConnector \u001B[38;5;28;01mas\u001B[39;00m BaseConnector,\n\u001B[1;32m     69\u001B[0m     NamedPipeConnector \u001B[38;5;28;01mas\u001B[39;00m NamedPipeConnector,\n\u001B[1;32m     70\u001B[0m     TCPConnector \u001B[38;5;28;01mas\u001B[39;00m TCPConnector,\n\u001B[1;32m     71\u001B[0m     UnixConnector \u001B[38;5;28;01mas\u001B[39;00m UnixConnector,\n\u001B[1;32m     72\u001B[0m )\n",
      "File \u001B[0;32m~/miniconda3/envs/algo310/lib/python3.10/site-packages/aiohttp/client_reqrep.py:72\u001B[0m\n\u001B[1;32m     70\u001B[0m     \u001B[38;5;28;01mimport\u001B[39;00m \u001B[38;5;21;01mcchardet\u001B[39;00m \u001B[38;5;28;01mas\u001B[39;00m \u001B[38;5;21;01mchardet\u001B[39;00m\n\u001B[1;32m     71\u001B[0m \u001B[38;5;28;01mexcept\u001B[39;00m \u001B[38;5;167;01mImportError\u001B[39;00m:  \u001B[38;5;66;03m# pragma: no cover\u001B[39;00m\n\u001B[0;32m---> 72\u001B[0m     \u001B[38;5;28;01mimport\u001B[39;00m \u001B[38;5;21;01mcharset_normalizer\u001B[39;00m \u001B[38;5;28;01mas\u001B[39;00m \u001B[38;5;21;01mchardet\u001B[39;00m  \u001B[38;5;66;03m# type: ignore[no-redef]\u001B[39;00m\n\u001B[1;32m     75\u001B[0m __all__ \u001B[38;5;241m=\u001B[39m (\u001B[38;5;124m\"\u001B[39m\u001B[38;5;124mClientRequest\u001B[39m\u001B[38;5;124m\"\u001B[39m, \u001B[38;5;124m\"\u001B[39m\u001B[38;5;124mClientResponse\u001B[39m\u001B[38;5;124m\"\u001B[39m, \u001B[38;5;124m\"\u001B[39m\u001B[38;5;124mRequestInfo\u001B[39m\u001B[38;5;124m\"\u001B[39m, \u001B[38;5;124m\"\u001B[39m\u001B[38;5;124mFingerprint\u001B[39m\u001B[38;5;124m\"\u001B[39m)\n\u001B[1;32m     78\u001B[0m \u001B[38;5;28;01mif\u001B[39;00m TYPE_CHECKING:  \u001B[38;5;66;03m# pragma: no cover\u001B[39;00m\n",
      "File \u001B[0;32m~/miniconda3/envs/algo310/lib/python3.10/site-packages/charset_normalizer/__init__.py:24\u001B[0m\n\u001B[1;32m      1\u001B[0m \u001B[38;5;124;03m\"\"\"\u001B[39;00m\n\u001B[1;32m      2\u001B[0m \u001B[38;5;124;03mCharset-Normalizer\u001B[39;00m\n\u001B[1;32m      3\u001B[0m \u001B[38;5;124;03m~~~~~~~~~~~~~~\u001B[39;00m\n\u001B[0;32m   (...)\u001B[0m\n\u001B[1;32m     21\u001B[0m \u001B[38;5;124;03m:license: MIT, see LICENSE for more details.\u001B[39;00m\n\u001B[1;32m     22\u001B[0m \u001B[38;5;124;03m\"\"\"\u001B[39;00m\n\u001B[1;32m     23\u001B[0m \u001B[38;5;28;01mfrom\u001B[39;00m \u001B[38;5;21;01mcharset_normalizer\u001B[39;00m\u001B[38;5;21;01m.\u001B[39;00m\u001B[38;5;21;01mapi\u001B[39;00m \u001B[38;5;28;01mimport\u001B[39;00m from_fp, from_path, from_bytes, normalize\n\u001B[0;32m---> 24\u001B[0m \u001B[38;5;28;01mfrom\u001B[39;00m \u001B[38;5;21;01mcharset_normalizer\u001B[39;00m\u001B[38;5;21;01m.\u001B[39;00m\u001B[38;5;21;01mlegacy\u001B[39;00m \u001B[38;5;28;01mimport\u001B[39;00m detect\n\u001B[1;32m     25\u001B[0m \u001B[38;5;28;01mfrom\u001B[39;00m \u001B[38;5;21;01mcharset_normalizer\u001B[39;00m\u001B[38;5;21;01m.\u001B[39;00m\u001B[38;5;21;01mversion\u001B[39;00m \u001B[38;5;28;01mimport\u001B[39;00m __version__, VERSION\n\u001B[1;32m     26\u001B[0m \u001B[38;5;28;01mfrom\u001B[39;00m \u001B[38;5;21;01mcharset_normalizer\u001B[39;00m\u001B[38;5;21;01m.\u001B[39;00m\u001B[38;5;21;01mmodels\u001B[39;00m \u001B[38;5;28;01mimport\u001B[39;00m CharsetMatch, CharsetMatches\n",
      "File \u001B[0;32m~/miniconda3/envs/algo310/lib/python3.10/site-packages/charset_normalizer/api.py:5\u001B[0m\n\u001B[1;32m      2\u001B[0m \u001B[38;5;28;01mfrom\u001B[39;00m \u001B[38;5;21;01mtyping\u001B[39;00m \u001B[38;5;28;01mimport\u001B[39;00m List, BinaryIO, Optional, Set, Union\n\u001B[1;32m      4\u001B[0m \u001B[38;5;28;01mtry\u001B[39;00m:\n\u001B[0;32m----> 5\u001B[0m     \u001B[38;5;28;01mfrom\u001B[39;00m \u001B[38;5;21;01mos\u001B[39;00m \u001B[38;5;28;01mimport\u001B[39;00m PathLike\n\u001B[1;32m      6\u001B[0m \u001B[38;5;28;01mexcept\u001B[39;00m \u001B[38;5;167;01mImportError\u001B[39;00m:\n\u001B[1;32m      7\u001B[0m     PathLike \u001B[38;5;241m=\u001B[39m Union[\u001B[38;5;28mstr\u001B[39m, \u001B[38;5;124m'\u001B[39m\u001B[38;5;124mos.PathLike[str]\u001B[39m\u001B[38;5;124m'\u001B[39m]  \u001B[38;5;66;03m# type: ignore\u001B[39;00m\n",
      "File \u001B[0;32m~/miniconda3/envs/algo310/lib/python3.10/site-packages/charset_normalizer/cd.py:8\u001B[0m\n\u001B[1;32m      5\u001B[0m \u001B[38;5;28;01mfrom\u001B[39;00m \u001B[38;5;21;01mtyping\u001B[39;00m \u001B[38;5;28;01mimport\u001B[39;00m Counter \u001B[38;5;28;01mas\u001B[39;00m TypeCounter, Dict, List, Optional, Tuple\n\u001B[1;32m      7\u001B[0m \u001B[38;5;28;01mfrom\u001B[39;00m \u001B[38;5;21;01m.\u001B[39;00m\u001B[38;5;21;01massets\u001B[39;00m \u001B[38;5;28;01mimport\u001B[39;00m FREQUENCIES\n\u001B[0;32m----> 8\u001B[0m \u001B[38;5;28;01mfrom\u001B[39;00m \u001B[38;5;21;01m.\u001B[39;00m\u001B[38;5;21;01mconstant\u001B[39;00m \u001B[38;5;28;01mimport\u001B[39;00m KO_NAMES, LANGUAGE_SUPPORTED_COUNT, TOO_SMALL_SEQUENCE, ZH_NAMES\n\u001B[1;32m      9\u001B[0m \u001B[38;5;28;01mfrom\u001B[39;00m \u001B[38;5;21;01m.\u001B[39;00m\u001B[38;5;21;01mmd\u001B[39;00m \u001B[38;5;28;01mimport\u001B[39;00m is_suspiciously_successive_range\n\u001B[1;32m     10\u001B[0m \u001B[38;5;28;01mfrom\u001B[39;00m \u001B[38;5;21;01m.\u001B[39;00m\u001B[38;5;21;01mmodels\u001B[39;00m \u001B[38;5;28;01mimport\u001B[39;00m CoherenceMatches\n",
      "\u001B[0;31mImportError\u001B[0m: cannot import name 'KO_NAMES' from 'charset_normalizer.constant' (/home/james/miniconda3/envs/algo310/lib/python3.10/site-packages/charset_normalizer/constant.py)"
     ]
    }
   ],
   "source": [
    "import pandas as pd\n",
    "import numpy as np\n",
    "import matplotlib\n",
    "import matplotlib.pyplot as plt\n",
    "# matplotlib.use('Agg')\n",
    "import datetime\n",
    "\n",
    "%matplotlib inline\n",
    "from finrl.config_tickers import DOW_30_TICKER\n",
    "from finrl.meta.preprocessor.yahoodownloader import YahooDownloader\n",
    "from finrl.meta.preprocessor.preprocessors import FeatureEngineer, data_split\n",
    "from finrl.meta.env_stock_trading.env_stocktrading import StockTradingEnv\n",
    "from finrl.agents.stablebaselines3.models import DRLAgent,DRLEnsembleAgent\n",
    "from finrl.plot import backtest_stats, backtest_plot, get_daily_return, get_baseline\n",
    "\n",
    "from pprint import pprint\n",
    "\n",
    "import sys\n",
    "sys.path.append(\"../FinRL-Library\")\n",
    "\n",
    "import itertools"
   ]
  },
  {
   "cell_type": "markdown",
   "metadata": {
    "id": "T2owTj985RW4"
   },
   "source": [
    "<a id='1.4'></a>\n",
    "## 2.4. Create Folders"
   ]
  },
  {
   "cell_type": "code",
   "execution_count": null,
   "metadata": {
    "id": "w9A8CN5R5PuZ"
   },
   "outputs": [],
   "source": [
    "import os\n",
    "from finrl.main import check_and_make_directories\n",
    "from finrl.config import (\n",
    "    DATA_SAVE_DIR,\n",
    "    TRAINED_MODEL_DIR,\n",
    "    TENSORBOARD_LOG_DIR,\n",
    "    RESULTS_DIR,\n",
    "    INDICATORS,\n",
    "    TRAIN_START_DATE,\n",
    "    TRAIN_END_DATE,\n",
    "    TEST_START_DATE,\n",
    "    TEST_END_DATE,\n",
    "    TRADE_START_DATE,\n",
    "    TRADE_END_DATE,\n",
    ")\n",
    "\n",
    "check_and_make_directories([DATA_SAVE_DIR, TRAINED_MODEL_DIR, TENSORBOARD_LOG_DIR, RESULTS_DIR])"
   ]
  },
  {
   "cell_type": "markdown",
   "metadata": {
    "id": "A289rQWMh1hq"
   },
   "source": [
    "<a id='2'></a>\n",
    "# Part 3. Download Data\n",
    "Yahoo Finance is a website that provides stock data, financial news, financial reports, etc. All the data provided by Yahoo Finance is free.\n",
    "* FinRL uses a class **YahooDownloader** to fetch data from Yahoo Finance API\n",
    "* Call Limit: Using the Public API (without authentication), you are limited to 2,000 requests per hour per IP (or up to a total of 48,000 requests a day).\n"
   ]
  },
  {
   "cell_type": "markdown",
   "metadata": {
    "id": "NPeQ7iS-LoMm"
   },
   "source": [
    "\n",
    "\n",
    "-----\n",
    "class YahooDownloader:\n",
    "    Provides methods for retrieving daily stock data from\n",
    "    Yahoo Finance API\n",
    "\n",
    "    Attributes\n",
    "    ----------\n",
    "        start_date : str\n",
    "            start date of the data (modified from config.py)\n",
    "        end_date : str\n",
    "            end date of the data (modified from config.py)\n",
    "        ticker_list : list\n",
    "            a list of stock tickers (modified from config.py)\n",
    "\n",
    "    Methods\n",
    "    -------\n",
    "    fetch_data()\n",
    "        Fetches data from yahoo API\n"
   ]
  },
  {
   "cell_type": "code",
   "execution_count": null,
   "metadata": {
    "colab": {
     "base_uri": "https://localhost:8080/"
    },
    "id": "JzqRRTOX6aFu",
    "outputId": "0f0f28dc-c5d6-4a43-8215-f4822087b0d3"
   },
   "outputs": [],
   "source": [
    "print(DOW_30_TICKER)"
   ]
  },
  {
   "cell_type": "code",
   "execution_count": null,
   "metadata": {
    "colab": {
     "base_uri": "https://localhost:8080/"
    },
    "id": "yCKm4om-s9kE",
    "outputId": "6fa2096c-ccbe-4789-c0f6-8f00357f6c31"
   },
   "outputs": [],
   "source": [
    "TRAIN_START_DATE = '2009-04-01'\n",
    "TRAIN_END_DATE = '2021-01-01'\n",
    "TEST_START_DATE = '2021-01-01'\n",
    "TEST_END_DATE = '2022-06-01'\n",
    "\n",
    "df = YahooDownloader(start_date = TRAIN_START_DATE,\n",
    "                     end_date = TEST_END_DATE,\n",
    "                     ticker_list = DOW_30_TICKER).fetch_data()"
   ]
  },
  {
   "cell_type": "code",
   "execution_count": null,
   "metadata": {
    "colab": {
     "base_uri": "https://localhost:8080/",
     "height": 206
    },
    "id": "GiRuFOTOtj1Y",
    "outputId": "6ea71da2-6073-42ab-9067-a58f8bd3fea2"
   },
   "outputs": [],
   "source": [
    "df.head()"
   ]
  },
  {
   "cell_type": "code",
   "execution_count": null,
   "metadata": {
    "colab": {
     "base_uri": "https://localhost:8080/",
     "height": 206
    },
    "id": "DSw4ZEzVtj1Z",
    "outputId": "d6a868ac-ac70-4b4c-e560-cd35b849f1cf"
   },
   "outputs": [],
   "source": [
    "df.tail()"
   ]
  },
  {
   "cell_type": "code",
   "execution_count": null,
   "metadata": {
    "colab": {
     "base_uri": "https://localhost:8080/"
    },
    "id": "CV3HrZHLh1hy",
    "outputId": "e787512d-6855-44fe-83ff-5c4c368a35a7"
   },
   "outputs": [],
   "source": [
    "df.shape"
   ]
  },
  {
   "cell_type": "code",
   "execution_count": null,
   "metadata": {
    "colab": {
     "base_uri": "https://localhost:8080/",
     "height": 206
    },
    "id": "4hYkeaPiICHS",
    "outputId": "1da546cf-a96a-4ffa-90d6-94cb055b2479"
   },
   "outputs": [],
   "source": [
    "df.sort_values(['date','tic']).head()"
   ]
  },
  {
   "cell_type": "code",
   "execution_count": null,
   "metadata": {
    "colab": {
     "base_uri": "https://localhost:8080/"
    },
    "id": "a2vryMsdNL9H",
    "outputId": "21aabda7-19b9-4428-d64d-1d545ccbe00e"
   },
   "outputs": [],
   "source": [
    "len(df.tic.unique())"
   ]
  },
  {
   "cell_type": "code",
   "execution_count": null,
   "metadata": {
    "colab": {
     "base_uri": "https://localhost:8080/"
    },
    "id": "XcNyXa7RNPrF",
    "outputId": "d5ba5da1-1594-4ba7-de9c-e6a0d63a5775"
   },
   "outputs": [],
   "source": [
    "df.tic.value_counts()"
   ]
  },
  {
   "cell_type": "markdown",
   "metadata": {
    "id": "uqC6c40Zh1iH"
   },
   "source": [
    "# Part 4: Preprocess Data\n",
    "Data preprocessing is a crucial step for training a high quality machine learning model. We need to check for missing data and do feature engineering in order to convert the data into a model-ready state.\n",
    "* Add technical indicators. In practical trading, various information needs to be taken into account, for example the historical stock prices, current holding shares, technical indicators, etc. In this article, we demonstrate two trend-following technical indicators: MACD and RSI.\n",
    "* Add turbulence index. Risk-aversion reflects whether an investor will choose to preserve the capital. It also influences one's trading strategy when facing different market volatility level. To control the risk in a worst-case scenario, such as financial crisis of 2007–2008, FinRL employs the financial turbulence index that measures extreme asset price fluctuation."
   ]
  },
  {
   "cell_type": "code",
   "execution_count": null,
   "metadata": {
    "id": "kM5bH9uroCeg"
   },
   "outputs": [],
   "source": [
    "#  INDICATORS = ['macd',\n",
    "#                'rsi_30',\n",
    "#                'cci_30',\n",
    "#                'dx_30']"
   ]
  },
  {
   "cell_type": "code",
   "execution_count": null,
   "metadata": {
    "colab": {
     "base_uri": "https://localhost:8080/"
    },
    "id": "jgXfBcjxtj1a",
    "outputId": "a097cbb0-75db-4a49-8b8c-82d3c9b55bf5"
   },
   "outputs": [],
   "source": [
    "fe = FeatureEngineer(use_technical_indicator=True,\n",
    "                     tech_indicator_list = INDICATORS,\n",
    "                     use_turbulence=True,\n",
    "                     user_defined_feature = False)\n",
    "\n",
    "processed = fe.preprocess_data(df)\n",
    "processed = processed.copy()\n",
    "processed = processed.fillna(0)\n",
    "processed = processed.replace(np.inf,0)"
   ]
  },
  {
   "cell_type": "code",
   "execution_count": null,
   "metadata": {
    "colab": {
     "base_uri": "https://localhost:8080/",
     "height": 206
    },
    "id": "grvhGJJII3Xn",
    "outputId": "407da177-21e8-4d17-d82f-00e549bdea7b"
   },
   "outputs": [],
   "source": [
    "processed.sample(5)"
   ]
  },
  {
   "cell_type": "markdown",
   "metadata": {
    "id": "-QsYaY0Dh1iw"
   },
   "source": [
    "<a id='4'></a>\n",
    "# Part 5. Design Environment\n",
    "Considering the stochastic and interactive nature of the automated stock trading tasks, a financial task is modeled as a **Markov Decision Process (MDP)** problem. The training process involves observing stock price change, taking an action and reward's calculation to have the agent adjusting its strategy accordingly. By interacting with the environment, the trading agent will derive a trading strategy with the maximized rewards as time proceeds.\n",
    "\n",
    "Our trading environments, based on OpenAI Gym framework, simulate live stock markets with real market data according to the principle of time-driven simulation.\n",
    "\n",
    "The action space describes the allowed actions that the agent interacts with the environment. Normally, action a includes three actions: {-1, 0, 1}, where -1, 0, 1 represent selling, holding, and buying one share. Also, an action can be carried upon multiple shares. We use an action space {-k,…,-1, 0, 1, …, k}, where k denotes the number of shares to buy and -k denotes the number of shares to sell. For example, \"Buy 10 shares of AAPL\" or \"Sell 10 shares of AAPL\" are 10 or -10, respectively. The continuous action space needs to be normalized to [-1, 1], since the policy is defined on a Gaussian distribution, which needs to be normalized and symmetric."
   ]
  },
  {
   "cell_type": "code",
   "execution_count": null,
   "metadata": {
    "colab": {
     "base_uri": "https://localhost:8080/"
    },
    "id": "Q2zqII8rMIqn",
    "outputId": "07e5df3c-dbc0-4d29-e79a-6946dc5788f0"
   },
   "outputs": [],
   "source": [
    "stock_dimension = len(processed.tic.unique())\n",
    "state_space = 1 + 2*stock_dimension + len(INDICATORS)*stock_dimension\n",
    "print(f\"Stock Dimension: {stock_dimension}, State Space: {state_space}\")\n"
   ]
  },
  {
   "cell_type": "code",
   "execution_count": null,
   "metadata": {
    "id": "AWyp84Ltto19"
   },
   "outputs": [],
   "source": [
    "env_kwargs = {\n",
    "    \"hmax\": 100,\n",
    "    \"initial_amount\": 25000,\n",
    "    \"buy_cost_pct\": 0.001,\n",
    "    \"sell_cost_pct\": 0.001,\n",
    "    \"state_space\": state_space,\n",
    "    \"stock_dim\": stock_dimension,\n",
    "    \"tech_indicator_list\": INDICATORS,\n",
    "    \"action_space\": stock_dimension,\n",
    "    \"reward_scaling\": 1e-4,\n",
    "    \"print_verbosity\":5\n",
    "\n",
    "}"
   ]
  },
  {
   "cell_type": "markdown",
   "metadata": {
    "id": "HMNR5nHjh1iz"
   },
   "source": [
    "<a id='5'></a>\n",
    "# Part 6: Implement DRL Algorithms\n",
    "* The implementation of the DRL algorithms are based on **OpenAI Baselines** and **Stable Baselines**. Stable Baselines is a fork of OpenAI Baselines, with a major structural refactoring, and code cleanups.\n",
    "* FinRL library includes fine-tuned standard DRL algorithms, such as DQN, DDPG,\n",
    "Multi-Agent DDPG, PPO, SAC, A2C and TD3. We also allow users to\n",
    "design their own DRL algorithms by adapting these DRL algorithms.\n",
    "\n",
    "* In this notebook, we are training and validating 3 agents (A2C, PPO, DDPG) using Rolling-window Ensemble Method ([reference code](https://github.com/AI4Finance-LLC/Deep-Reinforcement-Learning-for-Automated-Stock-Trading-Ensemble-Strategy-ICAIF-2020/blob/80415db8fa7b2179df6bd7e81ce4fe8dbf913806/model/models.py#L92))"
   ]
  },
  {
   "cell_type": "code",
   "execution_count": null,
   "metadata": {
    "id": "v-gthCxMtj1d"
   },
   "outputs": [],
   "source": [
    "rebalance_window = 63 # rebalance_window is the number of days to retrain the model\n",
    "validation_window = 63 # validation_window is the number of days to do validation and trading (e.g. if validation_window=63, then both validation and trading period will be 63 days)\n",
    "\n",
    "ensemble_agent = DRLEnsembleAgent(df=processed,\n",
    "                 train_period=(TRAIN_START_DATE,TRAIN_END_DATE),\n",
    "                 val_test_period=(TEST_START_DATE,TEST_END_DATE),\n",
    "                 rebalance_window=rebalance_window,\n",
    "                 validation_window=validation_window,\n",
    "                 **env_kwargs)\n",
    "\n"
   ]
  },
  {
   "cell_type": "code",
   "execution_count": null,
   "metadata": {
    "id": "KsfEHa_Etj1d",
    "scrolled": false
   },
   "outputs": [],
   "source": [
    "A2C_model_kwargs = {\n",
    "                    'n_steps': 5,\n",
    "                    'ent_coef': 0.005,\n",
    "                    'learning_rate': 0.0007\n",
    "                    }\n",
    "\n",
    "PPO_model_kwargs = {\n",
    "                    \"ent_coef\":0.01,\n",
    "                    \"n_steps\": 2048,\n",
    "                    \"learning_rate\": 0.00025,\n",
    "                    \"batch_size\": 256\n",
    "                    }\n",
    "\n",
    "DDPG_model_kwargs = {\n",
    "                      #\"action_noise\":\"ornstein_uhlenbeck\",\n",
    "                      \"buffer_size\": 10_000,\n",
    "                      \"learning_rate\": 0.0005,\n",
    "                      \"batch_size\": 128\n",
    "                    }\n",
    "\n",
    "timesteps_dict = {'a2c' : 100_000,\n",
    "                 'ppo' : 100_000,\n",
    "                 'ddpg' : 100_000\n",
    "                 }"
   ]
  },
  {
   "cell_type": "code",
   "execution_count": null,
   "metadata": {
    "colab": {
     "base_uri": "https://localhost:8080/"
    },
    "id": "_1lyCECstj1e",
    "outputId": "17a2963a-2db4-49a2-caa7-e67a21c24ac1",
    "scrolled": true
   },
   "outputs": [],
   "source": [
    "df_summary = ensemble_agent.run_ensemble_strategy(A2C_model_kwargs,\n",
    "                                                 PPO_model_kwargs,\n",
    "                                                 DDPG_model_kwargs,\n",
    "                                                 timesteps_dict)"
   ]
  },
  {
   "cell_type": "code",
   "execution_count": null,
   "metadata": {
    "id": "-0qd8acMtj1f"
   },
   "outputs": [],
   "source": [
    "df_summary"
   ]
  },
  {
   "cell_type": "markdown",
   "metadata": {
    "id": "W6vvNSC6h1jZ"
   },
   "source": [
    "<a id='6'></a>\n",
    "# Part 7: Backtest Our Strategy\n",
    "Backtesting plays a key role in evaluating the performance of a trading strategy. Automated backtesting tool is preferred because it reduces the human error. We usually use the Quantopian pyfolio package to backtest our trading strategies. It is easy to use and consists of various individual plots that provide a comprehensive image of the performance of a trading strategy."
   ]
  },
  {
   "cell_type": "code",
   "execution_count": null,
   "metadata": {
    "id": "X4JKB--8tj1g"
   },
   "outputs": [],
   "source": [
    "unique_trade_date = processed[(processed.date > TEST_START_DATE)&(processed.date <= TEST_END_DATE)].date.unique()"
   ]
  },
  {
   "cell_type": "code",
   "execution_count": null,
   "metadata": {
    "id": "q9mKF7GGtj1g",
    "scrolled": true
   },
   "outputs": [],
   "source": [
    "df_trade_date = pd.DataFrame({'datadate':unique_trade_date})\n",
    "\n",
    "df_account_value=pd.DataFrame()\n",
    "for i in range(rebalance_window+validation_window, len(unique_trade_date)+1,rebalance_window):\n",
    "    temp = pd.read_csv('results/account_value_trade_{}_{}.csv'.format('ensemble',i))\n",
    "    df_account_value = df_account_value.append(temp,ignore_index=True)\n",
    "sharpe=(252**0.5)*df_account_value.account_value.pct_change(1).mean()/df_account_value.account_value.pct_change(1).std()\n",
    "print('Sharpe Ratio: ',sharpe)\n",
    "df_account_value=df_account_value.join(df_trade_date[validation_window:].reset_index(drop=True))"
   ]
  },
  {
   "cell_type": "code",
   "execution_count": null,
   "metadata": {
    "id": "oyosyW7_tj1g"
   },
   "outputs": [],
   "source": [
    "df_account_value.head()"
   ]
  },
  {
   "cell_type": "code",
   "execution_count": null,
   "metadata": {
    "id": "wLsRdw2Ctj1h"
   },
   "outputs": [],
   "source": [
    "%matplotlib inline\n",
    "df_account_value.account_value.plot()"
   ]
  },
  {
   "cell_type": "markdown",
   "metadata": {
    "id": "Lr2zX7ZxNyFQ"
   },
   "source": [
    "<a id='6.1'></a>\n",
    "## 7.1 BackTestStats\n",
    "pass in df_account_value, this information is stored in env class\n"
   ]
  },
  {
   "cell_type": "code",
   "execution_count": null,
   "metadata": {
    "id": "Nzkr9yv-AdV_",
    "scrolled": true
   },
   "outputs": [],
   "source": [
    "print(\"==============Get Backtest Results===========\")\n",
    "now = datetime.datetime.now().strftime('%Y%m%d-%Hh%M')\n",
    "\n",
    "perf_stats_all = backtest_stats(account_value=df_account_value)\n",
    "perf_stats_all = pd.DataFrame(perf_stats_all)"
   ]
  },
  {
   "cell_type": "code",
   "execution_count": null,
   "metadata": {
    "id": "DiHhM1YkoCel"
   },
   "outputs": [],
   "source": [
    "#baseline stats\n",
    "print(\"==============Get Baseline Stats===========\")\n",
    "baseline_df = get_baseline(\n",
    "        ticker=\"^DJI\",\n",
    "        start = df_account_value.loc[0,'date'],\n",
    "        end = df_account_value.loc[len(df_account_value)-1,'date'])\n",
    "\n",
    "stats = backtest_stats(baseline_df, value_col_name = 'close')"
   ]
  },
  {
   "cell_type": "markdown",
   "metadata": {
    "id": "9U6Suru3h1jc"
   },
   "source": [
    "<a id='6.2'></a>\n",
    "## 7.2 BackTestPlot"
   ]
  },
  {
   "cell_type": "code",
   "execution_count": null,
   "metadata": {
    "id": "HggausPRoCem"
   },
   "outputs": [],
   "source": [
    "print(\"==============Compare to DJIA===========\")\n",
    "%matplotlib inline\n",
    "# S&P 500: ^GSPC\n",
    "# Dow Jones Index: ^DJI\n",
    "# NASDAQ 100: ^NDX\n",
    "backtest_plot(df_account_value,\n",
    "              baseline_ticker = '^DJI',\n",
    "              baseline_start = df_account_value.loc[0,'date'],\n",
    "              baseline_end = df_account_value.loc[len(df_account_value)-1,'date'])"
   ]
  },
  {
   "cell_type": "markdown",
   "source": [],
   "metadata": {
    "id": "oBQx4bVQFi-a"
   }
  }
 ],
 "metadata": {
  "accelerator": "GPU",
  "colab": {
   "provenance": [],
   "machine_shape": "hm",
   "toc_visible": true,
   "gpuType": "A100",
   "gpuClass": "premium",
   "cell_execution_strategy": "setup"
  },
  "kernelspec": {
   "name": "python3",
   "language": "python",
   "display_name": "Python 3 (ipykernel)"
  },
  "language_info": {
   "codemirror_mode": {
    "name": "ipython",
    "version": 3
   },
   "file_extension": ".py",
   "mimetype": "text/x-python",
   "name": "python",
   "nbconvert_exporter": "python",
   "pygments_lexer": "ipython3",
   "version": "3.6.10"
  },
  "pycharm": {
   "stem_cell": {
    "cell_type": "raw",
    "metadata": {
     "collapsed": false
    },
    "source": []
   }
  },
  "gpuClass": "premium"
 },
 "nbformat": 4,
 "nbformat_minor": 0
}
