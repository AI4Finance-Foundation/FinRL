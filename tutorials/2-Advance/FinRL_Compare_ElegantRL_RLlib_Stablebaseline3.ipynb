{
 "cells": [
  {
   "cell_type": "markdown",
   "metadata": {
    "colab_type": "text",
    "id": "view-in-github"
   },
   "source": [
    "<a href=\"https://colab.research.google.com/github/AI4Finance-Foundation/FinRL/blob/master/tutorials/2-Advance/FinRL_Compare_ElegantRL_RLlib_Stablebaseline3.ipynb\" target=\"_parent\"><img src=\"https://colab.research.google.com/assets/colab-badge.svg\" alt=\"Open In Colab\"/></a>"
   ]
  },
  {
   "cell_type": "markdown",
   "metadata": {
    "id": "skemZ68ZZMdx"
   },
   "source": [
    "# FinRL: Compare ElegantRL, RLlib, and Stablebaselines3"
   ]
  },
  {
   "cell_type": "markdown",
   "metadata": {
    "id": "c3XX4MO9UxNx"
   },
   "source": [
    "## Part 1: Getting Started - Install Python Packages "
   ]
  },
  {
   "cell_type": "markdown",
   "metadata": {
    "id": "M_eK-6IjPaQC"
   },
   "source": [
    " ### 1.1 Install DRL libraries: FinRL, ElegantRL, RLlib"
   ]
  },
  {
   "cell_type": "code",
   "execution_count": 7,
   "outputs": [
    {
     "name": "stdout",
     "output_type": "stream",
     "text": [
      "Looking in indexes: https://pypi.org/simple, https://pypi.ngc.nvidia.com\r\n",
      "Collecting git+https://github.com/AI4Finance-LLC/ElegantRL.git\r\n",
      "  Cloning https://github.com/AI4Finance-LLC/ElegantRL.git to /tmp/pip-req-build-b74edngk\r\n",
      "  Running command git clone --filter=blob:none --quiet https://github.com/AI4Finance-LLC/ElegantRL.git /tmp/pip-req-build-b74edngk\r\n",
      "  Resolved https://github.com/AI4Finance-LLC/ElegantRL.git to commit 931642e3fd46e6a8696020ff77ee8a288e7e53f0\r\n",
      "  Preparing metadata (setup.py) ... \u001B[?25ldone\r\n",
      "\u001B[?25hRequirement already satisfied: torch in /home/james/miniconda3/envs/algo39/lib/python3.9/site-packages (from elegantrl==0.3.5) (1.13.1)\r\n",
      "Requirement already satisfied: numpy in /home/james/miniconda3/envs/algo39/lib/python3.9/site-packages (from elegantrl==0.3.5) (1.24.1)\r\n",
      "Requirement already satisfied: matplotlib in /home/james/miniconda3/envs/algo39/lib/python3.9/site-packages (from elegantrl==0.3.5) (3.6.3)\r\n",
      "Requirement already satisfied: gym in /home/james/miniconda3/envs/algo39/lib/python3.9/site-packages (from elegantrl==0.3.5) (0.21.0)\r\n",
      "Requirement already satisfied: cloudpickle>=1.2.0 in /home/james/miniconda3/envs/algo39/lib/python3.9/site-packages (from gym->elegantrl==0.3.5) (2.2.1)\r\n",
      "Collecting box2d-py==2.3.5\r\n",
      "  Downloading box2d-py-2.3.5.tar.gz (374 kB)\r\n",
      "\u001B[2K     \u001B[90m━━━━━━━━━━━━━━━━━━━━━━━━━━━━━━━━━━━━━━\u001B[0m \u001B[32m374.4/374.4 kB\u001B[0m \u001B[31m23.2 MB/s\u001B[0m eta \u001B[36m0:00:00\u001B[0m\r\n",
      "\u001B[?25h  Preparing metadata (setup.py) ... \u001B[?25ldone\r\n",
      "\u001B[?25hCollecting pyglet>=1.4.0\r\n",
      "  Downloading pyglet-2.0.4-py3-none-any.whl (831 kB)\r\n",
      "\u001B[2K     \u001B[90m━━━━━━━━━━━━━━━━━━━━━━━━━━━━━━━━━━━━━━\u001B[0m \u001B[32m831.0/831.0 kB\u001B[0m \u001B[31m69.5 MB/s\u001B[0m eta \u001B[36m0:00:00\u001B[0m\r\n",
      "\u001B[?25hRequirement already satisfied: contourpy>=1.0.1 in /home/james/miniconda3/envs/algo39/lib/python3.9/site-packages (from matplotlib->elegantrl==0.3.5) (1.0.7)\r\n",
      "Requirement already satisfied: cycler>=0.10 in /home/james/miniconda3/envs/algo39/lib/python3.9/site-packages (from matplotlib->elegantrl==0.3.5) (0.11.0)\r\n",
      "Requirement already satisfied: python-dateutil>=2.7 in /home/james/miniconda3/envs/algo39/lib/python3.9/site-packages (from matplotlib->elegantrl==0.3.5) (2.8.2)\r\n",
      "Requirement already satisfied: packaging>=20.0 in /home/james/miniconda3/envs/algo39/lib/python3.9/site-packages (from matplotlib->elegantrl==0.3.5) (23.0)\r\n",
      "Requirement already satisfied: fonttools>=4.22.0 in /home/james/miniconda3/envs/algo39/lib/python3.9/site-packages (from matplotlib->elegantrl==0.3.5) (4.38.0)\r\n",
      "Requirement already satisfied: pillow>=6.2.0 in /home/james/miniconda3/envs/algo39/lib/python3.9/site-packages (from matplotlib->elegantrl==0.3.5) (9.4.0)\r\n",
      "Requirement already satisfied: pyparsing>=2.2.1 in /home/james/miniconda3/envs/algo39/lib/python3.9/site-packages (from matplotlib->elegantrl==0.3.5) (3.0.9)\r\n",
      "Requirement already satisfied: kiwisolver>=1.0.1 in /home/james/miniconda3/envs/algo39/lib/python3.9/site-packages (from matplotlib->elegantrl==0.3.5) (1.4.4)\r\n",
      "Requirement already satisfied: nvidia-cublas-cu11==11.10.3.66 in /home/james/miniconda3/envs/algo39/lib/python3.9/site-packages (from torch->elegantrl==0.3.5) (11.10.3.66)\r\n",
      "Requirement already satisfied: nvidia-cudnn-cu11==8.5.0.96 in /home/james/miniconda3/envs/algo39/lib/python3.9/site-packages (from torch->elegantrl==0.3.5) (8.5.0.96)\r\n",
      "Requirement already satisfied: nvidia-cuda-nvrtc-cu11==11.7.99 in /home/james/miniconda3/envs/algo39/lib/python3.9/site-packages (from torch->elegantrl==0.3.5) (11.7.99)\r\n",
      "Requirement already satisfied: nvidia-cuda-runtime-cu11==11.7.99 in /home/james/miniconda3/envs/algo39/lib/python3.9/site-packages (from torch->elegantrl==0.3.5) (11.7.99)\r\n",
      "Requirement already satisfied: typing-extensions in /home/james/miniconda3/envs/algo39/lib/python3.9/site-packages (from torch->elegantrl==0.3.5) (4.4.0)\r\n",
      "Requirement already satisfied: wheel in /home/james/miniconda3/envs/algo39/lib/python3.9/site-packages (from nvidia-cublas-cu11==11.10.3.66->torch->elegantrl==0.3.5) (0.38.4)\r\n",
      "Requirement already satisfied: setuptools in /home/james/miniconda3/envs/algo39/lib/python3.9/site-packages (from nvidia-cublas-cu11==11.10.3.66->torch->elegantrl==0.3.5) (67.1.0)\r\n",
      "Requirement already satisfied: six>=1.5 in /home/james/miniconda3/envs/algo39/lib/python3.9/site-packages (from python-dateutil>=2.7->matplotlib->elegantrl==0.3.5) (1.16.0)\r\n",
      "Building wheels for collected packages: elegantrl, box2d-py\r\n",
      "  Building wheel for elegantrl (setup.py) ... \u001B[?25ldone\r\n",
      "\u001B[?25h  Created wheel for elegantrl: filename=elegantrl-0.3.5-py3-none-any.whl size=297790 sha256=7c028d0594a783ba6870ac0aa0786477aa6083bd2108b72aaf2103114735c100\r\n",
      "  Stored in directory: /tmp/pip-ephem-wheel-cache-zf4spj1h/wheels/ff/1d/4b/ebcad78dd41df318918575aab586c86a30bc2eecedf9c4981a\r\n",
      "  Building wheel for box2d-py (setup.py) ... \u001B[?25ldone\r\n",
      "\u001B[?25h  Created wheel for box2d-py: filename=box2d_py-2.3.5-cp39-cp39-linux_x86_64.whl size=495198 sha256=68077166751ed4a4b710dabd1d50c12917444392bf936a800b5fb62498313f7b\r\n",
      "  Stored in directory: /tmp/pip-ephem-wheel-cache-zf4spj1h/wheels/a4/c2/c1/076651c394f05fe60990cd85616c2d95bc1619aa113f559d7d\r\n",
      "Successfully built elegantrl box2d-py\r\n",
      "Installing collected packages: pyglet, box2d-py, elegantrl\r\n",
      "  Attempting uninstall: box2d-py\r\n",
      "    Found existing installation: box2d-py 2.3.8\r\n",
      "    Uninstalling box2d-py-2.3.8:\r\n",
      "      Successfully uninstalled box2d-py-2.3.8\r\n",
      "Successfully installed box2d-py-2.3.5 elegantrl-0.3.5 pyglet-2.0.4\r\n",
      "Looking in indexes: https://pypi.org/simple, https://pypi.ngc.nvidia.com\r\n",
      "Requirement already satisfied: ray[default] in /home/james/miniconda3/envs/algo39/lib/python3.9/site-packages (2.2.0)\r\n",
      "Requirement already satisfied: filelock in /home/james/miniconda3/envs/algo39/lib/python3.9/site-packages (from ray[default]) (3.9.0)\r\n",
      "Requirement already satisfied: frozenlist in /home/james/miniconda3/envs/algo39/lib/python3.9/site-packages (from ray[default]) (1.3.3)\r\n",
      "Requirement already satisfied: pyyaml in /home/james/miniconda3/envs/algo39/lib/python3.9/site-packages (from ray[default]) (6.0)\r\n",
      "Requirement already satisfied: jsonschema in /home/james/miniconda3/envs/algo39/lib/python3.9/site-packages (from ray[default]) (4.17.3)\r\n",
      "Requirement already satisfied: click>=7.0 in /home/james/miniconda3/envs/algo39/lib/python3.9/site-packages (from ray[default]) (8.1.3)\r\n",
      "Requirement already satisfied: protobuf!=3.19.5,>=3.15.3 in /home/james/miniconda3/envs/algo39/lib/python3.9/site-packages (from ray[default]) (3.19.6)\r\n",
      "Requirement already satisfied: grpcio>=1.32.0 in /home/james/miniconda3/envs/algo39/lib/python3.9/site-packages (from ray[default]) (1.51.1)\r\n",
      "Requirement already satisfied: aiosignal in /home/james/miniconda3/envs/algo39/lib/python3.9/site-packages (from ray[default]) (1.3.1)\r\n",
      "Requirement already satisfied: numpy>=1.19.3 in /home/james/miniconda3/envs/algo39/lib/python3.9/site-packages (from ray[default]) (1.24.1)\r\n",
      "Requirement already satisfied: msgpack<2.0.0,>=1.0.0 in /home/james/miniconda3/envs/algo39/lib/python3.9/site-packages (from ray[default]) (1.0.3)\r\n",
      "Requirement already satisfied: virtualenv>=20.0.24 in /home/james/miniconda3/envs/algo39/lib/python3.9/site-packages (from ray[default]) (20.17.1)\r\n",
      "Requirement already satisfied: requests in /home/james/miniconda3/envs/algo39/lib/python3.9/site-packages (from ray[default]) (2.28.2)\r\n",
      "Requirement already satisfied: attrs in /home/james/miniconda3/envs/algo39/lib/python3.9/site-packages (from ray[default]) (22.2.0)\r\n",
      "Requirement already satisfied: py-spy>=0.2.0 in /home/james/miniconda3/envs/algo39/lib/python3.9/site-packages (from ray[default]) (0.3.14)\r\n",
      "Requirement already satisfied: prometheus-client<0.14.0,>=0.7.1 in /home/james/miniconda3/envs/algo39/lib/python3.9/site-packages (from ray[default]) (0.13.1)\r\n",
      "Requirement already satisfied: pydantic in /home/james/miniconda3/envs/algo39/lib/python3.9/site-packages (from ray[default]) (1.10.4)\r\n",
      "Requirement already satisfied: aiohttp-cors in /home/james/miniconda3/envs/algo39/lib/python3.9/site-packages (from ray[default]) (0.7.0)\r\n",
      "Requirement already satisfied: gpustat>=1.0.0 in /home/james/miniconda3/envs/algo39/lib/python3.9/site-packages (from ray[default]) (1.0.0)\r\n",
      "Requirement already satisfied: colorful in /home/james/miniconda3/envs/algo39/lib/python3.9/site-packages (from ray[default]) (0.5.5)\r\n",
      "Requirement already satisfied: aiohttp>=3.7 in /home/james/miniconda3/envs/algo39/lib/python3.9/site-packages (from ray[default]) (3.8.1)\r\n",
      "Requirement already satisfied: opencensus in /home/james/miniconda3/envs/algo39/lib/python3.9/site-packages (from ray[default]) (0.11.1)\r\n",
      "Requirement already satisfied: smart-open in /home/james/miniconda3/envs/algo39/lib/python3.9/site-packages (from ray[default]) (6.3.0)\r\n",
      "Requirement already satisfied: yarl<2.0,>=1.0 in /home/james/miniconda3/envs/algo39/lib/python3.9/site-packages (from aiohttp>=3.7->ray[default]) (1.8.2)\r\n",
      "Requirement already satisfied: async-timeout<5.0,>=4.0.0a3 in /home/james/miniconda3/envs/algo39/lib/python3.9/site-packages (from aiohttp>=3.7->ray[default]) (4.0.2)\r\n",
      "Requirement already satisfied: charset-normalizer<3.0,>=2.0 in /home/james/miniconda3/envs/algo39/lib/python3.9/site-packages (from aiohttp>=3.7->ray[default]) (2.1.1)\r\n",
      "Requirement already satisfied: multidict<7.0,>=4.5 in /home/james/miniconda3/envs/algo39/lib/python3.9/site-packages (from aiohttp>=3.7->ray[default]) (6.0.4)\r\n",
      "Requirement already satisfied: nvidia-ml-py<=11.495.46,>=11.450.129 in /home/james/miniconda3/envs/algo39/lib/python3.9/site-packages (from gpustat>=1.0.0->ray[default]) (11.495.46)\r\n",
      "Requirement already satisfied: blessed>=1.17.1 in /home/james/miniconda3/envs/algo39/lib/python3.9/site-packages (from gpustat>=1.0.0->ray[default]) (1.19.1)\r\n",
      "Requirement already satisfied: six>=1.7 in /home/james/miniconda3/envs/algo39/lib/python3.9/site-packages (from gpustat>=1.0.0->ray[default]) (1.16.0)\r\n",
      "Requirement already satisfied: psutil>=5.6.0 in /home/james/miniconda3/envs/algo39/lib/python3.9/site-packages (from gpustat>=1.0.0->ray[default]) (5.9.4)\r\n",
      "Requirement already satisfied: distlib<1,>=0.3.6 in /home/james/miniconda3/envs/algo39/lib/python3.9/site-packages (from virtualenv>=20.0.24->ray[default]) (0.3.6)\r\n",
      "Requirement already satisfied: platformdirs<3,>=2.4 in /home/james/miniconda3/envs/algo39/lib/python3.9/site-packages (from virtualenv>=20.0.24->ray[default]) (2.6.2)\r\n",
      "Requirement already satisfied: pyrsistent!=0.17.0,!=0.17.1,!=0.17.2,>=0.14.0 in /home/james/miniconda3/envs/algo39/lib/python3.9/site-packages (from jsonschema->ray[default]) (0.19.3)\r\n",
      "Requirement already satisfied: google-api-core<3.0.0,>=1.0.0 in /home/james/miniconda3/envs/algo39/lib/python3.9/site-packages (from opencensus->ray[default]) (2.11.0)\r\n",
      "Requirement already satisfied: opencensus-context>=0.1.3 in /home/james/miniconda3/envs/algo39/lib/python3.9/site-packages (from opencensus->ray[default]) (0.1.3)\r\n",
      "Requirement already satisfied: typing-extensions>=4.2.0 in /home/james/miniconda3/envs/algo39/lib/python3.9/site-packages (from pydantic->ray[default]) (4.4.0)\r\n",
      "Requirement already satisfied: certifi>=2017.4.17 in /home/james/miniconda3/envs/algo39/lib/python3.9/site-packages (from requests->ray[default]) (2022.12.7)\r\n",
      "Requirement already satisfied: idna<4,>=2.5 in /home/james/miniconda3/envs/algo39/lib/python3.9/site-packages (from requests->ray[default]) (3.4)\r\n",
      "Requirement already satisfied: urllib3<1.27,>=1.21.1 in /home/james/miniconda3/envs/algo39/lib/python3.9/site-packages (from requests->ray[default]) (1.26.14)\r\n",
      "Requirement already satisfied: wcwidth>=0.1.4 in /home/james/miniconda3/envs/algo39/lib/python3.9/site-packages (from blessed>=1.17.1->gpustat>=1.0.0->ray[default]) (0.2.6)\r\n",
      "Requirement already satisfied: googleapis-common-protos<2.0dev,>=1.56.2 in /home/james/miniconda3/envs/algo39/lib/python3.9/site-packages (from google-api-core<3.0.0,>=1.0.0->opencensus->ray[default]) (1.58.0)\r\n",
      "Requirement already satisfied: google-auth<3.0dev,>=2.14.1 in /home/james/miniconda3/envs/algo39/lib/python3.9/site-packages (from google-api-core<3.0.0,>=1.0.0->opencensus->ray[default]) (2.16.0)\r\n",
      "Requirement already satisfied: rsa<5,>=3.1.4 in /home/james/miniconda3/envs/algo39/lib/python3.9/site-packages (from google-auth<3.0dev,>=2.14.1->google-api-core<3.0.0,>=1.0.0->opencensus->ray[default]) (4.9)\r\n",
      "Requirement already satisfied: pyasn1-modules>=0.2.1 in /home/james/miniconda3/envs/algo39/lib/python3.9/site-packages (from google-auth<3.0dev,>=2.14.1->google-api-core<3.0.0,>=1.0.0->opencensus->ray[default]) (0.2.8)\r\n",
      "Requirement already satisfied: cachetools<6.0,>=2.0.0 in /home/james/miniconda3/envs/algo39/lib/python3.9/site-packages (from google-auth<3.0dev,>=2.14.1->google-api-core<3.0.0,>=1.0.0->opencensus->ray[default]) (5.3.0)\r\n",
      "Requirement already satisfied: pyasn1<0.5.0,>=0.4.6 in /home/james/miniconda3/envs/algo39/lib/python3.9/site-packages (from pyasn1-modules>=0.2.1->google-auth<3.0dev,>=2.14.1->google-api-core<3.0.0,>=1.0.0->opencensus->ray[default]) (0.4.8)\r\n"
     ]
    }
   ],
   "source": [
    "# install elegantrl library\n",
    "!pip install git+https://github.com/AI4Finance-LLC/ElegantRL.git\n",
    "# install rllib/ray library\n",
    "!pip install ray[default]"
   ],
   "metadata": {
    "collapsed": false
   }
  },
  {
   "cell_type": "code",
   "execution_count": 8,
   "metadata": {
    "colab": {
     "base_uri": "https://localhost:8080/"
    },
    "id": "VtxFMjnLDy3Q",
    "outputId": "75926e00-e2c4-44b1-929c-8a22671c3a4c"
   },
   "outputs": [],
   "source": [
    "\n",
    "# install finrl library\n",
    "# !pip install git+https://github.com/AI4Finance-LLC/FinRL-Library.git"
   ]
  },
  {
   "cell_type": "markdown",
   "metadata": {
    "id": "cMCwv41eVVDJ"
   },
   "source": [
    "### 1.2 Check if the additional packages needed are present, if not install them"
   ]
  },
  {
   "cell_type": "code",
   "execution_count": 12,
   "metadata": {
    "id": "P446vin0EGSC"
   },
   "outputs": [
    {
     "name": "stdout",
     "output_type": "stream",
     "text": [
      "Looking in indexes: https://pypi.org/simple, https://pypi.ngc.nvidia.com\r\n",
      "Requirement already satisfied: trading_calendars in /home/james/miniconda3/envs/algo39/lib/python3.9/site-packages (2.1.1)\r\n",
      "Requirement already satisfied: pytz in /home/james/miniconda3/envs/algo39/lib/python3.9/site-packages (from trading_calendars) (2022.7.1)\r\n",
      "Requirement already satisfied: toolz in /home/james/miniconda3/envs/algo39/lib/python3.9/site-packages (from trading_calendars) (0.12.0)\r\n",
      "Requirement already satisfied: six in /home/james/miniconda3/envs/algo39/lib/python3.9/site-packages (from trading_calendars) (1.16.0)\r\n",
      "Requirement already satisfied: numpy in /home/james/miniconda3/envs/algo39/lib/python3.9/site-packages (from trading_calendars) (1.24.1)\r\n",
      "Requirement already satisfied: python-dateutil in /home/james/miniconda3/envs/algo39/lib/python3.9/site-packages (from trading_calendars) (2.8.2)\r\n",
      "Requirement already satisfied: pandas in /home/james/miniconda3/envs/algo39/lib/python3.9/site-packages (from trading_calendars) (1.5.2)\r\n",
      "Looking in indexes: https://pypi.org/simple, https://pypi.ngc.nvidia.com\r\n",
      "Requirement already satisfied: alpaca_trade_api in /home/james/miniconda3/envs/algo39/lib/python3.9/site-packages (2.3.0)\r\n",
      "Requirement already satisfied: pandas>=0.18.1 in /home/james/miniconda3/envs/algo39/lib/python3.9/site-packages (from alpaca_trade_api) (1.5.2)\r\n",
      "Requirement already satisfied: requests<3,>2 in /home/james/miniconda3/envs/algo39/lib/python3.9/site-packages (from alpaca_trade_api) (2.28.2)\r\n",
      "Requirement already satisfied: websockets<11,>=9.0 in /home/james/miniconda3/envs/algo39/lib/python3.9/site-packages (from alpaca_trade_api) (10.4)\r\n",
      "Requirement already satisfied: msgpack==1.0.3 in /home/james/miniconda3/envs/algo39/lib/python3.9/site-packages (from alpaca_trade_api) (1.0.3)\r\n",
      "Requirement already satisfied: aiohttp==3.8.1 in /home/james/miniconda3/envs/algo39/lib/python3.9/site-packages (from alpaca_trade_api) (3.8.1)\r\n",
      "Requirement already satisfied: websocket-client<2,>=0.56.0 in /home/james/miniconda3/envs/algo39/lib/python3.9/site-packages (from alpaca_trade_api) (1.5.0)\r\n",
      "Requirement already satisfied: numpy>=1.11.1 in /home/james/miniconda3/envs/algo39/lib/python3.9/site-packages (from alpaca_trade_api) (1.24.1)\r\n",
      "Requirement already satisfied: deprecation==2.1.0 in /home/james/miniconda3/envs/algo39/lib/python3.9/site-packages (from alpaca_trade_api) (2.1.0)\r\n",
      "Requirement already satisfied: urllib3<2,>1.24 in /home/james/miniconda3/envs/algo39/lib/python3.9/site-packages (from alpaca_trade_api) (1.26.14)\r\n",
      "Requirement already satisfied: PyYAML==6.0 in /home/james/miniconda3/envs/algo39/lib/python3.9/site-packages (from alpaca_trade_api) (6.0)\r\n",
      "Requirement already satisfied: charset-normalizer<3.0,>=2.0 in /home/james/miniconda3/envs/algo39/lib/python3.9/site-packages (from aiohttp==3.8.1->alpaca_trade_api) (2.1.1)\r\n",
      "Requirement already satisfied: yarl<2.0,>=1.0 in /home/james/miniconda3/envs/algo39/lib/python3.9/site-packages (from aiohttp==3.8.1->alpaca_trade_api) (1.8.2)\r\n",
      "Requirement already satisfied: aiosignal>=1.1.2 in /home/james/miniconda3/envs/algo39/lib/python3.9/site-packages (from aiohttp==3.8.1->alpaca_trade_api) (1.3.1)\r\n",
      "Requirement already satisfied: frozenlist>=1.1.1 in /home/james/miniconda3/envs/algo39/lib/python3.9/site-packages (from aiohttp==3.8.1->alpaca_trade_api) (1.3.3)\r\n",
      "Requirement already satisfied: multidict<7.0,>=4.5 in /home/james/miniconda3/envs/algo39/lib/python3.9/site-packages (from aiohttp==3.8.1->alpaca_trade_api) (6.0.4)\r\n",
      "Requirement already satisfied: attrs>=17.3.0 in /home/james/miniconda3/envs/algo39/lib/python3.9/site-packages (from aiohttp==3.8.1->alpaca_trade_api) (22.2.0)\r\n",
      "Requirement already satisfied: async-timeout<5.0,>=4.0.0a3 in /home/james/miniconda3/envs/algo39/lib/python3.9/site-packages (from aiohttp==3.8.1->alpaca_trade_api) (4.0.2)\r\n",
      "Requirement already satisfied: packaging in /home/james/miniconda3/envs/algo39/lib/python3.9/site-packages (from deprecation==2.1.0->alpaca_trade_api) (23.0)\r\n",
      "Requirement already satisfied: python-dateutil>=2.8.1 in /home/james/miniconda3/envs/algo39/lib/python3.9/site-packages (from pandas>=0.18.1->alpaca_trade_api) (2.8.2)\r\n",
      "Requirement already satisfied: pytz>=2020.1 in /home/james/miniconda3/envs/algo39/lib/python3.9/site-packages (from pandas>=0.18.1->alpaca_trade_api) (2022.7.1)\r\n",
      "Requirement already satisfied: idna<4,>=2.5 in /home/james/miniconda3/envs/algo39/lib/python3.9/site-packages (from requests<3,>2->alpaca_trade_api) (3.4)\r\n",
      "Requirement already satisfied: certifi>=2017.4.17 in /home/james/miniconda3/envs/algo39/lib/python3.9/site-packages (from requests<3,>2->alpaca_trade_api) (2022.12.7)\r\n",
      "Requirement already satisfied: six>=1.5 in /home/james/miniconda3/envs/algo39/lib/python3.9/site-packages (from python-dateutil>=2.8.1->pandas>=0.18.1->alpaca_trade_api) (1.16.0)\r\n",
      "Looking in indexes: https://pypi.org/simple, https://pypi.ngc.nvidia.com\r\n",
      "Requirement already satisfied: ccxt in /home/james/miniconda3/envs/algo39/lib/python3.9/site-packages (2.7.49)\r\n",
      "Requirement already satisfied: yarl>=1.7.2 in /home/james/miniconda3/envs/algo39/lib/python3.9/site-packages (from ccxt) (1.8.2)\r\n",
      "Requirement already satisfied: setuptools>=60.9.0 in /home/james/miniconda3/envs/algo39/lib/python3.9/site-packages (from ccxt) (67.1.0)\r\n",
      "Requirement already satisfied: certifi>=2018.1.18 in /home/james/miniconda3/envs/algo39/lib/python3.9/site-packages (from ccxt) (2022.12.7)\r\n",
      "Requirement already satisfied: aiohttp>=3.8 in /home/james/miniconda3/envs/algo39/lib/python3.9/site-packages (from ccxt) (3.8.1)\r\n",
      "Requirement already satisfied: requests>=2.18.4 in /home/james/miniconda3/envs/algo39/lib/python3.9/site-packages (from ccxt) (2.28.2)\r\n",
      "Requirement already satisfied: cryptography>=2.6.1 in /home/james/miniconda3/envs/algo39/lib/python3.9/site-packages (from ccxt) (39.0.0)\r\n",
      "Requirement already satisfied: aiodns>=1.1.1 in /home/james/miniconda3/envs/algo39/lib/python3.9/site-packages (from ccxt) (3.0.0)\r\n",
      "Requirement already satisfied: pycares>=4.0.0 in /home/james/miniconda3/envs/algo39/lib/python3.9/site-packages (from aiodns>=1.1.1->ccxt) (4.3.0)\r\n",
      "Requirement already satisfied: multidict<7.0,>=4.5 in /home/james/miniconda3/envs/algo39/lib/python3.9/site-packages (from aiohttp>=3.8->ccxt) (6.0.4)\r\n",
      "Requirement already satisfied: aiosignal>=1.1.2 in /home/james/miniconda3/envs/algo39/lib/python3.9/site-packages (from aiohttp>=3.8->ccxt) (1.3.1)\r\n",
      "Requirement already satisfied: attrs>=17.3.0 in /home/james/miniconda3/envs/algo39/lib/python3.9/site-packages (from aiohttp>=3.8->ccxt) (22.2.0)\r\n",
      "Requirement already satisfied: async-timeout<5.0,>=4.0.0a3 in /home/james/miniconda3/envs/algo39/lib/python3.9/site-packages (from aiohttp>=3.8->ccxt) (4.0.2)\r\n",
      "Requirement already satisfied: frozenlist>=1.1.1 in /home/james/miniconda3/envs/algo39/lib/python3.9/site-packages (from aiohttp>=3.8->ccxt) (1.3.3)\r\n",
      "Requirement already satisfied: charset-normalizer<3.0,>=2.0 in /home/james/miniconda3/envs/algo39/lib/python3.9/site-packages (from aiohttp>=3.8->ccxt) (2.1.1)\r\n",
      "Requirement already satisfied: cffi>=1.12 in /home/james/miniconda3/envs/algo39/lib/python3.9/site-packages (from cryptography>=2.6.1->ccxt) (1.15.1)\r\n",
      "Requirement already satisfied: idna<4,>=2.5 in /home/james/miniconda3/envs/algo39/lib/python3.9/site-packages (from requests>=2.18.4->ccxt) (3.4)\r\n",
      "Requirement already satisfied: urllib3<1.27,>=1.21.1 in /home/james/miniconda3/envs/algo39/lib/python3.9/site-packages (from requests>=2.18.4->ccxt) (1.26.14)\r\n",
      "Requirement already satisfied: pycparser in /home/james/miniconda3/envs/algo39/lib/python3.9/site-packages (from cffi>=1.12->cryptography>=2.6.1->ccxt) (2.21)\r\n",
      "Looking in indexes: https://pypi.org/simple, https://pypi.ngc.nvidia.com\r\n",
      "Requirement already satisfied: jqdatasdk in /home/james/miniconda3/envs/algo39/lib/python3.9/site-packages (1.8.11)\r\n",
      "Requirement already satisfied: thriftpy2>=0.3.9 in /home/james/miniconda3/envs/algo39/lib/python3.9/site-packages (from jqdatasdk) (0.4.16)\r\n",
      "Requirement already satisfied: pymysql>=0.7.6 in /home/james/miniconda3/envs/algo39/lib/python3.9/site-packages (from jqdatasdk) (1.0.2)\r\n",
      "Requirement already satisfied: numpy>=1.9.2 in /home/james/miniconda3/envs/algo39/lib/python3.9/site-packages (from jqdatasdk) (1.24.1)\r\n",
      "Requirement already satisfied: msgpack>=0.4.7 in /home/james/miniconda3/envs/algo39/lib/python3.9/site-packages (from jqdatasdk) (1.0.3)\r\n",
      "Requirement already satisfied: SQLAlchemy>=1.2.8 in /home/james/miniconda3/envs/algo39/lib/python3.9/site-packages (from jqdatasdk) (2.0.1)\r\n",
      "Requirement already satisfied: requests in /home/james/miniconda3/envs/algo39/lib/python3.9/site-packages (from jqdatasdk) (2.28.2)\r\n",
      "Requirement already satisfied: pandas>=0.16.2 in /home/james/miniconda3/envs/algo39/lib/python3.9/site-packages (from jqdatasdk) (1.5.2)\r\n",
      "Requirement already satisfied: six in /home/james/miniconda3/envs/algo39/lib/python3.9/site-packages (from jqdatasdk) (1.16.0)\r\n",
      "Requirement already satisfied: python-dateutil>=2.8.1 in /home/james/miniconda3/envs/algo39/lib/python3.9/site-packages (from pandas>=0.16.2->jqdatasdk) (2.8.2)\r\n",
      "Requirement already satisfied: pytz>=2020.1 in /home/james/miniconda3/envs/algo39/lib/python3.9/site-packages (from pandas>=0.16.2->jqdatasdk) (2022.7.1)\r\n",
      "Requirement already satisfied: greenlet!=0.4.17 in /home/james/miniconda3/envs/algo39/lib/python3.9/site-packages (from SQLAlchemy>=1.2.8->jqdatasdk) (2.0.2)\r\n",
      "Requirement already satisfied: typing-extensions>=4.2.0 in /home/james/miniconda3/envs/algo39/lib/python3.9/site-packages (from SQLAlchemy>=1.2.8->jqdatasdk) (4.4.0)\r\n",
      "Requirement already satisfied: ply<4.0,>=3.4 in /home/james/miniconda3/envs/algo39/lib/python3.9/site-packages (from thriftpy2>=0.3.9->jqdatasdk) (3.11)\r\n",
      "Requirement already satisfied: certifi>=2017.4.17 in /home/james/miniconda3/envs/algo39/lib/python3.9/site-packages (from requests->jqdatasdk) (2022.12.7)\r\n",
      "Requirement already satisfied: charset-normalizer<4,>=2 in /home/james/miniconda3/envs/algo39/lib/python3.9/site-packages (from requests->jqdatasdk) (2.1.1)\r\n",
      "Requirement already satisfied: urllib3<1.27,>=1.21.1 in /home/james/miniconda3/envs/algo39/lib/python3.9/site-packages (from requests->jqdatasdk) (1.26.14)\r\n",
      "Requirement already satisfied: idna<4,>=2.5 in /home/james/miniconda3/envs/algo39/lib/python3.9/site-packages (from requests->jqdatasdk) (3.4)\r\n",
      "Looking in indexes: https://pypi.org/simple, https://pypi.ngc.nvidia.com\r\n",
      "Requirement already satisfied: wrds in /home/james/miniconda3/envs/algo39/lib/python3.9/site-packages (3.1.2)\r\n",
      "Requirement already satisfied: psycopg2-binary in /home/james/miniconda3/envs/algo39/lib/python3.9/site-packages (from wrds) (2.9.5)\r\n",
      "Requirement already satisfied: mock in /home/james/miniconda3/envs/algo39/lib/python3.9/site-packages (from wrds) (5.0.1)\r\n",
      "Requirement already satisfied: numpy in /home/james/miniconda3/envs/algo39/lib/python3.9/site-packages (from wrds) (1.24.1)\r\n",
      "Requirement already satisfied: pandas in /home/james/miniconda3/envs/algo39/lib/python3.9/site-packages (from wrds) (1.5.2)\r\n",
      "Requirement already satisfied: sqlalchemy in /home/james/miniconda3/envs/algo39/lib/python3.9/site-packages (from wrds) (2.0.1)\r\n",
      "Requirement already satisfied: pytz>=2020.1 in /home/james/miniconda3/envs/algo39/lib/python3.9/site-packages (from pandas->wrds) (2022.7.1)\r\n",
      "Requirement already satisfied: python-dateutil>=2.8.1 in /home/james/miniconda3/envs/algo39/lib/python3.9/site-packages (from pandas->wrds) (2.8.2)\r\n",
      "Requirement already satisfied: greenlet!=0.4.17 in /home/james/miniconda3/envs/algo39/lib/python3.9/site-packages (from sqlalchemy->wrds) (2.0.2)\r\n",
      "Requirement already satisfied: typing-extensions>=4.2.0 in /home/james/miniconda3/envs/algo39/lib/python3.9/site-packages (from sqlalchemy->wrds) (4.4.0)\r\n",
      "Requirement already satisfied: six>=1.5 in /home/james/miniconda3/envs/algo39/lib/python3.9/site-packages (from python-dateutil>=2.8.1->pandas->wrds) (1.16.0)\r\n",
      "Looking in indexes: https://pypi.org/simple, https://pypi.ngc.nvidia.com\r\n",
      "Requirement already satisfied: lz4 in /home/james/miniconda3/envs/algo39/lib/python3.9/site-packages (4.3.2)\r\n",
      "Looking in indexes: https://pypi.org/simple, https://pypi.ngc.nvidia.com\r\n",
      "Requirement already satisfied: ray[tune] in /home/james/miniconda3/envs/algo39/lib/python3.9/site-packages (2.2.0)\r\n",
      "Requirement already satisfied: frozenlist in /home/james/miniconda3/envs/algo39/lib/python3.9/site-packages (from ray[tune]) (1.3.3)\r\n",
      "Requirement already satisfied: numpy>=1.19.3 in /home/james/miniconda3/envs/algo39/lib/python3.9/site-packages (from ray[tune]) (1.24.1)\r\n",
      "Requirement already satisfied: virtualenv>=20.0.24 in /home/james/miniconda3/envs/algo39/lib/python3.9/site-packages (from ray[tune]) (20.17.1)\r\n",
      "Requirement already satisfied: click>=7.0 in /home/james/miniconda3/envs/algo39/lib/python3.9/site-packages (from ray[tune]) (8.1.3)\r\n",
      "Requirement already satisfied: jsonschema in /home/james/miniconda3/envs/algo39/lib/python3.9/site-packages (from ray[tune]) (4.17.3)\r\n",
      "Requirement already satisfied: msgpack<2.0.0,>=1.0.0 in /home/james/miniconda3/envs/algo39/lib/python3.9/site-packages (from ray[tune]) (1.0.3)\r\n",
      "Requirement already satisfied: protobuf!=3.19.5,>=3.15.3 in /home/james/miniconda3/envs/algo39/lib/python3.9/site-packages (from ray[tune]) (3.19.6)\r\n",
      "Requirement already satisfied: aiosignal in /home/james/miniconda3/envs/algo39/lib/python3.9/site-packages (from ray[tune]) (1.3.1)\r\n",
      "Requirement already satisfied: requests in /home/james/miniconda3/envs/algo39/lib/python3.9/site-packages (from ray[tune]) (2.28.2)\r\n",
      "Requirement already satisfied: grpcio>=1.32.0 in /home/james/miniconda3/envs/algo39/lib/python3.9/site-packages (from ray[tune]) (1.51.1)\r\n",
      "Requirement already satisfied: filelock in /home/james/miniconda3/envs/algo39/lib/python3.9/site-packages (from ray[tune]) (3.9.0)\r\n",
      "Requirement already satisfied: pyyaml in /home/james/miniconda3/envs/algo39/lib/python3.9/site-packages (from ray[tune]) (6.0)\r\n",
      "Requirement already satisfied: attrs in /home/james/miniconda3/envs/algo39/lib/python3.9/site-packages (from ray[tune]) (22.2.0)\r\n",
      "Requirement already satisfied: tabulate in /home/james/miniconda3/envs/algo39/lib/python3.9/site-packages (from ray[tune]) (0.9.0)\r\n",
      "Requirement already satisfied: tensorboardX>=1.9 in /home/james/miniconda3/envs/algo39/lib/python3.9/site-packages (from ray[tune]) (2.5.1)\r\n",
      "Requirement already satisfied: pandas in /home/james/miniconda3/envs/algo39/lib/python3.9/site-packages (from ray[tune]) (1.5.2)\r\n",
      "Requirement already satisfied: distlib<1,>=0.3.6 in /home/james/miniconda3/envs/algo39/lib/python3.9/site-packages (from virtualenv>=20.0.24->ray[tune]) (0.3.6)\r\n",
      "Requirement already satisfied: platformdirs<3,>=2.4 in /home/james/miniconda3/envs/algo39/lib/python3.9/site-packages (from virtualenv>=20.0.24->ray[tune]) (2.6.2)\r\n",
      "Requirement already satisfied: pyrsistent!=0.17.0,!=0.17.1,!=0.17.2,>=0.14.0 in /home/james/miniconda3/envs/algo39/lib/python3.9/site-packages (from jsonschema->ray[tune]) (0.19.3)\r\n",
      "Requirement already satisfied: python-dateutil>=2.8.1 in /home/james/miniconda3/envs/algo39/lib/python3.9/site-packages (from pandas->ray[tune]) (2.8.2)\r\n",
      "Requirement already satisfied: pytz>=2020.1 in /home/james/miniconda3/envs/algo39/lib/python3.9/site-packages (from pandas->ray[tune]) (2022.7.1)\r\n",
      "Requirement already satisfied: charset-normalizer<4,>=2 in /home/james/miniconda3/envs/algo39/lib/python3.9/site-packages (from requests->ray[tune]) (2.1.1)\r\n",
      "Requirement already satisfied: certifi>=2017.4.17 in /home/james/miniconda3/envs/algo39/lib/python3.9/site-packages (from requests->ray[tune]) (2022.12.7)\r\n",
      "Requirement already satisfied: idna<4,>=2.5 in /home/james/miniconda3/envs/algo39/lib/python3.9/site-packages (from requests->ray[tune]) (3.4)\r\n",
      "Requirement already satisfied: urllib3<1.27,>=1.21.1 in /home/james/miniconda3/envs/algo39/lib/python3.9/site-packages (from requests->ray[tune]) (1.26.14)\r\n",
      "Requirement already satisfied: six>=1.5 in /home/james/miniconda3/envs/algo39/lib/python3.9/site-packages (from python-dateutil>=2.8.1->pandas->ray[tune]) (1.16.0)\r\n",
      "Looking in indexes: https://pypi.org/simple, https://pypi.ngc.nvidia.com\r\n",
      "Requirement already satisfied: tensorboardX in /home/james/miniconda3/envs/algo39/lib/python3.9/site-packages (2.5.1)\r\n",
      "Requirement already satisfied: numpy in /home/james/miniconda3/envs/algo39/lib/python3.9/site-packages (from tensorboardX) (1.24.1)\r\n",
      "Requirement already satisfied: protobuf<=3.20.1,>=3.8.0 in /home/james/miniconda3/envs/algo39/lib/python3.9/site-packages (from tensorboardX) (3.19.6)\r\n",
      "Looking in indexes: https://pypi.org/simple, https://pypi.ngc.nvidia.com\r\n",
      "Requirement already satisfied: gputil in /home/james/miniconda3/envs/algo39/lib/python3.9/site-packages (1.4.0)\r\n"
     ]
    }
   ],
   "source": [
    "!pip install trading_calendars\n",
    "!pip install alpaca_trade_api\n",
    "!pip install ccxt\n",
    "!pip install jqdatasdk\n",
    "!pip install wrds\n",
    "\n",
    "!pip install lz4\n",
    "!pip install ray[tune]\n",
    "!pip install tensorboardX\n",
    "!pip install gputil"
   ]
  },
  {
   "cell_type": "markdown",
   "metadata": {
    "id": "HLZjsQH-VcOU"
   },
   "source": [
    "### 1.3 Import packages"
   ]
  },
  {
   "cell_type": "code",
   "execution_count": 11,
   "metadata": {
    "colab": {
     "base_uri": "https://localhost:8080/"
    },
    "id": "N7bN2cdIDugz",
    "outputId": "c0433771-7a67-467e-a3ed-2dd53347d752"
   },
   "outputs": [
    {
     "ename": "TypeError",
     "evalue": "Parameters to generic types must be types. Got Ellipsis.",
     "output_type": "error",
     "traceback": [
      "\u001B[0;31m---------------------------------------------------------------------------\u001B[0m",
      "\u001B[0;31mTypeError\u001B[0m                                 Traceback (most recent call last)",
      "Cell \u001B[0;32mIn[11], line 19\u001B[0m\n\u001B[1;32m     17\u001B[0m \u001B[38;5;28;01mfrom\u001B[39;00m \u001B[38;5;21;01mfinrl\u001B[39;00m\u001B[38;5;21;01m.\u001B[39;00m\u001B[38;5;21;01magents\u001B[39;00m\u001B[38;5;21;01m.\u001B[39;00m\u001B[38;5;21;01mstablebaselines3\u001B[39;00m\u001B[38;5;21;01m.\u001B[39;00m\u001B[38;5;21;01mmodels\u001B[39;00m \u001B[38;5;28;01mimport\u001B[39;00m DRLAgent \u001B[38;5;28;01mas\u001B[39;00m DRLAgent_sb3\n\u001B[1;32m     18\u001B[0m \u001B[38;5;28;01mfrom\u001B[39;00m \u001B[38;5;21;01mfinrl\u001B[39;00m\u001B[38;5;21;01m.\u001B[39;00m\u001B[38;5;21;01magents\u001B[39;00m\u001B[38;5;21;01m.\u001B[39;00m\u001B[38;5;21;01mrllib\u001B[39;00m\u001B[38;5;21;01m.\u001B[39;00m\u001B[38;5;21;01mmodels\u001B[39;00m \u001B[38;5;28;01mimport\u001B[39;00m DRLAgent \u001B[38;5;28;01mas\u001B[39;00m DRLAgent_rllib\n\u001B[0;32m---> 19\u001B[0m \u001B[38;5;28;01mfrom\u001B[39;00m \u001B[38;5;21;01mfinrl\u001B[39;00m\u001B[38;5;21;01m.\u001B[39;00m\u001B[38;5;21;01magents\u001B[39;00m\u001B[38;5;21;01m.\u001B[39;00m\u001B[38;5;21;01melegantrl\u001B[39;00m\u001B[38;5;21;01m.\u001B[39;00m\u001B[38;5;21;01mmodels\u001B[39;00m \u001B[38;5;28;01mimport\u001B[39;00m DRLAgent \u001B[38;5;28;01mas\u001B[39;00m DRLAgent_erl\n\u001B[1;32m     21\u001B[0m \u001B[38;5;28;01mfrom\u001B[39;00m \u001B[38;5;21;01mfinrl\u001B[39;00m\u001B[38;5;21;01m.\u001B[39;00m\u001B[38;5;21;01mmeta\u001B[39;00m\u001B[38;5;21;01m.\u001B[39;00m\u001B[38;5;21;01mdata_processor\u001B[39;00m \u001B[38;5;28;01mimport\u001B[39;00m DataProcessor\n\u001B[1;32m     22\u001B[0m \u001B[38;5;28;01mfrom\u001B[39;00m \u001B[38;5;21;01mfinrl\u001B[39;00m\u001B[38;5;21;01m.\u001B[39;00m\u001B[38;5;21;01mplot\u001B[39;00m \u001B[38;5;28;01mimport\u001B[39;00m backtest_stats, backtest_plot, get_daily_return, get_baseline\n",
      "File \u001B[0;32m~/Dropbox/Investing/Personal_Algo_Trading_Practice/FinRL_JDB/finrl/agents/elegantrl/models.py:7\u001B[0m\n\u001B[1;32m      4\u001B[0m \u001B[38;5;28;01mfrom\u001B[39;00m \u001B[38;5;21;01m__future__\u001B[39;00m \u001B[38;5;28;01mimport\u001B[39;00m annotations\n\u001B[1;32m      6\u001B[0m \u001B[38;5;28;01mimport\u001B[39;00m \u001B[38;5;21;01mtorch\u001B[39;00m\n\u001B[0;32m----> 7\u001B[0m \u001B[38;5;28;01mfrom\u001B[39;00m \u001B[38;5;21;01melegantrl\u001B[39;00m\u001B[38;5;21;01m.\u001B[39;00m\u001B[38;5;21;01magents\u001B[39;00m \u001B[38;5;28;01mimport\u001B[39;00m AgentDDPG\n\u001B[1;32m      8\u001B[0m \u001B[38;5;28;01mfrom\u001B[39;00m \u001B[38;5;21;01melegantrl\u001B[39;00m\u001B[38;5;21;01m.\u001B[39;00m\u001B[38;5;21;01magents\u001B[39;00m \u001B[38;5;28;01mimport\u001B[39;00m AgentPPO\n\u001B[1;32m      9\u001B[0m \u001B[38;5;28;01mfrom\u001B[39;00m \u001B[38;5;21;01melegantrl\u001B[39;00m\u001B[38;5;21;01m.\u001B[39;00m\u001B[38;5;21;01magents\u001B[39;00m \u001B[38;5;28;01mimport\u001B[39;00m AgentSAC\n",
      "File \u001B[0;32m~/miniconda3/envs/algo39/lib/python3.9/site-packages/elegantrl/__init__.py:1\u001B[0m\n\u001B[0;32m----> 1\u001B[0m \u001B[38;5;28;01mfrom\u001B[39;00m \u001B[38;5;21;01melegantrl\u001B[39;00m\u001B[38;5;21;01m.\u001B[39;00m\u001B[38;5;21;01mtrain\u001B[39;00m\u001B[38;5;21;01m.\u001B[39;00m\u001B[38;5;21;01mrun\u001B[39;00m \u001B[38;5;28;01mimport\u001B[39;00m train_agent, train_agent_multiprocessing\n\u001B[1;32m      2\u001B[0m \u001B[38;5;28;01mfrom\u001B[39;00m \u001B[38;5;21;01melegantrl\u001B[39;00m\u001B[38;5;21;01m.\u001B[39;00m\u001B[38;5;21;01mtrain\u001B[39;00m\u001B[38;5;21;01m.\u001B[39;00m\u001B[38;5;21;01mconfig\u001B[39;00m \u001B[38;5;28;01mimport\u001B[39;00m Config, get_gym_env_args\n",
      "File \u001B[0;32m~/miniconda3/envs/algo39/lib/python3.9/site-packages/elegantrl/train/__init__.py:1\u001B[0m\n\u001B[0;32m----> 1\u001B[0m \u001B[38;5;28;01mfrom\u001B[39;00m \u001B[38;5;21;01melegantrl\u001B[39;00m\u001B[38;5;21;01m.\u001B[39;00m\u001B[38;5;21;01mtrain\u001B[39;00m\u001B[38;5;21;01m.\u001B[39;00m\u001B[38;5;21;01mrun\u001B[39;00m \u001B[38;5;28;01mimport\u001B[39;00m train_agent, train_agent_multiprocessing\n\u001B[1;32m      2\u001B[0m \u001B[38;5;28;01mfrom\u001B[39;00m \u001B[38;5;21;01melegantrl\u001B[39;00m\u001B[38;5;21;01m.\u001B[39;00m\u001B[38;5;21;01mtrain\u001B[39;00m\u001B[38;5;21;01m.\u001B[39;00m\u001B[38;5;21;01mconfig\u001B[39;00m \u001B[38;5;28;01mimport\u001B[39;00m Config, build_env, get_gym_env_args\n\u001B[1;32m      3\u001B[0m \u001B[38;5;28;01mfrom\u001B[39;00m \u001B[38;5;21;01melegantrl\u001B[39;00m\u001B[38;5;21;01m.\u001B[39;00m\u001B[38;5;21;01mtrain\u001B[39;00m\u001B[38;5;21;01m.\u001B[39;00m\u001B[38;5;21;01mevaluator\u001B[39;00m \u001B[38;5;28;01mimport\u001B[39;00m Evaluator\n",
      "File \u001B[0;32m~/miniconda3/envs/algo39/lib/python3.9/site-packages/elegantrl/train/run.py:12\u001B[0m\n\u001B[1;32m     10\u001B[0m \u001B[38;5;28;01mfrom\u001B[39;00m \u001B[38;5;21;01melegantrl\u001B[39;00m\u001B[38;5;21;01m.\u001B[39;00m\u001B[38;5;21;01mtrain\u001B[39;00m\u001B[38;5;21;01m.\u001B[39;00m\u001B[38;5;21;01mconfig\u001B[39;00m \u001B[38;5;28;01mimport\u001B[39;00m Config, build_env\n\u001B[1;32m     11\u001B[0m \u001B[38;5;28;01mfrom\u001B[39;00m \u001B[38;5;21;01melegantrl\u001B[39;00m\u001B[38;5;21;01m.\u001B[39;00m\u001B[38;5;21;01mtrain\u001B[39;00m\u001B[38;5;21;01m.\u001B[39;00m\u001B[38;5;21;01mreplay_buffer\u001B[39;00m \u001B[38;5;28;01mimport\u001B[39;00m ReplayBuffer\n\u001B[0;32m---> 12\u001B[0m \u001B[38;5;28;01mfrom\u001B[39;00m \u001B[38;5;21;01melegantrl\u001B[39;00m\u001B[38;5;21;01m.\u001B[39;00m\u001B[38;5;21;01mtrain\u001B[39;00m\u001B[38;5;21;01m.\u001B[39;00m\u001B[38;5;21;01mevaluator\u001B[39;00m \u001B[38;5;28;01mimport\u001B[39;00m Evaluator, get_cumulative_rewards_and_steps\n\u001B[1;32m     14\u001B[0m \u001B[38;5;28;01mif\u001B[39;00m os\u001B[38;5;241m.\u001B[39mname \u001B[38;5;241m==\u001B[39m \u001B[38;5;124m'\u001B[39m\u001B[38;5;124mnt\u001B[39m\u001B[38;5;124m'\u001B[39m:  \u001B[38;5;66;03m# if is WindowOS (Windows NT)\u001B[39;00m\n\u001B[1;32m     15\u001B[0m \u001B[38;5;250m    \u001B[39m\u001B[38;5;124;03m\"\"\"Fix bug about Anaconda in WindowOS\u001B[39;00m\n\u001B[1;32m     16\u001B[0m \u001B[38;5;124;03m    OMP: Error #15: Initializing libiomp5md.dll, but found libiomp5md.dll already initialized.\u001B[39;00m\n\u001B[1;32m     17\u001B[0m \u001B[38;5;124;03m    \"\"\"\u001B[39;00m\n",
      "File \u001B[0;32m~/miniconda3/envs/algo39/lib/python3.9/site-packages/elegantrl/train/evaluator.py:194\u001B[0m\n\u001B[1;32m    190\u001B[0m     steps \u001B[38;5;241m+\u001B[39m\u001B[38;5;241m=\u001B[39m \u001B[38;5;241m1\u001B[39m\n\u001B[1;32m    191\u001B[0m     \u001B[38;5;28;01mreturn\u001B[39;00m returns, steps\n\u001B[0;32m--> 194\u001B[0m \u001B[38;5;28;01mdef\u001B[39;00m \u001B[38;5;21mget_cumulative_rewards_and_step_from_vec_env\u001B[39m(env, actor) \u001B[38;5;241m-\u001B[39m\u001B[38;5;241m>\u001B[39m \u001B[43mList\u001B[49m\u001B[43m[\u001B[49m\u001B[43mTuple\u001B[49m\u001B[43m[\u001B[49m\u001B[38;5;28;43mfloat\u001B[39;49m\u001B[43m,\u001B[49m\u001B[43m \u001B[49m\u001B[38;5;28;43mfloat\u001B[39;49m\u001B[43m]\u001B[49m\u001B[43m,\u001B[49m\u001B[43m \u001B[49m\u001B[38;5;241;43m.\u001B[39;49m\u001B[38;5;241;43m.\u001B[39;49m\u001B[38;5;241;43m.\u001B[39;49m\u001B[43m]\u001B[49m:\n\u001B[1;32m    195\u001B[0m     device \u001B[38;5;241m=\u001B[39m env\u001B[38;5;241m.\u001B[39mdevice\n\u001B[1;32m    196\u001B[0m     env_num \u001B[38;5;241m=\u001B[39m env\u001B[38;5;241m.\u001B[39mnum_envs\n",
      "File \u001B[0;32m~/miniconda3/envs/algo39/lib/python3.9/typing.py:277\u001B[0m, in \u001B[0;36m_tp_cache.<locals>.decorator.<locals>.inner\u001B[0;34m(*args, **kwds)\u001B[0m\n\u001B[1;32m    275\u001B[0m \u001B[38;5;28;01mexcept\u001B[39;00m \u001B[38;5;167;01mTypeError\u001B[39;00m:\n\u001B[1;32m    276\u001B[0m     \u001B[38;5;28;01mpass\u001B[39;00m  \u001B[38;5;66;03m# All real errors (not unhashable args) are raised below.\u001B[39;00m\n\u001B[0;32m--> 277\u001B[0m \u001B[38;5;28;01mreturn\u001B[39;00m \u001B[43mfunc\u001B[49m\u001B[43m(\u001B[49m\u001B[38;5;241;43m*\u001B[39;49m\u001B[43margs\u001B[49m\u001B[43m,\u001B[49m\u001B[43m \u001B[49m\u001B[38;5;241;43m*\u001B[39;49m\u001B[38;5;241;43m*\u001B[39;49m\u001B[43mkwds\u001B[49m\u001B[43m)\u001B[49m\n",
      "File \u001B[0;32m~/miniconda3/envs/algo39/lib/python3.9/typing.py:837\u001B[0m, in \u001B[0;36m_SpecialGenericAlias.__getitem__\u001B[0;34m(self, params)\u001B[0m\n\u001B[1;32m    835\u001B[0m     params \u001B[38;5;241m=\u001B[39m (params,)\n\u001B[1;32m    836\u001B[0m msg \u001B[38;5;241m=\u001B[39m \u001B[38;5;124m\"\u001B[39m\u001B[38;5;124mParameters to generic types must be types.\u001B[39m\u001B[38;5;124m\"\u001B[39m\n\u001B[0;32m--> 837\u001B[0m params \u001B[38;5;241m=\u001B[39m \u001B[38;5;28;43mtuple\u001B[39;49m\u001B[43m(\u001B[49m\u001B[43m_type_check\u001B[49m\u001B[43m(\u001B[49m\u001B[43mp\u001B[49m\u001B[43m,\u001B[49m\u001B[43m \u001B[49m\u001B[43mmsg\u001B[49m\u001B[43m)\u001B[49m\u001B[43m \u001B[49m\u001B[38;5;28;43;01mfor\u001B[39;49;00m\u001B[43m \u001B[49m\u001B[43mp\u001B[49m\u001B[43m \u001B[49m\u001B[38;5;129;43;01min\u001B[39;49;00m\u001B[43m \u001B[49m\u001B[43mparams\u001B[49m\u001B[43m)\u001B[49m\n\u001B[1;32m    838\u001B[0m _check_generic(\u001B[38;5;28mself\u001B[39m, params, \u001B[38;5;28mself\u001B[39m\u001B[38;5;241m.\u001B[39m_nparams)\n\u001B[1;32m    839\u001B[0m \u001B[38;5;28;01mreturn\u001B[39;00m \u001B[38;5;28mself\u001B[39m\u001B[38;5;241m.\u001B[39mcopy_with(params)\n",
      "File \u001B[0;32m~/miniconda3/envs/algo39/lib/python3.9/typing.py:837\u001B[0m, in \u001B[0;36m<genexpr>\u001B[0;34m(.0)\u001B[0m\n\u001B[1;32m    835\u001B[0m     params \u001B[38;5;241m=\u001B[39m (params,)\n\u001B[1;32m    836\u001B[0m msg \u001B[38;5;241m=\u001B[39m \u001B[38;5;124m\"\u001B[39m\u001B[38;5;124mParameters to generic types must be types.\u001B[39m\u001B[38;5;124m\"\u001B[39m\n\u001B[0;32m--> 837\u001B[0m params \u001B[38;5;241m=\u001B[39m \u001B[38;5;28mtuple\u001B[39m(\u001B[43m_type_check\u001B[49m\u001B[43m(\u001B[49m\u001B[43mp\u001B[49m\u001B[43m,\u001B[49m\u001B[43m \u001B[49m\u001B[43mmsg\u001B[49m\u001B[43m)\u001B[49m \u001B[38;5;28;01mfor\u001B[39;00m p \u001B[38;5;129;01min\u001B[39;00m params)\n\u001B[1;32m    838\u001B[0m _check_generic(\u001B[38;5;28mself\u001B[39m, params, \u001B[38;5;28mself\u001B[39m\u001B[38;5;241m.\u001B[39m_nparams)\n\u001B[1;32m    839\u001B[0m \u001B[38;5;28;01mreturn\u001B[39;00m \u001B[38;5;28mself\u001B[39m\u001B[38;5;241m.\u001B[39mcopy_with(params)\n",
      "File \u001B[0;32m~/miniconda3/envs/algo39/lib/python3.9/typing.py:166\u001B[0m, in \u001B[0;36m_type_check\u001B[0;34m(arg, msg, is_argument, module, allow_special_forms)\u001B[0m\n\u001B[1;32m    164\u001B[0m     \u001B[38;5;28;01mreturn\u001B[39;00m arg\n\u001B[1;32m    165\u001B[0m \u001B[38;5;28;01mif\u001B[39;00m \u001B[38;5;129;01mnot\u001B[39;00m callable(arg):\n\u001B[0;32m--> 166\u001B[0m     \u001B[38;5;28;01mraise\u001B[39;00m \u001B[38;5;167;01mTypeError\u001B[39;00m(\u001B[38;5;124mf\u001B[39m\u001B[38;5;124m\"\u001B[39m\u001B[38;5;132;01m{\u001B[39;00mmsg\u001B[38;5;132;01m}\u001B[39;00m\u001B[38;5;124m Got \u001B[39m\u001B[38;5;132;01m{\u001B[39;00marg\u001B[38;5;132;01m!r:\u001B[39;00m\u001B[38;5;124m.100\u001B[39m\u001B[38;5;132;01m}\u001B[39;00m\u001B[38;5;124m.\u001B[39m\u001B[38;5;124m\"\u001B[39m)\n\u001B[1;32m    167\u001B[0m \u001B[38;5;28;01mreturn\u001B[39;00m arg\n",
      "\u001B[0;31mTypeError\u001B[0m: Parameters to generic types must be types. Got Ellipsis."
     ]
    }
   ],
   "source": [
    "import pandas as pd\n",
    "import numpy as np\n",
    "import matplotlib\n",
    "import matplotlib.pyplot as plt\n",
    "%matplotlib inline\n",
    "\n",
    "# matplotlib.use('Agg')\n",
    "import datetime\n",
    "\n",
    "import torch \n",
    "import ray\n",
    "from finrl import config\n",
    "from finrl.meta.preprocessor.yahoodownloader import YahooDownloader\n",
    "from finrl.meta.preprocessor.preprocessors import FeatureEngineer, data_split\n",
    "#from finrl.meta.env_stock_trading.env_stocktrading import StockTradingEnv\n",
    "from finrl.meta.env_stock_trading.env_stocktrading_np import StockTradingEnv\n",
    "from finrl.agents.stablebaselines3.models import DRLAgent as DRLAgent_sb3\n",
    "from finrl.agents.rllib.models import DRLAgent as DRLAgent_rllib\n",
    "from finrl.agents.elegantrl.models import DRLAgent as DRLAgent_erl\n",
    "\n",
    "from finrl.meta.data_processor import DataProcessor\n",
    "from finrl.plot import backtest_stats, backtest_plot, get_daily_return, get_baseline\n",
    "\n"
   ]
  },
  {
   "cell_type": "markdown",
   "metadata": {
    "id": "HlhSPzo9P-EO"
   },
   "source": [
    "## Part 2: Train & Test Function"
   ]
  },
  {
   "cell_type": "markdown",
   "metadata": {
    "id": "I0OVWiVfXRsi"
   },
   "source": [
    "### 2.1 Train"
   ]
  },
  {
   "cell_type": "code",
   "execution_count": null,
   "metadata": {
    "id": "trY_VCLVYsVX"
   },
   "outputs": [],
   "source": [
    "def train(start_date, end_date, ticker_list, data_source, time_interval, \n",
    "          technical_indicator_list, drl_lib, env, model_name, if_vix = True,\n",
    "          **kwargs):\n",
    "    \n",
    "    #fetch data\n",
    "    DP = DataProcessor(data_source, **kwargs)\n",
    "    data = DP.download_data(ticker_list, start_date, end_date, time_interval)\n",
    "    data = DP.clean_data(data)\n",
    "    data = DP.add_technical_indicator(data, technical_indicator_list)\n",
    "    if if_vix:\n",
    "        data = DP.add_vix(data)\n",
    "    price_array, tech_array, turbulence_array = DP.df_to_array(data, if_vix)\n",
    "    env_config = {'price_array':price_array,\n",
    "              'tech_array':tech_array,\n",
    "              'turbulence_array':turbulence_array,\n",
    "              'if_train':True}\n",
    "    env_instance = env(config=env_config)\n",
    "\n",
    "    #read parameters\n",
    "    cwd = kwargs.get('cwd','./'+str(model_name))\n",
    "\n",
    "    if drl_lib == 'elegantrl':\n",
    "        break_step = kwargs.get('break_step', 1e6)\n",
    "        erl_params = kwargs.get('erl_params')\n",
    "\n",
    "        agent = DRLAgent_erl(env = env,\n",
    "                             price_array = price_array,\n",
    "                             tech_array=tech_array,\n",
    "                             turbulence_array=turbulence_array)\n",
    "        \n",
    "        model = agent.get_model(model_name, model_kwargs = erl_params)\n",
    "        trained_model = agent.train_model(model=model, \n",
    "                                          cwd=cwd,\n",
    "                                          total_timesteps=break_step)\n",
    "      \n",
    "    elif drl_lib == 'rllib':\n",
    "        total_episodes = kwargs.get('total_episodes', 100)\n",
    "        rllib_params = kwargs.get('rllib_params')\n",
    "\n",
    "        agent_rllib = DRLAgent_rllib(env = env,\n",
    "                       price_array=price_array,\n",
    "                       tech_array=tech_array,\n",
    "                       turbulence_array=turbulence_array)\n",
    "\n",
    "        model,model_config = agent_rllib.get_model(model_name)\n",
    "\n",
    "        model_config['lr'] = rllib_params['lr']\n",
    "        model_config['train_batch_size'] = rllib_params['train_batch_size']\n",
    "        model_config['gamma'] = rllib_params['gamma']\n",
    "\n",
    "        #ray.shutdown()\n",
    "        trained_model = agent_rllib.train_model(model=model, \n",
    "                                          model_name=model_name,\n",
    "                                          model_config=model_config,\n",
    "                                          total_episodes=total_episodes)\n",
    "        trained_model.save(cwd)\n",
    "        \n",
    "            \n",
    "    elif drl_lib == 'stable_baselines3':\n",
    "        total_timesteps = kwargs.get('total_timesteps', 1e6)\n",
    "        agent_params = kwargs.get('agent_params')\n",
    "\n",
    "        agent = DRLAgent_sb3(env = env_instance)\n",
    "\n",
    "        model = agent.get_model(model_name, model_kwargs = agent_params)\n",
    "        trained_model = agent.train_model(model=model, \n",
    "                                tb_log_name=model_name,\n",
    "                                total_timesteps=total_timesteps)\n",
    "        print('Training finished!')\n",
    "        trained_model.save(cwd)\n",
    "        print('Trained model saved in ' + str(cwd))\n",
    "    else:\n",
    "        raise ValueError('DRL library input is NOT supported. Please check.')\n"
   ]
  },
  {
   "cell_type": "markdown",
   "metadata": {
    "id": "FCwCJKoyXYCk"
   },
   "source": [
    "### 2.2 Test"
   ]
  },
  {
   "cell_type": "code",
   "execution_count": null,
   "metadata": {
    "id": "lNKwj7lE04UG"
   },
   "outputs": [],
   "source": [
    "def test(start_date, end_date, ticker_list, data_source, time_interval, \n",
    "         technical_indicator_list, drl_lib, env, model_name, if_vix = True,\n",
    "         **kwargs):\n",
    "    #fetch data\n",
    "    DP = DataProcessor(data_source, **kwargs)\n",
    "    data = DP.download_data(ticker_list, start_date, end_date, time_interval)\n",
    "    data = DP.clean_data(data)\n",
    "    data = DP.add_technical_indicator(data, technical_indicator_list)\n",
    "    \n",
    "    if if_vix:\n",
    "        data = DP.add_vix(data)\n",
    "    price_array, tech_array, turbulence_array = DP.df_to_array(data, if_vix)\n",
    "    \n",
    "    env_config = {'price_array':price_array,\n",
    "            'tech_array':tech_array,\n",
    "            'turbulence_array':turbulence_array,\n",
    "            'if_train':False}\n",
    "    env_instance = env(config=env_config)\n",
    "\n",
    "    #load elegantrl needs state dim, action dim and net dim\n",
    "    net_dimension = kwargs.get('net_dimension', 2**7)\n",
    "    cwd = kwargs.get('cwd','./'+str(model_name))\n",
    "    print(\"price_array: \",len(price_array))\n",
    "\n",
    "    if drl_lib == 'elegantrl':\n",
    "        episode_total_assets = DRLAgent_erl.DRL_prediction(model_name=model_name,\n",
    "                                            cwd=cwd,\n",
    "                                            net_dimension=net_dimension,\n",
    "                                            environment=env_instance)\n",
    "\n",
    "        return episode_total_assets\n",
    "    \n",
    "    elif drl_lib == 'rllib':\n",
    "        #load agent\n",
    "        episode_total_assets = DRLAgent_rllib.DRL_prediction(\n",
    "                                  model_name=model_name, \n",
    "                                  env = env,\n",
    "                                  price_array=price_array,\n",
    "                                  tech_array=tech_array,\n",
    "                                  turbulence_array=turbulence_array,\n",
    "                                  agent_path = cwd)\n",
    "\n",
    "        return episode_total_assets\n",
    "\n",
    "\n",
    "    elif drl_lib == 'stable_baselines3':\n",
    "        episode_total_assets = DRLAgent_sb3.DRL_prediction_load_from_file(\n",
    "                                  model_name=model_name, \n",
    "                                  environment = env_instance,\n",
    "                                  cwd = cwd)\n",
    "        \n",
    "        return episode_total_assets\n",
    "    else:\n",
    "        raise ValueError('DRL library input is NOT supported. Please check.')"
   ]
  },
  {
   "cell_type": "markdown",
   "metadata": {
    "id": "VzS1DtvaXzCB"
   },
   "source": [
    "## Part 3: Set DRL Environment"
   ]
  },
  {
   "cell_type": "markdown",
   "metadata": {
    "id": "hRYyrttgQ0PR"
   },
   "source": [
    "### 3.1 Get the stock trading env from neo_finrl"
   ]
  },
  {
   "cell_type": "code",
   "execution_count": null,
   "metadata": {
    "id": "wcvNObPnDug_"
   },
   "outputs": [],
   "source": [
    "from finrl.meta.env_stock_trading.env_stocktrading_np import StockTradingEnv"
   ]
  },
  {
   "cell_type": "code",
   "execution_count": null,
   "metadata": {
    "id": "exdnEQ8eSQxZ"
   },
   "outputs": [],
   "source": [
    "import numpy as np\n",
    "import os\n",
    "import gym\n",
    "from numpy import random as rd\n",
    "\n",
    "class StockTradingEnv(gym.Env):\n",
    "\n",
    "    def __init__(self, config, initial_account=1e6,\n",
    "                 gamma=0.99, turbulence_thresh=99, min_stock_rate=0.1,\n",
    "                 max_stock=1e2, initial_capital=1e6, buy_cost_pct=1e-3, \n",
    "                 sell_cost_pct=1e-3,reward_scaling=2 ** -11,  initial_stocks=None,\n",
    "                 ):\n",
    "        price_ary = config['price_array']\n",
    "        tech_ary = config['tech_array']\n",
    "        turbulence_ary = config['turbulence_array']\n",
    "        if_train = config['if_train']\n",
    "        n = price_ary.shape[0]\n",
    "        self.price_ary =  price_ary.astype(np.float32)\n",
    "        self.tech_ary = tech_ary.astype(np.float32)\n",
    "        self.turbulence_ary = turbulence_ary\n",
    "        \n",
    "        self.tech_ary = self.tech_ary * 2 ** -7\n",
    "        self.turbulence_bool = (turbulence_ary > turbulence_thresh).astype(np.float32)\n",
    "        self.turbulence_ary = (self.sigmoid_sign(turbulence_ary, turbulence_thresh) * 2 ** -5).astype(np.float32)\n",
    "\n",
    "        stock_dim = self.price_ary.shape[1]\n",
    "        self.gamma = gamma\n",
    "        self.max_stock = max_stock\n",
    "        self.min_stock_rate = min_stock_rate\n",
    "        self.buy_cost_pct = buy_cost_pct\n",
    "        self.sell_cost_pct = sell_cost_pct\n",
    "        self.reward_scaling = reward_scaling\n",
    "        self.initial_capital = initial_capital\n",
    "        self.initial_stocks = np.zeros(stock_dim, dtype=np.float32) if initial_stocks is None else initial_stocks\n",
    "\n",
    "        # reset()\n",
    "        self.day = None\n",
    "        self.amount = None\n",
    "        self.stocks = None\n",
    "        self.total_asset = None\n",
    "        self.gamma_reward = None\n",
    "        self.initial_total_asset = None\n",
    "\n",
    "        # environment information\n",
    "        self.env_name = 'StockEnv'\n",
    "        # self.state_dim = 1 + 2 + 2 * stock_dim + self.tech_ary.shape[1]\n",
    "        # # amount + (turbulence, turbulence_bool) + (price, stock) * stock_dim + tech_dim\n",
    "        self.state_dim = 1 + 2 + 3 * stock_dim + self.tech_ary.shape[1]\n",
    "        # amount + (turbulence, turbulence_bool) + (price, stock) * stock_dim + tech_dim\n",
    "        self.stocks_cd = None\n",
    "        self.action_dim = stock_dim\n",
    "        self.max_step = self.price_ary.shape[0] - 1\n",
    "        self.if_train = if_train\n",
    "        self.if_discrete = False\n",
    "        self.target_return = 5.0\n",
    "        self.episode_return = 0.0\n",
    "        \n",
    "        self.observation_space = gym.spaces.Box(low=-3000, high=3000, shape=(self.state_dim,), dtype=np.float32)\n",
    "        self.action_space = gym.spaces.Box(low=-1, high=1, shape=(self.action_dim,), dtype=np.float32)\n",
    "        \n",
    "    def reset(self):\n",
    "        self.day = 0\n",
    "        price = self.price_ary[self.day]\n",
    "        \n",
    "        if self.if_train:\n",
    "            self.stocks = (self.initial_stocks + rd.randint(0, 64, size=self.initial_stocks.shape)).astype(np.float32)\n",
    "            self.stocks_cd = np.zeros_like(self.stocks)\n",
    "            self.amount = self.initial_capital * rd.uniform(0.95, 1.05) - (self.stocks * price).sum()\n",
    "        else:\n",
    "            self.stocks = self.initial_stocks.astype(np.float32)\n",
    "            self.stocks_cd = np.zeros_like(self.stocks)\n",
    "            self.amount = self.initial_capital\n",
    "\n",
    "        self.total_asset = self.amount + (self.stocks * price).sum()\n",
    "        self.initial_total_asset = self.total_asset\n",
    "        self.gamma_reward = 0.0\n",
    "        return self.get_state(price)  # state\n",
    "\n",
    "    def step(self, actions):\n",
    "        actions = (actions * self.max_stock).astype(int)\n",
    "\n",
    "        self.day += 1\n",
    "        price = self.price_ary[self.day]\n",
    "        self.stocks_cd += 1\n",
    "\n",
    "        if self.turbulence_bool[self.day] == 0:\n",
    "            min_action = int(self.max_stock * self.min_stock_rate)  # stock_cd\n",
    "            for index in np.where(actions < -min_action)[0]:  # sell_index:\n",
    "                if price[index] > 0:  # Sell only if current asset is > 0\n",
    "                    sell_num_shares = min(self.stocks[index], -actions[index])\n",
    "                    self.stocks[index] -= sell_num_shares\n",
    "                    self.amount += price[index] * sell_num_shares * (1 - self.sell_cost_pct)\n",
    "                    self.stocks_cd[index] = 0\n",
    "            for index in np.where(actions > min_action)[0]:  # buy_index:\n",
    "                if price[index] > 0:  # Buy only if the price is > 0 (no missing data in this particular date)\n",
    "                    buy_num_shares = min(self.amount // price[index], actions[index])\n",
    "                    self.stocks[index] += buy_num_shares\n",
    "                    self.amount -= price[index] * buy_num_shares * (1 + self.buy_cost_pct)\n",
    "                    self.stocks_cd[index] = 0\n",
    "\n",
    "        else:  # sell all when turbulence\n",
    "            self.amount += (self.stocks * price).sum() * (1 - self.sell_cost_pct)\n",
    "            self.stocks[:] = 0\n",
    "            self.stocks_cd[:] = 0\n",
    "\n",
    "        state = self.get_state(price)\n",
    "        total_asset = self.amount + (self.stocks * price).sum()\n",
    "        reward = (total_asset - self.total_asset) * self.reward_scaling\n",
    "        self.total_asset = total_asset\n",
    "\n",
    "        self.gamma_reward = self.gamma_reward * self.gamma + reward\n",
    "        done = self.day == self.max_step\n",
    "        if done:\n",
    "            reward = self.gamma_reward\n",
    "            self.episode_return = total_asset / self.initial_total_asset\n",
    "\n",
    "        return state, reward, done, dict()\n",
    "\n",
    "    def get_state(self, price):\n",
    "        amount = np.array(max(self.amount, 1e4) * (2 ** -12), dtype=np.float32)\n",
    "        scale = np.array(2 ** -6, dtype=np.float32)\n",
    "        return np.hstack((amount,\n",
    "                          self.turbulence_ary[self.day],\n",
    "                          self.turbulence_bool[self.day],\n",
    "                          price * scale,\n",
    "                          self.stocks * scale,\n",
    "                          self.stocks_cd,\n",
    "                          self.tech_ary[self.day],\n",
    "                          ))  # state.astype(np.float32)\n",
    "    \n",
    "    @staticmethod\n",
    "    def sigmoid_sign(ary, thresh):\n",
    "        def sigmoid(x):\n",
    "            return 1 / (1 + np.exp(-x * np.e)) - 0.5\n",
    "\n",
    "        return sigmoid(ary / thresh) * thresh\n"
   ]
  },
  {
   "cell_type": "markdown",
   "metadata": {
    "id": "lM3lVwmQX8GA"
   },
   "source": [
    "### 3.2 Set some basic parameters"
   ]
  },
  {
   "cell_type": "code",
   "execution_count": null,
   "metadata": {
    "id": "l5dYmiPpDug_"
   },
   "outputs": [],
   "source": [
    "env = StockTradingEnv"
   ]
  },
  {
   "cell_type": "code",
   "execution_count": null,
   "metadata": {
    "id": "NXgk2XftXwoR"
   },
   "outputs": [],
   "source": [
    "TRAIN_START_DATE = '2014-01-01'\n",
    "TRAIN_END_DATE = '2020-07-30'\n",
    "\n",
    "TEST_START_DATE = '2020-08-01'\n",
    "TEST_END_DATE = '2021-10-01'\n",
    "INDICATORS = ['macd',\n",
    " 'boll_ub',\n",
    " 'boll_lb',\n",
    " 'rsi_30',\n",
    " 'dx_30',\n",
    " 'close_30_sma',\n",
    " 'close_60_sma']"
   ]
  },
  {
   "cell_type": "markdown",
   "metadata": {
    "id": "aiTD89THRL4U"
   },
   "source": [
    "## Part 4: Compare the three agents"
   ]
  },
  {
   "cell_type": "markdown",
   "metadata": {
    "id": "1TC8cMZaYAG1"
   },
   "source": [
    "### 4.1 eRL"
   ]
  },
  {
   "cell_type": "code",
   "execution_count": 5,
   "metadata": {
    "id": "GzlfQPrQnWfa"
   },
   "outputs": [],
   "source": [
    "ERL_PARAMS = {\"learning_rate\": 3e-5,\"batch_size\": 2048,\"gamma\":  0.985,\n",
    "        \"seed\":312,\"net_dimension\":512, \"target_step\":5000, \"eval_gap\":60,\n",
    "        \"eval_times\":1}"
   ]
  },
  {
   "cell_type": "markdown",
   "metadata": {
    "id": "tO1sXcIJZdtE"
   },
   "source": [
    "#### Train"
   ]
  },
  {
   "cell_type": "code",
   "execution_count": 6,
   "metadata": {
    "colab": {
     "base_uri": "https://localhost:8080/"
    },
    "id": "JodM4Qn3Dug_",
    "outputId": "a909d233-dbe2-41c3-acbe-24ee96e4bc93"
   },
   "outputs": [
    {
     "ename": "NameError",
     "evalue": "name 'train' is not defined",
     "output_type": "error",
     "traceback": [
      "\u001B[0;31m---------------------------------------------------------------------------\u001B[0m",
      "\u001B[0;31mNameError\u001B[0m                                 Traceback (most recent call last)",
      "Cell \u001B[0;32mIn[6], line 3\u001B[0m\n\u001B[1;32m      1\u001B[0m \u001B[38;5;66;03m#demo for elegantrl\u001B[39;00m\n\u001B[1;32m      2\u001B[0m \u001B[38;5;28;01mfrom\u001B[39;00m \u001B[38;5;21;01mfinrl\u001B[39;00m \u001B[38;5;28;01mimport\u001B[39;00m config_tickers\n\u001B[0;32m----> 3\u001B[0m \u001B[43mtrain\u001B[49m(start_date \u001B[38;5;241m=\u001B[39m TRAIN_START_DATE,\n\u001B[1;32m      4\u001B[0m       end_date \u001B[38;5;241m=\u001B[39m TRAIN_END_DATE,\n\u001B[1;32m      5\u001B[0m       ticker_list \u001B[38;5;241m=\u001B[39m config_tickers\u001B[38;5;241m.\u001B[39mDOW_30_TICKER,\n\u001B[1;32m      6\u001B[0m       data_source \u001B[38;5;241m=\u001B[39m \u001B[38;5;124m'\u001B[39m\u001B[38;5;124myahoofinance\u001B[39m\u001B[38;5;124m'\u001B[39m,\n\u001B[1;32m      7\u001B[0m       time_interval\u001B[38;5;241m=\u001B[39m \u001B[38;5;124m'\u001B[39m\u001B[38;5;124m1D\u001B[39m\u001B[38;5;124m'\u001B[39m, \n\u001B[1;32m      8\u001B[0m       technical_indicator_list\u001B[38;5;241m=\u001B[39m INDICATORS,\n\u001B[1;32m      9\u001B[0m       drl_lib\u001B[38;5;241m=\u001B[39m\u001B[38;5;124m'\u001B[39m\u001B[38;5;124melegantrl\u001B[39m\u001B[38;5;124m'\u001B[39m, \n\u001B[1;32m     10\u001B[0m       env\u001B[38;5;241m=\u001B[39menv, \n\u001B[1;32m     11\u001B[0m       model_name\u001B[38;5;241m=\u001B[39m\u001B[38;5;124m'\u001B[39m\u001B[38;5;124mppo\u001B[39m\u001B[38;5;124m'\u001B[39m, \n\u001B[1;32m     12\u001B[0m       cwd\u001B[38;5;241m=\u001B[39m\u001B[38;5;124m'\u001B[39m\u001B[38;5;124m./test_ppo\u001B[39m\u001B[38;5;124m'\u001B[39m,\n\u001B[1;32m     13\u001B[0m       erl_params\u001B[38;5;241m=\u001B[39mERL_PARAMS,\n\u001B[1;32m     14\u001B[0m       break_step\u001B[38;5;241m=\u001B[39m\u001B[38;5;241m1e5\u001B[39m\n\u001B[1;32m     15\u001B[0m       )\n",
      "\u001B[0;31mNameError\u001B[0m: name 'train' is not defined"
     ]
    }
   ],
   "source": [
    "#demo for elegantrl\n",
    "from finrl import config_tickers\n",
    "train(start_date = TRAIN_START_DATE,\n",
    "      end_date = TRAIN_END_DATE,\n",
    "      ticker_list = config_tickers.DOW_30_TICKER,\n",
    "      data_source = 'yahoofinance',\n",
    "      time_interval= '1D', \n",
    "      technical_indicator_list= INDICATORS,\n",
    "      drl_lib='elegantrl', \n",
    "      env=env, \n",
    "      model_name='ppo', \n",
    "      cwd='./test_ppo',\n",
    "      erl_params=ERL_PARAMS,\n",
    "      break_step=1e5\n",
    "      )"
   ]
  },
  {
   "cell_type": "markdown",
   "metadata": {
    "id": "9eSQ64_nZhJ1"
   },
   "source": [
    "#### Test"
   ]
  },
  {
   "cell_type": "code",
   "execution_count": null,
   "metadata": {
    "colab": {
     "base_uri": "https://localhost:8080/"
    },
    "id": "ZOdNzZnoYhH3",
    "outputId": "9a52bfec-bd5e-464d-88fd-a9e2cebbb379"
   },
   "outputs": [],
   "source": [
    "account_value_erl=test(start_date = TEST_START_DATE, \n",
    "                        end_date = TEST_END_DATE,\n",
    "                        ticker_list = config_tickers.DOW_30_TICKER,\n",
    "                        data_source = 'yahoofinance',\n",
    "                        time_interval= '1D', \n",
    "                        technical_indicator_list= INDICATORS,\n",
    "                        drl_lib='elegantrl', \n",
    "                        env=env, \n",
    "                        model_name='ppo', \n",
    "                        cwd='./test_ppo', \n",
    "                        net_dimension = 512)"
   ]
  },
  {
   "cell_type": "code",
   "execution_count": null,
   "metadata": {
    "colab": {
     "base_uri": "https://localhost:8080/"
    },
    "id": "z-u8JqQbshMj",
    "outputId": "3b8857fc-4f9f-4475-91cb-7b697acafad9"
   },
   "outputs": [],
   "source": [
    "len(account_value_erl)"
   ]
  },
  {
   "cell_type": "markdown",
   "metadata": {
    "id": "8F8Xqq6rjgly"
   },
   "source": [
    "#### Plot"
   ]
  },
  {
   "cell_type": "code",
   "execution_count": null,
   "metadata": {
    "colab": {
     "base_uri": "https://localhost:8080/",
     "height": 35
    },
    "id": "Koa7NilB7-Ge",
    "outputId": "5767e064-61fe-4eea-d5b8-7fee143750d8"
   },
   "outputs": [],
   "source": [
    "TEST_END_DATE"
   ]
  },
  {
   "cell_type": "code",
   "execution_count": null,
   "metadata": {
    "colab": {
     "base_uri": "https://localhost:8080/"
    },
    "id": "uzlZfeHucDIh",
    "outputId": "91ed4e47-f350-4ad5-8bbd-8fae81c078fe"
   },
   "outputs": [],
   "source": [
    "baseline_df =  DataProcessor('yahoofinance').download_data(ticker_list = [\"^DJI\"], \n",
    "                                                            start_date = TEST_START_DATE, \n",
    "                                                            end_date = TEST_END_DATE, \n",
    "                                                            time_interval = \"1D\")\n",
    "stats = backtest_stats(baseline_df, value_col_name = 'close')\n"
   ]
  },
  {
   "cell_type": "code",
   "execution_count": null,
   "metadata": {
    "id": "h9wmxqC5sqZN"
   },
   "outputs": [],
   "source": [
    "account_value_erl = pd.DataFrame({'date':baseline_df.date,'account_value':account_value_erl[0:len(account_value_erl)-1]})"
   ]
  },
  {
   "cell_type": "code",
   "execution_count": null,
   "metadata": {
    "colab": {
     "base_uri": "https://localhost:8080/",
     "height": 204
    },
    "id": "EoHB3xzY6GrR",
    "outputId": "f2e8c735-aeba-45bf-afcf-8390e08f06b7"
   },
   "outputs": [],
   "source": [
    "account_value_erl.tail()"
   ]
  },
  {
   "cell_type": "code",
   "execution_count": null,
   "metadata": {
    "colab": {
     "base_uri": "https://localhost:8080/"
    },
    "id": "3lZjaI5fbLQC",
    "outputId": "be2f8453-1610-4e38-f997-f31f227d5e88"
   },
   "outputs": [],
   "source": [
    "print(\"==============Get Backtest Results===========\")\n",
    "now = datetime.datetime.now().strftime('%Y%m%d-%Hh%M')\n",
    "\n",
    "perf_stats_all = backtest_stats(account_value=account_value_erl)\n",
    "perf_stats_all = pd.DataFrame(perf_stats_all)\n",
    "perf_stats_all.to_csv(\"./\"+\"/perf_stats_all_\"+now+'.csv')"
   ]
  },
  {
   "cell_type": "code",
   "execution_count": null,
   "metadata": {
    "id": "9qJUg0KTBIGw"
   },
   "outputs": [],
   "source": []
  },
  {
   "cell_type": "code",
   "execution_count": null,
   "metadata": {
    "colab": {
     "base_uri": "https://localhost:8080/",
     "height": 1000
    },
    "id": "wZ1A4lB7jZ2r",
    "outputId": "98eca92e-8f6b-45a1-f982-5e1a50d11d1c"
   },
   "outputs": [],
   "source": [
    "print(\"==============Compare to DJIA===========\")\n",
    "%matplotlib inline\n",
    "# S&P 500: ^GSPC\n",
    "# Dow Jones Index: ^DJI\n",
    "# NASDAQ 100: ^NDX\n",
    "backtest_plot(account_value_erl, \n",
    "             baseline_ticker = '^DJI', \n",
    "             baseline_start = account_value_erl.loc[0,'date'],\n",
    "             baseline_end = account_value_erl.loc[len(account_value_erl)-1,'date'])"
   ]
  },
  {
   "cell_type": "code",
   "execution_count": null,
   "metadata": {
    "id": "VzTdYfbNCKiE"
   },
   "outputs": [],
   "source": []
  },
  {
   "cell_type": "markdown",
   "metadata": {
    "id": "aq6QHtD4YuE5"
   },
   "source": [
    "### 4.2 RLlib"
   ]
  },
  {
   "cell_type": "code",
   "execution_count": null,
   "metadata": {
    "id": "4TVkbvDiKxET"
   },
   "outputs": [],
   "source": [
    "RLlib_PARAMS = {\"lr\": 5e-6,\"train_batch_size\": 1000,\"gamma\": 0.99}"
   ]
  },
  {
   "cell_type": "markdown",
   "metadata": {
    "id": "OVMEflpTZjc0"
   },
   "source": [
    "#### Train"
   ]
  },
  {
   "cell_type": "code",
   "execution_count": null,
   "metadata": {
    "colab": {
     "base_uri": "https://localhost:8080/"
    },
    "id": "kZbh5FVLKxum",
    "outputId": "06862d38-8626-4753-ec09-2c8efdf24750"
   },
   "outputs": [],
   "source": [
    "#demo for rllib\n",
    "ray.shutdown() #always shutdown previous session if any\n",
    "\n",
    "train(start_date = TRAIN_START_DATE, \n",
    "      end_date = TRAIN_END_DATE,\n",
    "      ticker_list =config_tickers.DOW_30_TICKER,\n",
    "      data_source = 'yahoofinance',\n",
    "      time_interval= '1D', \n",
    "      technical_indicator_list= INDICATORS,\n",
    "      drl_lib='rllib', \n",
    "      env=env, \n",
    "      model_name='ppo', \n",
    "      cwd='./test_ppo',\n",
    "      rllib_params = RLlib_PARAMS,\n",
    "      total_episodes=30)"
   ]
  },
  {
   "cell_type": "markdown",
   "metadata": {
    "id": "lpMmJAkfZlMx"
   },
   "source": [
    "#### Test"
   ]
  },
  {
   "cell_type": "code",
   "execution_count": null,
   "metadata": {
    "colab": {
     "base_uri": "https://localhost:8080/"
    },
    "id": "03hrpUmcScb0",
    "outputId": "c827cac8-3d86-4d4e-b899-ba90029f3ee9"
   },
   "outputs": [],
   "source": [
    "ray.shutdown() #always shutdown previous session if any\n",
    "\n",
    "account_value_rllib = test(start_date = TEST_START_DATE, \n",
    "     end_date = TEST_END_DATE,\n",
    "     ticker_list =config_tickers.DOW_30_TICKER,\n",
    "     data_source = 'yahoofinance',\n",
    "     time_interval= '1D', \n",
    "     technical_indicator_list= INDICATORS,\n",
    "     drl_lib='rllib', \n",
    "     env=env, \n",
    "     model_name='ppo', \n",
    "     cwd='./test_ppo/checkpoint_000030/checkpoint-30',\n",
    "     rllib_params = RLlib_PARAMS)"
   ]
  },
  {
   "cell_type": "code",
   "execution_count": null,
   "metadata": {
    "colab": {
     "base_uri": "https://localhost:8080/"
    },
    "id": "H6yq9e776g3z",
    "outputId": "c401ee7a-149c-4fec-c4b5-ac0674771074"
   },
   "outputs": [],
   "source": [
    "len(account_value_rllib)"
   ]
  },
  {
   "cell_type": "markdown",
   "metadata": {
    "id": "k6ajBhvMBdsG"
   },
   "source": [
    "#### Plot"
   ]
  },
  {
   "cell_type": "code",
   "execution_count": null,
   "metadata": {
    "colab": {
     "base_uri": "https://localhost:8080/"
    },
    "id": "gEmVTLNBh6-F",
    "outputId": "e5057e68-bb5f-4dfc-964e-b38b285649f8"
   },
   "outputs": [],
   "source": [
    "baseline_df =  DataProcessor('yahoofinance').download_data(ticker_list = [\"^DJI\"], \n",
    "                                                            start_date = TEST_START_DATE, \n",
    "                                                            end_date = TEST_END_DATE, \n",
    "                                                            time_interval = \"1D\")\n",
    "stats = backtest_stats(baseline_df, value_col_name = 'close')\n"
   ]
  },
  {
   "cell_type": "code",
   "execution_count": null,
   "metadata": {
    "colab": {
     "base_uri": "https://localhost:8080/"
    },
    "id": "Qhtuzazbponh",
    "outputId": "92895aaf-d671-4406-9113-90a12828246a"
   },
   "outputs": [],
   "source": [
    "len(baseline_df.date)"
   ]
  },
  {
   "cell_type": "code",
   "execution_count": null,
   "metadata": {
    "id": "-v5aoZ10Bgky"
   },
   "outputs": [],
   "source": [
    "account_value_rllib = pd.DataFrame({'date':baseline_df.date,'account_value':account_value_rllib[0:len(account_value_rllib)-1]})"
   ]
  },
  {
   "cell_type": "code",
   "execution_count": null,
   "metadata": {
    "colab": {
     "base_uri": "https://localhost:8080/"
    },
    "id": "MTtGKUwwiAPf",
    "outputId": "9a7be353-fa85-4b0d-fdf8-468c6178620f"
   },
   "outputs": [],
   "source": [
    "perf_stats_all = backtest_stats(account_value=account_value_rllib)\n",
    "perf_stats_all = pd.DataFrame(perf_stats_all)"
   ]
  },
  {
   "cell_type": "code",
   "execution_count": null,
   "metadata": {
    "colab": {
     "base_uri": "https://localhost:8080/",
     "height": 1000
    },
    "id": "pSAgvG7CBnIJ",
    "outputId": "b88e5b26-d1c3-45f6-cb44-4c4a81bebe54"
   },
   "outputs": [],
   "source": [
    "print(\"==============Compare to DJIA===========\")\n",
    "%matplotlib inline\n",
    "# S&P 500: ^GSPC\n",
    "# Dow Jones Index: ^DJI\n",
    "# NASDAQ 100: ^NDX\n",
    "backtest_plot(account_value_rllib, \n",
    "             baseline_ticker = '^DJI', \n",
    "             baseline_start = account_value_rllib.loc[0,'date'],\n",
    "             baseline_end = account_value_rllib.loc[len(account_value_rllib)-1,'date'])"
   ]
  },
  {
   "cell_type": "markdown",
   "metadata": {
    "id": "hN_2gi3SY6U1"
   },
   "source": [
    "### 4.3 Stable-baselines3"
   ]
  },
  {
   "cell_type": "code",
   "execution_count": null,
   "metadata": {
    "id": "pOj9xfRxktut"
   },
   "outputs": [],
   "source": [
    "SAC_PARAMS = {\"batch_size\": 128,\"buffer_size\": 100000,\"learning_rate\": 0.0001,\"learning_starts\": 100,\"ent_coef\": \"auto_0.1\",}\n",
    "PPO_PARAMS = {\"n_steps\": 2048,\"ent_coef\": 0.01,\"learning_rate\": 0.00025,\"batch_size\": 128}\n",
    "TD3_PARAMS = {\"batch_size\": 100, \"buffer_size\": 1000000, \"learning_rate\": 0.001}\n",
    "DDPG_PARAMS = {\"batch_size\": 128, \"buffer_size\": 50000, \"learning_rate\": 0.001}\n",
    "A2C_PARAMS = {\"n_steps\": 5, \"ent_coef\": 0.01, \"learning_rate\": 3e-5}"
   ]
  },
  {
   "cell_type": "markdown",
   "metadata": {
    "id": "aRBk-NDdZmx0"
   },
   "source": [
    "#### Train"
   ]
  },
  {
   "cell_type": "code",
   "execution_count": null,
   "metadata": {
    "colab": {
     "base_uri": "https://localhost:8080/"
    },
    "id": "2A7msCg0DuhA",
    "outputId": "f7fc42c2-13f8-440d-e4fa-ea452635ae19"
   },
   "outputs": [],
   "source": [
    "#demo for stable-baselines3\n",
    "train(start_date = TRAIN_START_DATE, \n",
    "      end_date = TRAIN_END_DATE,\n",
    "      ticker_list =config_tickers.DOW_30_TICKER,\n",
    "      data_source = 'yahoofinance',\n",
    "      time_interval= '1D', \n",
    "      technical_indicator_list= INDICATORS,\n",
    "      drl_lib='stable_baselines3', \n",
    "      env=env, \n",
    "      model_name='sac', \n",
    "      cwd='./test_sac',\n",
    "      agent_params = SAC_PARAMS,\n",
    "      total_timesteps=1e4)\n"
   ]
  },
  {
   "cell_type": "markdown",
   "metadata": {
    "id": "TsAByoEOZn6X"
   },
   "source": [
    "#### Test"
   ]
  },
  {
   "cell_type": "code",
   "execution_count": null,
   "metadata": {
    "colab": {
     "base_uri": "https://localhost:8080/"
    },
    "id": "fKEYTIcLQywo",
    "outputId": "581a917f-9f64-4627-da5a-c54510836759"
   },
   "outputs": [],
   "source": [
    "account_value_sb3=test(start_date = TEST_START_DATE, \n",
    "     end_date = TEST_END_DATE,\n",
    "     ticker_list =config_tickers.DOW_30_TICKER,\n",
    "     data_source = 'yahoofinance',\n",
    "     time_interval= '1D', \n",
    "     technical_indicator_list= INDICATORS, \n",
    "     drl_lib='stable_baselines3', \n",
    "     env=env, \n",
    "     model_name='sac', \n",
    "     cwd='./test_sac.zip')"
   ]
  },
  {
   "cell_type": "code",
   "execution_count": null,
   "metadata": {
    "colab": {
     "base_uri": "https://localhost:8080/"
    },
    "id": "9WcLm8nYsxeU",
    "outputId": "0829faeb-472a-4535-fb8e-25a16617b285"
   },
   "outputs": [],
   "source": [
    "len(account_value_sb3)"
   ]
  },
  {
   "cell_type": "markdown",
   "metadata": {
    "id": "FC0d-lUvj0Zk"
   },
   "source": [
    "#### Plot"
   ]
  },
  {
   "cell_type": "code",
   "execution_count": null,
   "metadata": {
    "colab": {
     "base_uri": "https://localhost:8080/"
    },
    "id": "uWeh-OTc0i2o",
    "outputId": "87621a1b-63bc-44f4-d123-facbdd316274"
   },
   "outputs": [],
   "source": [
    "baseline_df =  DataProcessor('yahoofinance').download_data(ticker_list = [\"^DJI\"], \n",
    "                                                            start_date = TEST_START_DATE, \n",
    "                                                            end_date = TEST_END_DATE, \n",
    "                                                            time_interval = \"1D\")\n",
    "stats = backtest_stats(baseline_df, value_col_name = 'close')\n"
   ]
  },
  {
   "cell_type": "code",
   "execution_count": null,
   "metadata": {
    "id": "bMCujva5s5Mc"
   },
   "outputs": [],
   "source": [
    "account_value_sb3 = pd.DataFrame({'date':baseline_df.date,'account_value':account_value_sb3[0:len(account_value_sb3)-1]})"
   ]
  },
  {
   "cell_type": "code",
   "execution_count": null,
   "metadata": {
    "colab": {
     "base_uri": "https://localhost:8080/"
    },
    "id": "ifAM8Zgxuy4x",
    "outputId": "606410b7-8838-499a-ed69-fe5fc107ac96"
   },
   "outputs": [],
   "source": [
    "perf_stats_all = backtest_stats(account_value=account_value_sb3)\n",
    "perf_stats_all = pd.DataFrame(perf_stats_all)"
   ]
  },
  {
   "cell_type": "code",
   "execution_count": null,
   "metadata": {
    "colab": {
     "base_uri": "https://localhost:8080/",
     "height": 204
    },
    "id": "YS8-OOGMtIRA",
    "outputId": "dd4af46b-4d9f-4712-f31b-107e95f7272d"
   },
   "outputs": [],
   "source": [
    "account_value_sb3.tail()"
   ]
  },
  {
   "cell_type": "code",
   "execution_count": null,
   "metadata": {
    "colab": {
     "base_uri": "https://localhost:8080/",
     "height": 1000
    },
    "id": "WtSWdl57kDlx",
    "outputId": "0ae77fd8-aa45-4ffe-e957-836faf487e2b"
   },
   "outputs": [],
   "source": [
    "print(\"==============Compare to DJIA===========\")\n",
    "#%matplotlib inline\n",
    "# S&P 500: ^GSPC\n",
    "# Dow Jones Index: ^DJI\n",
    "# NASDAQ 100: ^NDX\n",
    "backtest_plot(account_value_sb3, \n",
    "             baseline_ticker = '^DJI', \n",
    "             baseline_start = account_value_sb3.loc[0,'date'],\n",
    "             baseline_end = account_value_sb3.loc[len(account_value_sb3)-1,'date'])"
   ]
  },
  {
   "cell_type": "markdown",
   "metadata": {
    "id": "6oZXzGdRqsbu"
   },
   "source": [
    "## Part 5: Use Plotly to compare eRL, RLlib and SB3"
   ]
  },
  {
   "cell_type": "code",
   "execution_count": null,
   "metadata": {
    "colab": {
     "base_uri": "https://localhost:8080/",
     "height": 419
    },
    "id": "LqiDBb03r4EG",
    "outputId": "84d0794c-fd86-41e9-990c-98191bb817f2"
   },
   "outputs": [],
   "source": [
    "baseline_df"
   ]
  },
  {
   "cell_type": "code",
   "execution_count": null,
   "metadata": {
    "id": "_ae2RzWwqgJ5"
   },
   "outputs": [],
   "source": [
    "from datetime import datetime as dt\n",
    "\n",
    "import matplotlib.pyplot as plt\n",
    "import plotly\n",
    "import plotly.graph_objs as go"
   ]
  },
  {
   "cell_type": "code",
   "execution_count": null,
   "metadata": {
    "id": "9M8G491ewZul"
   },
   "outputs": [],
   "source": [
    "daily_return = account_value_sb3.copy()\n",
    "daily_return['sb3_return'] = account_value_sb3.account_value.pct_change()\n",
    "daily_return['erl_return'] = account_value_erl.account_value.pct_change()\n",
    "daily_return['rllib_return'] = account_value_rllib.account_value.pct_change()\n",
    "daily_return['djia_return'] = baseline_df.adjcp.pct_change()\n"
   ]
  },
  {
   "cell_type": "code",
   "execution_count": null,
   "metadata": {
    "colab": {
     "base_uri": "https://localhost:8080/",
     "height": 204
    },
    "id": "jgrNgSaKwz-y",
    "outputId": "f9d0deab-58bf-4725-ddb5-3f3ba08eea96"
   },
   "outputs": [],
   "source": [
    "daily_return.head()"
   ]
  },
  {
   "cell_type": "code",
   "execution_count": null,
   "metadata": {
    "id": "wH2bH3u4w9Gx"
   },
   "outputs": [],
   "source": [
    "daily_return.to_csv('daily_return_erl_sb3_rllib.csv',index=False)\n",
    "#daily_return = pd.read_csv('daily_return_erl_sb3_rllib.csv')"
   ]
  },
  {
   "cell_type": "code",
   "execution_count": null,
   "metadata": {
    "id": "IFs_D1YgqxES"
   },
   "outputs": [],
   "source": [
    "rllib_cumpod =(daily_return.rllib_return+1).cumprod()-1\n",
    "sb3_cumpod =(daily_return.sb3_return+1).cumprod()-1\n",
    "erl_cumpod =(daily_return.erl_return+1).cumprod()-1\n",
    "dji_cumpod =(daily_return.djia_return+1).cumprod()-1"
   ]
  },
  {
   "cell_type": "code",
   "execution_count": null,
   "metadata": {
    "id": "7GD2ubi-wSsq"
   },
   "outputs": [],
   "source": []
  },
  {
   "cell_type": "code",
   "execution_count": null,
   "metadata": {
    "id": "yr5AOj5DqisL"
   },
   "outputs": [],
   "source": [
    "time_ind = pd.Series(daily_return.date)"
   ]
  },
  {
   "cell_type": "code",
   "execution_count": null,
   "metadata": {
    "id": "HzLZbaLcqith"
   },
   "outputs": [],
   "source": [
    "trace0_portfolio = go.Scatter(x = time_ind, y = rllib_cumpod, mode = 'lines', name = 'RLlib')\n",
    "\n",
    "trace1_portfolio = go.Scatter(x = time_ind, y = dji_cumpod, mode = 'lines', name = 'DJIA')\n",
    "trace2_portfolio = go.Scatter(x = time_ind, y = sb3_cumpod, mode = 'lines', name = 'Stablebaselines3')\n",
    "trace3_portfolio = go.Scatter(x = time_ind, y = erl_cumpod, mode = 'lines', name = 'ElegantRL')\n",
    "#trace4_portfolio = go.Scatter(x = time_ind, y = addpg_cumpod, mode = 'lines', name = 'Adaptive-DDPG')\n",
    "#trace5_portfolio = go.Scatter(x = time_ind, y = min_cumpod, mode = 'lines', name = 'Min-Variance')\n",
    "\n",
    "#trace4 = go.Scatter(x = time_ind, y = addpg_cumpod, mode = 'lines', name = 'Adaptive-DDPG')\n",
    "\n",
    "#trace2 = go.Scatter(x = time_ind, y = portfolio_cost_minv, mode = 'lines', name = 'Min-Variance')\n",
    "#trace3 = go.Scatter(x = time_ind, y = spx_value, mode = 'lines', name = 'SPX')"
   ]
  },
  {
   "cell_type": "code",
   "execution_count": null,
   "metadata": {
    "colab": {
     "base_uri": "https://localhost:8080/",
     "height": 542
    },
    "id": "gFGHOl0SrMdg",
    "outputId": "f0ae8e51-98c4-4ff0-fd52-785b4d2838c9"
   },
   "outputs": [],
   "source": [
    "fig = go.Figure()\n",
    "fig.add_trace(trace3_portfolio)\n",
    "fig.add_trace(trace2_portfolio)\n",
    "\n",
    "fig.add_trace(trace0_portfolio)\n",
    "fig.add_trace(trace1_portfolio)\n",
    "\n",
    "\n",
    "\n",
    "\n",
    "fig.update_layout(\n",
    "    legend=dict(\n",
    "        x=0,\n",
    "        y=1,\n",
    "        traceorder=\"normal\",\n",
    "        font=dict(\n",
    "            family=\"sans-serif\",\n",
    "            size=15,\n",
    "            color=\"black\"\n",
    "        ),\n",
    "        bgcolor=\"White\",\n",
    "        bordercolor=\"white\",\n",
    "        borderwidth=2\n",
    "        \n",
    "    ),\n",
    ")\n",
    "#fig.update_layout(legend_orientation=\"h\")\n",
    "fig.update_layout(title={\n",
    "        #'text': \"Cumulative Return using FinRL\",\n",
    "        'y':0.85,\n",
    "        'x':0.5,\n",
    "        'xanchor': 'center',\n",
    "        'yanchor': 'top'})\n",
    "#with Transaction cost\n",
    "#fig.update_layout(title =  'Quarterly Trade Date')\n",
    "fig.update_layout(\n",
    "#    margin=dict(l=20, r=20, t=20, b=20),\n",
    "\n",
    "    paper_bgcolor='rgba(1,1,0,0)',\n",
    "    plot_bgcolor='rgba(1, 1, 0, 0)',\n",
    "    #xaxis_title=\"Date\",\n",
    "    yaxis_title=\"Cumulative Return\",\n",
    "xaxis={'type': 'date', \n",
    "       'tick0': time_ind[0], \n",
    "        'tickmode': 'linear', \n",
    "       'dtick': 86400000.0 *70}\n",
    "\n",
    ")\n",
    "fig.update_xaxes(showline=True,linecolor='black',showgrid=True, gridwidth=1, gridcolor='LightSteelBlue',mirror=True)\n",
    "fig.update_yaxes(showline=True,linecolor='black',showgrid=True, gridwidth=1, gridcolor='LightSteelBlue',mirror=True)\n",
    "fig.update_yaxes(zeroline=True, zerolinewidth=1, zerolinecolor='LightSteelBlue')\n",
    "\n",
    "fig.show()"
   ]
  },
  {
   "cell_type": "code",
   "execution_count": null,
   "metadata": {
    "id": "pIgxCzK_vQf5"
   },
   "outputs": [],
   "source": []
  }
 ],
 "metadata": {
  "anaconda-cloud": {},
  "colab": {
   "collapsed_sections": [],
   "include_colab_link": true,
   "name": "FinRL_Compare_ElegantRL_RLlib_Stablebaseline3.ipynb",
   "provenance": [],
   "toc_visible": true
  },
  "kernelspec": {
   "display_name": "Python 3",
   "language": "python",
   "name": "python3"
  },
  "language_info": {
   "codemirror_mode": {
    "name": "ipython",
    "version": 3
   },
   "file_extension": ".py",
   "mimetype": "text/x-python",
   "name": "python",
   "nbconvert_exporter": "python",
   "pygments_lexer": "ipython3",
   "version": "3.6.10"
  }
 },
 "nbformat": 4,
 "nbformat_minor": 0
}
