{
 "cells": [
  {
   "cell_type": "markdown",
   "metadata": {
    "id": "V1ofncK2cYhs"
   },
   "source": [
    "Disclaimer: Nothing herein is financial advice, and NOT a recommendation to trade real money. Many platforms exist for simulated trading (paper trading) which can be used for building and developing the methods discussed. Please use common sense and always first consult a professional before trading or investing."
   ]
  },
  {
   "cell_type": "markdown",
   "metadata": {},
   "source": [
    "<a href=\"https://colab.research.google.com/github/AI4Finance-Foundation/FinRL-Tutorials/blob/master/3-Practical/FinRL_PaperTrading_Demo.ipynb\" target=\"_parent\"><img src=\"https://colab.research.google.com/assets/colab-badge.svg\" alt=\"Open In Colab\"/></a >"
   ]
  },
  {
   "cell_type": "markdown",
   "metadata": {
    "id": "j3mbRu3s1YlD"
   },
   "source": [
    "# Part 1: Install FinRL"
   ]
  },
  {
   "cell_type": "code",
   "execution_count": 1,
   "metadata": {
    "id": "0gkmsPgbvNf6"
   },
   "outputs": [
    {
     "name": "stdout",
     "output_type": "stream",
     "text": [
      "Collecting git+https://github.com/marcipops/FinRL.git@Refactor-FinRL_papertrading_demo\n",
      "  Cloning https://github.com/marcipops/FinRL.git (to revision Refactor-FinRL_papertrading_demo) to /tmp/pip-req-build-pc03huhh\n",
      "  Running command git clone -q https://github.com/marcipops/FinRL.git /tmp/pip-req-build-pc03huhh\n",
      "  Running command git checkout -b Refactor-FinRL_papertrading_demo --track origin/Refactor-FinRL_papertrading_demo\n",
      "  Switched to a new branch 'Refactor-FinRL_papertrading_demo'\n",
      "  Branch 'Refactor-FinRL_papertrading_demo' set up to track remote branch 'Refactor-FinRL_papertrading_demo' from 'origin'.\n",
      "  Installing build dependencies ... \u001b[?25ldone\n",
      "\u001b[?25h  Getting requirements to build wheel ... \u001b[?25ldone\n",
      "\u001b[?25h    Preparing wheel metadata ... \u001b[?25ldone\n",
      "\u001b[?25hRequirement already satisfied, skipping upgrade: pyfolio@ git+https://github.com/quantopian/pyfolio.git#egg=pyfolio-0.9.2 from git+https://github.com/quantopian/pyfolio.git#egg=pyfolio-0.9.2 in /home/marc/venv/lib/python3.8/site-packages (from finrl==0.3.5) (0.9.2+75.g4b901f6)\n",
      "Requirement already satisfied, skipping upgrade: importlib-metadata==4.13.0 in /home/marc/venv/lib/python3.8/site-packages (from finrl==0.3.5) (4.13.0)\n",
      "Requirement already satisfied, skipping upgrade: alpaca_trade_api>=2.1.0 in /home/marc/venv/lib/python3.8/site-packages (from finrl==0.3.5) (2.3.0)\n",
      "Requirement already satisfied, skipping upgrade: numpy>=1.17.3 in /home/marc/venv/lib/python3.8/site-packages (from finrl==0.3.5) (1.23.2)\n",
      "Requirement already satisfied, skipping upgrade: ray[default,tune]==1.3.0 in /home/marc/venv/lib/python3.8/site-packages (from finrl==0.3.5) (1.3.0)\n",
      "Requirement already satisfied, skipping upgrade: pandas>=1.1.5 in /home/marc/venv/lib/python3.8/site-packages (from finrl==0.3.5) (1.4.4)\n",
      "Requirement already satisfied, skipping upgrade: ccxt>=1.66.32 in /home/marc/venv/lib/python3.8/site-packages (from finrl==0.3.5) (1.66.32)\n",
      "Requirement already satisfied, skipping upgrade: yfinance in /home/marc/venv/lib/python3.8/site-packages (from finrl==0.3.5) (0.1.84)\n",
      "Requirement already satisfied, skipping upgrade: exchange_calendars==3.6.3 in /home/marc/venv/lib/python3.8/site-packages (from finrl==0.3.5) (3.6.3)\n",
      "Requirement already satisfied, skipping upgrade: tensorboardX in /home/marc/venv/lib/python3.8/site-packages (from finrl==0.3.5) (2.5.1)\n",
      "Requirement already satisfied, skipping upgrade: jqdatasdk in /home/marc/venv/lib/python3.8/site-packages (from finrl==0.3.5) (1.8.10)\n",
      "Requirement already satisfied, skipping upgrade: gputil in /home/marc/venv/lib/python3.8/site-packages (from finrl==0.3.5) (1.4.0)\n",
      "Requirement already satisfied, skipping upgrade: matplotlib in /home/marc/venv/lib/python3.8/site-packages (from finrl==0.3.5) (3.5.3)\n",
      "Requirement already satisfied, skipping upgrade: elegantrl@ git+https://github.com/AI4Finance-Foundation/ElegantRL.git#egg=elegantrl from git+https://github.com/AI4Finance-Foundation/ElegantRL.git#egg=elegantrl in /home/marc/venv/lib/python3.8/site-packages (from finrl==0.3.5) (0.3.3)\n",
      "Requirement already satisfied, skipping upgrade: stable-baselines3<2.0.0,>=1.6.2 in /home/marc/venv/lib/python3.8/site-packages (from finrl==0.3.5) (1.6.2)\n",
      "Requirement already satisfied, skipping upgrade: scikit-learn>=0.21.0 in /home/marc/venv/lib/python3.8/site-packages (from finrl==0.3.5) (1.1.2)\n",
      "Requirement already satisfied, skipping upgrade: stockstats>=0.4.0 in /home/marc/venv/lib/python3.8/site-packages (from finrl==0.3.5) (0.4.1)\n",
      "Requirement already satisfied, skipping upgrade: gym>=0.17 in /home/marc/venv/lib/python3.8/site-packages (from finrl==0.3.5) (0.25.2)\n",
      "Requirement already satisfied, skipping upgrade: lz4 in /home/marc/venv/lib/python3.8/site-packages (from finrl==0.3.5) (4.0.2)\n",
      "Requirement already satisfied, skipping upgrade: ipython>=3.2.3 in /home/marc/venv/lib/python3.8/site-packages (from pyfolio@ git+https://github.com/quantopian/pyfolio.git#egg=pyfolio-0.9.2->finrl==0.3.5) (8.4.0)\n",
      "Requirement already satisfied, skipping upgrade: pytz>=2014.10 in /home/marc/venv/lib/python3.8/site-packages (from pyfolio@ git+https://github.com/quantopian/pyfolio.git#egg=pyfolio-0.9.2->finrl==0.3.5) (2022.2.1)\n",
      "Requirement already satisfied, skipping upgrade: scipy>=0.14.0 in /home/marc/venv/lib/python3.8/site-packages (from pyfolio@ git+https://github.com/quantopian/pyfolio.git#egg=pyfolio-0.9.2->finrl==0.3.5) (1.9.1)\n",
      "Requirement already satisfied, skipping upgrade: seaborn>=0.7.1 in /home/marc/venv/lib/python3.8/site-packages (from pyfolio@ git+https://github.com/quantopian/pyfolio.git#egg=pyfolio-0.9.2->finrl==0.3.5) (0.11.2)\n",
      "Requirement already satisfied, skipping upgrade: empyrical>=0.5.0 in /home/marc/venv/lib/python3.8/site-packages (from pyfolio@ git+https://github.com/quantopian/pyfolio.git#egg=pyfolio-0.9.2->finrl==0.3.5) (0.5.5)\n",
      "Requirement already satisfied, skipping upgrade: zipp>=0.5 in /home/marc/venv/lib/python3.8/site-packages (from importlib-metadata==4.13.0->finrl==0.3.5) (3.8.1)\n",
      "Requirement already satisfied, skipping upgrade: requests<3,>2 in /home/marc/venv/lib/python3.8/site-packages (from alpaca_trade_api>=2.1.0->finrl==0.3.5) (2.28.1)\n",
      "Requirement already satisfied, skipping upgrade: urllib3<2,>1.24 in /home/marc/venv/lib/python3.8/site-packages (from alpaca_trade_api>=2.1.0->finrl==0.3.5) (1.26.12)\n",
      "Requirement already satisfied, skipping upgrade: PyYAML==6.0 in /home/marc/venv/lib/python3.8/site-packages (from alpaca_trade_api>=2.1.0->finrl==0.3.5) (6.0)\n",
      "Requirement already satisfied, skipping upgrade: websockets<11,>=9.0 in /home/marc/venv/lib/python3.8/site-packages (from alpaca_trade_api>=2.1.0->finrl==0.3.5) (10.3)\n",
      "Requirement already satisfied, skipping upgrade: aiohttp==3.8.1 in /home/marc/venv/lib/python3.8/site-packages (from alpaca_trade_api>=2.1.0->finrl==0.3.5) (3.8.1)\n",
      "Requirement already satisfied, skipping upgrade: websocket-client<2,>=0.56.0 in /home/marc/venv/lib/python3.8/site-packages (from alpaca_trade_api>=2.1.0->finrl==0.3.5) (1.4.0)\n",
      "Requirement already satisfied, skipping upgrade: deprecation==2.1.0 in /home/marc/venv/lib/python3.8/site-packages (from alpaca_trade_api>=2.1.0->finrl==0.3.5) (2.1.0)\n",
      "Requirement already satisfied, skipping upgrade: msgpack==1.0.3 in /home/marc/venv/lib/python3.8/site-packages (from alpaca_trade_api>=2.1.0->finrl==0.3.5) (1.0.3)\n",
      "Requirement already satisfied, skipping upgrade: colorama in /home/marc/venv/lib/python3.8/site-packages (from ray[default,tune]==1.3.0->finrl==0.3.5) (0.4.6)\n",
      "Requirement already satisfied, skipping upgrade: grpcio>=1.28.1 in /home/marc/venv/lib/python3.8/site-packages (from ray[default,tune]==1.3.0->finrl==0.3.5) (1.43.0)\n",
      "Requirement already satisfied, skipping upgrade: aioredis in /home/marc/venv/lib/python3.8/site-packages (from ray[default,tune]==1.3.0->finrl==0.3.5) (2.0.1)\n",
      "Requirement already satisfied, skipping upgrade: py-spy>=0.2.0 in /home/marc/venv/lib/python3.8/site-packages (from ray[default,tune]==1.3.0->finrl==0.3.5) (0.3.12)\n",
      "Requirement already satisfied, skipping upgrade: prometheus-client>=0.7.1 in /home/marc/venv/lib/python3.8/site-packages (from ray[default,tune]==1.3.0->finrl==0.3.5) (0.13.1)\n",
      "Requirement already satisfied, skipping upgrade: jsonschema in /home/marc/venv/lib/python3.8/site-packages (from ray[default,tune]==1.3.0->finrl==0.3.5) (4.15.0)\n",
      "Requirement already satisfied, skipping upgrade: opencensus in /home/marc/venv/lib/python3.8/site-packages (from ray[default,tune]==1.3.0->finrl==0.3.5) (0.11.0)\n",
      "Requirement already satisfied, skipping upgrade: filelock in /home/marc/venv/lib/python3.8/site-packages (from ray[default,tune]==1.3.0->finrl==0.3.5) (3.8.0)\n",
      "Requirement already satisfied, skipping upgrade: aiohttp-cors in /home/marc/venv/lib/python3.8/site-packages (from ray[default,tune]==1.3.0->finrl==0.3.5) (0.7.0)\n",
      "Requirement already satisfied, skipping upgrade: protobuf>=3.15.3 in /home/marc/venv/lib/python3.8/site-packages (from ray[default,tune]==1.3.0->finrl==0.3.5) (3.20.1)\n",
      "Requirement already satisfied, skipping upgrade: redis>=3.5.0 in /home/marc/venv/lib/python3.8/site-packages (from ray[default,tune]==1.3.0->finrl==0.3.5) (4.4.0)\n",
      "Requirement already satisfied, skipping upgrade: click>=7.0 in /home/marc/venv/lib/python3.8/site-packages (from ray[default,tune]==1.3.0->finrl==0.3.5) (8.0.4)\n",
      "Requirement already satisfied, skipping upgrade: gpustat in /home/marc/venv/lib/python3.8/site-packages (from ray[default,tune]==1.3.0->finrl==0.3.5) (1.0.0rc1)\n",
      "Requirement already satisfied, skipping upgrade: colorful; extra == \"default\" in /home/marc/venv/lib/python3.8/site-packages (from ray[default,tune]==1.3.0->finrl==0.3.5) (0.5.4)\n",
      "Requirement already satisfied, skipping upgrade: tabulate; extra == \"tune\" in /home/marc/venv/lib/python3.8/site-packages (from ray[default,tune]==1.3.0->finrl==0.3.5) (0.9.0)\n",
      "Requirement already satisfied, skipping upgrade: python-dateutil>=2.8.1 in /home/marc/venv/lib/python3.8/site-packages (from pandas>=1.1.5->finrl==0.3.5) (2.8.2)\n",
      "Requirement already satisfied, skipping upgrade: yarl==1.7.2; python_version >= \"3.5.2\" in /home/marc/venv/lib/python3.8/site-packages (from ccxt>=1.66.32->finrl==0.3.5) (1.7.2)\n",
      "Requirement already satisfied, skipping upgrade: setuptools>=38.5.1 in /home/marc/venv/lib/python3.8/site-packages (from ccxt>=1.66.32->finrl==0.3.5) (59.5.0)\n",
      "Requirement already satisfied, skipping upgrade: certifi>=2018.1.18 in /home/marc/venv/lib/python3.8/site-packages (from ccxt>=1.66.32->finrl==0.3.5) (2022.6.15)\n",
      "Requirement already satisfied, skipping upgrade: cryptography>=2.6.1 in /home/marc/venv/lib/python3.8/site-packages (from ccxt>=1.66.32->finrl==0.3.5) (37.0.4)\n",
      "Requirement already satisfied, skipping upgrade: aiodns>=1.1.1; python_version >= \"3.5.2\" in /home/marc/venv/lib/python3.8/site-packages (from ccxt>=1.66.32->finrl==0.3.5) (3.0.0)\n",
      "Requirement already satisfied, skipping upgrade: lxml>=4.5.1 in /home/marc/venv/lib/python3.8/site-packages (from yfinance->finrl==0.3.5) (4.9.1)\n",
      "Requirement already satisfied, skipping upgrade: multitasking>=0.0.7 in /home/marc/venv/lib/python3.8/site-packages (from yfinance->finrl==0.3.5) (0.0.11)\n",
      "Requirement already satisfied, skipping upgrade: appdirs>=1.4.4 in /home/marc/venv/lib/python3.8/site-packages (from yfinance->finrl==0.3.5) (1.4.4)\n",
      "Requirement already satisfied, skipping upgrade: korean-lunar-calendar in /home/marc/venv/lib/python3.8/site-packages (from exchange_calendars==3.6.3->finrl==0.3.5) (0.2.1)\n",
      "Requirement already satisfied, skipping upgrade: toolz in /home/marc/venv/lib/python3.8/site-packages (from exchange_calendars==3.6.3->finrl==0.3.5) (0.12.0)\n",
      "Requirement already satisfied, skipping upgrade: pyluach in /home/marc/venv/lib/python3.8/site-packages (from exchange_calendars==3.6.3->finrl==0.3.5) (2.0.1)\n",
      "Requirement already satisfied, skipping upgrade: thriftpy2>=0.3.9 in /home/marc/venv/lib/python3.8/site-packages (from jqdatasdk->finrl==0.3.5) (0.4.14)\n",
      "Requirement already satisfied, skipping upgrade: pymysql>=0.7.6 in /home/marc/venv/lib/python3.8/site-packages (from jqdatasdk->finrl==0.3.5) (1.0.2)\n",
      "Requirement already satisfied, skipping upgrade: six in /home/marc/venv/lib/python3.8/site-packages (from jqdatasdk->finrl==0.3.5) (1.16.0)\n",
      "Requirement already satisfied, skipping upgrade: SQLAlchemy>=1.2.8 in /home/marc/venv/lib/python3.8/site-packages (from jqdatasdk->finrl==0.3.5) (1.4.40)\n",
      "Requirement already satisfied, skipping upgrade: cycler>=0.10 in /home/marc/venv/lib/python3.8/site-packages (from matplotlib->finrl==0.3.5) (0.11.0)\n",
      "Requirement already satisfied, skipping upgrade: pillow>=6.2.0 in /home/marc/venv/lib/python3.8/site-packages (from matplotlib->finrl==0.3.5) (9.2.0)\n",
      "Requirement already satisfied, skipping upgrade: kiwisolver>=1.0.1 in /home/marc/venv/lib/python3.8/site-packages (from matplotlib->finrl==0.3.5) (1.4.4)\n",
      "Requirement already satisfied, skipping upgrade: fonttools>=4.22.0 in /home/marc/venv/lib/python3.8/site-packages (from matplotlib->finrl==0.3.5) (4.37.1)\n",
      "Requirement already satisfied, skipping upgrade: pyparsing>=2.2.1 in /home/marc/venv/lib/python3.8/site-packages (from matplotlib->finrl==0.3.5) (3.0.9)\n",
      "Requirement already satisfied, skipping upgrade: packaging>=20.0 in /home/marc/venv/lib/python3.8/site-packages (from matplotlib->finrl==0.3.5) (21.3)\n",
      "Requirement already satisfied, skipping upgrade: pybullet in /home/marc/venv/lib/python3.8/site-packages (from elegantrl@ git+https://github.com/AI4Finance-Foundation/ElegantRL.git#egg=elegantrl->finrl==0.3.5) (3.2.5)\n",
      "Requirement already satisfied, skipping upgrade: box2d-py in /home/marc/venv/lib/python3.8/site-packages (from elegantrl@ git+https://github.com/AI4Finance-Foundation/ElegantRL.git#egg=elegantrl->finrl==0.3.5) (2.3.8)\n",
      "Requirement already satisfied, skipping upgrade: opencv-python in /home/marc/venv/lib/python3.8/site-packages (from elegantrl@ git+https://github.com/AI4Finance-Foundation/ElegantRL.git#egg=elegantrl->finrl==0.3.5) (4.6.0.66)\n",
      "Requirement already satisfied, skipping upgrade: torch in /home/marc/venv/lib/python3.8/site-packages (from elegantrl@ git+https://github.com/AI4Finance-Foundation/ElegantRL.git#egg=elegantrl->finrl==0.3.5) (1.12.1+cpu)\n",
      "Requirement already satisfied, skipping upgrade: cloudpickle in /home/marc/venv/lib/python3.8/site-packages (from stable-baselines3<2.0.0,>=1.6.2->finrl==0.3.5) (2.1.0)\n",
      "Requirement already satisfied, skipping upgrade: joblib>=1.0.0 in /home/marc/venv/lib/python3.8/site-packages (from scikit-learn>=0.21.0->finrl==0.3.5) (1.1.0)\n",
      "Requirement already satisfied, skipping upgrade: threadpoolctl>=2.0.0 in /home/marc/venv/lib/python3.8/site-packages (from scikit-learn>=0.21.0->finrl==0.3.5) (3.1.0)\n",
      "Requirement already satisfied, skipping upgrade: gym-notices>=0.0.4 in /home/marc/venv/lib/python3.8/site-packages (from gym>=0.17->finrl==0.3.5) (0.0.8)\n",
      "Requirement already satisfied, skipping upgrade: jedi>=0.16 in /home/marc/venv/lib/python3.8/site-packages (from ipython>=3.2.3->pyfolio@ git+https://github.com/quantopian/pyfolio.git#egg=pyfolio-0.9.2->finrl==0.3.5) (0.18.1)\n",
      "Requirement already satisfied, skipping upgrade: traitlets>=5 in /home/marc/venv/lib/python3.8/site-packages (from ipython>=3.2.3->pyfolio@ git+https://github.com/quantopian/pyfolio.git#egg=pyfolio-0.9.2->finrl==0.3.5) (5.3.0)\n",
      "Requirement already satisfied, skipping upgrade: backcall in /home/marc/venv/lib/python3.8/site-packages (from ipython>=3.2.3->pyfolio@ git+https://github.com/quantopian/pyfolio.git#egg=pyfolio-0.9.2->finrl==0.3.5) (0.2.0)\n",
      "Requirement already satisfied, skipping upgrade: matplotlib-inline in /home/marc/venv/lib/python3.8/site-packages (from ipython>=3.2.3->pyfolio@ git+https://github.com/quantopian/pyfolio.git#egg=pyfolio-0.9.2->finrl==0.3.5) (0.1.6)\n",
      "Requirement already satisfied, skipping upgrade: pygments>=2.4.0 in /home/marc/venv/lib/python3.8/site-packages (from ipython>=3.2.3->pyfolio@ git+https://github.com/quantopian/pyfolio.git#egg=pyfolio-0.9.2->finrl==0.3.5) (2.13.0)\n",
      "Requirement already satisfied, skipping upgrade: pickleshare in /home/marc/venv/lib/python3.8/site-packages (from ipython>=3.2.3->pyfolio@ git+https://github.com/quantopian/pyfolio.git#egg=pyfolio-0.9.2->finrl==0.3.5) (0.7.5)\n",
      "Requirement already satisfied, skipping upgrade: decorator in /home/marc/venv/lib/python3.8/site-packages (from ipython>=3.2.3->pyfolio@ git+https://github.com/quantopian/pyfolio.git#egg=pyfolio-0.9.2->finrl==0.3.5) (5.1.1)\n",
      "Requirement already satisfied, skipping upgrade: pexpect>4.3; sys_platform != \"win32\" in /home/marc/venv/lib/python3.8/site-packages (from ipython>=3.2.3->pyfolio@ git+https://github.com/quantopian/pyfolio.git#egg=pyfolio-0.9.2->finrl==0.3.5) (4.8.0)\n",
      "Requirement already satisfied, skipping upgrade: stack-data in /home/marc/venv/lib/python3.8/site-packages (from ipython>=3.2.3->pyfolio@ git+https://github.com/quantopian/pyfolio.git#egg=pyfolio-0.9.2->finrl==0.3.5) (0.5.0)\n",
      "Requirement already satisfied, skipping upgrade: prompt-toolkit!=3.0.0,!=3.0.1,<3.1.0,>=2.0.0 in /home/marc/venv/lib/python3.8/site-packages (from ipython>=3.2.3->pyfolio@ git+https://github.com/quantopian/pyfolio.git#egg=pyfolio-0.9.2->finrl==0.3.5) (3.0.30)\n",
      "Requirement already satisfied, skipping upgrade: pandas-datareader>=0.2 in /home/marc/venv/lib/python3.8/site-packages (from empyrical>=0.5.0->pyfolio@ git+https://github.com/quantopian/pyfolio.git#egg=pyfolio-0.9.2->finrl==0.3.5) (0.10.0)\n",
      "Requirement already satisfied, skipping upgrade: idna<4,>=2.5 in /home/marc/venv/lib/python3.8/site-packages (from requests<3,>2->alpaca_trade_api>=2.1.0->finrl==0.3.5) (3.3)\n",
      "Requirement already satisfied, skipping upgrade: charset-normalizer<3,>=2 in /home/marc/venv/lib/python3.8/site-packages (from requests<3,>2->alpaca_trade_api>=2.1.0->finrl==0.3.5) (2.1.1)\n",
      "Requirement already satisfied, skipping upgrade: multidict<7.0,>=4.5 in /home/marc/venv/lib/python3.8/site-packages (from aiohttp==3.8.1->alpaca_trade_api>=2.1.0->finrl==0.3.5) (6.0.2)\n",
      "Requirement already satisfied, skipping upgrade: async-timeout<5.0,>=4.0.0a3 in /home/marc/venv/lib/python3.8/site-packages (from aiohttp==3.8.1->alpaca_trade_api>=2.1.0->finrl==0.3.5) (4.0.2)\n",
      "Requirement already satisfied, skipping upgrade: aiosignal>=1.1.2 in /home/marc/venv/lib/python3.8/site-packages (from aiohttp==3.8.1->alpaca_trade_api>=2.1.0->finrl==0.3.5) (1.2.0)\n",
      "Requirement already satisfied, skipping upgrade: attrs>=17.3.0 in /home/marc/venv/lib/python3.8/site-packages (from aiohttp==3.8.1->alpaca_trade_api>=2.1.0->finrl==0.3.5) (22.1.0)\n",
      "Requirement already satisfied, skipping upgrade: frozenlist>=1.1.1 in /home/marc/venv/lib/python3.8/site-packages (from aiohttp==3.8.1->alpaca_trade_api>=2.1.0->finrl==0.3.5) (1.3.1)\n",
      "Requirement already satisfied, skipping upgrade: typing-extensions in /home/marc/venv/lib/python3.8/site-packages (from aioredis->ray[default,tune]==1.3.0->finrl==0.3.5) (4.3.0)\n",
      "Requirement already satisfied, skipping upgrade: importlib-resources>=1.4.0; python_version < \"3.9\" in /home/marc/venv/lib/python3.8/site-packages (from jsonschema->ray[default,tune]==1.3.0->finrl==0.3.5) (5.9.0)\n",
      "Requirement already satisfied, skipping upgrade: pyrsistent!=0.17.0,!=0.17.1,!=0.17.2,>=0.14.0 in /home/marc/venv/lib/python3.8/site-packages (from jsonschema->ray[default,tune]==1.3.0->finrl==0.3.5) (0.18.1)\n",
      "Requirement already satisfied, skipping upgrade: pkgutil-resolve-name>=1.3.10; python_version < \"3.9\" in /home/marc/venv/lib/python3.8/site-packages (from jsonschema->ray[default,tune]==1.3.0->finrl==0.3.5) (1.3.10)\n",
      "Requirement already satisfied, skipping upgrade: opencensus-context>=0.1.3 in /home/marc/venv/lib/python3.8/site-packages (from opencensus->ray[default,tune]==1.3.0->finrl==0.3.5) (0.1.3)\n",
      "Requirement already satisfied, skipping upgrade: google-api-core<3.0.0,>=1.0.0; python_version >= \"3.6\" in /home/marc/venv/lib/python3.8/site-packages (from opencensus->ray[default,tune]==1.3.0->finrl==0.3.5) (2.8.2)\n",
      "Requirement already satisfied, skipping upgrade: psutil>=5.6.0 in /home/marc/venv/lib/python3.8/site-packages (from gpustat->ray[default,tune]==1.3.0->finrl==0.3.5) (5.9.1)\n",
      "Requirement already satisfied, skipping upgrade: nvidia-ml-py<=11.495.46,>=11.450.129 in /home/marc/venv/lib/python3.8/site-packages (from gpustat->ray[default,tune]==1.3.0->finrl==0.3.5) (11.495.46)\n",
      "Requirement already satisfied, skipping upgrade: blessed>=1.17.1 in /home/marc/venv/lib/python3.8/site-packages (from gpustat->ray[default,tune]==1.3.0->finrl==0.3.5) (1.19.1)\n",
      "Requirement already satisfied, skipping upgrade: cffi>=1.12 in /home/marc/venv/lib/python3.8/site-packages (from cryptography>=2.6.1->ccxt>=1.66.32->finrl==0.3.5) (1.15.1)\n",
      "Requirement already satisfied, skipping upgrade: pycares>=4.0.0 in /home/marc/venv/lib/python3.8/site-packages (from aiodns>=1.1.1; python_version >= \"3.5.2\"->ccxt>=1.66.32->finrl==0.3.5) (4.2.2)\n",
      "Requirement already satisfied, skipping upgrade: ply<4.0,>=3.4 in /home/marc/venv/lib/python3.8/site-packages (from thriftpy2>=0.3.9->jqdatasdk->finrl==0.3.5) (3.11)\n",
      "Requirement already satisfied, skipping upgrade: greenlet!=0.4.17; python_version >= \"3\" and (platform_machine == \"aarch64\" or (platform_machine == \"ppc64le\" or (platform_machine == \"x86_64\" or (platform_machine == \"amd64\" or (platform_machine == \"AMD64\" or (platform_machine == \"win32\" or platform_machine == \"WIN32\")))))) in /home/marc/venv/lib/python3.8/site-packages (from SQLAlchemy>=1.2.8->jqdatasdk->finrl==0.3.5) (1.1.3)\n",
      "Requirement already satisfied, skipping upgrade: parso<0.9.0,>=0.8.0 in /home/marc/venv/lib/python3.8/site-packages (from jedi>=0.16->ipython>=3.2.3->pyfolio@ git+https://github.com/quantopian/pyfolio.git#egg=pyfolio-0.9.2->finrl==0.3.5) (0.8.3)\n",
      "Requirement already satisfied, skipping upgrade: ptyprocess>=0.5 in /home/marc/venv/lib/python3.8/site-packages (from pexpect>4.3; sys_platform != \"win32\"->ipython>=3.2.3->pyfolio@ git+https://github.com/quantopian/pyfolio.git#egg=pyfolio-0.9.2->finrl==0.3.5) (0.7.0)\n",
      "Requirement already satisfied, skipping upgrade: executing in /home/marc/venv/lib/python3.8/site-packages (from stack-data->ipython>=3.2.3->pyfolio@ git+https://github.com/quantopian/pyfolio.git#egg=pyfolio-0.9.2->finrl==0.3.5) (1.0.0)\n",
      "Requirement already satisfied, skipping upgrade: pure-eval in /home/marc/venv/lib/python3.8/site-packages (from stack-data->ipython>=3.2.3->pyfolio@ git+https://github.com/quantopian/pyfolio.git#egg=pyfolio-0.9.2->finrl==0.3.5) (0.2.2)\n",
      "Requirement already satisfied, skipping upgrade: asttokens in /home/marc/venv/lib/python3.8/site-packages (from stack-data->ipython>=3.2.3->pyfolio@ git+https://github.com/quantopian/pyfolio.git#egg=pyfolio-0.9.2->finrl==0.3.5) (2.0.8)\n",
      "Requirement already satisfied, skipping upgrade: wcwidth in /home/marc/venv/lib/python3.8/site-packages (from prompt-toolkit!=3.0.0,!=3.0.1,<3.1.0,>=2.0.0->ipython>=3.2.3->pyfolio@ git+https://github.com/quantopian/pyfolio.git#egg=pyfolio-0.9.2->finrl==0.3.5) (0.2.5)\n",
      "Requirement already satisfied, skipping upgrade: google-auth<3.0dev,>=1.25.0 in /home/marc/venv/lib/python3.8/site-packages (from google-api-core<3.0.0,>=1.0.0; python_version >= \"3.6\"->opencensus->ray[default,tune]==1.3.0->finrl==0.3.5) (2.11.0)\n",
      "Requirement already satisfied, skipping upgrade: googleapis-common-protos<2.0dev,>=1.56.2 in /home/marc/venv/lib/python3.8/site-packages (from google-api-core<3.0.0,>=1.0.0; python_version >= \"3.6\"->opencensus->ray[default,tune]==1.3.0->finrl==0.3.5) (1.56.4)\n",
      "Requirement already satisfied, skipping upgrade: pycparser in /home/marc/venv/lib/python3.8/site-packages (from cffi>=1.12->cryptography>=2.6.1->ccxt>=1.66.32->finrl==0.3.5) (2.21)\n",
      "Requirement already satisfied, skipping upgrade: rsa<5,>=3.1.4; python_version >= \"3.6\" in /home/marc/venv/lib/python3.8/site-packages (from google-auth<3.0dev,>=1.25.0->google-api-core<3.0.0,>=1.0.0; python_version >= \"3.6\"->opencensus->ray[default,tune]==1.3.0->finrl==0.3.5) (4.9)\n",
      "Requirement already satisfied, skipping upgrade: cachetools<6.0,>=2.0.0 in /home/marc/venv/lib/python3.8/site-packages (from google-auth<3.0dev,>=1.25.0->google-api-core<3.0.0,>=1.0.0; python_version >= \"3.6\"->opencensus->ray[default,tune]==1.3.0->finrl==0.3.5) (5.2.0)\n",
      "Requirement already satisfied, skipping upgrade: pyasn1-modules>=0.2.1 in /home/marc/venv/lib/python3.8/site-packages (from google-auth<3.0dev,>=1.25.0->google-api-core<3.0.0,>=1.0.0; python_version >= \"3.6\"->opencensus->ray[default,tune]==1.3.0->finrl==0.3.5) (0.2.8)\n",
      "Requirement already satisfied, skipping upgrade: pyasn1>=0.1.3 in /home/marc/venv/lib/python3.8/site-packages (from rsa<5,>=3.1.4; python_version >= \"3.6\"->google-auth<3.0dev,>=1.25.0->google-api-core<3.0.0,>=1.0.0; python_version >= \"3.6\"->opencensus->ray[default,tune]==1.3.0->finrl==0.3.5) (0.4.8)\n",
      "Building wheels for collected packages: finrl\n",
      "  Building wheel for finrl (PEP 517) ... \u001b[?25ldone\n",
      "\u001b[?25h  Created wheel for finrl: filename=finrl-0.3.5-py3-none-any.whl size=2749646 sha256=2e36198e49c4cb8f707a5ed24c3e9241c4a076597daafdb82634e2bce3e2485d\n",
      "  Stored in directory: /tmp/pip-ephem-wheel-cache-lsyt73uc/wheels/d3/bb/ba/012aecc9467ccdca89cc387584e9510809aa067725368b0cb8\n",
      "Successfully built finrl\n",
      "Installing collected packages: finrl\n",
      "  Attempting uninstall: finrl\n",
      "    Found existing installation: finrl 0.3.5\n",
      "    Uninstalling finrl-0.3.5:\n",
      "      Successfully uninstalled finrl-0.3.5\n",
      "Successfully installed finrl-0.3.5\n",
      "Note: you may need to restart the kernel to use updated packages.\n"
     ]
    }
   ],
   "source": [
    "## install finrl library\n",
    "#%pip install --upgrade git+https://github.com/AI4Finance-Foundation/FinRL.git\n",
    "%pip install --upgrade git+https://github.com/marcipops/FinRL.git@Refactor-FinRL_papertrading_demo"
   ]
  },
  {
   "cell_type": "markdown",
   "metadata": {
    "id": "3rwy7V72-8YY"
   },
   "source": [
    "## Get the API Keys Ready"
   ]
  },
  {
   "cell_type": "code",
   "execution_count": 2,
   "metadata": {
    "id": "8Z6qlLXY-fA2"
   },
   "outputs": [],
   "source": [
    "API_KEY = \"PKFZO57AZCL2J9TBL7LY\"\n",
    "API_SECRET = \"LGXALuN2TgJX3dxXRsOLZXZgje16WH9of8cJfFGA\"\n",
    "API_BASE_URL = 'https://paper-api.alpaca.markets'\n",
    "data_url = 'wss://data.alpaca.markets'"
   ]
  },
  {
   "cell_type": "markdown",
   "metadata": {
    "id": "--6Kx8I21erH"
   },
   "source": [
    "## Import related modules"
   ]
  },
  {
   "cell_type": "code",
   "execution_count": 3,
   "metadata": {},
   "outputs": [
    {
     "ename": "ModuleNotFoundError",
     "evalue": "No module named 'finrl.meta.env_stock_trading.papertrading_common'",
     "output_type": "error",
     "traceback": [
      "\u001b[0;31m---------------------------------------------------------------------------\u001b[0m",
      "\u001b[0;31mModuleNotFoundError\u001b[0m                       Traceback (most recent call last)",
      "\u001b[1;32m/home/marc/GithubClones/FinRL/tutorials/3-Practical/FinRL_PaperTrading_Demo refactored.ipynb Cell 8\u001b[0m in \u001b[0;36m<cell line: 4>\u001b[0;34m()\u001b[0m\n\u001b[1;32m      <a href='vscode-notebook-cell://wsl%2Bubuntu-20.04/home/marc/GithubClones/FinRL/tutorials/3-Practical/FinRL_PaperTrading_Demo%20refactored.ipynb#X10sdnNjb2RlLXJlbW90ZQ%3D%3D?line=1'>2</a>\u001b[0m \u001b[39mfrom\u001b[39;00m \u001b[39mfinrl\u001b[39;00m\u001b[39m.\u001b[39;00m\u001b[39mconfig\u001b[39;00m \u001b[39mimport\u001b[39;00m INDICATORS\n\u001b[1;32m      <a href='vscode-notebook-cell://wsl%2Bubuntu-20.04/home/marc/GithubClones/FinRL/tutorials/3-Practical/FinRL_PaperTrading_Demo%20refactored.ipynb#X10sdnNjb2RlLXJlbW90ZQ%3D%3D?line=2'>3</a>\u001b[0m \u001b[39mfrom\u001b[39;00m \u001b[39mfinrl\u001b[39;00m\u001b[39m.\u001b[39;00m\u001b[39mmeta\u001b[39;00m\u001b[39m.\u001b[39;00m\u001b[39menv_stock_trading\u001b[39;00m\u001b[39m.\u001b[39;00m\u001b[39menv_stocktrading_np\u001b[39;00m \u001b[39mimport\u001b[39;00m StockTradingEnv\n\u001b[0;32m----> <a href='vscode-notebook-cell://wsl%2Bubuntu-20.04/home/marc/GithubClones/FinRL/tutorials/3-Practical/FinRL_PaperTrading_Demo%20refactored.ipynb#X10sdnNjb2RlLXJlbW90ZQ%3D%3D?line=3'>4</a>\u001b[0m \u001b[39mfrom\u001b[39;00m \u001b[39mfinrl\u001b[39;00m\u001b[39m.\u001b[39;00m\u001b[39mmeta\u001b[39;00m\u001b[39m.\u001b[39;00m\u001b[39menv_stock_trading\u001b[39;00m\u001b[39m.\u001b[39;00m\u001b[39malpaca_papertrading\u001b[39;00m \u001b[39mimport\u001b[39;00m AlpacaPaperTrading\n\u001b[1;32m      <a href='vscode-notebook-cell://wsl%2Bubuntu-20.04/home/marc/GithubClones/FinRL/tutorials/3-Practical/FinRL_PaperTrading_Demo%20refactored.ipynb#X10sdnNjb2RlLXJlbW90ZQ%3D%3D?line=4'>5</a>\u001b[0m \u001b[39mfrom\u001b[39;00m \u001b[39m.\u001b[39;00m\u001b[39mpapertrading_common\u001b[39;00m \u001b[39mimport\u001b[39;00m train, test, alpaca_history, DIA_history\n",
      "File \u001b[0;32m~/venv/lib/python3.8/site-packages/finrl/meta/env_stock_trading/alpaca_papertrading.py:5\u001b[0m, in \u001b[0;36m<module>\u001b[0;34m\u001b[0m\n\u001b[1;32m      1\u001b[0m \u001b[39m# Disclaimer: Nothing herein is financial advice, and NOT a recommendation to trade real money. Many platforms exist for simulated trading (paper trading) which can be used for building and developing the methods discussed. Please use common sense and always first consult a professional before trading or investing.\u001b[39;00m\n\u001b[1;32m      2\u001b[0m \n\u001b[1;32m      3\u001b[0m \u001b[39m# Setup Alpaca Paper trading environment\u001b[39;00m\n\u001b[0;32m----> 5\u001b[0m \u001b[39mfrom\u001b[39;00m \u001b[39mfinrl\u001b[39;00m\u001b[39m.\u001b[39;00m\u001b[39mmeta\u001b[39;00m\u001b[39m.\u001b[39;00m\u001b[39menv_stock_trading\u001b[39;00m\u001b[39m.\u001b[39;00m\u001b[39mpapertrading_common\u001b[39;00m \u001b[39mimport\u001b[39;00m AgentPPO\n\u001b[1;32m      6\u001b[0m \u001b[39mimport\u001b[39;00m \u001b[39mdatetime\u001b[39;00m\n\u001b[1;32m      7\u001b[0m \u001b[39mimport\u001b[39;00m \u001b[39mthreading\u001b[39;00m\n",
      "\u001b[0;31mModuleNotFoundError\u001b[0m: No module named 'finrl.meta.env_stock_trading.papertrading_common'"
     ]
    }
   ],
   "source": [
    "from finrl.config_tickers import DOW_30_TICKER\n",
    "from finrl.config import INDICATORS\n",
    "from finrl.meta.env_stock_trading.env_stocktrading_np import StockTradingEnv\n",
    "from finrl.meta.env_stock_trading.alpaca_papertrading import AlpacaPaperTrading\n",
    "from papertrading_common import train, test, alpaca_history, DIA_history"
   ]
  },
  {
   "cell_type": "markdown",
   "metadata": {
    "id": "pf5aVHAU-xF6"
   },
   "source": [
    "## Import Dow Jones 30 Symbols"
   ]
  },
  {
   "cell_type": "code",
   "execution_count": null,
   "metadata": {
    "id": "jx25TA_X87F-"
   },
   "outputs": [],
   "source": [
    "ticker_list = DOW_30_TICKER\n",
    "action_dim = len(DOW_30_TICKER)"
   ]
  },
  {
   "cell_type": "code",
   "execution_count": null,
   "metadata": {
    "colab": {
     "base_uri": "https://localhost:8080/"
    },
    "id": "UIV0kO_y-inG",
    "outputId": "bd7b3c21-641e-4eb7-a4af-ae7d156042a6"
   },
   "outputs": [],
   "source": [
    "print(ticker_list)"
   ]
  },
  {
   "cell_type": "code",
   "execution_count": null,
   "metadata": {
    "colab": {
     "base_uri": "https://localhost:8080/"
    },
    "id": "CnqQ-cC5-rfO",
    "outputId": "29b248c9-ec98-44cd-befb-65192af72ea4"
   },
   "outputs": [],
   "source": [
    "print(INDICATORS)"
   ]
  },
  {
   "cell_type": "markdown",
   "metadata": {
    "id": "rZMkcyjZ-25l"
   },
   "source": [
    "## Calculate the DRL state dimension manually for paper trading"
   ]
  },
  {
   "cell_type": "code",
   "execution_count": null,
   "metadata": {
    "id": "GLfkTsXK-e90"
   },
   "outputs": [],
   "source": [
    "# amount + (turbulence, turbulence_bool) + (price, shares, cd (holding time)) * stock_dim + tech_dim\n",
    "state_dim = 1 + 2 + 3 * action_dim + len(INDICATORS) * action_dim"
   ]
  },
  {
   "cell_type": "code",
   "execution_count": null,
   "metadata": {
    "colab": {
     "base_uri": "https://localhost:8080/"
    },
    "id": "QqUkvImG-n66",
    "outputId": "9cb4a3d8-5064-4971-d095-65d3ab12f11a"
   },
   "outputs": [],
   "source": [
    "state_dim"
   ]
  },
  {
   "cell_type": "code",
   "execution_count": null,
   "metadata": {
    "id": "8Z6qlLXY-fA2"
   },
   "outputs": [],
   "source": [
    "env = StockTradingEnv"
   ]
  },
  {
   "cell_type": "markdown",
   "metadata": {
    "id": "eW0UDAXI1nEa"
   },
   "source": [
    "# Part 2: Train the agent"
   ]
  },
  {
   "cell_type": "markdown",
   "metadata": {
    "id": "lArLOFcJ7VMO"
   },
   "source": [
    "## Train"
   ]
  },
  {
   "cell_type": "code",
   "execution_count": null,
   "metadata": {
    "id": "g1F84mebj4gu"
   },
   "outputs": [],
   "source": [
    "ERL_PARAMS = {\"learning_rate\": 3e-6,\"batch_size\": 2048,\"gamma\":  0.985,\n",
    "        \"seed\":312,\"net_dimension\":[128,64], \"target_step\":5000, \"eval_gap\":30,\n",
    "        \"eval_times\":1} \n",
    "env = StockTradingEnv\n",
    "#if you want to use larger datasets (change to longer period), and it raises error, \n",
    "#please try to increase \"target_step\". It should be larger than the episode steps. "
   ]
  },
  {
   "cell_type": "code",
   "execution_count": null,
   "metadata": {
    "colab": {
     "base_uri": "https://localhost:8080/"
    },
    "id": "BxcNI2fdNjip",
    "outputId": "8db09736-a3a1-48a2-9e61-f9d8828ee327"
   },
   "outputs": [],
   "source": [
    "train(start_date = '2022-08-25', \n",
    "      end_date = '2022-08-31',\n",
    "      ticker_list = ticker_list, \n",
    "      data_source = 'alpaca',\n",
    "      time_interval= '1Min', \n",
    "      technical_indicator_list= INDICATORS,\n",
    "      drl_lib='elegantrl', \n",
    "      env=env,\n",
    "      model_name='ppo',\n",
    "      if_vix=True, \n",
    "      API_KEY = API_KEY, \n",
    "      API_SECRET = API_SECRET, \n",
    "      API_BASE_URL = API_BASE_URL,\n",
    "      erl_params=ERL_PARAMS,\n",
    "      cwd='./papertrading_erl', #current_working_dir\n",
    "      break_step=1e5)"
   ]
  },
  {
   "cell_type": "markdown",
   "metadata": {
    "id": "g37WugV_1pAS"
   },
   "source": [
    "## Test"
   ]
  },
  {
   "cell_type": "code",
   "execution_count": null,
   "metadata": {
    "id": "SxYoWCDa02TW"
   },
   "outputs": [],
   "source": [
    "account_value_erl=test(start_date = '2022-09-01', \n",
    "                      end_date = '2022-09-02',\n",
    "                      ticker_list = ticker_list, \n",
    "                      data_source = 'alpaca',\n",
    "                      time_interval= '1Min', \n",
    "                      technical_indicator_list= INDICATORS,\n",
    "                      drl_lib='elegantrl', \n",
    "                      env=env, \n",
    "                      model_name='ppo',\n",
    "                      if_vix=True, \n",
    "                      API_KEY = API_KEY, \n",
    "                      API_SECRET = API_SECRET, \n",
    "                      API_BASE_URL = API_BASE_URL,\n",
    "                      cwd='./papertrading_erl',\n",
    "                      net_dimension = ERL_PARAMS['net_dimension'])"
   ]
  },
  {
   "cell_type": "markdown",
   "metadata": {
    "id": "e8aNQ58X7avM"
   },
   "source": [
    "## Use full data to train "
   ]
  },
  {
   "cell_type": "markdown",
   "metadata": {
    "id": "3CQ9_Yv41r88"
   },
   "source": [
    "After tuning well, retrain on the training and testing sets"
   ]
  },
  {
   "cell_type": "code",
   "execution_count": null,
   "metadata": {
    "colab": {
     "base_uri": "https://localhost:8080/"
    },
    "id": "cUSgbwt_10V3",
    "outputId": "50f3d8c6-b333-480e-b2fb-25e566797806"
   },
   "outputs": [],
   "source": [
    "train(start_date = '2022-08-25', \n",
    "      end_date = '2022-09-02',\n",
    "      ticker_list = ticker_list, \n",
    "      data_source = 'alpaca',\n",
    "      time_interval= '1Min', \n",
    "      technical_indicator_list= INDICATORS,\n",
    "      drl_lib='elegantrl', \n",
    "      env=env, \n",
    "      model_name='ppo',\n",
    "      if_vix=True, \n",
    "      API_KEY = API_KEY, \n",
    "      API_SECRET = API_SECRET, \n",
    "      API_BASE_URL = API_BASE_URL,\n",
    "      erl_params=ERL_PARAMS,\n",
    "      cwd='./papertrading_erl_retrain',\n",
    "      break_step=2e5)"
   ]
  },
  {
   "cell_type": "markdown",
   "metadata": {
    "id": "sIQN6Ggt7gXY"
   },
   "source": [
    "# Part 3: Deploy the agent"
   ]
  },
  {
   "cell_type": "markdown",
   "metadata": {
    "id": "os4C4-4H7ns7"
   },
   "source": [
    "## Run Paper trading"
   ]
  },
  {
   "cell_type": "code",
   "execution_count": null,
   "metadata": {
    "colab": {
     "base_uri": "https://localhost:8080/"
    },
    "id": "7nw0i-0UN3-7",
    "outputId": "25729df7-4775-49af-bf5a-38e3970d0056"
   },
   "outputs": [],
   "source": [
    "print(DOW_30_TICKER)"
   ]
  },
  {
   "cell_type": "code",
   "execution_count": null,
   "metadata": {
    "colab": {
     "base_uri": "https://localhost:8080/"
    },
    "id": "YsSBK9ION1t6",
    "outputId": "49a69655-850f-436b-a21c-fffe48528e71"
   },
   "outputs": [],
   "source": [
    "state_dim"
   ]
  },
  {
   "cell_type": "code",
   "execution_count": null,
   "metadata": {
    "colab": {
     "base_uri": "https://localhost:8080/"
    },
    "id": "xYtSv6P1N247",
    "outputId": "174550ce-664a-41fc-bd89-9d3726960c5b"
   },
   "outputs": [],
   "source": [
    "action_dim"
   ]
  },
  {
   "cell_type": "code",
   "execution_count": null,
   "metadata": {
    "id": "Kl9nulnAJtiI"
   },
   "outputs": [],
   "source": [
    "paper_trading_erl = AlpacaPaperTrading(ticker_list = DOW_30_TICKER, \n",
    "                                       time_interval = '1Min', \n",
    "                                       drl_lib = 'elegantrl', \n",
    "                                       agent = 'ppo', \n",
    "                                       cwd = './papertrading_erl_retrain', \n",
    "                                       net_dim = ERL_PARAMS['net_dimension'], \n",
    "                                       state_dim = state_dim, \n",
    "                                       action_dim= action_dim, \n",
    "                                       API_KEY = API_KEY, \n",
    "                                       API_SECRET = API_SECRET, \n",
    "                                       API_BASE_URL = API_BASE_URL, \n",
    "                                       tech_indicator_list = INDICATORS, \n",
    "                                       turbulence_thresh=30, \n",
    "                                       max_stock=1e2)\n",
    "paper_trading_erl.run()"
   ]
  },
  {
   "cell_type": "markdown",
   "metadata": {
    "id": "srzBZfYEUI1O"
   },
   "source": [
    "# Part 4: Check Portfolio Performance"
   ]
  },
  {
   "cell_type": "markdown",
   "metadata": {
    "id": "5CHiZRVpURpx"
   },
   "source": [
    "## Get cumulative return"
   ]
  },
  {
   "cell_type": "code",
   "execution_count": null,
   "metadata": {
    "id": "O_YT7v-LSdfV"
   },
   "outputs": [],
   "source": [
    "df_erl, cumu_erl = alpaca_history(key=API_KEY, \n",
    "                                  secret=API_SECRET, \n",
    "                                  url=API_BASE_URL, \n",
    "                                  start='2022-09-01', #must be within 1 month\n",
    "                                  end='2022-09-12') #change the date if error occurs\n"
   ]
  },
  {
   "cell_type": "code",
   "execution_count": null,
   "metadata": {
    "colab": {
     "base_uri": "https://localhost:8080/"
    },
    "id": "IMcQjwHOS6Zb",
    "outputId": "1fb21460-1da9-4998-f0c0-fcbf5b056e66"
   },
   "outputs": [],
   "source": [
    "df_djia, cumu_djia = DIA_history(start='2022-09-01')"
   ]
  },
  {
   "cell_type": "code",
   "execution_count": null,
   "metadata": {
    "colab": {
     "base_uri": "https://localhost:8080/",
     "height": 238
    },
    "id": "PJXPwmx9Ts5o",
    "outputId": "c59014eb-c2f9-4be2-8a87-7892cc0b1094"
   },
   "outputs": [],
   "source": [
    "df_erl.tail()"
   ]
  },
  {
   "cell_type": "code",
   "execution_count": null,
   "metadata": {
    "colab": {
     "base_uri": "https://localhost:8080/"
    },
    "id": "o1Iaw90FTNfU",
    "outputId": "0629dca2-d9dd-4c2a-e363-dc0f01daba41"
   },
   "outputs": [],
   "source": [
    "returns_erl = cumu_erl -1 \n",
    "returns_dia = cumu_djia - 1\n",
    "returns_dia = returns_dia[:returns_erl.shape[0]]\n",
    "print('len of erl return: ', returns_erl.shape[0])\n",
    "print('len of dia return: ', returns_dia.shape[0])"
   ]
  },
  {
   "cell_type": "code",
   "execution_count": null,
   "metadata": {
    "id": "2IawaMsDwZni"
   },
   "outputs": [],
   "source": [
    "returns_erl"
   ]
  },
  {
   "cell_type": "markdown",
   "metadata": {
    "id": "5Z0LEm7KUZ5W"
   },
   "source": [
    "## plot and save"
   ]
  },
  {
   "cell_type": "code",
   "execution_count": null,
   "metadata": {
    "id": "Foqk1wIQTQJ3"
   },
   "outputs": [],
   "source": [
    "import matplotlib.pyplot as plt\n",
    "plt.figure(dpi=1000)\n",
    "plt.grid()\n",
    "plt.grid(which='minor', axis='y')\n",
    "plt.title('Stock Trading (Paper trading)', fontsize=20)\n",
    "plt.plot(returns_erl, label = 'ElegantRL Agent', color = 'red')\n",
    "#plt.plot(returns_sb3, label = 'Stable-Baselines3 Agent', color = 'blue' )\n",
    "#plt.plot(returns_rllib, label = 'RLlib Agent', color = 'green')\n",
    "plt.plot(returns_dia, label = 'DJIA', color = 'grey')\n",
    "plt.ylabel('Return', fontsize=16)\n",
    "plt.xlabel('Year 2021', fontsize=16)\n",
    "plt.xticks(size = 14)\n",
    "plt.yticks(size = 14)\n",
    "ax = plt.gca()\n",
    "ax.xaxis.set_major_locator(ticker.MultipleLocator(78))\n",
    "ax.xaxis.set_minor_locator(ticker.MultipleLocator(6))\n",
    "ax.yaxis.set_minor_locator(ticker.MultipleLocator(0.005))\n",
    "ax.yaxis.set_major_formatter(ticker.PercentFormatter(xmax=1, decimals=2))\n",
    "ax.xaxis.set_major_formatter(ticker.FixedFormatter(['','10-19','','10-20',\n",
    "                                                    '','10-21','','10-22']))\n",
    "plt.legend(fontsize=10.5)\n",
    "plt.savefig('papertrading_stock.png')"
   ]
  }
 ],
 "metadata": {
  "colab": {
   "collapsed_sections": [
    "0EVJIQUR6_fu",
    "9tzAw9k26nAC",
    "zjLda8No6pvI",
    "pf5aVHAU-xF6",
    "rZMkcyjZ-25l",
    "3rwy7V72-8YY",
    "J25MuZLiGqCP",
    "eW0UDAXI1nEa",
    "UFoxkigg1zXa"
   ],
   "provenance": []
  },
  "gpuClass": "standard",
  "kernelspec": {
   "display_name": "Python 3.8.10 ('venv': venv)",
   "language": "python",
   "name": "python3"
  },
  "language_info": {
   "codemirror_mode": {
    "name": "ipython",
    "version": 3
   },
   "file_extension": ".py",
   "mimetype": "text/x-python",
   "name": "python",
   "nbconvert_exporter": "python",
   "pygments_lexer": "ipython3",
   "version": "3.8.10"
  },
  "vscode": {
   "interpreter": {
    "hash": "005d14239094016f48a03a57365c4ccb734e3f38c20ed0ca595d84f773bc39cd"
   }
  }
 },
 "nbformat": 4,
 "nbformat_minor": 1
}
